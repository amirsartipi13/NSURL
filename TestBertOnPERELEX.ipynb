{
  "nbformat": 4,
  "nbformat_minor": 0,
  "metadata": {
    "colab": {
      "name": "TestBertOnPERELEX.ipynb",
      "provenance": [],
      "collapsed_sections": []
    },
    "kernelspec": {
      "name": "python3",
      "display_name": "Python 3"
    },
    "language_info": {
      "name": "python"
    },
    "accelerator": "GPU",
    "widgets": {
      "application/vnd.jupyter.widget-state+json": {
        "4ea559eb5e264f6d89517c087cbe8c6e": {
          "model_module": "@jupyter-widgets/controls",
          "model_name": "HBoxModel",
          "state": {
            "_view_name": "HBoxView",
            "_dom_classes": [],
            "_model_name": "HBoxModel",
            "_view_module": "@jupyter-widgets/controls",
            "_model_module_version": "1.5.0",
            "_view_count": null,
            "_view_module_version": "1.5.0",
            "box_style": "",
            "layout": "IPY_MODEL_9808c9dfc0bc4e9f91fd1ba8793ba383",
            "_model_module": "@jupyter-widgets/controls",
            "children": [
              "IPY_MODEL_560e488b2fcc427d83863a484d39730c",
              "IPY_MODEL_57158b5086184a29b1a98ea027e455d4"
            ]
          }
        },
        "9808c9dfc0bc4e9f91fd1ba8793ba383": {
          "model_module": "@jupyter-widgets/base",
          "model_name": "LayoutModel",
          "state": {
            "_view_name": "LayoutView",
            "grid_template_rows": null,
            "right": null,
            "justify_content": null,
            "_view_module": "@jupyter-widgets/base",
            "overflow": null,
            "_model_module_version": "1.2.0",
            "_view_count": null,
            "flex_flow": null,
            "width": null,
            "min_width": null,
            "border": null,
            "align_items": null,
            "bottom": null,
            "_model_module": "@jupyter-widgets/base",
            "top": null,
            "grid_column": null,
            "overflow_y": null,
            "overflow_x": null,
            "grid_auto_flow": null,
            "grid_area": null,
            "grid_template_columns": null,
            "flex": null,
            "_model_name": "LayoutModel",
            "justify_items": null,
            "grid_row": null,
            "max_height": null,
            "align_content": null,
            "visibility": null,
            "align_self": null,
            "height": null,
            "min_height": null,
            "padding": null,
            "grid_auto_rows": null,
            "grid_gap": null,
            "max_width": null,
            "order": null,
            "_view_module_version": "1.2.0",
            "grid_template_areas": null,
            "object_position": null,
            "object_fit": null,
            "grid_auto_columns": null,
            "margin": null,
            "display": null,
            "left": null
          }
        },
        "560e488b2fcc427d83863a484d39730c": {
          "model_module": "@jupyter-widgets/controls",
          "model_name": "FloatProgressModel",
          "state": {
            "_view_name": "ProgressView",
            "style": "IPY_MODEL_09513837a7654af8ab5fbd490cc423f3",
            "_dom_classes": [],
            "description": "Downloading: 100%",
            "_model_name": "FloatProgressModel",
            "bar_style": "success",
            "max": 292,
            "_view_module": "@jupyter-widgets/controls",
            "_model_module_version": "1.5.0",
            "value": 292,
            "_view_count": null,
            "_view_module_version": "1.5.0",
            "orientation": "horizontal",
            "min": 0,
            "description_tooltip": null,
            "_model_module": "@jupyter-widgets/controls",
            "layout": "IPY_MODEL_d16bfd9a7d794e9daa74fa54a7270621"
          }
        },
        "57158b5086184a29b1a98ea027e455d4": {
          "model_module": "@jupyter-widgets/controls",
          "model_name": "HTMLModel",
          "state": {
            "_view_name": "HTMLView",
            "style": "IPY_MODEL_d472fea70b9a4aa3af916453eaea4625",
            "_dom_classes": [],
            "description": "",
            "_model_name": "HTMLModel",
            "placeholder": "​",
            "_view_module": "@jupyter-widgets/controls",
            "_model_module_version": "1.5.0",
            "value": " 292/292 [00:00&lt;00:00, 370B/s]",
            "_view_count": null,
            "_view_module_version": "1.5.0",
            "description_tooltip": null,
            "_model_module": "@jupyter-widgets/controls",
            "layout": "IPY_MODEL_11a19e9b4835408abe12160135e7328a"
          }
        },
        "09513837a7654af8ab5fbd490cc423f3": {
          "model_module": "@jupyter-widgets/controls",
          "model_name": "ProgressStyleModel",
          "state": {
            "_view_name": "StyleView",
            "_model_name": "ProgressStyleModel",
            "description_width": "initial",
            "_view_module": "@jupyter-widgets/base",
            "_model_module_version": "1.5.0",
            "_view_count": null,
            "_view_module_version": "1.2.0",
            "bar_color": null,
            "_model_module": "@jupyter-widgets/controls"
          }
        },
        "d16bfd9a7d794e9daa74fa54a7270621": {
          "model_module": "@jupyter-widgets/base",
          "model_name": "LayoutModel",
          "state": {
            "_view_name": "LayoutView",
            "grid_template_rows": null,
            "right": null,
            "justify_content": null,
            "_view_module": "@jupyter-widgets/base",
            "overflow": null,
            "_model_module_version": "1.2.0",
            "_view_count": null,
            "flex_flow": null,
            "width": null,
            "min_width": null,
            "border": null,
            "align_items": null,
            "bottom": null,
            "_model_module": "@jupyter-widgets/base",
            "top": null,
            "grid_column": null,
            "overflow_y": null,
            "overflow_x": null,
            "grid_auto_flow": null,
            "grid_area": null,
            "grid_template_columns": null,
            "flex": null,
            "_model_name": "LayoutModel",
            "justify_items": null,
            "grid_row": null,
            "max_height": null,
            "align_content": null,
            "visibility": null,
            "align_self": null,
            "height": null,
            "min_height": null,
            "padding": null,
            "grid_auto_rows": null,
            "grid_gap": null,
            "max_width": null,
            "order": null,
            "_view_module_version": "1.2.0",
            "grid_template_areas": null,
            "object_position": null,
            "object_fit": null,
            "grid_auto_columns": null,
            "margin": null,
            "display": null,
            "left": null
          }
        },
        "d472fea70b9a4aa3af916453eaea4625": {
          "model_module": "@jupyter-widgets/controls",
          "model_name": "DescriptionStyleModel",
          "state": {
            "_view_name": "StyleView",
            "_model_name": "DescriptionStyleModel",
            "description_width": "",
            "_view_module": "@jupyter-widgets/base",
            "_model_module_version": "1.5.0",
            "_view_count": null,
            "_view_module_version": "1.2.0",
            "_model_module": "@jupyter-widgets/controls"
          }
        },
        "11a19e9b4835408abe12160135e7328a": {
          "model_module": "@jupyter-widgets/base",
          "model_name": "LayoutModel",
          "state": {
            "_view_name": "LayoutView",
            "grid_template_rows": null,
            "right": null,
            "justify_content": null,
            "_view_module": "@jupyter-widgets/base",
            "overflow": null,
            "_model_module_version": "1.2.0",
            "_view_count": null,
            "flex_flow": null,
            "width": null,
            "min_width": null,
            "border": null,
            "align_items": null,
            "bottom": null,
            "_model_module": "@jupyter-widgets/base",
            "top": null,
            "grid_column": null,
            "overflow_y": null,
            "overflow_x": null,
            "grid_auto_flow": null,
            "grid_area": null,
            "grid_template_columns": null,
            "flex": null,
            "_model_name": "LayoutModel",
            "justify_items": null,
            "grid_row": null,
            "max_height": null,
            "align_content": null,
            "visibility": null,
            "align_self": null,
            "height": null,
            "min_height": null,
            "padding": null,
            "grid_auto_rows": null,
            "grid_gap": null,
            "max_width": null,
            "order": null,
            "_view_module_version": "1.2.0",
            "grid_template_areas": null,
            "object_position": null,
            "object_fit": null,
            "grid_auto_columns": null,
            "margin": null,
            "display": null,
            "left": null
          }
        },
        "8a71ac94397d4b1982783183166bf533": {
          "model_module": "@jupyter-widgets/controls",
          "model_name": "HBoxModel",
          "state": {
            "_view_name": "HBoxView",
            "_dom_classes": [],
            "_model_name": "HBoxModel",
            "_view_module": "@jupyter-widgets/controls",
            "_model_module_version": "1.5.0",
            "_view_count": null,
            "_view_module_version": "1.5.0",
            "box_style": "",
            "layout": "IPY_MODEL_d7d0a3ec24ca4c4ba5428112fc3d442d",
            "_model_module": "@jupyter-widgets/controls",
            "children": [
              "IPY_MODEL_0455ee2128d7465ca4dfece1185a9d57",
              "IPY_MODEL_8e51a63376664d1b9adffb9e82ae4d9c"
            ]
          }
        },
        "d7d0a3ec24ca4c4ba5428112fc3d442d": {
          "model_module": "@jupyter-widgets/base",
          "model_name": "LayoutModel",
          "state": {
            "_view_name": "LayoutView",
            "grid_template_rows": null,
            "right": null,
            "justify_content": null,
            "_view_module": "@jupyter-widgets/base",
            "overflow": null,
            "_model_module_version": "1.2.0",
            "_view_count": null,
            "flex_flow": null,
            "width": null,
            "min_width": null,
            "border": null,
            "align_items": null,
            "bottom": null,
            "_model_module": "@jupyter-widgets/base",
            "top": null,
            "grid_column": null,
            "overflow_y": null,
            "overflow_x": null,
            "grid_auto_flow": null,
            "grid_area": null,
            "grid_template_columns": null,
            "flex": null,
            "_model_name": "LayoutModel",
            "justify_items": null,
            "grid_row": null,
            "max_height": null,
            "align_content": null,
            "visibility": null,
            "align_self": null,
            "height": null,
            "min_height": null,
            "padding": null,
            "grid_auto_rows": null,
            "grid_gap": null,
            "max_width": null,
            "order": null,
            "_view_module_version": "1.2.0",
            "grid_template_areas": null,
            "object_position": null,
            "object_fit": null,
            "grid_auto_columns": null,
            "margin": null,
            "display": null,
            "left": null
          }
        },
        "0455ee2128d7465ca4dfece1185a9d57": {
          "model_module": "@jupyter-widgets/controls",
          "model_name": "FloatProgressModel",
          "state": {
            "_view_name": "ProgressView",
            "style": "IPY_MODEL_3c9e0aaee8274b738e81a64679ee21c0",
            "_dom_classes": [],
            "description": "Downloading: 100%",
            "_model_name": "FloatProgressModel",
            "bar_style": "success",
            "max": 565,
            "_view_module": "@jupyter-widgets/controls",
            "_model_module_version": "1.5.0",
            "value": 565,
            "_view_count": null,
            "_view_module_version": "1.5.0",
            "orientation": "horizontal",
            "min": 0,
            "description_tooltip": null,
            "_model_module": "@jupyter-widgets/controls",
            "layout": "IPY_MODEL_24803d098a074049b261b118550b877a"
          }
        },
        "8e51a63376664d1b9adffb9e82ae4d9c": {
          "model_module": "@jupyter-widgets/controls",
          "model_name": "HTMLModel",
          "state": {
            "_view_name": "HTMLView",
            "style": "IPY_MODEL_bacd04bd12ca4a1487a19b1dd5776e09",
            "_dom_classes": [],
            "description": "",
            "_model_name": "HTMLModel",
            "placeholder": "​",
            "_view_module": "@jupyter-widgets/controls",
            "_model_module_version": "1.5.0",
            "value": " 565/565 [00:21&lt;00:00, 26.3B/s]",
            "_view_count": null,
            "_view_module_version": "1.5.0",
            "description_tooltip": null,
            "_model_module": "@jupyter-widgets/controls",
            "layout": "IPY_MODEL_aaea65c318ec4b07938b147ed0a4471c"
          }
        },
        "3c9e0aaee8274b738e81a64679ee21c0": {
          "model_module": "@jupyter-widgets/controls",
          "model_name": "ProgressStyleModel",
          "state": {
            "_view_name": "StyleView",
            "_model_name": "ProgressStyleModel",
            "description_width": "initial",
            "_view_module": "@jupyter-widgets/base",
            "_model_module_version": "1.5.0",
            "_view_count": null,
            "_view_module_version": "1.2.0",
            "bar_color": null,
            "_model_module": "@jupyter-widgets/controls"
          }
        },
        "24803d098a074049b261b118550b877a": {
          "model_module": "@jupyter-widgets/base",
          "model_name": "LayoutModel",
          "state": {
            "_view_name": "LayoutView",
            "grid_template_rows": null,
            "right": null,
            "justify_content": null,
            "_view_module": "@jupyter-widgets/base",
            "overflow": null,
            "_model_module_version": "1.2.0",
            "_view_count": null,
            "flex_flow": null,
            "width": null,
            "min_width": null,
            "border": null,
            "align_items": null,
            "bottom": null,
            "_model_module": "@jupyter-widgets/base",
            "top": null,
            "grid_column": null,
            "overflow_y": null,
            "overflow_x": null,
            "grid_auto_flow": null,
            "grid_area": null,
            "grid_template_columns": null,
            "flex": null,
            "_model_name": "LayoutModel",
            "justify_items": null,
            "grid_row": null,
            "max_height": null,
            "align_content": null,
            "visibility": null,
            "align_self": null,
            "height": null,
            "min_height": null,
            "padding": null,
            "grid_auto_rows": null,
            "grid_gap": null,
            "max_width": null,
            "order": null,
            "_view_module_version": "1.2.0",
            "grid_template_areas": null,
            "object_position": null,
            "object_fit": null,
            "grid_auto_columns": null,
            "margin": null,
            "display": null,
            "left": null
          }
        },
        "bacd04bd12ca4a1487a19b1dd5776e09": {
          "model_module": "@jupyter-widgets/controls",
          "model_name": "DescriptionStyleModel",
          "state": {
            "_view_name": "StyleView",
            "_model_name": "DescriptionStyleModel",
            "description_width": "",
            "_view_module": "@jupyter-widgets/base",
            "_model_module_version": "1.5.0",
            "_view_count": null,
            "_view_module_version": "1.2.0",
            "_model_module": "@jupyter-widgets/controls"
          }
        },
        "aaea65c318ec4b07938b147ed0a4471c": {
          "model_module": "@jupyter-widgets/base",
          "model_name": "LayoutModel",
          "state": {
            "_view_name": "LayoutView",
            "grid_template_rows": null,
            "right": null,
            "justify_content": null,
            "_view_module": "@jupyter-widgets/base",
            "overflow": null,
            "_model_module_version": "1.2.0",
            "_view_count": null,
            "flex_flow": null,
            "width": null,
            "min_width": null,
            "border": null,
            "align_items": null,
            "bottom": null,
            "_model_module": "@jupyter-widgets/base",
            "top": null,
            "grid_column": null,
            "overflow_y": null,
            "overflow_x": null,
            "grid_auto_flow": null,
            "grid_area": null,
            "grid_template_columns": null,
            "flex": null,
            "_model_name": "LayoutModel",
            "justify_items": null,
            "grid_row": null,
            "max_height": null,
            "align_content": null,
            "visibility": null,
            "align_self": null,
            "height": null,
            "min_height": null,
            "padding": null,
            "grid_auto_rows": null,
            "grid_gap": null,
            "max_width": null,
            "order": null,
            "_view_module_version": "1.2.0",
            "grid_template_areas": null,
            "object_position": null,
            "object_fit": null,
            "grid_auto_columns": null,
            "margin": null,
            "display": null,
            "left": null
          }
        },
        "e0842a87281b4c979824f9352b6610e8": {
          "model_module": "@jupyter-widgets/controls",
          "model_name": "HBoxModel",
          "state": {
            "_view_name": "HBoxView",
            "_dom_classes": [],
            "_model_name": "HBoxModel",
            "_view_module": "@jupyter-widgets/controls",
            "_model_module_version": "1.5.0",
            "_view_count": null,
            "_view_module_version": "1.5.0",
            "box_style": "",
            "layout": "IPY_MODEL_216796288b854674919038e6892962b9",
            "_model_module": "@jupyter-widgets/controls",
            "children": [
              "IPY_MODEL_d49f5baefa3e4beea833edbbad547e43",
              "IPY_MODEL_ed909a27c4044b81bc8ffb0fd8346b5a"
            ]
          }
        },
        "216796288b854674919038e6892962b9": {
          "model_module": "@jupyter-widgets/base",
          "model_name": "LayoutModel",
          "state": {
            "_view_name": "LayoutView",
            "grid_template_rows": null,
            "right": null,
            "justify_content": null,
            "_view_module": "@jupyter-widgets/base",
            "overflow": null,
            "_model_module_version": "1.2.0",
            "_view_count": null,
            "flex_flow": null,
            "width": null,
            "min_width": null,
            "border": null,
            "align_items": null,
            "bottom": null,
            "_model_module": "@jupyter-widgets/base",
            "top": null,
            "grid_column": null,
            "overflow_y": null,
            "overflow_x": null,
            "grid_auto_flow": null,
            "grid_area": null,
            "grid_template_columns": null,
            "flex": null,
            "_model_name": "LayoutModel",
            "justify_items": null,
            "grid_row": null,
            "max_height": null,
            "align_content": null,
            "visibility": null,
            "align_self": null,
            "height": null,
            "min_height": null,
            "padding": null,
            "grid_auto_rows": null,
            "grid_gap": null,
            "max_width": null,
            "order": null,
            "_view_module_version": "1.2.0",
            "grid_template_areas": null,
            "object_position": null,
            "object_fit": null,
            "grid_auto_columns": null,
            "margin": null,
            "display": null,
            "left": null
          }
        },
        "d49f5baefa3e4beea833edbbad547e43": {
          "model_module": "@jupyter-widgets/controls",
          "model_name": "FloatProgressModel",
          "state": {
            "_view_name": "ProgressView",
            "style": "IPY_MODEL_d3b53c5401fc4c5fa78565257f4a584b",
            "_dom_classes": [],
            "description": "Downloading: 100%",
            "_model_name": "FloatProgressModel",
            "bar_style": "success",
            "max": 426422,
            "_view_module": "@jupyter-widgets/controls",
            "_model_module_version": "1.5.0",
            "value": 426422,
            "_view_count": null,
            "_view_module_version": "1.5.0",
            "orientation": "horizontal",
            "min": 0,
            "description_tooltip": null,
            "_model_module": "@jupyter-widgets/controls",
            "layout": "IPY_MODEL_0a727a9769f14c5c84ac39123218d0cb"
          }
        },
        "ed909a27c4044b81bc8ffb0fd8346b5a": {
          "model_module": "@jupyter-widgets/controls",
          "model_name": "HTMLModel",
          "state": {
            "_view_name": "HTMLView",
            "style": "IPY_MODEL_d5534e0dcfff497a92e06efea4918b9e",
            "_dom_classes": [],
            "description": "",
            "_model_name": "HTMLModel",
            "placeholder": "​",
            "_view_module": "@jupyter-widgets/controls",
            "_model_module_version": "1.5.0",
            "value": " 426k/426k [00:01&lt;00:00, 363kB/s]",
            "_view_count": null,
            "_view_module_version": "1.5.0",
            "description_tooltip": null,
            "_model_module": "@jupyter-widgets/controls",
            "layout": "IPY_MODEL_11c375ee6d864f73bf3e90a87f7b7bf3"
          }
        },
        "d3b53c5401fc4c5fa78565257f4a584b": {
          "model_module": "@jupyter-widgets/controls",
          "model_name": "ProgressStyleModel",
          "state": {
            "_view_name": "StyleView",
            "_model_name": "ProgressStyleModel",
            "description_width": "initial",
            "_view_module": "@jupyter-widgets/base",
            "_model_module_version": "1.5.0",
            "_view_count": null,
            "_view_module_version": "1.2.0",
            "bar_color": null,
            "_model_module": "@jupyter-widgets/controls"
          }
        },
        "0a727a9769f14c5c84ac39123218d0cb": {
          "model_module": "@jupyter-widgets/base",
          "model_name": "LayoutModel",
          "state": {
            "_view_name": "LayoutView",
            "grid_template_rows": null,
            "right": null,
            "justify_content": null,
            "_view_module": "@jupyter-widgets/base",
            "overflow": null,
            "_model_module_version": "1.2.0",
            "_view_count": null,
            "flex_flow": null,
            "width": null,
            "min_width": null,
            "border": null,
            "align_items": null,
            "bottom": null,
            "_model_module": "@jupyter-widgets/base",
            "top": null,
            "grid_column": null,
            "overflow_y": null,
            "overflow_x": null,
            "grid_auto_flow": null,
            "grid_area": null,
            "grid_template_columns": null,
            "flex": null,
            "_model_name": "LayoutModel",
            "justify_items": null,
            "grid_row": null,
            "max_height": null,
            "align_content": null,
            "visibility": null,
            "align_self": null,
            "height": null,
            "min_height": null,
            "padding": null,
            "grid_auto_rows": null,
            "grid_gap": null,
            "max_width": null,
            "order": null,
            "_view_module_version": "1.2.0",
            "grid_template_areas": null,
            "object_position": null,
            "object_fit": null,
            "grid_auto_columns": null,
            "margin": null,
            "display": null,
            "left": null
          }
        },
        "d5534e0dcfff497a92e06efea4918b9e": {
          "model_module": "@jupyter-widgets/controls",
          "model_name": "DescriptionStyleModel",
          "state": {
            "_view_name": "StyleView",
            "_model_name": "DescriptionStyleModel",
            "description_width": "",
            "_view_module": "@jupyter-widgets/base",
            "_model_module_version": "1.5.0",
            "_view_count": null,
            "_view_module_version": "1.2.0",
            "_model_module": "@jupyter-widgets/controls"
          }
        },
        "11c375ee6d864f73bf3e90a87f7b7bf3": {
          "model_module": "@jupyter-widgets/base",
          "model_name": "LayoutModel",
          "state": {
            "_view_name": "LayoutView",
            "grid_template_rows": null,
            "right": null,
            "justify_content": null,
            "_view_module": "@jupyter-widgets/base",
            "overflow": null,
            "_model_module_version": "1.2.0",
            "_view_count": null,
            "flex_flow": null,
            "width": null,
            "min_width": null,
            "border": null,
            "align_items": null,
            "bottom": null,
            "_model_module": "@jupyter-widgets/base",
            "top": null,
            "grid_column": null,
            "overflow_y": null,
            "overflow_x": null,
            "grid_auto_flow": null,
            "grid_area": null,
            "grid_template_columns": null,
            "flex": null,
            "_model_name": "LayoutModel",
            "justify_items": null,
            "grid_row": null,
            "max_height": null,
            "align_content": null,
            "visibility": null,
            "align_self": null,
            "height": null,
            "min_height": null,
            "padding": null,
            "grid_auto_rows": null,
            "grid_gap": null,
            "max_width": null,
            "order": null,
            "_view_module_version": "1.2.0",
            "grid_template_areas": null,
            "object_position": null,
            "object_fit": null,
            "grid_auto_columns": null,
            "margin": null,
            "display": null,
            "left": null
          }
        },
        "7c2325c6eb384ff3b128fe3f1b2f90a0": {
          "model_module": "@jupyter-widgets/controls",
          "model_name": "HBoxModel",
          "state": {
            "_view_name": "HBoxView",
            "_dom_classes": [],
            "_model_name": "HBoxModel",
            "_view_module": "@jupyter-widgets/controls",
            "_model_module_version": "1.5.0",
            "_view_count": null,
            "_view_module_version": "1.5.0",
            "box_style": "",
            "layout": "IPY_MODEL_93e3de7ef6854798aa7493f5d98f47c8",
            "_model_module": "@jupyter-widgets/controls",
            "children": [
              "IPY_MODEL_31d9ba69155e4f12983efc9f0ef4a58f",
              "IPY_MODEL_6aaed1a5e7fc43df80be31583e9a6ed6"
            ]
          }
        },
        "93e3de7ef6854798aa7493f5d98f47c8": {
          "model_module": "@jupyter-widgets/base",
          "model_name": "LayoutModel",
          "state": {
            "_view_name": "LayoutView",
            "grid_template_rows": null,
            "right": null,
            "justify_content": null,
            "_view_module": "@jupyter-widgets/base",
            "overflow": null,
            "_model_module_version": "1.2.0",
            "_view_count": null,
            "flex_flow": null,
            "width": null,
            "min_width": null,
            "border": null,
            "align_items": null,
            "bottom": null,
            "_model_module": "@jupyter-widgets/base",
            "top": null,
            "grid_column": null,
            "overflow_y": null,
            "overflow_x": null,
            "grid_auto_flow": null,
            "grid_area": null,
            "grid_template_columns": null,
            "flex": null,
            "_model_name": "LayoutModel",
            "justify_items": null,
            "grid_row": null,
            "max_height": null,
            "align_content": null,
            "visibility": null,
            "align_self": null,
            "height": null,
            "min_height": null,
            "padding": null,
            "grid_auto_rows": null,
            "grid_gap": null,
            "max_width": null,
            "order": null,
            "_view_module_version": "1.2.0",
            "grid_template_areas": null,
            "object_position": null,
            "object_fit": null,
            "grid_auto_columns": null,
            "margin": null,
            "display": null,
            "left": null
          }
        },
        "31d9ba69155e4f12983efc9f0ef4a58f": {
          "model_module": "@jupyter-widgets/controls",
          "model_name": "FloatProgressModel",
          "state": {
            "_view_name": "ProgressView",
            "style": "IPY_MODEL_8d3777cbbfd8437db9599d624698b0f8",
            "_dom_classes": [],
            "description": "Downloading: 100%",
            "_model_name": "FloatProgressModel",
            "bar_style": "success",
            "max": 1108824,
            "_view_module": "@jupyter-widgets/controls",
            "_model_module_version": "1.5.0",
            "value": 1108824,
            "_view_count": null,
            "_view_module_version": "1.5.0",
            "orientation": "horizontal",
            "min": 0,
            "description_tooltip": null,
            "_model_module": "@jupyter-widgets/controls",
            "layout": "IPY_MODEL_fb714ab2772d4d14915c1e37261371dd"
          }
        },
        "6aaed1a5e7fc43df80be31583e9a6ed6": {
          "model_module": "@jupyter-widgets/controls",
          "model_name": "HTMLModel",
          "state": {
            "_view_name": "HTMLView",
            "style": "IPY_MODEL_82497e3539b345a7b4fe01f946283eb6",
            "_dom_classes": [],
            "description": "",
            "_model_name": "HTMLModel",
            "placeholder": "​",
            "_view_module": "@jupyter-widgets/controls",
            "_model_module_version": "1.5.0",
            "value": " 1.11M/1.11M [00:19&lt;00:00, 56.9kB/s]",
            "_view_count": null,
            "_view_module_version": "1.5.0",
            "description_tooltip": null,
            "_model_module": "@jupyter-widgets/controls",
            "layout": "IPY_MODEL_7684a6c5e1844ffea4451eee68789d13"
          }
        },
        "8d3777cbbfd8437db9599d624698b0f8": {
          "model_module": "@jupyter-widgets/controls",
          "model_name": "ProgressStyleModel",
          "state": {
            "_view_name": "StyleView",
            "_model_name": "ProgressStyleModel",
            "description_width": "initial",
            "_view_module": "@jupyter-widgets/base",
            "_model_module_version": "1.5.0",
            "_view_count": null,
            "_view_module_version": "1.2.0",
            "bar_color": null,
            "_model_module": "@jupyter-widgets/controls"
          }
        },
        "fb714ab2772d4d14915c1e37261371dd": {
          "model_module": "@jupyter-widgets/base",
          "model_name": "LayoutModel",
          "state": {
            "_view_name": "LayoutView",
            "grid_template_rows": null,
            "right": null,
            "justify_content": null,
            "_view_module": "@jupyter-widgets/base",
            "overflow": null,
            "_model_module_version": "1.2.0",
            "_view_count": null,
            "flex_flow": null,
            "width": null,
            "min_width": null,
            "border": null,
            "align_items": null,
            "bottom": null,
            "_model_module": "@jupyter-widgets/base",
            "top": null,
            "grid_column": null,
            "overflow_y": null,
            "overflow_x": null,
            "grid_auto_flow": null,
            "grid_area": null,
            "grid_template_columns": null,
            "flex": null,
            "_model_name": "LayoutModel",
            "justify_items": null,
            "grid_row": null,
            "max_height": null,
            "align_content": null,
            "visibility": null,
            "align_self": null,
            "height": null,
            "min_height": null,
            "padding": null,
            "grid_auto_rows": null,
            "grid_gap": null,
            "max_width": null,
            "order": null,
            "_view_module_version": "1.2.0",
            "grid_template_areas": null,
            "object_position": null,
            "object_fit": null,
            "grid_auto_columns": null,
            "margin": null,
            "display": null,
            "left": null
          }
        },
        "82497e3539b345a7b4fe01f946283eb6": {
          "model_module": "@jupyter-widgets/controls",
          "model_name": "DescriptionStyleModel",
          "state": {
            "_view_name": "StyleView",
            "_model_name": "DescriptionStyleModel",
            "description_width": "",
            "_view_module": "@jupyter-widgets/base",
            "_model_module_version": "1.5.0",
            "_view_count": null,
            "_view_module_version": "1.2.0",
            "_model_module": "@jupyter-widgets/controls"
          }
        },
        "7684a6c5e1844ffea4451eee68789d13": {
          "model_module": "@jupyter-widgets/base",
          "model_name": "LayoutModel",
          "state": {
            "_view_name": "LayoutView",
            "grid_template_rows": null,
            "right": null,
            "justify_content": null,
            "_view_module": "@jupyter-widgets/base",
            "overflow": null,
            "_model_module_version": "1.2.0",
            "_view_count": null,
            "flex_flow": null,
            "width": null,
            "min_width": null,
            "border": null,
            "align_items": null,
            "bottom": null,
            "_model_module": "@jupyter-widgets/base",
            "top": null,
            "grid_column": null,
            "overflow_y": null,
            "overflow_x": null,
            "grid_auto_flow": null,
            "grid_area": null,
            "grid_template_columns": null,
            "flex": null,
            "_model_name": "LayoutModel",
            "justify_items": null,
            "grid_row": null,
            "max_height": null,
            "align_content": null,
            "visibility": null,
            "align_self": null,
            "height": null,
            "min_height": null,
            "padding": null,
            "grid_auto_rows": null,
            "grid_gap": null,
            "max_width": null,
            "order": null,
            "_view_module_version": "1.2.0",
            "grid_template_areas": null,
            "object_position": null,
            "object_fit": null,
            "grid_auto_columns": null,
            "margin": null,
            "display": null,
            "left": null
          }
        },
        "3b77e44ada1b4a78a2bdf19a29c2bc2f": {
          "model_module": "@jupyter-widgets/controls",
          "model_name": "HBoxModel",
          "state": {
            "_view_name": "HBoxView",
            "_dom_classes": [],
            "_model_name": "HBoxModel",
            "_view_module": "@jupyter-widgets/controls",
            "_model_module_version": "1.5.0",
            "_view_count": null,
            "_view_module_version": "1.5.0",
            "box_style": "",
            "layout": "IPY_MODEL_1fe0044f0345467c990d0937e5cca970",
            "_model_module": "@jupyter-widgets/controls",
            "children": [
              "IPY_MODEL_75e6bae4871a4cb58215f69376957a2c",
              "IPY_MODEL_05267beedb8349668a17f36eca1388a7"
            ]
          }
        },
        "1fe0044f0345467c990d0937e5cca970": {
          "model_module": "@jupyter-widgets/base",
          "model_name": "LayoutModel",
          "state": {
            "_view_name": "LayoutView",
            "grid_template_rows": null,
            "right": null,
            "justify_content": null,
            "_view_module": "@jupyter-widgets/base",
            "overflow": null,
            "_model_module_version": "1.2.0",
            "_view_count": null,
            "flex_flow": null,
            "width": null,
            "min_width": null,
            "border": null,
            "align_items": null,
            "bottom": null,
            "_model_module": "@jupyter-widgets/base",
            "top": null,
            "grid_column": null,
            "overflow_y": null,
            "overflow_x": null,
            "grid_auto_flow": null,
            "grid_area": null,
            "grid_template_columns": null,
            "flex": null,
            "_model_name": "LayoutModel",
            "justify_items": null,
            "grid_row": null,
            "max_height": null,
            "align_content": null,
            "visibility": null,
            "align_self": null,
            "height": null,
            "min_height": null,
            "padding": null,
            "grid_auto_rows": null,
            "grid_gap": null,
            "max_width": null,
            "order": null,
            "_view_module_version": "1.2.0",
            "grid_template_areas": null,
            "object_position": null,
            "object_fit": null,
            "grid_auto_columns": null,
            "margin": null,
            "display": null,
            "left": null
          }
        },
        "75e6bae4871a4cb58215f69376957a2c": {
          "model_module": "@jupyter-widgets/controls",
          "model_name": "FloatProgressModel",
          "state": {
            "_view_name": "ProgressView",
            "style": "IPY_MODEL_6b33a41111d146f9a3d0d3e1f2283e42",
            "_dom_classes": [],
            "description": "Downloading: 100%",
            "_model_name": "FloatProgressModel",
            "bar_style": "success",
            "max": 134,
            "_view_module": "@jupyter-widgets/controls",
            "_model_module_version": "1.5.0",
            "value": 134,
            "_view_count": null,
            "_view_module_version": "1.5.0",
            "orientation": "horizontal",
            "min": 0,
            "description_tooltip": null,
            "_model_module": "@jupyter-widgets/controls",
            "layout": "IPY_MODEL_d20d9712904d4d79b182b2afd42984d1"
          }
        },
        "05267beedb8349668a17f36eca1388a7": {
          "model_module": "@jupyter-widgets/controls",
          "model_name": "HTMLModel",
          "state": {
            "_view_name": "HTMLView",
            "style": "IPY_MODEL_f14318b2781948e2a92aaad79c4d0a10",
            "_dom_classes": [],
            "description": "",
            "_model_name": "HTMLModel",
            "placeholder": "​",
            "_view_module": "@jupyter-widgets/controls",
            "_model_module_version": "1.5.0",
            "value": " 134/134 [00:01&lt;00:00, 84.4B/s]",
            "_view_count": null,
            "_view_module_version": "1.5.0",
            "description_tooltip": null,
            "_model_module": "@jupyter-widgets/controls",
            "layout": "IPY_MODEL_3513f9694ce74067a79827060adcd5fa"
          }
        },
        "6b33a41111d146f9a3d0d3e1f2283e42": {
          "model_module": "@jupyter-widgets/controls",
          "model_name": "ProgressStyleModel",
          "state": {
            "_view_name": "StyleView",
            "_model_name": "ProgressStyleModel",
            "description_width": "initial",
            "_view_module": "@jupyter-widgets/base",
            "_model_module_version": "1.5.0",
            "_view_count": null,
            "_view_module_version": "1.2.0",
            "bar_color": null,
            "_model_module": "@jupyter-widgets/controls"
          }
        },
        "d20d9712904d4d79b182b2afd42984d1": {
          "model_module": "@jupyter-widgets/base",
          "model_name": "LayoutModel",
          "state": {
            "_view_name": "LayoutView",
            "grid_template_rows": null,
            "right": null,
            "justify_content": null,
            "_view_module": "@jupyter-widgets/base",
            "overflow": null,
            "_model_module_version": "1.2.0",
            "_view_count": null,
            "flex_flow": null,
            "width": null,
            "min_width": null,
            "border": null,
            "align_items": null,
            "bottom": null,
            "_model_module": "@jupyter-widgets/base",
            "top": null,
            "grid_column": null,
            "overflow_y": null,
            "overflow_x": null,
            "grid_auto_flow": null,
            "grid_area": null,
            "grid_template_columns": null,
            "flex": null,
            "_model_name": "LayoutModel",
            "justify_items": null,
            "grid_row": null,
            "max_height": null,
            "align_content": null,
            "visibility": null,
            "align_self": null,
            "height": null,
            "min_height": null,
            "padding": null,
            "grid_auto_rows": null,
            "grid_gap": null,
            "max_width": null,
            "order": null,
            "_view_module_version": "1.2.0",
            "grid_template_areas": null,
            "object_position": null,
            "object_fit": null,
            "grid_auto_columns": null,
            "margin": null,
            "display": null,
            "left": null
          }
        },
        "f14318b2781948e2a92aaad79c4d0a10": {
          "model_module": "@jupyter-widgets/controls",
          "model_name": "DescriptionStyleModel",
          "state": {
            "_view_name": "StyleView",
            "_model_name": "DescriptionStyleModel",
            "description_width": "",
            "_view_module": "@jupyter-widgets/base",
            "_model_module_version": "1.5.0",
            "_view_count": null,
            "_view_module_version": "1.2.0",
            "_model_module": "@jupyter-widgets/controls"
          }
        },
        "3513f9694ce74067a79827060adcd5fa": {
          "model_module": "@jupyter-widgets/base",
          "model_name": "LayoutModel",
          "state": {
            "_view_name": "LayoutView",
            "grid_template_rows": null,
            "right": null,
            "justify_content": null,
            "_view_module": "@jupyter-widgets/base",
            "overflow": null,
            "_model_module_version": "1.2.0",
            "_view_count": null,
            "flex_flow": null,
            "width": null,
            "min_width": null,
            "border": null,
            "align_items": null,
            "bottom": null,
            "_model_module": "@jupyter-widgets/base",
            "top": null,
            "grid_column": null,
            "overflow_y": null,
            "overflow_x": null,
            "grid_auto_flow": null,
            "grid_area": null,
            "grid_template_columns": null,
            "flex": null,
            "_model_name": "LayoutModel",
            "justify_items": null,
            "grid_row": null,
            "max_height": null,
            "align_content": null,
            "visibility": null,
            "align_self": null,
            "height": null,
            "min_height": null,
            "padding": null,
            "grid_auto_rows": null,
            "grid_gap": null,
            "max_width": null,
            "order": null,
            "_view_module_version": "1.2.0",
            "grid_template_areas": null,
            "object_position": null,
            "object_fit": null,
            "grid_auto_columns": null,
            "margin": null,
            "display": null,
            "left": null
          }
        },
        "a75a0293b1d847cb8e12901edf75c1cb": {
          "model_module": "@jupyter-widgets/controls",
          "model_name": "HBoxModel",
          "state": {
            "_view_name": "HBoxView",
            "_dom_classes": [],
            "_model_name": "HBoxModel",
            "_view_module": "@jupyter-widgets/controls",
            "_model_module_version": "1.5.0",
            "_view_count": null,
            "_view_module_version": "1.5.0",
            "box_style": "",
            "layout": "IPY_MODEL_2981877f444340c9a9d7ea1df17a480f",
            "_model_module": "@jupyter-widgets/controls",
            "children": [
              "IPY_MODEL_8f8844dc7af946e59756cbeb737c22d2",
              "IPY_MODEL_457e345de942486aae0327f849f24165"
            ]
          }
        },
        "2981877f444340c9a9d7ea1df17a480f": {
          "model_module": "@jupyter-widgets/base",
          "model_name": "LayoutModel",
          "state": {
            "_view_name": "LayoutView",
            "grid_template_rows": null,
            "right": null,
            "justify_content": null,
            "_view_module": "@jupyter-widgets/base",
            "overflow": null,
            "_model_module_version": "1.2.0",
            "_view_count": null,
            "flex_flow": null,
            "width": null,
            "min_width": null,
            "border": null,
            "align_items": null,
            "bottom": null,
            "_model_module": "@jupyter-widgets/base",
            "top": null,
            "grid_column": null,
            "overflow_y": null,
            "overflow_x": null,
            "grid_auto_flow": null,
            "grid_area": null,
            "grid_template_columns": null,
            "flex": null,
            "_model_name": "LayoutModel",
            "justify_items": null,
            "grid_row": null,
            "max_height": null,
            "align_content": null,
            "visibility": null,
            "align_self": null,
            "height": null,
            "min_height": null,
            "padding": null,
            "grid_auto_rows": null,
            "grid_gap": null,
            "max_width": null,
            "order": null,
            "_view_module_version": "1.2.0",
            "grid_template_areas": null,
            "object_position": null,
            "object_fit": null,
            "grid_auto_columns": null,
            "margin": null,
            "display": null,
            "left": null
          }
        },
        "8f8844dc7af946e59756cbeb737c22d2": {
          "model_module": "@jupyter-widgets/controls",
          "model_name": "FloatProgressModel",
          "state": {
            "_view_name": "ProgressView",
            "style": "IPY_MODEL_1355da51a9de401dac3f024ad8971bf1",
            "_dom_classes": [],
            "description": "Downloading: 100%",
            "_model_name": "FloatProgressModel",
            "bar_style": "success",
            "max": 473451616,
            "_view_module": "@jupyter-widgets/controls",
            "_model_module_version": "1.5.0",
            "value": 473451616,
            "_view_count": null,
            "_view_module_version": "1.5.0",
            "orientation": "horizontal",
            "min": 0,
            "description_tooltip": null,
            "_model_module": "@jupyter-widgets/controls",
            "layout": "IPY_MODEL_e37eaf5ca06a40a8ad2abb864d93b0c7"
          }
        },
        "457e345de942486aae0327f849f24165": {
          "model_module": "@jupyter-widgets/controls",
          "model_name": "HTMLModel",
          "state": {
            "_view_name": "HTMLView",
            "style": "IPY_MODEL_d3ed8b3d523a470a94062c8ccd1c27e3",
            "_dom_classes": [],
            "description": "",
            "_model_name": "HTMLModel",
            "placeholder": "​",
            "_view_module": "@jupyter-widgets/controls",
            "_model_module_version": "1.5.0",
            "value": " 473M/473M [00:14&lt;00:00, 31.7MB/s]",
            "_view_count": null,
            "_view_module_version": "1.5.0",
            "description_tooltip": null,
            "_model_module": "@jupyter-widgets/controls",
            "layout": "IPY_MODEL_91d74b836b85482e8f54ab320ddebda4"
          }
        },
        "1355da51a9de401dac3f024ad8971bf1": {
          "model_module": "@jupyter-widgets/controls",
          "model_name": "ProgressStyleModel",
          "state": {
            "_view_name": "StyleView",
            "_model_name": "ProgressStyleModel",
            "description_width": "initial",
            "_view_module": "@jupyter-widgets/base",
            "_model_module_version": "1.5.0",
            "_view_count": null,
            "_view_module_version": "1.2.0",
            "bar_color": null,
            "_model_module": "@jupyter-widgets/controls"
          }
        },
        "e37eaf5ca06a40a8ad2abb864d93b0c7": {
          "model_module": "@jupyter-widgets/base",
          "model_name": "LayoutModel",
          "state": {
            "_view_name": "LayoutView",
            "grid_template_rows": null,
            "right": null,
            "justify_content": null,
            "_view_module": "@jupyter-widgets/base",
            "overflow": null,
            "_model_module_version": "1.2.0",
            "_view_count": null,
            "flex_flow": null,
            "width": null,
            "min_width": null,
            "border": null,
            "align_items": null,
            "bottom": null,
            "_model_module": "@jupyter-widgets/base",
            "top": null,
            "grid_column": null,
            "overflow_y": null,
            "overflow_x": null,
            "grid_auto_flow": null,
            "grid_area": null,
            "grid_template_columns": null,
            "flex": null,
            "_model_name": "LayoutModel",
            "justify_items": null,
            "grid_row": null,
            "max_height": null,
            "align_content": null,
            "visibility": null,
            "align_self": null,
            "height": null,
            "min_height": null,
            "padding": null,
            "grid_auto_rows": null,
            "grid_gap": null,
            "max_width": null,
            "order": null,
            "_view_module_version": "1.2.0",
            "grid_template_areas": null,
            "object_position": null,
            "object_fit": null,
            "grid_auto_columns": null,
            "margin": null,
            "display": null,
            "left": null
          }
        },
        "d3ed8b3d523a470a94062c8ccd1c27e3": {
          "model_module": "@jupyter-widgets/controls",
          "model_name": "DescriptionStyleModel",
          "state": {
            "_view_name": "StyleView",
            "_model_name": "DescriptionStyleModel",
            "description_width": "",
            "_view_module": "@jupyter-widgets/base",
            "_model_module_version": "1.5.0",
            "_view_count": null,
            "_view_module_version": "1.2.0",
            "_model_module": "@jupyter-widgets/controls"
          }
        },
        "91d74b836b85482e8f54ab320ddebda4": {
          "model_module": "@jupyter-widgets/base",
          "model_name": "LayoutModel",
          "state": {
            "_view_name": "LayoutView",
            "grid_template_rows": null,
            "right": null,
            "justify_content": null,
            "_view_module": "@jupyter-widgets/base",
            "overflow": null,
            "_model_module_version": "1.2.0",
            "_view_count": null,
            "flex_flow": null,
            "width": null,
            "min_width": null,
            "border": null,
            "align_items": null,
            "bottom": null,
            "_model_module": "@jupyter-widgets/base",
            "top": null,
            "grid_column": null,
            "overflow_y": null,
            "overflow_x": null,
            "grid_auto_flow": null,
            "grid_area": null,
            "grid_template_columns": null,
            "flex": null,
            "_model_name": "LayoutModel",
            "justify_items": null,
            "grid_row": null,
            "max_height": null,
            "align_content": null,
            "visibility": null,
            "align_self": null,
            "height": null,
            "min_height": null,
            "padding": null,
            "grid_auto_rows": null,
            "grid_gap": null,
            "max_width": null,
            "order": null,
            "_view_module_version": "1.2.0",
            "grid_template_areas": null,
            "object_position": null,
            "object_fit": null,
            "grid_auto_columns": null,
            "margin": null,
            "display": null,
            "left": null
          }
        },
        "ca378904017c41c4884916047ec6b111": {
          "model_module": "@jupyter-widgets/controls",
          "model_name": "HBoxModel",
          "state": {
            "_view_name": "HBoxView",
            "_dom_classes": [],
            "_model_name": "HBoxModel",
            "_view_module": "@jupyter-widgets/controls",
            "_model_module_version": "1.5.0",
            "_view_count": null,
            "_view_module_version": "1.5.0",
            "box_style": "",
            "layout": "IPY_MODEL_8570def7e0a94173a8f62a1d7a771252",
            "_model_module": "@jupyter-widgets/controls",
            "children": [
              "IPY_MODEL_9499021736134d31ab96fb74a2ed4ecc",
              "IPY_MODEL_fa96c7567131469eac64c74daf06be6c"
            ]
          }
        },
        "8570def7e0a94173a8f62a1d7a771252": {
          "model_module": "@jupyter-widgets/base",
          "model_name": "LayoutModel",
          "state": {
            "_view_name": "LayoutView",
            "grid_template_rows": null,
            "right": null,
            "justify_content": null,
            "_view_module": "@jupyter-widgets/base",
            "overflow": null,
            "_model_module_version": "1.2.0",
            "_view_count": null,
            "flex_flow": null,
            "width": null,
            "min_width": null,
            "border": null,
            "align_items": null,
            "bottom": null,
            "_model_module": "@jupyter-widgets/base",
            "top": null,
            "grid_column": null,
            "overflow_y": null,
            "overflow_x": null,
            "grid_auto_flow": null,
            "grid_area": null,
            "grid_template_columns": null,
            "flex": null,
            "_model_name": "LayoutModel",
            "justify_items": null,
            "grid_row": null,
            "max_height": null,
            "align_content": null,
            "visibility": null,
            "align_self": null,
            "height": null,
            "min_height": null,
            "padding": null,
            "grid_auto_rows": null,
            "grid_gap": null,
            "max_width": null,
            "order": null,
            "_view_module_version": "1.2.0",
            "grid_template_areas": null,
            "object_position": null,
            "object_fit": null,
            "grid_auto_columns": null,
            "margin": null,
            "display": null,
            "left": null
          }
        },
        "9499021736134d31ab96fb74a2ed4ecc": {
          "model_module": "@jupyter-widgets/controls",
          "model_name": "FloatProgressModel",
          "state": {
            "_view_name": "ProgressView",
            "style": "IPY_MODEL_d57387bb84d74be5af1c28b3520ba26b",
            "_dom_classes": [],
            "description": "100%",
            "_model_name": "FloatProgressModel",
            "bar_style": "success",
            "max": 3,
            "_view_module": "@jupyter-widgets/controls",
            "_model_module_version": "1.5.0",
            "value": 3,
            "_view_count": null,
            "_view_module_version": "1.5.0",
            "orientation": "horizontal",
            "min": 0,
            "description_tooltip": null,
            "_model_module": "@jupyter-widgets/controls",
            "layout": "IPY_MODEL_2099bbf87a3241ac8455149246e5332a"
          }
        },
        "fa96c7567131469eac64c74daf06be6c": {
          "model_module": "@jupyter-widgets/controls",
          "model_name": "HTMLModel",
          "state": {
            "_view_name": "HTMLView",
            "style": "IPY_MODEL_0208f43e628a4423aa5f775ba6b42ae9",
            "_dom_classes": [],
            "description": "",
            "_model_name": "HTMLModel",
            "placeholder": "​",
            "_view_module": "@jupyter-widgets/controls",
            "_model_module_version": "1.5.0",
            "value": " 3/3 [13:46&lt;00:00, 275.47s/it]",
            "_view_count": null,
            "_view_module_version": "1.5.0",
            "description_tooltip": null,
            "_model_module": "@jupyter-widgets/controls",
            "layout": "IPY_MODEL_81ea3dde61b5496db612fbf0465f16cc"
          }
        },
        "d57387bb84d74be5af1c28b3520ba26b": {
          "model_module": "@jupyter-widgets/controls",
          "model_name": "ProgressStyleModel",
          "state": {
            "_view_name": "StyleView",
            "_model_name": "ProgressStyleModel",
            "description_width": "initial",
            "_view_module": "@jupyter-widgets/base",
            "_model_module_version": "1.5.0",
            "_view_count": null,
            "_view_module_version": "1.2.0",
            "bar_color": null,
            "_model_module": "@jupyter-widgets/controls"
          }
        },
        "2099bbf87a3241ac8455149246e5332a": {
          "model_module": "@jupyter-widgets/base",
          "model_name": "LayoutModel",
          "state": {
            "_view_name": "LayoutView",
            "grid_template_rows": null,
            "right": null,
            "justify_content": null,
            "_view_module": "@jupyter-widgets/base",
            "overflow": null,
            "_model_module_version": "1.2.0",
            "_view_count": null,
            "flex_flow": null,
            "width": null,
            "min_width": null,
            "border": null,
            "align_items": null,
            "bottom": null,
            "_model_module": "@jupyter-widgets/base",
            "top": null,
            "grid_column": null,
            "overflow_y": null,
            "overflow_x": null,
            "grid_auto_flow": null,
            "grid_area": null,
            "grid_template_columns": null,
            "flex": null,
            "_model_name": "LayoutModel",
            "justify_items": null,
            "grid_row": null,
            "max_height": null,
            "align_content": null,
            "visibility": null,
            "align_self": null,
            "height": null,
            "min_height": null,
            "padding": null,
            "grid_auto_rows": null,
            "grid_gap": null,
            "max_width": null,
            "order": null,
            "_view_module_version": "1.2.0",
            "grid_template_areas": null,
            "object_position": null,
            "object_fit": null,
            "grid_auto_columns": null,
            "margin": null,
            "display": null,
            "left": null
          }
        },
        "0208f43e628a4423aa5f775ba6b42ae9": {
          "model_module": "@jupyter-widgets/controls",
          "model_name": "DescriptionStyleModel",
          "state": {
            "_view_name": "StyleView",
            "_model_name": "DescriptionStyleModel",
            "description_width": "",
            "_view_module": "@jupyter-widgets/base",
            "_model_module_version": "1.5.0",
            "_view_count": null,
            "_view_module_version": "1.2.0",
            "_model_module": "@jupyter-widgets/controls"
          }
        },
        "81ea3dde61b5496db612fbf0465f16cc": {
          "model_module": "@jupyter-widgets/base",
          "model_name": "LayoutModel",
          "state": {
            "_view_name": "LayoutView",
            "grid_template_rows": null,
            "right": null,
            "justify_content": null,
            "_view_module": "@jupyter-widgets/base",
            "overflow": null,
            "_model_module_version": "1.2.0",
            "_view_count": null,
            "flex_flow": null,
            "width": null,
            "min_width": null,
            "border": null,
            "align_items": null,
            "bottom": null,
            "_model_module": "@jupyter-widgets/base",
            "top": null,
            "grid_column": null,
            "overflow_y": null,
            "overflow_x": null,
            "grid_auto_flow": null,
            "grid_area": null,
            "grid_template_columns": null,
            "flex": null,
            "_model_name": "LayoutModel",
            "justify_items": null,
            "grid_row": null,
            "max_height": null,
            "align_content": null,
            "visibility": null,
            "align_self": null,
            "height": null,
            "min_height": null,
            "padding": null,
            "grid_auto_rows": null,
            "grid_gap": null,
            "max_width": null,
            "order": null,
            "_view_module_version": "1.2.0",
            "grid_template_areas": null,
            "object_position": null,
            "object_fit": null,
            "grid_auto_columns": null,
            "margin": null,
            "display": null,
            "left": null
          }
        },
        "527e299aa813435f9f26ca13ed1fab9a": {
          "model_module": "@jupyter-widgets/controls",
          "model_name": "HBoxModel",
          "state": {
            "_view_name": "HBoxView",
            "_dom_classes": [],
            "_model_name": "HBoxModel",
            "_view_module": "@jupyter-widgets/controls",
            "_model_module_version": "1.5.0",
            "_view_count": null,
            "_view_module_version": "1.5.0",
            "box_style": "",
            "layout": "IPY_MODEL_d774906366d04817b5a794c5aec9fbcd",
            "_model_module": "@jupyter-widgets/controls",
            "children": [
              "IPY_MODEL_877baf9e7337490094ba8d3d229596fe",
              "IPY_MODEL_f47421eff03b4626b58b4c714b1261e3"
            ]
          }
        },
        "d774906366d04817b5a794c5aec9fbcd": {
          "model_module": "@jupyter-widgets/base",
          "model_name": "LayoutModel",
          "state": {
            "_view_name": "LayoutView",
            "grid_template_rows": null,
            "right": null,
            "justify_content": null,
            "_view_module": "@jupyter-widgets/base",
            "overflow": null,
            "_model_module_version": "1.2.0",
            "_view_count": null,
            "flex_flow": null,
            "width": null,
            "min_width": null,
            "border": null,
            "align_items": null,
            "bottom": null,
            "_model_module": "@jupyter-widgets/base",
            "top": null,
            "grid_column": null,
            "overflow_y": null,
            "overflow_x": null,
            "grid_auto_flow": null,
            "grid_area": null,
            "grid_template_columns": null,
            "flex": null,
            "_model_name": "LayoutModel",
            "justify_items": null,
            "grid_row": null,
            "max_height": null,
            "align_content": null,
            "visibility": null,
            "align_self": null,
            "height": null,
            "min_height": null,
            "padding": null,
            "grid_auto_rows": null,
            "grid_gap": null,
            "max_width": null,
            "order": null,
            "_view_module_version": "1.2.0",
            "grid_template_areas": null,
            "object_position": null,
            "object_fit": null,
            "grid_auto_columns": null,
            "margin": null,
            "display": null,
            "left": null
          }
        },
        "877baf9e7337490094ba8d3d229596fe": {
          "model_module": "@jupyter-widgets/controls",
          "model_name": "FloatProgressModel",
          "state": {
            "_view_name": "ProgressView",
            "style": "IPY_MODEL_8a641b420a6b42a283db57ab9f73cafa",
            "_dom_classes": [],
            "description": "Epoch 1: 100%",
            "_model_name": "FloatProgressModel",
            "bar_style": "",
            "max": 507,
            "_view_module": "@jupyter-widgets/controls",
            "_model_module_version": "1.5.0",
            "value": 507,
            "_view_count": null,
            "_view_module_version": "1.5.0",
            "orientation": "horizontal",
            "min": 0,
            "description_tooltip": null,
            "_model_module": "@jupyter-widgets/controls",
            "layout": "IPY_MODEL_d244bc15a01842ecbf7895e68fa32f19"
          }
        },
        "f47421eff03b4626b58b4c714b1261e3": {
          "model_module": "@jupyter-widgets/controls",
          "model_name": "HTMLModel",
          "state": {
            "_view_name": "HTMLView",
            "style": "IPY_MODEL_ff79d7eae15840e4a7a420d91233a089",
            "_dom_classes": [],
            "description": "",
            "_model_name": "HTMLModel",
            "placeholder": "​",
            "_view_module": "@jupyter-widgets/controls",
            "_model_module_version": "1.5.0",
            "value": " 507/507 [04:08&lt;00:00,  2.09it/s, training_loss=0.458]",
            "_view_count": null,
            "_view_module_version": "1.5.0",
            "description_tooltip": null,
            "_model_module": "@jupyter-widgets/controls",
            "layout": "IPY_MODEL_7df48e7440c14c5eabeba1ca7e2ba510"
          }
        },
        "8a641b420a6b42a283db57ab9f73cafa": {
          "model_module": "@jupyter-widgets/controls",
          "model_name": "ProgressStyleModel",
          "state": {
            "_view_name": "StyleView",
            "_model_name": "ProgressStyleModel",
            "description_width": "initial",
            "_view_module": "@jupyter-widgets/base",
            "_model_module_version": "1.5.0",
            "_view_count": null,
            "_view_module_version": "1.2.0",
            "bar_color": null,
            "_model_module": "@jupyter-widgets/controls"
          }
        },
        "d244bc15a01842ecbf7895e68fa32f19": {
          "model_module": "@jupyter-widgets/base",
          "model_name": "LayoutModel",
          "state": {
            "_view_name": "LayoutView",
            "grid_template_rows": null,
            "right": null,
            "justify_content": null,
            "_view_module": "@jupyter-widgets/base",
            "overflow": null,
            "_model_module_version": "1.2.0",
            "_view_count": null,
            "flex_flow": null,
            "width": null,
            "min_width": null,
            "border": null,
            "align_items": null,
            "bottom": null,
            "_model_module": "@jupyter-widgets/base",
            "top": null,
            "grid_column": null,
            "overflow_y": null,
            "overflow_x": null,
            "grid_auto_flow": null,
            "grid_area": null,
            "grid_template_columns": null,
            "flex": null,
            "_model_name": "LayoutModel",
            "justify_items": null,
            "grid_row": null,
            "max_height": null,
            "align_content": null,
            "visibility": null,
            "align_self": null,
            "height": null,
            "min_height": null,
            "padding": null,
            "grid_auto_rows": null,
            "grid_gap": null,
            "max_width": null,
            "order": null,
            "_view_module_version": "1.2.0",
            "grid_template_areas": null,
            "object_position": null,
            "object_fit": null,
            "grid_auto_columns": null,
            "margin": null,
            "display": null,
            "left": null
          }
        },
        "ff79d7eae15840e4a7a420d91233a089": {
          "model_module": "@jupyter-widgets/controls",
          "model_name": "DescriptionStyleModel",
          "state": {
            "_view_name": "StyleView",
            "_model_name": "DescriptionStyleModel",
            "description_width": "",
            "_view_module": "@jupyter-widgets/base",
            "_model_module_version": "1.5.0",
            "_view_count": null,
            "_view_module_version": "1.2.0",
            "_model_module": "@jupyter-widgets/controls"
          }
        },
        "7df48e7440c14c5eabeba1ca7e2ba510": {
          "model_module": "@jupyter-widgets/base",
          "model_name": "LayoutModel",
          "state": {
            "_view_name": "LayoutView",
            "grid_template_rows": null,
            "right": null,
            "justify_content": null,
            "_view_module": "@jupyter-widgets/base",
            "overflow": null,
            "_model_module_version": "1.2.0",
            "_view_count": null,
            "flex_flow": null,
            "width": null,
            "min_width": null,
            "border": null,
            "align_items": null,
            "bottom": null,
            "_model_module": "@jupyter-widgets/base",
            "top": null,
            "grid_column": null,
            "overflow_y": null,
            "overflow_x": null,
            "grid_auto_flow": null,
            "grid_area": null,
            "grid_template_columns": null,
            "flex": null,
            "_model_name": "LayoutModel",
            "justify_items": null,
            "grid_row": null,
            "max_height": null,
            "align_content": null,
            "visibility": null,
            "align_self": null,
            "height": null,
            "min_height": null,
            "padding": null,
            "grid_auto_rows": null,
            "grid_gap": null,
            "max_width": null,
            "order": null,
            "_view_module_version": "1.2.0",
            "grid_template_areas": null,
            "object_position": null,
            "object_fit": null,
            "grid_auto_columns": null,
            "margin": null,
            "display": null,
            "left": null
          }
        },
        "5f46312d3c0544789de8ad3960068f2f": {
          "model_module": "@jupyter-widgets/controls",
          "model_name": "HBoxModel",
          "state": {
            "_view_name": "HBoxView",
            "_dom_classes": [],
            "_model_name": "HBoxModel",
            "_view_module": "@jupyter-widgets/controls",
            "_model_module_version": "1.5.0",
            "_view_count": null,
            "_view_module_version": "1.5.0",
            "box_style": "",
            "layout": "IPY_MODEL_428331f6ca724aa8b244778f3d909df2",
            "_model_module": "@jupyter-widgets/controls",
            "children": [
              "IPY_MODEL_c5ce337e18c64c48b5b4385df8b2e20c",
              "IPY_MODEL_23c94463f52a447f9b0a607841ef19bb"
            ]
          }
        },
        "428331f6ca724aa8b244778f3d909df2": {
          "model_module": "@jupyter-widgets/base",
          "model_name": "LayoutModel",
          "state": {
            "_view_name": "LayoutView",
            "grid_template_rows": null,
            "right": null,
            "justify_content": null,
            "_view_module": "@jupyter-widgets/base",
            "overflow": null,
            "_model_module_version": "1.2.0",
            "_view_count": null,
            "flex_flow": null,
            "width": null,
            "min_width": null,
            "border": null,
            "align_items": null,
            "bottom": null,
            "_model_module": "@jupyter-widgets/base",
            "top": null,
            "grid_column": null,
            "overflow_y": null,
            "overflow_x": null,
            "grid_auto_flow": null,
            "grid_area": null,
            "grid_template_columns": null,
            "flex": null,
            "_model_name": "LayoutModel",
            "justify_items": null,
            "grid_row": null,
            "max_height": null,
            "align_content": null,
            "visibility": null,
            "align_self": null,
            "height": null,
            "min_height": null,
            "padding": null,
            "grid_auto_rows": null,
            "grid_gap": null,
            "max_width": null,
            "order": null,
            "_view_module_version": "1.2.0",
            "grid_template_areas": null,
            "object_position": null,
            "object_fit": null,
            "grid_auto_columns": null,
            "margin": null,
            "display": null,
            "left": null
          }
        },
        "c5ce337e18c64c48b5b4385df8b2e20c": {
          "model_module": "@jupyter-widgets/controls",
          "model_name": "FloatProgressModel",
          "state": {
            "_view_name": "ProgressView",
            "style": "IPY_MODEL_1044ea634019424a9b2df364e1c710b3",
            "_dom_classes": [],
            "description": "Epoch 2: 100%",
            "_model_name": "FloatProgressModel",
            "bar_style": "",
            "max": 507,
            "_view_module": "@jupyter-widgets/controls",
            "_model_module_version": "1.5.0",
            "value": 507,
            "_view_count": null,
            "_view_module_version": "1.5.0",
            "orientation": "horizontal",
            "min": 0,
            "description_tooltip": null,
            "_model_module": "@jupyter-widgets/controls",
            "layout": "IPY_MODEL_d752491eacd34067b5a64a675a08a65f"
          }
        },
        "23c94463f52a447f9b0a607841ef19bb": {
          "model_module": "@jupyter-widgets/controls",
          "model_name": "HTMLModel",
          "state": {
            "_view_name": "HTMLView",
            "style": "IPY_MODEL_66c2672c126e48ff82c0bd2cb632ba22",
            "_dom_classes": [],
            "description": "",
            "_model_name": "HTMLModel",
            "placeholder": "​",
            "_view_module": "@jupyter-widgets/controls",
            "_model_module_version": "1.5.0",
            "value": " 507/507 [04:07&lt;00:00,  2.07it/s, training_loss=0.263]",
            "_view_count": null,
            "_view_module_version": "1.5.0",
            "description_tooltip": null,
            "_model_module": "@jupyter-widgets/controls",
            "layout": "IPY_MODEL_5daa398238cd41aa86cfe0de47633743"
          }
        },
        "1044ea634019424a9b2df364e1c710b3": {
          "model_module": "@jupyter-widgets/controls",
          "model_name": "ProgressStyleModel",
          "state": {
            "_view_name": "StyleView",
            "_model_name": "ProgressStyleModel",
            "description_width": "initial",
            "_view_module": "@jupyter-widgets/base",
            "_model_module_version": "1.5.0",
            "_view_count": null,
            "_view_module_version": "1.2.0",
            "bar_color": null,
            "_model_module": "@jupyter-widgets/controls"
          }
        },
        "d752491eacd34067b5a64a675a08a65f": {
          "model_module": "@jupyter-widgets/base",
          "model_name": "LayoutModel",
          "state": {
            "_view_name": "LayoutView",
            "grid_template_rows": null,
            "right": null,
            "justify_content": null,
            "_view_module": "@jupyter-widgets/base",
            "overflow": null,
            "_model_module_version": "1.2.0",
            "_view_count": null,
            "flex_flow": null,
            "width": null,
            "min_width": null,
            "border": null,
            "align_items": null,
            "bottom": null,
            "_model_module": "@jupyter-widgets/base",
            "top": null,
            "grid_column": null,
            "overflow_y": null,
            "overflow_x": null,
            "grid_auto_flow": null,
            "grid_area": null,
            "grid_template_columns": null,
            "flex": null,
            "_model_name": "LayoutModel",
            "justify_items": null,
            "grid_row": null,
            "max_height": null,
            "align_content": null,
            "visibility": null,
            "align_self": null,
            "height": null,
            "min_height": null,
            "padding": null,
            "grid_auto_rows": null,
            "grid_gap": null,
            "max_width": null,
            "order": null,
            "_view_module_version": "1.2.0",
            "grid_template_areas": null,
            "object_position": null,
            "object_fit": null,
            "grid_auto_columns": null,
            "margin": null,
            "display": null,
            "left": null
          }
        },
        "66c2672c126e48ff82c0bd2cb632ba22": {
          "model_module": "@jupyter-widgets/controls",
          "model_name": "DescriptionStyleModel",
          "state": {
            "_view_name": "StyleView",
            "_model_name": "DescriptionStyleModel",
            "description_width": "",
            "_view_module": "@jupyter-widgets/base",
            "_model_module_version": "1.5.0",
            "_view_count": null,
            "_view_module_version": "1.2.0",
            "_model_module": "@jupyter-widgets/controls"
          }
        },
        "5daa398238cd41aa86cfe0de47633743": {
          "model_module": "@jupyter-widgets/base",
          "model_name": "LayoutModel",
          "state": {
            "_view_name": "LayoutView",
            "grid_template_rows": null,
            "right": null,
            "justify_content": null,
            "_view_module": "@jupyter-widgets/base",
            "overflow": null,
            "_model_module_version": "1.2.0",
            "_view_count": null,
            "flex_flow": null,
            "width": null,
            "min_width": null,
            "border": null,
            "align_items": null,
            "bottom": null,
            "_model_module": "@jupyter-widgets/base",
            "top": null,
            "grid_column": null,
            "overflow_y": null,
            "overflow_x": null,
            "grid_auto_flow": null,
            "grid_area": null,
            "grid_template_columns": null,
            "flex": null,
            "_model_name": "LayoutModel",
            "justify_items": null,
            "grid_row": null,
            "max_height": null,
            "align_content": null,
            "visibility": null,
            "align_self": null,
            "height": null,
            "min_height": null,
            "padding": null,
            "grid_auto_rows": null,
            "grid_gap": null,
            "max_width": null,
            "order": null,
            "_view_module_version": "1.2.0",
            "grid_template_areas": null,
            "object_position": null,
            "object_fit": null,
            "grid_auto_columns": null,
            "margin": null,
            "display": null,
            "left": null
          }
        },
        "4e2acaca7e094b52ac010e49d987a7cb": {
          "model_module": "@jupyter-widgets/controls",
          "model_name": "HBoxModel",
          "state": {
            "_view_name": "HBoxView",
            "_dom_classes": [],
            "_model_name": "HBoxModel",
            "_view_module": "@jupyter-widgets/controls",
            "_model_module_version": "1.5.0",
            "_view_count": null,
            "_view_module_version": "1.5.0",
            "box_style": "",
            "layout": "IPY_MODEL_33a64fd00d1e4de8b1877e78d60c5ad3",
            "_model_module": "@jupyter-widgets/controls",
            "children": [
              "IPY_MODEL_8dcb7f47914a4c8c83bfb55b9e918b94",
              "IPY_MODEL_c9bfd94584494783bab3f8a7a6615283"
            ]
          }
        },
        "33a64fd00d1e4de8b1877e78d60c5ad3": {
          "model_module": "@jupyter-widgets/base",
          "model_name": "LayoutModel",
          "state": {
            "_view_name": "LayoutView",
            "grid_template_rows": null,
            "right": null,
            "justify_content": null,
            "_view_module": "@jupyter-widgets/base",
            "overflow": null,
            "_model_module_version": "1.2.0",
            "_view_count": null,
            "flex_flow": null,
            "width": null,
            "min_width": null,
            "border": null,
            "align_items": null,
            "bottom": null,
            "_model_module": "@jupyter-widgets/base",
            "top": null,
            "grid_column": null,
            "overflow_y": null,
            "overflow_x": null,
            "grid_auto_flow": null,
            "grid_area": null,
            "grid_template_columns": null,
            "flex": null,
            "_model_name": "LayoutModel",
            "justify_items": null,
            "grid_row": null,
            "max_height": null,
            "align_content": null,
            "visibility": null,
            "align_self": null,
            "height": null,
            "min_height": null,
            "padding": null,
            "grid_auto_rows": null,
            "grid_gap": null,
            "max_width": null,
            "order": null,
            "_view_module_version": "1.2.0",
            "grid_template_areas": null,
            "object_position": null,
            "object_fit": null,
            "grid_auto_columns": null,
            "margin": null,
            "display": null,
            "left": null
          }
        },
        "8dcb7f47914a4c8c83bfb55b9e918b94": {
          "model_module": "@jupyter-widgets/controls",
          "model_name": "FloatProgressModel",
          "state": {
            "_view_name": "ProgressView",
            "style": "IPY_MODEL_89596212655c444d901f0ed1f950b121",
            "_dom_classes": [],
            "description": "Epoch 3: 100%",
            "_model_name": "FloatProgressModel",
            "bar_style": "",
            "max": 507,
            "_view_module": "@jupyter-widgets/controls",
            "_model_module_version": "1.5.0",
            "value": 507,
            "_view_count": null,
            "_view_module_version": "1.5.0",
            "orientation": "horizontal",
            "min": 0,
            "description_tooltip": null,
            "_model_module": "@jupyter-widgets/controls",
            "layout": "IPY_MODEL_529e1f6b176943cb87d16d8dcf59f974"
          }
        },
        "c9bfd94584494783bab3f8a7a6615283": {
          "model_module": "@jupyter-widgets/controls",
          "model_name": "HTMLModel",
          "state": {
            "_view_name": "HTMLView",
            "style": "IPY_MODEL_5f68707bd063452c96f453144e43b8f4",
            "_dom_classes": [],
            "description": "",
            "_model_name": "HTMLModel",
            "placeholder": "​",
            "_view_module": "@jupyter-widgets/controls",
            "_model_module_version": "1.5.0",
            "value": " 507/507 [04:07&lt;00:00,  2.08it/s, training_loss=0.031]",
            "_view_count": null,
            "_view_module_version": "1.5.0",
            "description_tooltip": null,
            "_model_module": "@jupyter-widgets/controls",
            "layout": "IPY_MODEL_e22c080f155d4a7d83d22e8545f36d91"
          }
        },
        "89596212655c444d901f0ed1f950b121": {
          "model_module": "@jupyter-widgets/controls",
          "model_name": "ProgressStyleModel",
          "state": {
            "_view_name": "StyleView",
            "_model_name": "ProgressStyleModel",
            "description_width": "initial",
            "_view_module": "@jupyter-widgets/base",
            "_model_module_version": "1.5.0",
            "_view_count": null,
            "_view_module_version": "1.2.0",
            "bar_color": null,
            "_model_module": "@jupyter-widgets/controls"
          }
        },
        "529e1f6b176943cb87d16d8dcf59f974": {
          "model_module": "@jupyter-widgets/base",
          "model_name": "LayoutModel",
          "state": {
            "_view_name": "LayoutView",
            "grid_template_rows": null,
            "right": null,
            "justify_content": null,
            "_view_module": "@jupyter-widgets/base",
            "overflow": null,
            "_model_module_version": "1.2.0",
            "_view_count": null,
            "flex_flow": null,
            "width": null,
            "min_width": null,
            "border": null,
            "align_items": null,
            "bottom": null,
            "_model_module": "@jupyter-widgets/base",
            "top": null,
            "grid_column": null,
            "overflow_y": null,
            "overflow_x": null,
            "grid_auto_flow": null,
            "grid_area": null,
            "grid_template_columns": null,
            "flex": null,
            "_model_name": "LayoutModel",
            "justify_items": null,
            "grid_row": null,
            "max_height": null,
            "align_content": null,
            "visibility": null,
            "align_self": null,
            "height": null,
            "min_height": null,
            "padding": null,
            "grid_auto_rows": null,
            "grid_gap": null,
            "max_width": null,
            "order": null,
            "_view_module_version": "1.2.0",
            "grid_template_areas": null,
            "object_position": null,
            "object_fit": null,
            "grid_auto_columns": null,
            "margin": null,
            "display": null,
            "left": null
          }
        },
        "5f68707bd063452c96f453144e43b8f4": {
          "model_module": "@jupyter-widgets/controls",
          "model_name": "DescriptionStyleModel",
          "state": {
            "_view_name": "StyleView",
            "_model_name": "DescriptionStyleModel",
            "description_width": "",
            "_view_module": "@jupyter-widgets/base",
            "_model_module_version": "1.5.0",
            "_view_count": null,
            "_view_module_version": "1.2.0",
            "_model_module": "@jupyter-widgets/controls"
          }
        },
        "e22c080f155d4a7d83d22e8545f36d91": {
          "model_module": "@jupyter-widgets/base",
          "model_name": "LayoutModel",
          "state": {
            "_view_name": "LayoutView",
            "grid_template_rows": null,
            "right": null,
            "justify_content": null,
            "_view_module": "@jupyter-widgets/base",
            "overflow": null,
            "_model_module_version": "1.2.0",
            "_view_count": null,
            "flex_flow": null,
            "width": null,
            "min_width": null,
            "border": null,
            "align_items": null,
            "bottom": null,
            "_model_module": "@jupyter-widgets/base",
            "top": null,
            "grid_column": null,
            "overflow_y": null,
            "overflow_x": null,
            "grid_auto_flow": null,
            "grid_area": null,
            "grid_template_columns": null,
            "flex": null,
            "_model_name": "LayoutModel",
            "justify_items": null,
            "grid_row": null,
            "max_height": null,
            "align_content": null,
            "visibility": null,
            "align_self": null,
            "height": null,
            "min_height": null,
            "padding": null,
            "grid_auto_rows": null,
            "grid_gap": null,
            "max_width": null,
            "order": null,
            "_view_module_version": "1.2.0",
            "grid_template_areas": null,
            "object_position": null,
            "object_fit": null,
            "grid_auto_columns": null,
            "margin": null,
            "display": null,
            "left": null
          }
        }
      }
    }
  },
  "cells": [
    {
      "cell_type": "code",
      "metadata": {
        "colab": {
          "base_uri": "https://localhost:8080/"
        },
        "id": "ZreDG7Zj6WcR",
        "outputId": "5e215bc2-9407-4fae-bc41-ab9417dd1c00"
      },
      "source": [
        "from google.colab import drive\n",
        "drive.mount('/content/drive')"
      ],
      "execution_count": 3,
      "outputs": [
        {
          "output_type": "stream",
          "text": [
            "Mounted at /content/drive\n"
          ],
          "name": "stdout"
        }
      ]
    },
    {
      "cell_type": "code",
      "metadata": {
        "colab": {
          "base_uri": "https://localhost:8080/"
        },
        "id": "d8Cp3Eu3_Dvi",
        "outputId": "9ae2687a-0cff-4c42-d8f1-144b416ee66e"
      },
      "source": [
        "!pip install hazm"
      ],
      "execution_count": 4,
      "outputs": [
        {
          "output_type": "stream",
          "text": [
            "Collecting hazm\n",
            "  Downloading hazm-0.7.0-py3-none-any.whl (316 kB)\n",
            "\u001b[K     |████████████████████████████████| 316 kB 11.8 MB/s \n",
            "\u001b[?25hCollecting nltk==3.3\n",
            "  Downloading nltk-3.3.0.zip (1.4 MB)\n",
            "\u001b[K     |████████████████████████████████| 1.4 MB 35.4 MB/s \n",
            "\u001b[?25hCollecting libwapiti>=0.2.1\n",
            "  Downloading libwapiti-0.2.1.tar.gz (233 kB)\n",
            "\u001b[K     |████████████████████████████████| 233 kB 46.7 MB/s \n",
            "\u001b[?25hRequirement already satisfied: six in /usr/local/lib/python3.7/dist-packages (from nltk==3.3->hazm) (1.15.0)\n",
            "Building wheels for collected packages: nltk, libwapiti\n",
            "  Building wheel for nltk (setup.py) ... \u001b[?25l\u001b[?25hdone\n",
            "  Created wheel for nltk: filename=nltk-3.3-py3-none-any.whl size=1394488 sha256=1071f05970345c427ef48a38f689c715399b4aee8578948dd1088c7b0915c4d1\n",
            "  Stored in directory: /root/.cache/pip/wheels/9b/fd/0c/d92302c876e5de87ebd7fc0979d82edb93e2d8d768bf71fac4\n",
            "  Building wheel for libwapiti (setup.py) ... \u001b[?25l\u001b[?25hdone\n",
            "  Created wheel for libwapiti: filename=libwapiti-0.2.1-cp37-cp37m-linux_x86_64.whl size=153804 sha256=d7529de832fd56960068b565b60d41e5c4e2d8dba4d391d12f2e74f9f6b36143\n",
            "  Stored in directory: /root/.cache/pip/wheels/ab/b2/5b/0fe4b8f5c0e65341e8ea7bb3f4a6ebabfe8b1ac31322392dbf\n",
            "Successfully built nltk libwapiti\n",
            "Installing collected packages: nltk, libwapiti, hazm\n",
            "  Attempting uninstall: nltk\n",
            "    Found existing installation: nltk 3.2.5\n",
            "    Uninstalling nltk-3.2.5:\n",
            "      Successfully uninstalled nltk-3.2.5\n",
            "Successfully installed hazm-0.7.0 libwapiti-0.2.1 nltk-3.3\n"
          ],
          "name": "stdout"
        }
      ]
    },
    {
      "cell_type": "code",
      "metadata": {
        "colab": {
          "base_uri": "https://localhost:8080/"
        },
        "id": "FLdE82Z87Fs3",
        "outputId": "993933e6-1b67-44b1-ba84-a9a083378cc3"
      },
      "source": [
        "!pip install transformers"
      ],
      "execution_count": 5,
      "outputs": [
        {
          "output_type": "stream",
          "text": [
            "Collecting transformers\n",
            "  Downloading transformers-4.9.1-py3-none-any.whl (2.6 MB)\n",
            "\u001b[K     |████████████████████████████████| 2.6 MB 11.8 MB/s \n",
            "\u001b[?25hRequirement already satisfied: numpy>=1.17 in /usr/local/lib/python3.7/dist-packages (from transformers) (1.19.5)\n",
            "Collecting tokenizers<0.11,>=0.10.1\n",
            "  Downloading tokenizers-0.10.3-cp37-cp37m-manylinux_2_5_x86_64.manylinux1_x86_64.manylinux_2_12_x86_64.manylinux2010_x86_64.whl (3.3 MB)\n",
            "\u001b[K     |████████████████████████████████| 3.3 MB 45.1 MB/s \n",
            "\u001b[?25hRequirement already satisfied: regex!=2019.12.17 in /usr/local/lib/python3.7/dist-packages (from transformers) (2019.12.20)\n",
            "Requirement already satisfied: tqdm>=4.27 in /usr/local/lib/python3.7/dist-packages (from transformers) (4.41.1)\n",
            "Collecting pyyaml>=5.1\n",
            "  Downloading PyYAML-5.4.1-cp37-cp37m-manylinux1_x86_64.whl (636 kB)\n",
            "\u001b[K     |████████████████████████████████| 636 kB 39.8 MB/s \n",
            "\u001b[?25hRequirement already satisfied: packaging in /usr/local/lib/python3.7/dist-packages (from transformers) (21.0)\n",
            "Requirement already satisfied: requests in /usr/local/lib/python3.7/dist-packages (from transformers) (2.23.0)\n",
            "Collecting sacremoses\n",
            "  Downloading sacremoses-0.0.45-py3-none-any.whl (895 kB)\n",
            "\u001b[K     |████████████████████████████████| 895 kB 30.8 MB/s \n",
            "\u001b[?25hRequirement already satisfied: importlib-metadata in /usr/local/lib/python3.7/dist-packages (from transformers) (4.6.1)\n",
            "Requirement already satisfied: filelock in /usr/local/lib/python3.7/dist-packages (from transformers) (3.0.12)\n",
            "Collecting huggingface-hub==0.0.12\n",
            "  Downloading huggingface_hub-0.0.12-py3-none-any.whl (37 kB)\n",
            "Requirement already satisfied: typing-extensions in /usr/local/lib/python3.7/dist-packages (from huggingface-hub==0.0.12->transformers) (3.7.4.3)\n",
            "Requirement already satisfied: pyparsing>=2.0.2 in /usr/local/lib/python3.7/dist-packages (from packaging->transformers) (2.4.7)\n",
            "Requirement already satisfied: zipp>=0.5 in /usr/local/lib/python3.7/dist-packages (from importlib-metadata->transformers) (3.5.0)\n",
            "Requirement already satisfied: certifi>=2017.4.17 in /usr/local/lib/python3.7/dist-packages (from requests->transformers) (2021.5.30)\n",
            "Requirement already satisfied: chardet<4,>=3.0.2 in /usr/local/lib/python3.7/dist-packages (from requests->transformers) (3.0.4)\n",
            "Requirement already satisfied: idna<3,>=2.5 in /usr/local/lib/python3.7/dist-packages (from requests->transformers) (2.10)\n",
            "Requirement already satisfied: urllib3!=1.25.0,!=1.25.1,<1.26,>=1.21.1 in /usr/local/lib/python3.7/dist-packages (from requests->transformers) (1.24.3)\n",
            "Requirement already satisfied: six in /usr/local/lib/python3.7/dist-packages (from sacremoses->transformers) (1.15.0)\n",
            "Requirement already satisfied: joblib in /usr/local/lib/python3.7/dist-packages (from sacremoses->transformers) (1.0.1)\n",
            "Requirement already satisfied: click in /usr/local/lib/python3.7/dist-packages (from sacremoses->transformers) (7.1.2)\n",
            "Installing collected packages: tokenizers, sacremoses, pyyaml, huggingface-hub, transformers\n",
            "  Attempting uninstall: pyyaml\n",
            "    Found existing installation: PyYAML 3.13\n",
            "    Uninstalling PyYAML-3.13:\n",
            "      Successfully uninstalled PyYAML-3.13\n",
            "Successfully installed huggingface-hub-0.0.12 pyyaml-5.4.1 sacremoses-0.0.45 tokenizers-0.10.3 transformers-4.9.1\n"
          ],
          "name": "stdout"
        }
      ]
    },
    {
      "cell_type": "code",
      "metadata": {
        "id": "ZgxLQ1g07ClR"
      },
      "source": [
        "import re\n",
        "import pandas as pd\n",
        "import requests\n",
        "import spacy\n",
        "from spacy import displacy\n",
        "nlp = spacy.load('en_core_web_sm')\n",
        "\n",
        "from spacy.matcher import Matcher \n",
        "from spacy.tokens import Span \n",
        "\n",
        "import networkx as nx\n",
        "\n",
        "import matplotlib.pyplot as plt\n",
        "from tqdm import tqdm\n",
        "\n",
        "import torch\n",
        "from tqdm.notebook import tqdm\n",
        "from torch.utils.data import TensorDataset\n",
        "from transformers import AutoTokenizer, AutoModelForSequenceClassification\n",
        "\n",
        "\n",
        "from __future__ import unicode_literals\n",
        "from hazm import *"
      ],
      "execution_count": 6,
      "outputs": []
    },
    {
      "cell_type": "code",
      "metadata": {
        "colab": {
          "base_uri": "https://localhost:8080/"
        },
        "id": "7ERKZ5Xg7AEs",
        "outputId": "58ff95a5-74cf-4255-a545-4f3500e061b2"
      },
      "source": [
        "device = torch.device(\"cuda\") if torch.cuda.is_available() else torch.device(\"cpu\")  \n",
        "device"
      ],
      "execution_count": 7,
      "outputs": [
        {
          "output_type": "execute_result",
          "data": {
            "text/plain": [
              "device(type='cuda')"
            ]
          },
          "metadata": {
            "tags": []
          },
          "execution_count": 7
        }
      ]
    },
    {
      "cell_type": "code",
      "metadata": {
        "id": "HJLZ5dmG6eB8"
      },
      "source": [
        "train_path = './drive/MyDrive/data_sets/PERLEX/train.txt'\n",
        "test_path = './drive/MyDrive/data_sets/PERLEX/test.txt'\n",
        "\n",
        "# train_path = './drive/MyDrive/dataset/perlex/train.txt'\n",
        "# test_path = './drive/MyDrive/dataset/perlex/test.txt'"
      ],
      "execution_count": 8,
      "outputs": []
    },
    {
      "cell_type": "code",
      "metadata": {
        "id": "--SOZXuW6fE4"
      },
      "source": [
        "def get_e1(text):\n",
        "  text = re.sub('<e2>', '', text)\n",
        "  text = re.sub('</e2>', '', text)\n",
        "  e = re.findall(\"<e1>(.*?)</e1>\", text)\n",
        "  pre_process = set()\n",
        "  for ent in e:\n",
        "    if ent != ' ' and len(ent.strip())>1:\n",
        "      pre_process.add(ent.strip())\n",
        "  return pre_process"
      ],
      "execution_count": 9,
      "outputs": []
    },
    {
      "cell_type": "code",
      "metadata": {
        "id": "YHWL2OEQ6g9w"
      },
      "source": [
        "def get_e2(text):\n",
        "  text = re.sub('<e1>', '', text)\n",
        "  text = re.sub('</e1>', '', text)\n",
        "  e = re.findall(\"<e2>(.*?)</e2>\", text)\n",
        "  pre_process = set()\n",
        "  for ent in e:\n",
        "    if ent != ' ' and len(ent.strip())>1:\n",
        "      pre_process.add(ent.strip())\n",
        "  return pre_process"
      ],
      "execution_count": 10,
      "outputs": []
    },
    {
      "cell_type": "code",
      "metadata": {
        "id": "nO2AzBZ76jDr"
      },
      "source": [
        "SEMEVAL_RELATION_LABELS = ['Other', 'Message-Topic(e1,e2)', 'Message-Topic(e2,e1)',\n",
        "                   'Product-Producer(e1,e2)', 'Product-Producer(e2,e1)',\n",
        "                   'Instrument-Agency(e1,e2)', 'Instrument-Agency(e2,e1)',\n",
        "                   'Entity-Destination(e1,e2)', 'Entity-Destination(e2,e1)',\n",
        "                   'Cause-Effect(e1,e2)', 'Cause-Effect(e2,e1)',\n",
        "                   'Component-Whole(e1,e2)', 'Component-Whole(e2,e1)',\n",
        "                   'Entity-Origin(e1,e2)', 'Entity-Origin(e2,e1)',\n",
        "                   'Member-Collection(e1,e2)', 'Member-Collection(e2,e1)',\n",
        "                   'Content-Container(e1,e2)', 'Content-Container(e2,e1)']"
      ],
      "execution_count": 11,
      "outputs": []
    },
    {
      "cell_type": "code",
      "metadata": {
        "colab": {
          "base_uri": "https://localhost:8080/"
        },
        "id": "w7k_98hG6kYF",
        "outputId": "4e8b8926-6ba1-4ef3-a5da-a53d5f9b32d3"
      },
      "source": [
        "indx2label = dict(enumerate(SEMEVAL_RELATION_LABELS))\n",
        "indx2label"
      ],
      "execution_count": 12,
      "outputs": [
        {
          "output_type": "execute_result",
          "data": {
            "text/plain": [
              "{0: 'Other',\n",
              " 1: 'Message-Topic(e1,e2)',\n",
              " 2: 'Message-Topic(e2,e1)',\n",
              " 3: 'Product-Producer(e1,e2)',\n",
              " 4: 'Product-Producer(e2,e1)',\n",
              " 5: 'Instrument-Agency(e1,e2)',\n",
              " 6: 'Instrument-Agency(e2,e1)',\n",
              " 7: 'Entity-Destination(e1,e2)',\n",
              " 8: 'Entity-Destination(e2,e1)',\n",
              " 9: 'Cause-Effect(e1,e2)',\n",
              " 10: 'Cause-Effect(e2,e1)',\n",
              " 11: 'Component-Whole(e1,e2)',\n",
              " 12: 'Component-Whole(e2,e1)',\n",
              " 13: 'Entity-Origin(e1,e2)',\n",
              " 14: 'Entity-Origin(e2,e1)',\n",
              " 15: 'Member-Collection(e1,e2)',\n",
              " 16: 'Member-Collection(e2,e1)',\n",
              " 17: 'Content-Container(e1,e2)',\n",
              " 18: 'Content-Container(e2,e1)'}"
            ]
          },
          "metadata": {
            "tags": []
          },
          "execution_count": 12
        }
      ]
    },
    {
      "cell_type": "code",
      "metadata": {
        "colab": {
          "base_uri": "https://localhost:8080/"
        },
        "id": "N9oGQRC9HdS4",
        "outputId": "7d6ae9f6-d747-454f-a4d5-45392c277755"
      },
      "source": [
        "indx2label"
      ],
      "execution_count": 13,
      "outputs": [
        {
          "output_type": "execute_result",
          "data": {
            "text/plain": [
              "{0: 'Other',\n",
              " 1: 'Message-Topic(e1,e2)',\n",
              " 2: 'Message-Topic(e2,e1)',\n",
              " 3: 'Product-Producer(e1,e2)',\n",
              " 4: 'Product-Producer(e2,e1)',\n",
              " 5: 'Instrument-Agency(e1,e2)',\n",
              " 6: 'Instrument-Agency(e2,e1)',\n",
              " 7: 'Entity-Destination(e1,e2)',\n",
              " 8: 'Entity-Destination(e2,e1)',\n",
              " 9: 'Cause-Effect(e1,e2)',\n",
              " 10: 'Cause-Effect(e2,e1)',\n",
              " 11: 'Component-Whole(e1,e2)',\n",
              " 12: 'Component-Whole(e2,e1)',\n",
              " 13: 'Entity-Origin(e1,e2)',\n",
              " 14: 'Entity-Origin(e2,e1)',\n",
              " 15: 'Member-Collection(e1,e2)',\n",
              " 16: 'Member-Collection(e2,e1)',\n",
              " 17: 'Content-Container(e1,e2)',\n",
              " 18: 'Content-Container(e2,e1)'}"
            ]
          },
          "metadata": {
            "tags": []
          },
          "execution_count": 13
        }
      ]
    },
    {
      "cell_type": "code",
      "metadata": {
        "colab": {
          "base_uri": "https://localhost:8080/"
        },
        "id": "WO2zeYac6lvV",
        "outputId": "8c714fb6-291d-454b-cd03-1a08b7507e47"
      },
      "source": [
        "label2index = {v:k for k,v in indx2label.items()}\n",
        "label2index"
      ],
      "execution_count": 14,
      "outputs": [
        {
          "output_type": "execute_result",
          "data": {
            "text/plain": [
              "{'Cause-Effect(e1,e2)': 9,\n",
              " 'Cause-Effect(e2,e1)': 10,\n",
              " 'Component-Whole(e1,e2)': 11,\n",
              " 'Component-Whole(e2,e1)': 12,\n",
              " 'Content-Container(e1,e2)': 17,\n",
              " 'Content-Container(e2,e1)': 18,\n",
              " 'Entity-Destination(e1,e2)': 7,\n",
              " 'Entity-Destination(e2,e1)': 8,\n",
              " 'Entity-Origin(e1,e2)': 13,\n",
              " 'Entity-Origin(e2,e1)': 14,\n",
              " 'Instrument-Agency(e1,e2)': 5,\n",
              " 'Instrument-Agency(e2,e1)': 6,\n",
              " 'Member-Collection(e1,e2)': 15,\n",
              " 'Member-Collection(e2,e1)': 16,\n",
              " 'Message-Topic(e1,e2)': 1,\n",
              " 'Message-Topic(e2,e1)': 2,\n",
              " 'Other': 0,\n",
              " 'Product-Producer(e1,e2)': 3,\n",
              " 'Product-Producer(e2,e1)': 4}"
            ]
          },
          "metadata": {
            "tags": []
          },
          "execution_count": 14
        }
      ]
    },
    {
      "cell_type": "code",
      "metadata": {
        "id": "bEt9pi36_3B4"
      },
      "source": [
        "normilizer = Normalizer(persian_numbers=False, token_based=True)"
      ],
      "execution_count": 24,
      "outputs": []
    },
    {
      "cell_type": "code",
      "metadata": {
        "id": "m1OTCxnx-euO"
      },
      "source": [
        "def process_sentence(sentence):\n",
        "  sentence = sentence.replace('<e1>','[E1]').replace('</e1>','[E1]').replace('<e2>','[E2]').replace('</e2>','[E2]')\n",
        "  sentence = normilizer.normalize(sentence)\n",
        "  # stemmer = Stemmer()\n",
        "  # stemmer = stemmer.stem(sentence)\n",
        "  # words = word_tokenize(sentence)\n",
        "  return sentence"
      ],
      "execution_count": 25,
      "outputs": []
    },
    {
      "cell_type": "code",
      "metadata": {
        "id": "J3DoTRxw6qQZ"
      },
      "source": [
        "def label_spliter(label):\n",
        "  # component-whole(e2,e1)\n",
        "  # return [whole , component ]\n",
        "  order = re.findall(\"\\((.*?)\\)\", label)[0].split(',')\n",
        "  label_names = label.split(\"(\")[0].split(\"-\")\n",
        "  if order[0] == \"e1\":\n",
        "    return label_names\n",
        "  else:\n",
        "    return list(reversed(label_names))\n",
        "\n",
        "def make_dataframe_row(sentence,label):\n",
        "  \n",
        "  if label == \"Other\":\n",
        "    labels =[label, label]\n",
        "  else:\n",
        "    labels = label_spliter(label=label)\n",
        "\n",
        "  result = []\n",
        "  e1s = get_e1(sentence)  \n",
        "  e2s = get_e2(sentence)\n",
        "  clean_sentence = process_sentence(sentence)\n",
        "  for e1 in e1s:\n",
        "    for e2 in e2s:\n",
        "\n",
        "      result.append( {\n",
        "          \"e1\":e1,\n",
        "          \"e2\":e2,\n",
        "          \"e1_label\":labels[0],\n",
        "          \"e2_label\":labels[1],\n",
        "          \"label\":label,\n",
        "          \"nlabel\": label2index[label],\n",
        "          \"sentence\": clean_sentence\n",
        "      })\n",
        "\n",
        "  return result\n",
        "    \n",
        "def make_dataframe(path):\n",
        "    f = open(path, 'r')\n",
        "    data = [x.rstrip() for x in f] \n",
        "    data_set_rows = []\n",
        "    for i in range(0, len(data)-4, 4):\n",
        "      item = data[i].split('\\t')\n",
        "      sentence = re.sub('[!@#$،.]', '', item[1])\n",
        "\n",
        "      label = data[i+1]\n",
        "      rows = make_dataframe_row(sentence , label)\n",
        "      data_set_rows += rows\n",
        "\n",
        "    return pd.DataFrame(data_set_rows)"
      ],
      "execution_count": 26,
      "outputs": []
    },
    {
      "cell_type": "code",
      "metadata": {
        "colab": {
          "base_uri": "https://localhost:8080/",
          "height": 419
        },
        "id": "vwt11bF-6sD4",
        "outputId": "d5bfc3db-7543-4f41-b6f6-6c9bb48380ce"
      },
      "source": [
        "df = make_dataframe(train_path)\n",
        "df_test = make_dataframe(test_path)\n",
        "df_test"
      ],
      "execution_count": 27,
      "outputs": [
        {
          "output_type": "execute_result",
          "data": {
            "text/html": [
              "<div>\n",
              "<style scoped>\n",
              "    .dataframe tbody tr th:only-of-type {\n",
              "        vertical-align: middle;\n",
              "    }\n",
              "\n",
              "    .dataframe tbody tr th {\n",
              "        vertical-align: top;\n",
              "    }\n",
              "\n",
              "    .dataframe thead th {\n",
              "        text-align: right;\n",
              "    }\n",
              "</style>\n",
              "<table border=\"1\" class=\"dataframe\">\n",
              "  <thead>\n",
              "    <tr style=\"text-align: right;\">\n",
              "      <th></th>\n",
              "      <th>e1</th>\n",
              "      <th>e2</th>\n",
              "      <th>e1_label</th>\n",
              "      <th>e2_label</th>\n",
              "      <th>label</th>\n",
              "      <th>nlabel</th>\n",
              "      <th>sentence</th>\n",
              "    </tr>\n",
              "  </thead>\n",
              "  <tbody>\n",
              "    <tr>\n",
              "      <th>0</th>\n",
              "      <td>حسابرسی‌ها</td>\n",
              "      <td>ضایعات</td>\n",
              "      <td>Message</td>\n",
              "      <td>Topic</td>\n",
              "      <td>Message-Topic(e1,e2)</td>\n",
              "      <td>1</td>\n",
              "      <td>«معمول‌ترین [E1] حسابرسی‌ها [E1] مربوط به [E2]...</td>\n",
              "    </tr>\n",
              "    <tr>\n",
              "      <th>1</th>\n",
              "      <td>شرکت</td>\n",
              "      <td>صندلی‌های</td>\n",
              "      <td>Producer</td>\n",
              "      <td>Product</td>\n",
              "      <td>Product-Producer(e2,e1)</td>\n",
              "      <td>4</td>\n",
              "      <td>«این [E1] شرکت [E2] [E1] صندلی‌های [E2] پلاستی...</td>\n",
              "    </tr>\n",
              "    <tr>\n",
              "      <th>2</th>\n",
              "      <td>استاد</td>\n",
              "      <td>چوب</td>\n",
              "      <td>Agency</td>\n",
              "      <td>Instrument</td>\n",
              "      <td>Instrument-Agency(e2,e1)</td>\n",
              "      <td>6</td>\n",
              "      <td>«[E1] استاد [E1] مدرسه با یک [E2] چوب [E2] درس...</td>\n",
              "    </tr>\n",
              "    <tr>\n",
              "      <th>3</th>\n",
              "      <td>بدن</td>\n",
              "      <td>آب‌انبار</td>\n",
              "      <td>Entity</td>\n",
              "      <td>Destination</td>\n",
              "      <td>Entity-Destination(e1,e2)</td>\n",
              "      <td>7</td>\n",
              "      <td>«مظنون [E1] بدن [E1] مرده را به یک [E2] آب‌انب...</td>\n",
              "    </tr>\n",
              "    <tr>\n",
              "      <th>4</th>\n",
              "      <td>آنفولانزای</td>\n",
              "      <td>ویروس</td>\n",
              "      <td>Effect</td>\n",
              "      <td>Cause</td>\n",
              "      <td>Cause-Effect(e2,e1)</td>\n",
              "      <td>10</td>\n",
              "      <td>«[E1] آنفولانزای [E1] مرغی یک بیماری عفونی پرن...</td>\n",
              "    </tr>\n",
              "    <tr>\n",
              "      <th>...</th>\n",
              "      <td>...</td>\n",
              "      <td>...</td>\n",
              "      <td>...</td>\n",
              "      <td>...</td>\n",
              "      <td>...</td>\n",
              "      <td>...</td>\n",
              "      <td>...</td>\n",
              "    </tr>\n",
              "    <tr>\n",
              "      <th>2745</th>\n",
              "      <td>بقایای</td>\n",
              "      <td>طوفان</td>\n",
              "      <td>Entity</td>\n",
              "      <td>Origin</td>\n",
              "      <td>Entity-Origin(e1,e2)</td>\n",
              "      <td>13</td>\n",
              "      <td>«هوا دیروز بادی و سرد بود و هنوز [E1] بقایای [...</td>\n",
              "    </tr>\n",
              "    <tr>\n",
              "      <th>2746</th>\n",
              "      <td>پادشاه</td>\n",
              "      <td>جارو می کشد</td>\n",
              "      <td>Agency</td>\n",
              "      <td>Instrument</td>\n",
              "      <td>Instrument-Agency(e2,e1)</td>\n",
              "      <td>6</td>\n",
              "      <td>«پس از جاگذاری تمام بتها که خود ساعت‌ها طول می...</td>\n",
              "    </tr>\n",
              "    <tr>\n",
              "      <th>2747</th>\n",
              "      <td>مصالح</td>\n",
              "      <td>صنایع</td>\n",
              "      <td>Product</td>\n",
              "      <td>Producer</td>\n",
              "      <td>Product-Producer(e1,e2)</td>\n",
              "      <td>3</td>\n",
              "      <td>«وزیر تولید کند [E1] مصالح [E1] توسط [E2] صنای...</td>\n",
              "    </tr>\n",
              "    <tr>\n",
              "      <th>2748</th>\n",
              "      <td>چتر</td>\n",
              "      <td>قاب</td>\n",
              "      <td>Whole</td>\n",
              "      <td>Component</td>\n",
              "      <td>Component-Whole(e2,e1)</td>\n",
              "      <td>12</td>\n",
              "      <td>«[E2] قاب [E1] [E2] چتر [E1] دارای یک گیره متح...</td>\n",
              "    </tr>\n",
              "    <tr>\n",
              "      <th>2749</th>\n",
              "      <td>فیلم</td>\n",
              "      <td>فروشنده</td>\n",
              "      <td>Product</td>\n",
              "      <td>Producer</td>\n",
              "      <td>Product-Producer(e1,e2)</td>\n",
              "      <td>3</td>\n",
              "      <td>«(کف دست: دست‌های چاق) یک [E1] فیلم [E1] ترسنا...</td>\n",
              "    </tr>\n",
              "  </tbody>\n",
              "</table>\n",
              "<p>2750 rows × 7 columns</p>\n",
              "</div>"
            ],
            "text/plain": [
              "              e1  ...                                           sentence\n",
              "0     حسابرسی‌ها  ...  «معمول‌ترین [E1] حسابرسی‌ها [E1] مربوط به [E2]...\n",
              "1           شرکت  ...  «این [E1] شرکت [E2] [E1] صندلی‌های [E2] پلاستی...\n",
              "2          استاد  ...  «[E1] استاد [E1] مدرسه با یک [E2] چوب [E2] درس...\n",
              "3            بدن  ...  «مظنون [E1] بدن [E1] مرده را به یک [E2] آب‌انب...\n",
              "4     آنفولانزای  ...  «[E1] آنفولانزای [E1] مرغی یک بیماری عفونی پرن...\n",
              "...          ...  ...                                                ...\n",
              "2745      بقایای  ...  «هوا دیروز بادی و سرد بود و هنوز [E1] بقایای [...\n",
              "2746      پادشاه  ...  «پس از جاگذاری تمام بتها که خود ساعت‌ها طول می...\n",
              "2747       مصالح  ...  «وزیر تولید کند [E1] مصالح [E1] توسط [E2] صنای...\n",
              "2748         چتر  ...  «[E2] قاب [E1] [E2] چتر [E1] دارای یک گیره متح...\n",
              "2749        فیلم  ...  «(کف دست: دست‌های چاق) یک [E1] فیلم [E1] ترسنا...\n",
              "\n",
              "[2750 rows x 7 columns]"
            ]
          },
          "metadata": {
            "tags": []
          },
          "execution_count": 27
        }
      ]
    },
    {
      "cell_type": "code",
      "metadata": {
        "id": "TF4UXH2R7Trq"
      },
      "source": [
        "X_train = df.sentence.tolist()\n",
        "X_val =  df_test.sentence.tolist()\n",
        "y_train = df.nlabel.tolist()\n",
        "y_val =  df_test.nlabel.tolist()"
      ],
      "execution_count": 28,
      "outputs": []
    },
    {
      "cell_type": "code",
      "metadata": {
        "colab": {
          "base_uri": "https://localhost:8080/",
          "height": 416,
          "referenced_widgets": [
            "4ea559eb5e264f6d89517c087cbe8c6e",
            "9808c9dfc0bc4e9f91fd1ba8793ba383",
            "560e488b2fcc427d83863a484d39730c",
            "57158b5086184a29b1a98ea027e455d4",
            "09513837a7654af8ab5fbd490cc423f3",
            "d16bfd9a7d794e9daa74fa54a7270621",
            "d472fea70b9a4aa3af916453eaea4625",
            "11a19e9b4835408abe12160135e7328a",
            "8a71ac94397d4b1982783183166bf533",
            "d7d0a3ec24ca4c4ba5428112fc3d442d",
            "0455ee2128d7465ca4dfece1185a9d57",
            "8e51a63376664d1b9adffb9e82ae4d9c",
            "3c9e0aaee8274b738e81a64679ee21c0",
            "24803d098a074049b261b118550b877a",
            "bacd04bd12ca4a1487a19b1dd5776e09",
            "aaea65c318ec4b07938b147ed0a4471c",
            "e0842a87281b4c979824f9352b6610e8",
            "216796288b854674919038e6892962b9",
            "d49f5baefa3e4beea833edbbad547e43",
            "ed909a27c4044b81bc8ffb0fd8346b5a",
            "d3b53c5401fc4c5fa78565257f4a584b",
            "0a727a9769f14c5c84ac39123218d0cb",
            "d5534e0dcfff497a92e06efea4918b9e",
            "11c375ee6d864f73bf3e90a87f7b7bf3",
            "7c2325c6eb384ff3b128fe3f1b2f90a0",
            "93e3de7ef6854798aa7493f5d98f47c8",
            "31d9ba69155e4f12983efc9f0ef4a58f",
            "6aaed1a5e7fc43df80be31583e9a6ed6",
            "8d3777cbbfd8437db9599d624698b0f8",
            "fb714ab2772d4d14915c1e37261371dd",
            "82497e3539b345a7b4fe01f946283eb6",
            "7684a6c5e1844ffea4451eee68789d13",
            "3b77e44ada1b4a78a2bdf19a29c2bc2f",
            "1fe0044f0345467c990d0937e5cca970",
            "75e6bae4871a4cb58215f69376957a2c",
            "05267beedb8349668a17f36eca1388a7",
            "6b33a41111d146f9a3d0d3e1f2283e42",
            "d20d9712904d4d79b182b2afd42984d1",
            "f14318b2781948e2a92aaad79c4d0a10",
            "3513f9694ce74067a79827060adcd5fa",
            "a75a0293b1d847cb8e12901edf75c1cb",
            "2981877f444340c9a9d7ea1df17a480f",
            "8f8844dc7af946e59756cbeb737c22d2",
            "457e345de942486aae0327f849f24165",
            "1355da51a9de401dac3f024ad8971bf1",
            "e37eaf5ca06a40a8ad2abb864d93b0c7",
            "d3ed8b3d523a470a94062c8ccd1c27e3",
            "91d74b836b85482e8f54ab320ddebda4"
          ]
        },
        "id": "ORjShp1C6xew",
        "outputId": "e7e54402-f43c-48e2-9b39-191cbd8dde95"
      },
      "source": [
        "# model_name = 'bert-base-multilingual-cased'\n",
        "# model_name = 'xlm-roberta-base'\n",
        "model_name = 'HooshvareLab/bert-fa-zwnj-base'\n",
        "\n",
        "tokenizer = AutoTokenizer.from_pretrained(model_name)\n",
        "model  = AutoModelForSequenceClassification.from_pretrained(model_name, num_labels=len(label2index))"
      ],
      "execution_count": 30,
      "outputs": [
        {
          "output_type": "display_data",
          "data": {
            "application/vnd.jupyter.widget-view+json": {
              "model_id": "4ea559eb5e264f6d89517c087cbe8c6e",
              "version_minor": 0,
              "version_major": 2
            },
            "text/plain": [
              "HBox(children=(FloatProgress(value=0.0, description='Downloading', max=292.0, style=ProgressStyle(description_…"
            ]
          },
          "metadata": {
            "tags": []
          }
        },
        {
          "output_type": "stream",
          "text": [
            "\n"
          ],
          "name": "stdout"
        },
        {
          "output_type": "display_data",
          "data": {
            "application/vnd.jupyter.widget-view+json": {
              "model_id": "8a71ac94397d4b1982783183166bf533",
              "version_minor": 0,
              "version_major": 2
            },
            "text/plain": [
              "HBox(children=(FloatProgress(value=0.0, description='Downloading', max=565.0, style=ProgressStyle(description_…"
            ]
          },
          "metadata": {
            "tags": []
          }
        },
        {
          "output_type": "stream",
          "text": [
            "\n"
          ],
          "name": "stdout"
        },
        {
          "output_type": "display_data",
          "data": {
            "application/vnd.jupyter.widget-view+json": {
              "model_id": "e0842a87281b4c979824f9352b6610e8",
              "version_minor": 0,
              "version_major": 2
            },
            "text/plain": [
              "HBox(children=(FloatProgress(value=0.0, description='Downloading', max=426422.0, style=ProgressStyle(descripti…"
            ]
          },
          "metadata": {
            "tags": []
          }
        },
        {
          "output_type": "stream",
          "text": [
            "\n"
          ],
          "name": "stdout"
        },
        {
          "output_type": "display_data",
          "data": {
            "application/vnd.jupyter.widget-view+json": {
              "model_id": "7c2325c6eb384ff3b128fe3f1b2f90a0",
              "version_minor": 0,
              "version_major": 2
            },
            "text/plain": [
              "HBox(children=(FloatProgress(value=0.0, description='Downloading', max=1108824.0, style=ProgressStyle(descript…"
            ]
          },
          "metadata": {
            "tags": []
          }
        },
        {
          "output_type": "stream",
          "text": [
            "\n"
          ],
          "name": "stdout"
        },
        {
          "output_type": "display_data",
          "data": {
            "application/vnd.jupyter.widget-view+json": {
              "model_id": "3b77e44ada1b4a78a2bdf19a29c2bc2f",
              "version_minor": 0,
              "version_major": 2
            },
            "text/plain": [
              "HBox(children=(FloatProgress(value=0.0, description='Downloading', max=134.0, style=ProgressStyle(description_…"
            ]
          },
          "metadata": {
            "tags": []
          }
        },
        {
          "output_type": "stream",
          "text": [
            "\n"
          ],
          "name": "stdout"
        },
        {
          "output_type": "display_data",
          "data": {
            "application/vnd.jupyter.widget-view+json": {
              "model_id": "a75a0293b1d847cb8e12901edf75c1cb",
              "version_minor": 0,
              "version_major": 2
            },
            "text/plain": [
              "HBox(children=(FloatProgress(value=0.0, description='Downloading', max=473451616.0, style=ProgressStyle(descri…"
            ]
          },
          "metadata": {
            "tags": []
          }
        },
        {
          "output_type": "stream",
          "text": [
            "\n"
          ],
          "name": "stdout"
        },
        {
          "output_type": "stream",
          "text": [
            "Some weights of the model checkpoint at HooshvareLab/bert-fa-zwnj-base were not used when initializing BertForSequenceClassification: ['cls.predictions.bias', 'cls.predictions.decoder.bias', 'cls.predictions.transform.LayerNorm.bias', 'cls.predictions.transform.LayerNorm.weight', 'cls.predictions.transform.dense.weight', 'cls.predictions.decoder.weight', 'cls.predictions.transform.dense.bias']\n",
            "- This IS expected if you are initializing BertForSequenceClassification from the checkpoint of a model trained on another task or with another architecture (e.g. initializing a BertForSequenceClassification model from a BertForPreTraining model).\n",
            "- This IS NOT expected if you are initializing BertForSequenceClassification from the checkpoint of a model that you expect to be exactly identical (initializing a BertForSequenceClassification model from a BertForSequenceClassification model).\n",
            "Some weights of BertForSequenceClassification were not initialized from the model checkpoint at HooshvareLab/bert-fa-zwnj-base and are newly initialized: ['classifier.bias', 'classifier.weight', 'bert.pooler.dense.bias', 'bert.pooler.dense.weight']\n",
            "You should probably TRAIN this model on a down-stream task to be able to use it for predictions and inference.\n"
          ],
          "name": "stderr"
        }
      ]
    },
    {
      "cell_type": "code",
      "metadata": {
        "colab": {
          "base_uri": "https://localhost:8080/"
        },
        "id": "b_KqqKQ0901b",
        "outputId": "d8b6aaae-0489-48a8-8708-220724a6b983"
      },
      "source": [
        "special_tokens_dict = {'additional_special_tokens': ['[E1]','[E2]']}\n",
        "num_added_toks = tokenizer.add_special_tokens(special_tokens_dict)\n",
        "model.resize_token_embeddings(len(tokenizer))"
      ],
      "execution_count": 31,
      "outputs": [
        {
          "output_type": "execute_result",
          "data": {
            "text/plain": [
              "Embedding(42002, 768)"
            ]
          },
          "metadata": {
            "tags": []
          },
          "execution_count": 31
        }
      ]
    },
    {
      "cell_type": "code",
      "metadata": {
        "colab": {
          "base_uri": "https://localhost:8080/"
        },
        "id": "vD_A3HSzEusk",
        "outputId": "5b56096e-be11-4434-9fc8-0220fb9f08f1"
      },
      "source": [
        "df['len_sentence'] = df['sentence'].apply(lambda t: len(tokenizer.tokenize(t)))\n",
        "print(df['len_sentence'].max())\n",
        "print(df['len_sentence'].min())"
      ],
      "execution_count": 44,
      "outputs": [
        {
          "output_type": "stream",
          "text": [
            "119\n",
            "10\n"
          ],
          "name": "stdout"
        }
      ]
    },
    {
      "cell_type": "code",
      "metadata": {
        "colab": {
          "base_uri": "https://localhost:8080/"
        },
        "id": "J_PkuzeRLYqC",
        "outputId": "580fb09c-716a-496d-b867-45747eb6981b"
      },
      "source": [
        "df_test['len_sentence'] = df_test['sentence'].apply(lambda t: len(tokenizer.tokenize(t)))\n",
        "print(df_test['len_sentence'].max())\n",
        "print(df_test['len_sentence'].min())"
      ],
      "execution_count": 45,
      "outputs": [
        {
          "output_type": "stream",
          "text": [
            "85\n",
            "10\n"
          ],
          "name": "stdout"
        }
      ]
    },
    {
      "cell_type": "code",
      "metadata": {
        "id": "sWLdoHfzEQNc"
      },
      "source": [
        "# Finding the share of comments with a specific length\n",
        "def data_gl_than(data, less_than=100.0, greater_than=0.0, col='len_sentence'):\n",
        "    data_length = data[col].values\n",
        "\n",
        "    data_glt = sum([1 for length in data_length if greater_than < length <= less_than])\n",
        "\n",
        "    data_glt_rate = (data_glt / len(data_length)) * 100\n",
        "\n",
        "    print(f'Texts with word length of greater than {greater_than} and less than {less_than} includes {data_glt_rate:.2f}% of the whole!')"
      ],
      "execution_count": 46,
      "outputs": []
    },
    {
      "cell_type": "code",
      "metadata": {
        "colab": {
          "base_uri": "https://localhost:8080/"
        },
        "id": "11K-bP86EQJE",
        "outputId": "8fcb28d5-f47e-4396-cc88-becce44e5aec"
      },
      "source": [
        "data_gl_than(df, 75, 10), data_gl_than(df_test, 75, 10)"
      ],
      "execution_count": 47,
      "outputs": [
        {
          "output_type": "stream",
          "text": [
            "Texts with word length of greater than 10 and less than 75 includes 99.63% of the whole!\n",
            "Texts with word length of greater than 10 and less than 75 includes 99.71% of the whole!\n"
          ],
          "name": "stdout"
        },
        {
          "output_type": "execute_result",
          "data": {
            "text/plain": [
              "(None, None)"
            ]
          },
          "metadata": {
            "tags": []
          },
          "execution_count": 47
        }
      ]
    },
    {
      "cell_type": "code",
      "metadata": {
        "id": "ASzJiOgnD6Ap"
      },
      "source": [
        "df = df.drop(columns='len_sentence')\n",
        "df_test = df_test.drop(columns='len_sentence')"
      ],
      "execution_count": 48,
      "outputs": []
    },
    {
      "cell_type": "code",
      "metadata": {
        "id": "lOixyfHq7LaI"
      },
      "source": [
        "model.to(device)"
      ],
      "execution_count": null,
      "outputs": []
    },
    {
      "cell_type": "code",
      "metadata": {
        "id": "k6b3gnv0LCsy"
      },
      "source": [
        "model"
      ],
      "execution_count": null,
      "outputs": []
    },
    {
      "cell_type": "code",
      "metadata": {
        "colab": {
          "base_uri": "https://localhost:8080/"
        },
        "id": "bAOWKY1L7Oon",
        "outputId": "f75831ad-5003-4fd5-cbd1-b2f7cddddd5f"
      },
      "source": [
        "encoded_data_train = tokenizer.batch_encode_plus(\n",
        "    X_train, \n",
        "    add_special_tokens=True, \n",
        "    return_attention_mask=True, \n",
        "    pad_to_max_length=True, \n",
        "    max_length=75, \n",
        "    return_tensors='pt'\n",
        ")"
      ],
      "execution_count": 37,
      "outputs": [
        {
          "output_type": "stream",
          "text": [
            "Truncation was not explicitly activated but `max_length` is provided a specific value, please use `truncation=True` to explicitly truncate examples to max length. Defaulting to 'longest_first' truncation strategy. If you encode pairs of sequences (GLUE-style) with the tokenizer you can select this strategy more precisely by providing a specific strategy to `truncation`.\n",
            "/usr/local/lib/python3.7/dist-packages/transformers/tokenization_utils_base.py:2190: FutureWarning: The `pad_to_max_length` argument is deprecated and will be removed in a future version, use `padding=True` or `padding='longest'` to pad to the longest sequence in the batch, or use `padding='max_length'` to pad to a max length. In this case, you can give a specific length with `max_length` (e.g. `max_length=45`) or leave max_length to None to pad to the maximal input size of the model (e.g. 512 for Bert).\n",
            "  FutureWarning,\n"
          ],
          "name": "stderr"
        }
      ]
    },
    {
      "cell_type": "code",
      "metadata": {
        "colab": {
          "base_uri": "https://localhost:8080/"
        },
        "id": "eBmKqUxu7Po-",
        "outputId": "59456d6d-d9f7-4535-bbda-ccb3434d9965"
      },
      "source": [
        "encoded_data_val = tokenizer.batch_encode_plus(\n",
        "    X_val, \n",
        "    add_special_tokens=True, \n",
        "    return_attention_mask=True, \n",
        "    pad_to_max_length=True, \n",
        "    max_length=75, \n",
        "    return_tensors='pt'\n",
        ")\n"
      ],
      "execution_count": 38,
      "outputs": [
        {
          "output_type": "stream",
          "text": [
            "/usr/local/lib/python3.7/dist-packages/transformers/tokenization_utils_base.py:2190: FutureWarning: The `pad_to_max_length` argument is deprecated and will be removed in a future version, use `padding=True` or `padding='longest'` to pad to the longest sequence in the batch, or use `padding='max_length'` to pad to a max length. In this case, you can give a specific length with `max_length` (e.g. `max_length=45`) or leave max_length to None to pad to the maximal input size of the model (e.g. 512 for Bert).\n",
            "  FutureWarning,\n"
          ],
          "name": "stderr"
        }
      ]
    },
    {
      "cell_type": "code",
      "metadata": {
        "id": "fnHEd1Jk7XNK"
      },
      "source": [
        "input_ids_train = encoded_data_train['input_ids']\n",
        "attention_masks_train = encoded_data_train['attention_mask']\n",
        "labels_train = torch.tensor(y_train)\n",
        "\n",
        "input_ids_val = encoded_data_val['input_ids']\n",
        "attention_masks_val = encoded_data_val['attention_mask']\n",
        "labels_val = torch.tensor(y_val)\n",
        "\n",
        "dataset_train = TensorDataset(input_ids_train, attention_masks_train, labels_train)\n",
        "dataset_val = TensorDataset(input_ids_val, attention_masks_val, labels_val)"
      ],
      "execution_count": 39,
      "outputs": []
    },
    {
      "cell_type": "code",
      "metadata": {
        "id": "5Vb1M3uC7ZLj"
      },
      "source": [
        "from torch.utils.data import DataLoader, RandomSampler, SequentialSampler\n",
        "batch_size = 16\n",
        "dataloader_train = DataLoader(dataset_train, \n",
        "                              sampler=RandomSampler(dataset_train), \n",
        "                              batch_size=batch_size)\n",
        "dataloader_validation = DataLoader(dataset_val, \n",
        "                                   sampler=SequentialSampler(dataset_val), \n",
        "                                   batch_size=batch_size)"
      ],
      "execution_count": 41,
      "outputs": []
    },
    {
      "cell_type": "code",
      "metadata": {
        "id": "7fU0UNgL7a9y"
      },
      "source": [
        "from transformers import AdamW, get_linear_schedule_with_warmup\n",
        "optimizer = AdamW(model.parameters(),\n",
        "                  lr=3e-5, \n",
        "                  eps=1e-8)\n",
        "epochs = 3\n",
        "scheduler = get_linear_schedule_with_warmup(optimizer, \n",
        "                                            num_warmup_steps=0,\n",
        "                                            num_training_steps=len(dataloader_train)*epochs)"
      ],
      "execution_count": 49,
      "outputs": []
    },
    {
      "cell_type": "code",
      "metadata": {
        "id": "DqBk-8wI7clZ"
      },
      "source": [
        "from sklearn.metrics import f1_score\n",
        "def f1_score_func(preds, labels):\n",
        "    preds_flat = np.argmax(preds, axis=1).flatten()\n",
        "    labels_flat = labels.flatten()\n",
        "    return f1_score(labels_flat, preds_flat, average='weighted')\n",
        "\n",
        "def accuracy_per_class(preds, labels):    \n",
        "    preds_flat = np.argmax(preds, axis=1).flatten()\n",
        "    labels_flat = labels.flatten()\n",
        "    tt = 0\n",
        "    for label in np.unique(labels_flat):\n",
        "        y_preds = preds_flat[labels_flat==label]\n",
        "        y_true = labels_flat[labels_flat==label]\n",
        "        print(f'Class: {indx2label[label]}')\n",
        "        print(\"Acc with percent:\", len(y_preds[y_preds==label])/len(y_true))\n",
        "        print(f'Accuracy: {len(y_preds[y_preds==label])}/{len(y_true)}\\n')\n",
        "        tt += len(y_preds[y_preds==label])/len(y_true)\n",
        "    return tt/ len(label2index)\n"
      ],
      "execution_count": 53,
      "outputs": []
    },
    {
      "cell_type": "code",
      "metadata": {
        "id": "6vT0b5sc7ihP"
      },
      "source": [
        "def evaluate(dataloader_val):\n",
        "\n",
        "    model.eval()\n",
        "    \n",
        "    loss_val_total = 0\n",
        "    predictions, true_vals = [], []\n",
        "    \n",
        "    for batch in dataloader_val:\n",
        "        \n",
        "        batch = tuple(b.to(device) for b in batch)\n",
        "        \n",
        "        inputs = {'input_ids':      batch[0],\n",
        "                  'attention_mask': batch[1],\n",
        "                  'labels':         batch[2],\n",
        "                 }\n",
        "\n",
        "        with torch.no_grad():        \n",
        "            outputs = model(**inputs)\n",
        "            \n",
        "        loss = outputs[0]\n",
        "        logits = outputs[1]\n",
        "        loss_val_total += loss.item()\n",
        "\n",
        "        logits = logits.detach().cpu().numpy()\n",
        "        label_ids = inputs['labels'].cpu().numpy()\n",
        "        predictions.append(logits)\n",
        "        true_vals.append(label_ids)\n",
        "    \n",
        "    loss_val_avg = loss_val_total/len(dataloader_val) \n",
        "    \n",
        "    predictions = np.concatenate(predictions, axis=0)\n",
        "    true_vals = np.concatenate(true_vals, axis=0)\n",
        "            \n",
        "    return loss_val_avg, predictions, true_vals\n",
        "    "
      ],
      "execution_count": 51,
      "outputs": []
    },
    {
      "cell_type": "code",
      "metadata": {
        "colab": {
          "base_uri": "https://localhost:8080/",
          "height": 1000,
          "referenced_widgets": [
            "ca378904017c41c4884916047ec6b111",
            "8570def7e0a94173a8f62a1d7a771252",
            "9499021736134d31ab96fb74a2ed4ecc",
            "fa96c7567131469eac64c74daf06be6c",
            "d57387bb84d74be5af1c28b3520ba26b",
            "2099bbf87a3241ac8455149246e5332a",
            "0208f43e628a4423aa5f775ba6b42ae9",
            "81ea3dde61b5496db612fbf0465f16cc",
            "527e299aa813435f9f26ca13ed1fab9a",
            "d774906366d04817b5a794c5aec9fbcd",
            "877baf9e7337490094ba8d3d229596fe",
            "f47421eff03b4626b58b4c714b1261e3",
            "8a641b420a6b42a283db57ab9f73cafa",
            "d244bc15a01842ecbf7895e68fa32f19",
            "ff79d7eae15840e4a7a420d91233a089",
            "7df48e7440c14c5eabeba1ca7e2ba510",
            "5f46312d3c0544789de8ad3960068f2f",
            "428331f6ca724aa8b244778f3d909df2",
            "c5ce337e18c64c48b5b4385df8b2e20c",
            "23c94463f52a447f9b0a607841ef19bb",
            "1044ea634019424a9b2df364e1c710b3",
            "d752491eacd34067b5a64a675a08a65f",
            "66c2672c126e48ff82c0bd2cb632ba22",
            "5daa398238cd41aa86cfe0de47633743",
            "4e2acaca7e094b52ac010e49d987a7cb",
            "33a64fd00d1e4de8b1877e78d60c5ad3",
            "8dcb7f47914a4c8c83bfb55b9e918b94",
            "c9bfd94584494783bab3f8a7a6615283",
            "89596212655c444d901f0ed1f950b121",
            "529e1f6b176943cb87d16d8dcf59f974",
            "5f68707bd063452c96f453144e43b8f4",
            "e22c080f155d4a7d83d22e8545f36d91"
          ]
        },
        "id": "5o86PjmW7fLT",
        "outputId": "412d3ee5-a498-476b-b3f1-9956d103e478"
      },
      "source": [
        "import random\n",
        "import numpy as np\n",
        "\n",
        "seed_val = 17\n",
        "random.seed(seed_val)\n",
        "np.random.seed(seed_val)\n",
        "torch.manual_seed(seed_val)\n",
        "torch.cuda.manual_seed_all(seed_val)\n",
        "training_stats = []\n",
        "\n",
        "\n",
        "for epoch in tqdm(range(1, epochs+1)):\n",
        "    \n",
        "    model.train()\n",
        "    \n",
        "    loss_train_total = 0\n",
        "\n",
        "    progress_bar = tqdm(dataloader_train, desc='Epoch {:1d}'.format(epoch), leave=False, disable=False)\n",
        "    for batch in progress_bar:\n",
        "\n",
        "        model.zero_grad()\n",
        "        \n",
        "        batch = tuple(b.to(device) for b in batch)\n",
        "        \n",
        "        inputs = {'input_ids':      batch[0],\n",
        "                  'attention_mask': batch[1],\n",
        "                  'labels':         batch[2],\n",
        "                 }  \n",
        "        \n",
        "        outputs = model(**inputs, output_hidden_states=True)\n",
        "        \n",
        "        loss = outputs[0]\n",
        "        loss_train_total += loss.item()\n",
        "        loss.backward()\n",
        "\n",
        "        torch.nn.utils.clip_grad_norm_(model.parameters(), 1.0)\n",
        "\n",
        "        optimizer.step()\n",
        "        scheduler.step()\n",
        "        \n",
        "        progress_bar.set_postfix({'training_loss': '{:.3f}'.format(loss.item()/len(batch))})\n",
        "         \n",
        "        \n",
        "    # torch.save(model.state_dict(), f'data_volume/finetuned_BERT_epoch_{epoch}.model')\n",
        "        \n",
        "    tqdm.write(f'\\nEpoch {epoch}')\n",
        "    \n",
        "\n",
        "    loss_train_avg = loss_train_total/len(dataloader_train)            \n",
        "    tqdm.write(f'Training loss: {loss_train_avg}')\n",
        "    \n",
        "\n",
        "    val_loss, predictions, true_vals = evaluate(dataloader_validation)\n",
        "    val_f1 = f1_score_func(predictions, true_vals)\n",
        "    tt_accuracy = accuracy_per_class(predictions, true_vals)\n",
        "    \n",
        "    tqdm.write(f'accuracy: {tt_accuracy}')\n",
        "    tqdm.write(f'Validation loss: {val_loss}')\n",
        "    tqdm.write(f'F1 Score (Weighted): {val_f1}')\n",
        "\n",
        "    training_stats.append(\n",
        "        {\n",
        "            'epoch': epoch,\n",
        "            'Training Loss': loss_train_avg,\n",
        "            'Valid. Loss': val_loss,\n",
        "            'Valid. Accur.': tt_accuracy\n",
        "        }\n",
        "    )\n"
      ],
      "execution_count": 52,
      "outputs": [
        {
          "output_type": "display_data",
          "data": {
            "application/vnd.jupyter.widget-view+json": {
              "model_id": "ca378904017c41c4884916047ec6b111",
              "version_minor": 0,
              "version_major": 2
            },
            "text/plain": [
              "HBox(children=(FloatProgress(value=0.0, max=3.0), HTML(value='')))"
            ]
          },
          "metadata": {
            "tags": []
          }
        },
        {
          "output_type": "display_data",
          "data": {
            "application/vnd.jupyter.widget-view+json": {
              "model_id": "527e299aa813435f9f26ca13ed1fab9a",
              "version_minor": 0,
              "version_major": 2
            },
            "text/plain": [
              "HBox(children=(FloatProgress(value=0.0, description='Epoch 1', max=507.0, style=ProgressStyle(description_widt…"
            ]
          },
          "metadata": {
            "tags": []
          }
        },
        {
          "output_type": "stream",
          "text": [
            "\r\n",
            "Epoch 1\n",
            "Training loss: 1.5712746308870333\n",
            "Class: Other\n",
            "Acc with percent: 0.3123644251626898\n",
            "Accuracy: 144/461\n",
            "\n",
            "Class: Message-Topic(e1,e2)\n",
            "Acc with percent: 0.9036697247706422\n",
            "Accuracy: 197/218\n",
            "\n",
            "Class: Message-Topic(e2,e1)\n",
            "Acc with percent: 0.8627450980392157\n",
            "Accuracy: 44/51\n",
            "\n",
            "Class: Product-Producer(e1,e2)\n",
            "Acc with percent: 0.8181818181818182\n",
            "Accuracy: 90/110\n",
            "\n",
            "Class: Product-Producer(e2,e1)\n",
            "Acc with percent: 0.88\n",
            "Accuracy: 110/125\n",
            "\n",
            "Class: Instrument-Agency(e1,e2)\n",
            "Acc with percent: 0.0\n",
            "Accuracy: 0/22\n",
            "\n",
            "Class: Instrument-Agency(e2,e1)\n",
            "Acc with percent: 0.5333333333333333\n",
            "Accuracy: 72/135\n",
            "\n",
            "Class: Entity-Destination(e1,e2)\n",
            "Acc with percent: 0.8698630136986302\n",
            "Accuracy: 254/292\n",
            "\n",
            "Class: Cause-Effect(e1,e2)\n",
            "Acc with percent: 0.8731343283582089\n",
            "Accuracy: 117/134\n",
            "\n",
            "Class: Cause-Effect(e2,e1)\n",
            "Acc with percent: 0.9025641025641026\n",
            "Accuracy: 176/195\n",
            "\n",
            "Class: Component-Whole(e1,e2)\n",
            "Acc with percent: 0.7048192771084337\n",
            "Accuracy: 117/166\n",
            "\n",
            "Class: Component-Whole(e2,e1)\n",
            "Acc with percent: 0.564935064935065\n",
            "Accuracy: 87/154\n",
            "\n",
            "Class: Entity-Origin(e1,e2)\n",
            "Acc with percent: 0.7311320754716981\n",
            "Accuracy: 155/212\n",
            "\n",
            "Class: Entity-Origin(e2,e1)\n",
            "Acc with percent: 0.8297872340425532\n",
            "Accuracy: 39/47\n",
            "\n",
            "Class: Member-Collection(e1,e2)\n",
            "Acc with percent: 0.125\n",
            "Accuracy: 4/32\n",
            "\n",
            "Class: Member-Collection(e2,e1)\n",
            "Acc with percent: 0.7931034482758621\n",
            "Accuracy: 161/203\n",
            "\n",
            "Class: Content-Container(e1,e2)\n",
            "Acc with percent: 0.8246753246753247\n",
            "Accuracy: 127/154\n",
            "\n",
            "Class: Content-Container(e2,e1)\n",
            "Acc with percent: 0.7435897435897436\n",
            "Accuracy: 29/39\n",
            "\n",
            "accuracy: 12.272898012207321\n",
            "Validation loss: 0.9947216105322505\n",
            "F1 Score (Weighted): 0.6812423407568999\n"
          ],
          "name": "stdout"
        },
        {
          "output_type": "display_data",
          "data": {
            "application/vnd.jupyter.widget-view+json": {
              "model_id": "5f46312d3c0544789de8ad3960068f2f",
              "version_minor": 0,
              "version_major": 2
            },
            "text/plain": [
              "HBox(children=(FloatProgress(value=0.0, description='Epoch 2', max=507.0, style=ProgressStyle(description_widt…"
            ]
          },
          "metadata": {
            "tags": []
          }
        },
        {
          "output_type": "stream",
          "text": [
            "\r\n",
            "Epoch 2\n",
            "Training loss: 0.7327737126506763\n",
            "Class: Other\n",
            "Acc with percent: 0.5184381778741866\n",
            "Accuracy: 239/461\n",
            "\n",
            "Class: Message-Topic(e1,e2)\n",
            "Acc with percent: 0.8394495412844036\n",
            "Accuracy: 183/218\n",
            "\n",
            "Class: Message-Topic(e2,e1)\n",
            "Acc with percent: 0.7843137254901961\n",
            "Accuracy: 40/51\n",
            "\n",
            "Class: Product-Producer(e1,e2)\n",
            "Acc with percent: 0.7818181818181819\n",
            "Accuracy: 86/110\n",
            "\n",
            "Class: Product-Producer(e2,e1)\n",
            "Acc with percent: 0.776\n",
            "Accuracy: 97/125\n",
            "\n",
            "Class: Instrument-Agency(e1,e2)\n",
            "Acc with percent: 0.4090909090909091\n",
            "Accuracy: 9/22\n",
            "\n",
            "Class: Instrument-Agency(e2,e1)\n",
            "Acc with percent: 0.6518518518518519\n",
            "Accuracy: 88/135\n",
            "\n",
            "Class: Entity-Destination(e1,e2)\n",
            "Acc with percent: 0.8664383561643836\n",
            "Accuracy: 253/292\n",
            "\n",
            "Class: Cause-Effect(e1,e2)\n",
            "Acc with percent: 0.9104477611940298\n",
            "Accuracy: 122/134\n",
            "\n",
            "Class: Cause-Effect(e2,e1)\n",
            "Acc with percent: 0.8102564102564103\n",
            "Accuracy: 158/195\n",
            "\n",
            "Class: Component-Whole(e1,e2)\n",
            "Acc with percent: 0.7650602409638554\n",
            "Accuracy: 127/166\n",
            "\n",
            "Class: Component-Whole(e2,e1)\n",
            "Acc with percent: 0.7532467532467533\n",
            "Accuracy: 116/154\n",
            "\n",
            "Class: Entity-Origin(e1,e2)\n",
            "Acc with percent: 0.7452830188679245\n",
            "Accuracy: 158/212\n",
            "\n",
            "Class: Entity-Origin(e2,e1)\n",
            "Acc with percent: 0.8297872340425532\n",
            "Accuracy: 39/47\n",
            "\n",
            "Class: Member-Collection(e1,e2)\n",
            "Acc with percent: 0.4375\n",
            "Accuracy: 14/32\n",
            "\n",
            "Class: Member-Collection(e2,e1)\n",
            "Acc with percent: 0.7536945812807881\n",
            "Accuracy: 153/203\n",
            "\n",
            "Class: Content-Container(e1,e2)\n",
            "Acc with percent: 0.8051948051948052\n",
            "Accuracy: 124/154\n",
            "\n",
            "Class: Content-Container(e2,e1)\n",
            "Acc with percent: 0.7692307692307693\n",
            "Accuracy: 30/39\n",
            "\n",
            "accuracy: 13.207102317852003\n",
            "Validation loss: 0.8436633931516215\n",
            "F1 Score (Weighted): 0.7415712163402449\n"
          ],
          "name": "stdout"
        },
        {
          "output_type": "display_data",
          "data": {
            "application/vnd.jupyter.widget-view+json": {
              "model_id": "4e2acaca7e094b52ac010e49d987a7cb",
              "version_minor": 0,
              "version_major": 2
            },
            "text/plain": [
              "HBox(children=(FloatProgress(value=0.0, description='Epoch 3', max=507.0, style=ProgressStyle(description_widt…"
            ]
          },
          "metadata": {
            "tags": []
          }
        },
        {
          "output_type": "stream",
          "text": [
            "\r\n",
            "Epoch 3\n",
            "Training loss: 0.40734691546102014\n",
            "Class: Other\n",
            "Acc with percent: 0.46203904555314534\n",
            "Accuracy: 213/461\n",
            "\n",
            "Class: Message-Topic(e1,e2)\n",
            "Acc with percent: 0.8853211009174312\n",
            "Accuracy: 193/218\n",
            "\n",
            "Class: Message-Topic(e2,e1)\n",
            "Acc with percent: 0.8627450980392157\n",
            "Accuracy: 44/51\n",
            "\n",
            "Class: Product-Producer(e1,e2)\n",
            "Acc with percent: 0.7818181818181819\n",
            "Accuracy: 86/110\n",
            "\n",
            "Class: Product-Producer(e2,e1)\n",
            "Acc with percent: 0.776\n",
            "Accuracy: 97/125\n",
            "\n",
            "Class: Instrument-Agency(e1,e2)\n",
            "Acc with percent: 0.45454545454545453\n",
            "Accuracy: 10/22\n",
            "\n",
            "Class: Instrument-Agency(e2,e1)\n",
            "Acc with percent: 0.7925925925925926\n",
            "Accuracy: 107/135\n",
            "\n",
            "Class: Entity-Destination(e1,e2)\n",
            "Acc with percent: 0.8458904109589042\n",
            "Accuracy: 247/292\n",
            "\n",
            "Class: Cause-Effect(e1,e2)\n",
            "Acc with percent: 0.8880597014925373\n",
            "Accuracy: 119/134\n",
            "\n",
            "Class: Cause-Effect(e2,e1)\n",
            "Acc with percent: 0.9025641025641026\n",
            "Accuracy: 176/195\n",
            "\n",
            "Class: Component-Whole(e1,e2)\n",
            "Acc with percent: 0.7650602409638554\n",
            "Accuracy: 127/166\n",
            "\n",
            "Class: Component-Whole(e2,e1)\n",
            "Acc with percent: 0.6948051948051948\n",
            "Accuracy: 107/154\n",
            "\n",
            "Class: Entity-Origin(e1,e2)\n",
            "Acc with percent: 0.75\n",
            "Accuracy: 159/212\n",
            "\n",
            "Class: Entity-Origin(e2,e1)\n",
            "Acc with percent: 0.8297872340425532\n",
            "Accuracy: 39/47\n",
            "\n",
            "Class: Member-Collection(e1,e2)\n",
            "Acc with percent: 0.46875\n",
            "Accuracy: 15/32\n",
            "\n",
            "Class: Member-Collection(e2,e1)\n",
            "Acc with percent: 0.7832512315270936\n",
            "Accuracy: 159/203\n",
            "\n",
            "Class: Content-Container(e1,e2)\n",
            "Acc with percent: 0.8441558441558441\n",
            "Accuracy: 130/154\n",
            "\n",
            "Class: Content-Container(e2,e1)\n",
            "Acc with percent: 0.7692307692307693\n",
            "Accuracy: 30/39\n",
            "\n",
            "accuracy: 13.556616203206879\n",
            "Validation loss: 0.8709496427760568\n",
            "F1 Score (Weighted): 0.7445611505595874\n",
            "\n"
          ],
          "name": "stdout"
        }
      ]
    },
    {
      "cell_type": "code",
      "metadata": {
        "id": "Q4CLqT0U73Bc"
      },
      "source": [
        "_, predictions, true_vals = evaluate(dataloader_validation)"
      ],
      "execution_count": 54,
      "outputs": []
    },
    {
      "cell_type": "code",
      "metadata": {
        "colab": {
          "base_uri": "https://localhost:8080/"
        },
        "id": "yt0tsUPG743N",
        "outputId": "f9402ac1-202b-4ea6-fb15-ea051141aa6d"
      },
      "source": [
        "totatl_acc = accuracy_per_class(predictions, true_vals)"
      ],
      "execution_count": 55,
      "outputs": [
        {
          "output_type": "stream",
          "text": [
            "Class: Other\n",
            "Acc with percent: 0.46203904555314534\n",
            "Accuracy: 213/461\n",
            "\n",
            "Class: Message-Topic(e1,e2)\n",
            "Acc with percent: 0.8853211009174312\n",
            "Accuracy: 193/218\n",
            "\n",
            "Class: Message-Topic(e2,e1)\n",
            "Acc with percent: 0.8627450980392157\n",
            "Accuracy: 44/51\n",
            "\n",
            "Class: Product-Producer(e1,e2)\n",
            "Acc with percent: 0.7818181818181819\n",
            "Accuracy: 86/110\n",
            "\n",
            "Class: Product-Producer(e2,e1)\n",
            "Acc with percent: 0.776\n",
            "Accuracy: 97/125\n",
            "\n",
            "Class: Instrument-Agency(e1,e2)\n",
            "Acc with percent: 0.45454545454545453\n",
            "Accuracy: 10/22\n",
            "\n",
            "Class: Instrument-Agency(e2,e1)\n",
            "Acc with percent: 0.7925925925925926\n",
            "Accuracy: 107/135\n",
            "\n",
            "Class: Entity-Destination(e1,e2)\n",
            "Acc with percent: 0.8458904109589042\n",
            "Accuracy: 247/292\n",
            "\n",
            "Class: Cause-Effect(e1,e2)\n",
            "Acc with percent: 0.8880597014925373\n",
            "Accuracy: 119/134\n",
            "\n",
            "Class: Cause-Effect(e2,e1)\n",
            "Acc with percent: 0.9025641025641026\n",
            "Accuracy: 176/195\n",
            "\n",
            "Class: Component-Whole(e1,e2)\n",
            "Acc with percent: 0.7650602409638554\n",
            "Accuracy: 127/166\n",
            "\n",
            "Class: Component-Whole(e2,e1)\n",
            "Acc with percent: 0.6948051948051948\n",
            "Accuracy: 107/154\n",
            "\n",
            "Class: Entity-Origin(e1,e2)\n",
            "Acc with percent: 0.75\n",
            "Accuracy: 159/212\n",
            "\n",
            "Class: Entity-Origin(e2,e1)\n",
            "Acc with percent: 0.8297872340425532\n",
            "Accuracy: 39/47\n",
            "\n",
            "Class: Member-Collection(e1,e2)\n",
            "Acc with percent: 0.46875\n",
            "Accuracy: 15/32\n",
            "\n",
            "Class: Member-Collection(e2,e1)\n",
            "Acc with percent: 0.7832512315270936\n",
            "Accuracy: 159/203\n",
            "\n",
            "Class: Content-Container(e1,e2)\n",
            "Acc with percent: 0.8441558441558441\n",
            "Accuracy: 130/154\n",
            "\n",
            "Class: Content-Container(e2,e1)\n",
            "Acc with percent: 0.7692307692307693\n",
            "Accuracy: 30/39\n",
            "\n"
          ],
          "name": "stdout"
        }
      ]
    },
    {
      "cell_type": "code",
      "metadata": {
        "colab": {
          "base_uri": "https://localhost:8080/"
        },
        "id": "80--_EU2RJeV",
        "outputId": "64e526b5-20b1-4cac-e054-267668798b23"
      },
      "source": [
        "totatl_acc"
      ],
      "execution_count": 56,
      "outputs": [
        {
          "output_type": "execute_result",
          "data": {
            "text/plain": [
              "0.7135061159582567"
            ]
          },
          "metadata": {
            "tags": []
          },
          "execution_count": 56
        }
      ]
    },
    {
      "cell_type": "code",
      "metadata": {
        "colab": {
          "base_uri": "https://localhost:8080/"
        },
        "id": "Rrj3WUKqR3Vf",
        "outputId": "5f564518-a06d-4613-e08b-110cb40a69b0"
      },
      "source": [
        "outputs.keys()"
      ],
      "execution_count": 58,
      "outputs": [
        {
          "output_type": "execute_result",
          "data": {
            "text/plain": [
              "odict_keys(['loss', 'logits', 'hidden_states'])"
            ]
          },
          "metadata": {
            "tags": []
          },
          "execution_count": 58
        }
      ]
    },
    {
      "cell_type": "code",
      "metadata": {
        "id": "4_BLucYtR5_n"
      },
      "source": [
        ""
      ],
      "execution_count": null,
      "outputs": []
    }
  ]
}