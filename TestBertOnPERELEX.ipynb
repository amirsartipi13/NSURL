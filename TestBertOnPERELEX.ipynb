{
  "nbformat": 4,
  "nbformat_minor": 0,
  "metadata": {
    "colab": {
      "name": "TestBertOnPERELEX.ipynb",
      "provenance": [],
      "collapsed_sections": [],
      "toc_visible": true,
      "include_colab_link": true
    },
    "kernelspec": {
      "name": "python3",
      "display_name": "Python 3"
    },
    "language_info": {
      "name": "python"
    },
    "accelerator": "GPU",
    "widgets": {
      "application/vnd.jupyter.widget-state+json": {
        "640a7da72448445e8aaccc1e353e5288": {
          "model_module": "@jupyter-widgets/controls",
          "model_name": "HBoxModel",
          "model_module_version": "1.5.0",
          "state": {
            "_view_name": "HBoxView",
            "_dom_classes": [],
            "_model_name": "HBoxModel",
            "_view_module": "@jupyter-widgets/controls",
            "_model_module_version": "1.5.0",
            "_view_count": null,
            "_view_module_version": "1.5.0",
            "box_style": "",
            "layout": "IPY_MODEL_9ee147d06be24d8bac07888cb5d2b671",
            "_model_module": "@jupyter-widgets/controls",
            "children": [
              "IPY_MODEL_dc4014b9e0c14fb1a6b6e72b447f798b",
              "IPY_MODEL_81f5a42ef0ad402caf5635d7d5bab614"
            ]
          }
        },
        "9ee147d06be24d8bac07888cb5d2b671": {
          "model_module": "@jupyter-widgets/base",
          "model_name": "LayoutModel",
          "model_module_version": "1.2.0",
          "state": {
            "_view_name": "LayoutView",
            "grid_template_rows": null,
            "right": null,
            "justify_content": null,
            "_view_module": "@jupyter-widgets/base",
            "overflow": null,
            "_model_module_version": "1.2.0",
            "_view_count": null,
            "flex_flow": null,
            "width": null,
            "min_width": null,
            "border": null,
            "align_items": null,
            "bottom": null,
            "_model_module": "@jupyter-widgets/base",
            "top": null,
            "grid_column": null,
            "overflow_y": null,
            "overflow_x": null,
            "grid_auto_flow": null,
            "grid_area": null,
            "grid_template_columns": null,
            "flex": null,
            "_model_name": "LayoutModel",
            "justify_items": null,
            "grid_row": null,
            "max_height": null,
            "align_content": null,
            "visibility": null,
            "align_self": null,
            "height": null,
            "min_height": null,
            "padding": null,
            "grid_auto_rows": null,
            "grid_gap": null,
            "max_width": null,
            "order": null,
            "_view_module_version": "1.2.0",
            "grid_template_areas": null,
            "object_position": null,
            "object_fit": null,
            "grid_auto_columns": null,
            "margin": null,
            "display": null,
            "left": null
          }
        },
        "dc4014b9e0c14fb1a6b6e72b447f798b": {
          "model_module": "@jupyter-widgets/controls",
          "model_name": "FloatProgressModel",
          "model_module_version": "1.5.0",
          "state": {
            "_view_name": "ProgressView",
            "style": "IPY_MODEL_976b9705b31e4a75b0f3726461b4136c",
            "_dom_classes": [],
            "description": "Downloading: 100%",
            "_model_name": "FloatProgressModel",
            "bar_style": "success",
            "max": 292,
            "_view_module": "@jupyter-widgets/controls",
            "_model_module_version": "1.5.0",
            "value": 292,
            "_view_count": null,
            "_view_module_version": "1.5.0",
            "orientation": "horizontal",
            "min": 0,
            "description_tooltip": null,
            "_model_module": "@jupyter-widgets/controls",
            "layout": "IPY_MODEL_fc6873a6f8a34abc9aa71f03e4f8d205"
          }
        },
        "81f5a42ef0ad402caf5635d7d5bab614": {
          "model_module": "@jupyter-widgets/controls",
          "model_name": "HTMLModel",
          "model_module_version": "1.5.0",
          "state": {
            "_view_name": "HTMLView",
            "style": "IPY_MODEL_40fcd44c4de04539812d81d183b8d6bc",
            "_dom_classes": [],
            "description": "",
            "_model_name": "HTMLModel",
            "placeholder": "​",
            "_view_module": "@jupyter-widgets/controls",
            "_model_module_version": "1.5.0",
            "value": " 292/292 [00:00&lt;00:00, 455B/s]",
            "_view_count": null,
            "_view_module_version": "1.5.0",
            "description_tooltip": null,
            "_model_module": "@jupyter-widgets/controls",
            "layout": "IPY_MODEL_adab3a23abe24c5f8b57f5b90075dcc6"
          }
        },
        "976b9705b31e4a75b0f3726461b4136c": {
          "model_module": "@jupyter-widgets/controls",
          "model_name": "ProgressStyleModel",
          "model_module_version": "1.5.0",
          "state": {
            "_view_name": "StyleView",
            "_model_name": "ProgressStyleModel",
            "description_width": "initial",
            "_view_module": "@jupyter-widgets/base",
            "_model_module_version": "1.5.0",
            "_view_count": null,
            "_view_module_version": "1.2.0",
            "bar_color": null,
            "_model_module": "@jupyter-widgets/controls"
          }
        },
        "fc6873a6f8a34abc9aa71f03e4f8d205": {
          "model_module": "@jupyter-widgets/base",
          "model_name": "LayoutModel",
          "model_module_version": "1.2.0",
          "state": {
            "_view_name": "LayoutView",
            "grid_template_rows": null,
            "right": null,
            "justify_content": null,
            "_view_module": "@jupyter-widgets/base",
            "overflow": null,
            "_model_module_version": "1.2.0",
            "_view_count": null,
            "flex_flow": null,
            "width": null,
            "min_width": null,
            "border": null,
            "align_items": null,
            "bottom": null,
            "_model_module": "@jupyter-widgets/base",
            "top": null,
            "grid_column": null,
            "overflow_y": null,
            "overflow_x": null,
            "grid_auto_flow": null,
            "grid_area": null,
            "grid_template_columns": null,
            "flex": null,
            "_model_name": "LayoutModel",
            "justify_items": null,
            "grid_row": null,
            "max_height": null,
            "align_content": null,
            "visibility": null,
            "align_self": null,
            "height": null,
            "min_height": null,
            "padding": null,
            "grid_auto_rows": null,
            "grid_gap": null,
            "max_width": null,
            "order": null,
            "_view_module_version": "1.2.0",
            "grid_template_areas": null,
            "object_position": null,
            "object_fit": null,
            "grid_auto_columns": null,
            "margin": null,
            "display": null,
            "left": null
          }
        },
        "40fcd44c4de04539812d81d183b8d6bc": {
          "model_module": "@jupyter-widgets/controls",
          "model_name": "DescriptionStyleModel",
          "model_module_version": "1.5.0",
          "state": {
            "_view_name": "StyleView",
            "_model_name": "DescriptionStyleModel",
            "description_width": "",
            "_view_module": "@jupyter-widgets/base",
            "_model_module_version": "1.5.0",
            "_view_count": null,
            "_view_module_version": "1.2.0",
            "_model_module": "@jupyter-widgets/controls"
          }
        },
        "adab3a23abe24c5f8b57f5b90075dcc6": {
          "model_module": "@jupyter-widgets/base",
          "model_name": "LayoutModel",
          "model_module_version": "1.2.0",
          "state": {
            "_view_name": "LayoutView",
            "grid_template_rows": null,
            "right": null,
            "justify_content": null,
            "_view_module": "@jupyter-widgets/base",
            "overflow": null,
            "_model_module_version": "1.2.0",
            "_view_count": null,
            "flex_flow": null,
            "width": null,
            "min_width": null,
            "border": null,
            "align_items": null,
            "bottom": null,
            "_model_module": "@jupyter-widgets/base",
            "top": null,
            "grid_column": null,
            "overflow_y": null,
            "overflow_x": null,
            "grid_auto_flow": null,
            "grid_area": null,
            "grid_template_columns": null,
            "flex": null,
            "_model_name": "LayoutModel",
            "justify_items": null,
            "grid_row": null,
            "max_height": null,
            "align_content": null,
            "visibility": null,
            "align_self": null,
            "height": null,
            "min_height": null,
            "padding": null,
            "grid_auto_rows": null,
            "grid_gap": null,
            "max_width": null,
            "order": null,
            "_view_module_version": "1.2.0",
            "grid_template_areas": null,
            "object_position": null,
            "object_fit": null,
            "grid_auto_columns": null,
            "margin": null,
            "display": null,
            "left": null
          }
        },
        "2029268916014eac9b4bd0dc0f35c5a8": {
          "model_module": "@jupyter-widgets/controls",
          "model_name": "HBoxModel",
          "model_module_version": "1.5.0",
          "state": {
            "_view_name": "HBoxView",
            "_dom_classes": [],
            "_model_name": "HBoxModel",
            "_view_module": "@jupyter-widgets/controls",
            "_model_module_version": "1.5.0",
            "_view_count": null,
            "_view_module_version": "1.5.0",
            "box_style": "",
            "layout": "IPY_MODEL_8c5490dca5864f8ca722faecf197884c",
            "_model_module": "@jupyter-widgets/controls",
            "children": [
              "IPY_MODEL_537e109c781648cebf93fb3d9160e615",
              "IPY_MODEL_48f1274d0a004c349a3d6381366d136a"
            ]
          }
        },
        "8c5490dca5864f8ca722faecf197884c": {
          "model_module": "@jupyter-widgets/base",
          "model_name": "LayoutModel",
          "model_module_version": "1.2.0",
          "state": {
            "_view_name": "LayoutView",
            "grid_template_rows": null,
            "right": null,
            "justify_content": null,
            "_view_module": "@jupyter-widgets/base",
            "overflow": null,
            "_model_module_version": "1.2.0",
            "_view_count": null,
            "flex_flow": null,
            "width": null,
            "min_width": null,
            "border": null,
            "align_items": null,
            "bottom": null,
            "_model_module": "@jupyter-widgets/base",
            "top": null,
            "grid_column": null,
            "overflow_y": null,
            "overflow_x": null,
            "grid_auto_flow": null,
            "grid_area": null,
            "grid_template_columns": null,
            "flex": null,
            "_model_name": "LayoutModel",
            "justify_items": null,
            "grid_row": null,
            "max_height": null,
            "align_content": null,
            "visibility": null,
            "align_self": null,
            "height": null,
            "min_height": null,
            "padding": null,
            "grid_auto_rows": null,
            "grid_gap": null,
            "max_width": null,
            "order": null,
            "_view_module_version": "1.2.0",
            "grid_template_areas": null,
            "object_position": null,
            "object_fit": null,
            "grid_auto_columns": null,
            "margin": null,
            "display": null,
            "left": null
          }
        },
        "537e109c781648cebf93fb3d9160e615": {
          "model_module": "@jupyter-widgets/controls",
          "model_name": "FloatProgressModel",
          "model_module_version": "1.5.0",
          "state": {
            "_view_name": "ProgressView",
            "style": "IPY_MODEL_64c186e37b6a43989811abce7b2bf9af",
            "_dom_classes": [],
            "description": "Downloading: 100%",
            "_model_name": "FloatProgressModel",
            "bar_style": "success",
            "max": 565,
            "_view_module": "@jupyter-widgets/controls",
            "_model_module_version": "1.5.0",
            "value": 565,
            "_view_count": null,
            "_view_module_version": "1.5.0",
            "orientation": "horizontal",
            "min": 0,
            "description_tooltip": null,
            "_model_module": "@jupyter-widgets/controls",
            "layout": "IPY_MODEL_4956edf3105a429b811ab2171bafaea1"
          }
        },
        "48f1274d0a004c349a3d6381366d136a": {
          "model_module": "@jupyter-widgets/controls",
          "model_name": "HTMLModel",
          "model_module_version": "1.5.0",
          "state": {
            "_view_name": "HTMLView",
            "style": "IPY_MODEL_6a98b0006e954c8cab5ce388de7a053b",
            "_dom_classes": [],
            "description": "",
            "_model_name": "HTMLModel",
            "placeholder": "​",
            "_view_module": "@jupyter-widgets/controls",
            "_model_module_version": "1.5.0",
            "value": " 565/565 [00:03&lt;00:00, 158B/s]",
            "_view_count": null,
            "_view_module_version": "1.5.0",
            "description_tooltip": null,
            "_model_module": "@jupyter-widgets/controls",
            "layout": "IPY_MODEL_8cf37ff0e31e47dcad514b347d5553fb"
          }
        },
        "64c186e37b6a43989811abce7b2bf9af": {
          "model_module": "@jupyter-widgets/controls",
          "model_name": "ProgressStyleModel",
          "model_module_version": "1.5.0",
          "state": {
            "_view_name": "StyleView",
            "_model_name": "ProgressStyleModel",
            "description_width": "initial",
            "_view_module": "@jupyter-widgets/base",
            "_model_module_version": "1.5.0",
            "_view_count": null,
            "_view_module_version": "1.2.0",
            "bar_color": null,
            "_model_module": "@jupyter-widgets/controls"
          }
        },
        "4956edf3105a429b811ab2171bafaea1": {
          "model_module": "@jupyter-widgets/base",
          "model_name": "LayoutModel",
          "model_module_version": "1.2.0",
          "state": {
            "_view_name": "LayoutView",
            "grid_template_rows": null,
            "right": null,
            "justify_content": null,
            "_view_module": "@jupyter-widgets/base",
            "overflow": null,
            "_model_module_version": "1.2.0",
            "_view_count": null,
            "flex_flow": null,
            "width": null,
            "min_width": null,
            "border": null,
            "align_items": null,
            "bottom": null,
            "_model_module": "@jupyter-widgets/base",
            "top": null,
            "grid_column": null,
            "overflow_y": null,
            "overflow_x": null,
            "grid_auto_flow": null,
            "grid_area": null,
            "grid_template_columns": null,
            "flex": null,
            "_model_name": "LayoutModel",
            "justify_items": null,
            "grid_row": null,
            "max_height": null,
            "align_content": null,
            "visibility": null,
            "align_self": null,
            "height": null,
            "min_height": null,
            "padding": null,
            "grid_auto_rows": null,
            "grid_gap": null,
            "max_width": null,
            "order": null,
            "_view_module_version": "1.2.0",
            "grid_template_areas": null,
            "object_position": null,
            "object_fit": null,
            "grid_auto_columns": null,
            "margin": null,
            "display": null,
            "left": null
          }
        },
        "6a98b0006e954c8cab5ce388de7a053b": {
          "model_module": "@jupyter-widgets/controls",
          "model_name": "DescriptionStyleModel",
          "model_module_version": "1.5.0",
          "state": {
            "_view_name": "StyleView",
            "_model_name": "DescriptionStyleModel",
            "description_width": "",
            "_view_module": "@jupyter-widgets/base",
            "_model_module_version": "1.5.0",
            "_view_count": null,
            "_view_module_version": "1.2.0",
            "_model_module": "@jupyter-widgets/controls"
          }
        },
        "8cf37ff0e31e47dcad514b347d5553fb": {
          "model_module": "@jupyter-widgets/base",
          "model_name": "LayoutModel",
          "model_module_version": "1.2.0",
          "state": {
            "_view_name": "LayoutView",
            "grid_template_rows": null,
            "right": null,
            "justify_content": null,
            "_view_module": "@jupyter-widgets/base",
            "overflow": null,
            "_model_module_version": "1.2.0",
            "_view_count": null,
            "flex_flow": null,
            "width": null,
            "min_width": null,
            "border": null,
            "align_items": null,
            "bottom": null,
            "_model_module": "@jupyter-widgets/base",
            "top": null,
            "grid_column": null,
            "overflow_y": null,
            "overflow_x": null,
            "grid_auto_flow": null,
            "grid_area": null,
            "grid_template_columns": null,
            "flex": null,
            "_model_name": "LayoutModel",
            "justify_items": null,
            "grid_row": null,
            "max_height": null,
            "align_content": null,
            "visibility": null,
            "align_self": null,
            "height": null,
            "min_height": null,
            "padding": null,
            "grid_auto_rows": null,
            "grid_gap": null,
            "max_width": null,
            "order": null,
            "_view_module_version": "1.2.0",
            "grid_template_areas": null,
            "object_position": null,
            "object_fit": null,
            "grid_auto_columns": null,
            "margin": null,
            "display": null,
            "left": null
          }
        },
        "318dd5d136ba42d18c69a0cc5827b90b": {
          "model_module": "@jupyter-widgets/controls",
          "model_name": "HBoxModel",
          "model_module_version": "1.5.0",
          "state": {
            "_view_name": "HBoxView",
            "_dom_classes": [],
            "_model_name": "HBoxModel",
            "_view_module": "@jupyter-widgets/controls",
            "_model_module_version": "1.5.0",
            "_view_count": null,
            "_view_module_version": "1.5.0",
            "box_style": "",
            "layout": "IPY_MODEL_bff36b8d219644a1b59aa51aa6dee0ef",
            "_model_module": "@jupyter-widgets/controls",
            "children": [
              "IPY_MODEL_961fce11baf5464f9fe005ebd7a3d4a0",
              "IPY_MODEL_ce01299924fb4a21ac0185dd55e0f80a"
            ]
          }
        },
        "bff36b8d219644a1b59aa51aa6dee0ef": {
          "model_module": "@jupyter-widgets/base",
          "model_name": "LayoutModel",
          "model_module_version": "1.2.0",
          "state": {
            "_view_name": "LayoutView",
            "grid_template_rows": null,
            "right": null,
            "justify_content": null,
            "_view_module": "@jupyter-widgets/base",
            "overflow": null,
            "_model_module_version": "1.2.0",
            "_view_count": null,
            "flex_flow": null,
            "width": null,
            "min_width": null,
            "border": null,
            "align_items": null,
            "bottom": null,
            "_model_module": "@jupyter-widgets/base",
            "top": null,
            "grid_column": null,
            "overflow_y": null,
            "overflow_x": null,
            "grid_auto_flow": null,
            "grid_area": null,
            "grid_template_columns": null,
            "flex": null,
            "_model_name": "LayoutModel",
            "justify_items": null,
            "grid_row": null,
            "max_height": null,
            "align_content": null,
            "visibility": null,
            "align_self": null,
            "height": null,
            "min_height": null,
            "padding": null,
            "grid_auto_rows": null,
            "grid_gap": null,
            "max_width": null,
            "order": null,
            "_view_module_version": "1.2.0",
            "grid_template_areas": null,
            "object_position": null,
            "object_fit": null,
            "grid_auto_columns": null,
            "margin": null,
            "display": null,
            "left": null
          }
        },
        "961fce11baf5464f9fe005ebd7a3d4a0": {
          "model_module": "@jupyter-widgets/controls",
          "model_name": "FloatProgressModel",
          "model_module_version": "1.5.0",
          "state": {
            "_view_name": "ProgressView",
            "style": "IPY_MODEL_6ee807f9b74a4738a16683a009b8713d",
            "_dom_classes": [],
            "description": "Downloading: 100%",
            "_model_name": "FloatProgressModel",
            "bar_style": "success",
            "max": 426422,
            "_view_module": "@jupyter-widgets/controls",
            "_model_module_version": "1.5.0",
            "value": 426422,
            "_view_count": null,
            "_view_module_version": "1.5.0",
            "orientation": "horizontal",
            "min": 0,
            "description_tooltip": null,
            "_model_module": "@jupyter-widgets/controls",
            "layout": "IPY_MODEL_b9fa1e65634e4a6ca736eeca3d607aaa"
          }
        },
        "ce01299924fb4a21ac0185dd55e0f80a": {
          "model_module": "@jupyter-widgets/controls",
          "model_name": "HTMLModel",
          "model_module_version": "1.5.0",
          "state": {
            "_view_name": "HTMLView",
            "style": "IPY_MODEL_44101bc02dfe4186a6364dc5e7c0e69f",
            "_dom_classes": [],
            "description": "",
            "_model_name": "HTMLModel",
            "placeholder": "​",
            "_view_module": "@jupyter-widgets/controls",
            "_model_module_version": "1.5.0",
            "value": " 426k/426k [00:00&lt;00:00, 560kB/s]",
            "_view_count": null,
            "_view_module_version": "1.5.0",
            "description_tooltip": null,
            "_model_module": "@jupyter-widgets/controls",
            "layout": "IPY_MODEL_a081bfcbff594c2795d737db176f10a3"
          }
        },
        "6ee807f9b74a4738a16683a009b8713d": {
          "model_module": "@jupyter-widgets/controls",
          "model_name": "ProgressStyleModel",
          "model_module_version": "1.5.0",
          "state": {
            "_view_name": "StyleView",
            "_model_name": "ProgressStyleModel",
            "description_width": "initial",
            "_view_module": "@jupyter-widgets/base",
            "_model_module_version": "1.5.0",
            "_view_count": null,
            "_view_module_version": "1.2.0",
            "bar_color": null,
            "_model_module": "@jupyter-widgets/controls"
          }
        },
        "b9fa1e65634e4a6ca736eeca3d607aaa": {
          "model_module": "@jupyter-widgets/base",
          "model_name": "LayoutModel",
          "model_module_version": "1.2.0",
          "state": {
            "_view_name": "LayoutView",
            "grid_template_rows": null,
            "right": null,
            "justify_content": null,
            "_view_module": "@jupyter-widgets/base",
            "overflow": null,
            "_model_module_version": "1.2.0",
            "_view_count": null,
            "flex_flow": null,
            "width": null,
            "min_width": null,
            "border": null,
            "align_items": null,
            "bottom": null,
            "_model_module": "@jupyter-widgets/base",
            "top": null,
            "grid_column": null,
            "overflow_y": null,
            "overflow_x": null,
            "grid_auto_flow": null,
            "grid_area": null,
            "grid_template_columns": null,
            "flex": null,
            "_model_name": "LayoutModel",
            "justify_items": null,
            "grid_row": null,
            "max_height": null,
            "align_content": null,
            "visibility": null,
            "align_self": null,
            "height": null,
            "min_height": null,
            "padding": null,
            "grid_auto_rows": null,
            "grid_gap": null,
            "max_width": null,
            "order": null,
            "_view_module_version": "1.2.0",
            "grid_template_areas": null,
            "object_position": null,
            "object_fit": null,
            "grid_auto_columns": null,
            "margin": null,
            "display": null,
            "left": null
          }
        },
        "44101bc02dfe4186a6364dc5e7c0e69f": {
          "model_module": "@jupyter-widgets/controls",
          "model_name": "DescriptionStyleModel",
          "model_module_version": "1.5.0",
          "state": {
            "_view_name": "StyleView",
            "_model_name": "DescriptionStyleModel",
            "description_width": "",
            "_view_module": "@jupyter-widgets/base",
            "_model_module_version": "1.5.0",
            "_view_count": null,
            "_view_module_version": "1.2.0",
            "_model_module": "@jupyter-widgets/controls"
          }
        },
        "a081bfcbff594c2795d737db176f10a3": {
          "model_module": "@jupyter-widgets/base",
          "model_name": "LayoutModel",
          "model_module_version": "1.2.0",
          "state": {
            "_view_name": "LayoutView",
            "grid_template_rows": null,
            "right": null,
            "justify_content": null,
            "_view_module": "@jupyter-widgets/base",
            "overflow": null,
            "_model_module_version": "1.2.0",
            "_view_count": null,
            "flex_flow": null,
            "width": null,
            "min_width": null,
            "border": null,
            "align_items": null,
            "bottom": null,
            "_model_module": "@jupyter-widgets/base",
            "top": null,
            "grid_column": null,
            "overflow_y": null,
            "overflow_x": null,
            "grid_auto_flow": null,
            "grid_area": null,
            "grid_template_columns": null,
            "flex": null,
            "_model_name": "LayoutModel",
            "justify_items": null,
            "grid_row": null,
            "max_height": null,
            "align_content": null,
            "visibility": null,
            "align_self": null,
            "height": null,
            "min_height": null,
            "padding": null,
            "grid_auto_rows": null,
            "grid_gap": null,
            "max_width": null,
            "order": null,
            "_view_module_version": "1.2.0",
            "grid_template_areas": null,
            "object_position": null,
            "object_fit": null,
            "grid_auto_columns": null,
            "margin": null,
            "display": null,
            "left": null
          }
        },
        "169aeb6bd93e419eb325871ae871e237": {
          "model_module": "@jupyter-widgets/controls",
          "model_name": "HBoxModel",
          "model_module_version": "1.5.0",
          "state": {
            "_view_name": "HBoxView",
            "_dom_classes": [],
            "_model_name": "HBoxModel",
            "_view_module": "@jupyter-widgets/controls",
            "_model_module_version": "1.5.0",
            "_view_count": null,
            "_view_module_version": "1.5.0",
            "box_style": "",
            "layout": "IPY_MODEL_2f4e6167f7e7433383bab900e8d747bc",
            "_model_module": "@jupyter-widgets/controls",
            "children": [
              "IPY_MODEL_d161d6b5daed4e27b0d0e54803a93af9",
              "IPY_MODEL_58d76169fcc34b6c97f2380fdc55d2af"
            ]
          }
        },
        "2f4e6167f7e7433383bab900e8d747bc": {
          "model_module": "@jupyter-widgets/base",
          "model_name": "LayoutModel",
          "model_module_version": "1.2.0",
          "state": {
            "_view_name": "LayoutView",
            "grid_template_rows": null,
            "right": null,
            "justify_content": null,
            "_view_module": "@jupyter-widgets/base",
            "overflow": null,
            "_model_module_version": "1.2.0",
            "_view_count": null,
            "flex_flow": null,
            "width": null,
            "min_width": null,
            "border": null,
            "align_items": null,
            "bottom": null,
            "_model_module": "@jupyter-widgets/base",
            "top": null,
            "grid_column": null,
            "overflow_y": null,
            "overflow_x": null,
            "grid_auto_flow": null,
            "grid_area": null,
            "grid_template_columns": null,
            "flex": null,
            "_model_name": "LayoutModel",
            "justify_items": null,
            "grid_row": null,
            "max_height": null,
            "align_content": null,
            "visibility": null,
            "align_self": null,
            "height": null,
            "min_height": null,
            "padding": null,
            "grid_auto_rows": null,
            "grid_gap": null,
            "max_width": null,
            "order": null,
            "_view_module_version": "1.2.0",
            "grid_template_areas": null,
            "object_position": null,
            "object_fit": null,
            "grid_auto_columns": null,
            "margin": null,
            "display": null,
            "left": null
          }
        },
        "d161d6b5daed4e27b0d0e54803a93af9": {
          "model_module": "@jupyter-widgets/controls",
          "model_name": "FloatProgressModel",
          "model_module_version": "1.5.0",
          "state": {
            "_view_name": "ProgressView",
            "style": "IPY_MODEL_b27209e9278542879c168b59baebec8f",
            "_dom_classes": [],
            "description": "Downloading: 100%",
            "_model_name": "FloatProgressModel",
            "bar_style": "success",
            "max": 1108824,
            "_view_module": "@jupyter-widgets/controls",
            "_model_module_version": "1.5.0",
            "value": 1108824,
            "_view_count": null,
            "_view_module_version": "1.5.0",
            "orientation": "horizontal",
            "min": 0,
            "description_tooltip": null,
            "_model_module": "@jupyter-widgets/controls",
            "layout": "IPY_MODEL_03529e0a4abd45afbc3a3f4e3f871498"
          }
        },
        "58d76169fcc34b6c97f2380fdc55d2af": {
          "model_module": "@jupyter-widgets/controls",
          "model_name": "HTMLModel",
          "model_module_version": "1.5.0",
          "state": {
            "_view_name": "HTMLView",
            "style": "IPY_MODEL_5ab0c3be8ffa40b59acd78b5c8423408",
            "_dom_classes": [],
            "description": "",
            "_model_name": "HTMLModel",
            "placeholder": "​",
            "_view_module": "@jupyter-widgets/controls",
            "_model_module_version": "1.5.0",
            "value": " 1.11M/1.11M [00:01&lt;00:00, 592kB/s]",
            "_view_count": null,
            "_view_module_version": "1.5.0",
            "description_tooltip": null,
            "_model_module": "@jupyter-widgets/controls",
            "layout": "IPY_MODEL_ec3d25850b054e8dace9b0f92dc4a3e5"
          }
        },
        "b27209e9278542879c168b59baebec8f": {
          "model_module": "@jupyter-widgets/controls",
          "model_name": "ProgressStyleModel",
          "model_module_version": "1.5.0",
          "state": {
            "_view_name": "StyleView",
            "_model_name": "ProgressStyleModel",
            "description_width": "initial",
            "_view_module": "@jupyter-widgets/base",
            "_model_module_version": "1.5.0",
            "_view_count": null,
            "_view_module_version": "1.2.0",
            "bar_color": null,
            "_model_module": "@jupyter-widgets/controls"
          }
        },
        "03529e0a4abd45afbc3a3f4e3f871498": {
          "model_module": "@jupyter-widgets/base",
          "model_name": "LayoutModel",
          "model_module_version": "1.2.0",
          "state": {
            "_view_name": "LayoutView",
            "grid_template_rows": null,
            "right": null,
            "justify_content": null,
            "_view_module": "@jupyter-widgets/base",
            "overflow": null,
            "_model_module_version": "1.2.0",
            "_view_count": null,
            "flex_flow": null,
            "width": null,
            "min_width": null,
            "border": null,
            "align_items": null,
            "bottom": null,
            "_model_module": "@jupyter-widgets/base",
            "top": null,
            "grid_column": null,
            "overflow_y": null,
            "overflow_x": null,
            "grid_auto_flow": null,
            "grid_area": null,
            "grid_template_columns": null,
            "flex": null,
            "_model_name": "LayoutModel",
            "justify_items": null,
            "grid_row": null,
            "max_height": null,
            "align_content": null,
            "visibility": null,
            "align_self": null,
            "height": null,
            "min_height": null,
            "padding": null,
            "grid_auto_rows": null,
            "grid_gap": null,
            "max_width": null,
            "order": null,
            "_view_module_version": "1.2.0",
            "grid_template_areas": null,
            "object_position": null,
            "object_fit": null,
            "grid_auto_columns": null,
            "margin": null,
            "display": null,
            "left": null
          }
        },
        "5ab0c3be8ffa40b59acd78b5c8423408": {
          "model_module": "@jupyter-widgets/controls",
          "model_name": "DescriptionStyleModel",
          "model_module_version": "1.5.0",
          "state": {
            "_view_name": "StyleView",
            "_model_name": "DescriptionStyleModel",
            "description_width": "",
            "_view_module": "@jupyter-widgets/base",
            "_model_module_version": "1.5.0",
            "_view_count": null,
            "_view_module_version": "1.2.0",
            "_model_module": "@jupyter-widgets/controls"
          }
        },
        "ec3d25850b054e8dace9b0f92dc4a3e5": {
          "model_module": "@jupyter-widgets/base",
          "model_name": "LayoutModel",
          "model_module_version": "1.2.0",
          "state": {
            "_view_name": "LayoutView",
            "grid_template_rows": null,
            "right": null,
            "justify_content": null,
            "_view_module": "@jupyter-widgets/base",
            "overflow": null,
            "_model_module_version": "1.2.0",
            "_view_count": null,
            "flex_flow": null,
            "width": null,
            "min_width": null,
            "border": null,
            "align_items": null,
            "bottom": null,
            "_model_module": "@jupyter-widgets/base",
            "top": null,
            "grid_column": null,
            "overflow_y": null,
            "overflow_x": null,
            "grid_auto_flow": null,
            "grid_area": null,
            "grid_template_columns": null,
            "flex": null,
            "_model_name": "LayoutModel",
            "justify_items": null,
            "grid_row": null,
            "max_height": null,
            "align_content": null,
            "visibility": null,
            "align_self": null,
            "height": null,
            "min_height": null,
            "padding": null,
            "grid_auto_rows": null,
            "grid_gap": null,
            "max_width": null,
            "order": null,
            "_view_module_version": "1.2.0",
            "grid_template_areas": null,
            "object_position": null,
            "object_fit": null,
            "grid_auto_columns": null,
            "margin": null,
            "display": null,
            "left": null
          }
        },
        "37878c7a20744b838062d3183a5ae07d": {
          "model_module": "@jupyter-widgets/controls",
          "model_name": "HBoxModel",
          "model_module_version": "1.5.0",
          "state": {
            "_view_name": "HBoxView",
            "_dom_classes": [],
            "_model_name": "HBoxModel",
            "_view_module": "@jupyter-widgets/controls",
            "_model_module_version": "1.5.0",
            "_view_count": null,
            "_view_module_version": "1.5.0",
            "box_style": "",
            "layout": "IPY_MODEL_dfb125849a1b4b649781f3707f41b70d",
            "_model_module": "@jupyter-widgets/controls",
            "children": [
              "IPY_MODEL_f0a81a0aaeef45b58834770332257bb9",
              "IPY_MODEL_0bc64825535c49c086aafd7697da6204"
            ]
          }
        },
        "dfb125849a1b4b649781f3707f41b70d": {
          "model_module": "@jupyter-widgets/base",
          "model_name": "LayoutModel",
          "model_module_version": "1.2.0",
          "state": {
            "_view_name": "LayoutView",
            "grid_template_rows": null,
            "right": null,
            "justify_content": null,
            "_view_module": "@jupyter-widgets/base",
            "overflow": null,
            "_model_module_version": "1.2.0",
            "_view_count": null,
            "flex_flow": null,
            "width": null,
            "min_width": null,
            "border": null,
            "align_items": null,
            "bottom": null,
            "_model_module": "@jupyter-widgets/base",
            "top": null,
            "grid_column": null,
            "overflow_y": null,
            "overflow_x": null,
            "grid_auto_flow": null,
            "grid_area": null,
            "grid_template_columns": null,
            "flex": null,
            "_model_name": "LayoutModel",
            "justify_items": null,
            "grid_row": null,
            "max_height": null,
            "align_content": null,
            "visibility": null,
            "align_self": null,
            "height": null,
            "min_height": null,
            "padding": null,
            "grid_auto_rows": null,
            "grid_gap": null,
            "max_width": null,
            "order": null,
            "_view_module_version": "1.2.0",
            "grid_template_areas": null,
            "object_position": null,
            "object_fit": null,
            "grid_auto_columns": null,
            "margin": null,
            "display": null,
            "left": null
          }
        },
        "f0a81a0aaeef45b58834770332257bb9": {
          "model_module": "@jupyter-widgets/controls",
          "model_name": "FloatProgressModel",
          "model_module_version": "1.5.0",
          "state": {
            "_view_name": "ProgressView",
            "style": "IPY_MODEL_e9542d8238e6406fa7528b05023b0c1b",
            "_dom_classes": [],
            "description": "Downloading: 100%",
            "_model_name": "FloatProgressModel",
            "bar_style": "success",
            "max": 134,
            "_view_module": "@jupyter-widgets/controls",
            "_model_module_version": "1.5.0",
            "value": 134,
            "_view_count": null,
            "_view_module_version": "1.5.0",
            "orientation": "horizontal",
            "min": 0,
            "description_tooltip": null,
            "_model_module": "@jupyter-widgets/controls",
            "layout": "IPY_MODEL_48ebf8ad622f468fabfe27e3dd91b0f9"
          }
        },
        "0bc64825535c49c086aafd7697da6204": {
          "model_module": "@jupyter-widgets/controls",
          "model_name": "HTMLModel",
          "model_module_version": "1.5.0",
          "state": {
            "_view_name": "HTMLView",
            "style": "IPY_MODEL_7dec82a72f814a5085d55dc7cae87495",
            "_dom_classes": [],
            "description": "",
            "_model_name": "HTMLModel",
            "placeholder": "​",
            "_view_module": "@jupyter-widgets/controls",
            "_model_module_version": "1.5.0",
            "value": " 134/134 [00:00&lt;00:00, 188B/s]",
            "_view_count": null,
            "_view_module_version": "1.5.0",
            "description_tooltip": null,
            "_model_module": "@jupyter-widgets/controls",
            "layout": "IPY_MODEL_00afb8598e31454eb8ee59dc30407bae"
          }
        },
        "e9542d8238e6406fa7528b05023b0c1b": {
          "model_module": "@jupyter-widgets/controls",
          "model_name": "ProgressStyleModel",
          "model_module_version": "1.5.0",
          "state": {
            "_view_name": "StyleView",
            "_model_name": "ProgressStyleModel",
            "description_width": "initial",
            "_view_module": "@jupyter-widgets/base",
            "_model_module_version": "1.5.0",
            "_view_count": null,
            "_view_module_version": "1.2.0",
            "bar_color": null,
            "_model_module": "@jupyter-widgets/controls"
          }
        },
        "48ebf8ad622f468fabfe27e3dd91b0f9": {
          "model_module": "@jupyter-widgets/base",
          "model_name": "LayoutModel",
          "model_module_version": "1.2.0",
          "state": {
            "_view_name": "LayoutView",
            "grid_template_rows": null,
            "right": null,
            "justify_content": null,
            "_view_module": "@jupyter-widgets/base",
            "overflow": null,
            "_model_module_version": "1.2.0",
            "_view_count": null,
            "flex_flow": null,
            "width": null,
            "min_width": null,
            "border": null,
            "align_items": null,
            "bottom": null,
            "_model_module": "@jupyter-widgets/base",
            "top": null,
            "grid_column": null,
            "overflow_y": null,
            "overflow_x": null,
            "grid_auto_flow": null,
            "grid_area": null,
            "grid_template_columns": null,
            "flex": null,
            "_model_name": "LayoutModel",
            "justify_items": null,
            "grid_row": null,
            "max_height": null,
            "align_content": null,
            "visibility": null,
            "align_self": null,
            "height": null,
            "min_height": null,
            "padding": null,
            "grid_auto_rows": null,
            "grid_gap": null,
            "max_width": null,
            "order": null,
            "_view_module_version": "1.2.0",
            "grid_template_areas": null,
            "object_position": null,
            "object_fit": null,
            "grid_auto_columns": null,
            "margin": null,
            "display": null,
            "left": null
          }
        },
        "7dec82a72f814a5085d55dc7cae87495": {
          "model_module": "@jupyter-widgets/controls",
          "model_name": "DescriptionStyleModel",
          "model_module_version": "1.5.0",
          "state": {
            "_view_name": "StyleView",
            "_model_name": "DescriptionStyleModel",
            "description_width": "",
            "_view_module": "@jupyter-widgets/base",
            "_model_module_version": "1.5.0",
            "_view_count": null,
            "_view_module_version": "1.2.0",
            "_model_module": "@jupyter-widgets/controls"
          }
        },
        "00afb8598e31454eb8ee59dc30407bae": {
          "model_module": "@jupyter-widgets/base",
          "model_name": "LayoutModel",
          "model_module_version": "1.2.0",
          "state": {
            "_view_name": "LayoutView",
            "grid_template_rows": null,
            "right": null,
            "justify_content": null,
            "_view_module": "@jupyter-widgets/base",
            "overflow": null,
            "_model_module_version": "1.2.0",
            "_view_count": null,
            "flex_flow": null,
            "width": null,
            "min_width": null,
            "border": null,
            "align_items": null,
            "bottom": null,
            "_model_module": "@jupyter-widgets/base",
            "top": null,
            "grid_column": null,
            "overflow_y": null,
            "overflow_x": null,
            "grid_auto_flow": null,
            "grid_area": null,
            "grid_template_columns": null,
            "flex": null,
            "_model_name": "LayoutModel",
            "justify_items": null,
            "grid_row": null,
            "max_height": null,
            "align_content": null,
            "visibility": null,
            "align_self": null,
            "height": null,
            "min_height": null,
            "padding": null,
            "grid_auto_rows": null,
            "grid_gap": null,
            "max_width": null,
            "order": null,
            "_view_module_version": "1.2.0",
            "grid_template_areas": null,
            "object_position": null,
            "object_fit": null,
            "grid_auto_columns": null,
            "margin": null,
            "display": null,
            "left": null
          }
        },
        "74de2c79a7364a13bdc44fb830f2da83": {
          "model_module": "@jupyter-widgets/controls",
          "model_name": "HBoxModel",
          "model_module_version": "1.5.0",
          "state": {
            "_view_name": "HBoxView",
            "_dom_classes": [],
            "_model_name": "HBoxModel",
            "_view_module": "@jupyter-widgets/controls",
            "_model_module_version": "1.5.0",
            "_view_count": null,
            "_view_module_version": "1.5.0",
            "box_style": "",
            "layout": "IPY_MODEL_7ad49503e1f145999b1057c0869df034",
            "_model_module": "@jupyter-widgets/controls",
            "children": [
              "IPY_MODEL_fb422261fe2348da86e12aa45b89cb63",
              "IPY_MODEL_135c4e24c64e4cb3a673ea25ec9fcab4"
            ]
          }
        },
        "7ad49503e1f145999b1057c0869df034": {
          "model_module": "@jupyter-widgets/base",
          "model_name": "LayoutModel",
          "model_module_version": "1.2.0",
          "state": {
            "_view_name": "LayoutView",
            "grid_template_rows": null,
            "right": null,
            "justify_content": null,
            "_view_module": "@jupyter-widgets/base",
            "overflow": null,
            "_model_module_version": "1.2.0",
            "_view_count": null,
            "flex_flow": null,
            "width": null,
            "min_width": null,
            "border": null,
            "align_items": null,
            "bottom": null,
            "_model_module": "@jupyter-widgets/base",
            "top": null,
            "grid_column": null,
            "overflow_y": null,
            "overflow_x": null,
            "grid_auto_flow": null,
            "grid_area": null,
            "grid_template_columns": null,
            "flex": null,
            "_model_name": "LayoutModel",
            "justify_items": null,
            "grid_row": null,
            "max_height": null,
            "align_content": null,
            "visibility": null,
            "align_self": null,
            "height": null,
            "min_height": null,
            "padding": null,
            "grid_auto_rows": null,
            "grid_gap": null,
            "max_width": null,
            "order": null,
            "_view_module_version": "1.2.0",
            "grid_template_areas": null,
            "object_position": null,
            "object_fit": null,
            "grid_auto_columns": null,
            "margin": null,
            "display": null,
            "left": null
          }
        },
        "fb422261fe2348da86e12aa45b89cb63": {
          "model_module": "@jupyter-widgets/controls",
          "model_name": "FloatProgressModel",
          "model_module_version": "1.5.0",
          "state": {
            "_view_name": "ProgressView",
            "style": "IPY_MODEL_0485d935cee34f048ee13e6cf117fa06",
            "_dom_classes": [],
            "description": "Downloading: 100%",
            "_model_name": "FloatProgressModel",
            "bar_style": "success",
            "max": 473451616,
            "_view_module": "@jupyter-widgets/controls",
            "_model_module_version": "1.5.0",
            "value": 473451616,
            "_view_count": null,
            "_view_module_version": "1.5.0",
            "orientation": "horizontal",
            "min": 0,
            "description_tooltip": null,
            "_model_module": "@jupyter-widgets/controls",
            "layout": "IPY_MODEL_c45f3a63c872454b9eae303e94dce1d7"
          }
        },
        "135c4e24c64e4cb3a673ea25ec9fcab4": {
          "model_module": "@jupyter-widgets/controls",
          "model_name": "HTMLModel",
          "model_module_version": "1.5.0",
          "state": {
            "_view_name": "HTMLView",
            "style": "IPY_MODEL_e5e971996b5d4040ad73ee88d8458567",
            "_dom_classes": [],
            "description": "",
            "_model_name": "HTMLModel",
            "placeholder": "​",
            "_view_module": "@jupyter-widgets/controls",
            "_model_module_version": "1.5.0",
            "value": " 473M/473M [00:11&lt;00:00, 41.6MB/s]",
            "_view_count": null,
            "_view_module_version": "1.5.0",
            "description_tooltip": null,
            "_model_module": "@jupyter-widgets/controls",
            "layout": "IPY_MODEL_39cc9ab8512c422c96f64c8f7e9a7e22"
          }
        },
        "0485d935cee34f048ee13e6cf117fa06": {
          "model_module": "@jupyter-widgets/controls",
          "model_name": "ProgressStyleModel",
          "model_module_version": "1.5.0",
          "state": {
            "_view_name": "StyleView",
            "_model_name": "ProgressStyleModel",
            "description_width": "initial",
            "_view_module": "@jupyter-widgets/base",
            "_model_module_version": "1.5.0",
            "_view_count": null,
            "_view_module_version": "1.2.0",
            "bar_color": null,
            "_model_module": "@jupyter-widgets/controls"
          }
        },
        "c45f3a63c872454b9eae303e94dce1d7": {
          "model_module": "@jupyter-widgets/base",
          "model_name": "LayoutModel",
          "model_module_version": "1.2.0",
          "state": {
            "_view_name": "LayoutView",
            "grid_template_rows": null,
            "right": null,
            "justify_content": null,
            "_view_module": "@jupyter-widgets/base",
            "overflow": null,
            "_model_module_version": "1.2.0",
            "_view_count": null,
            "flex_flow": null,
            "width": null,
            "min_width": null,
            "border": null,
            "align_items": null,
            "bottom": null,
            "_model_module": "@jupyter-widgets/base",
            "top": null,
            "grid_column": null,
            "overflow_y": null,
            "overflow_x": null,
            "grid_auto_flow": null,
            "grid_area": null,
            "grid_template_columns": null,
            "flex": null,
            "_model_name": "LayoutModel",
            "justify_items": null,
            "grid_row": null,
            "max_height": null,
            "align_content": null,
            "visibility": null,
            "align_self": null,
            "height": null,
            "min_height": null,
            "padding": null,
            "grid_auto_rows": null,
            "grid_gap": null,
            "max_width": null,
            "order": null,
            "_view_module_version": "1.2.0",
            "grid_template_areas": null,
            "object_position": null,
            "object_fit": null,
            "grid_auto_columns": null,
            "margin": null,
            "display": null,
            "left": null
          }
        },
        "e5e971996b5d4040ad73ee88d8458567": {
          "model_module": "@jupyter-widgets/controls",
          "model_name": "DescriptionStyleModel",
          "model_module_version": "1.5.0",
          "state": {
            "_view_name": "StyleView",
            "_model_name": "DescriptionStyleModel",
            "description_width": "",
            "_view_module": "@jupyter-widgets/base",
            "_model_module_version": "1.5.0",
            "_view_count": null,
            "_view_module_version": "1.2.0",
            "_model_module": "@jupyter-widgets/controls"
          }
        },
        "39cc9ab8512c422c96f64c8f7e9a7e22": {
          "model_module": "@jupyter-widgets/base",
          "model_name": "LayoutModel",
          "model_module_version": "1.2.0",
          "state": {
            "_view_name": "LayoutView",
            "grid_template_rows": null,
            "right": null,
            "justify_content": null,
            "_view_module": "@jupyter-widgets/base",
            "overflow": null,
            "_model_module_version": "1.2.0",
            "_view_count": null,
            "flex_flow": null,
            "width": null,
            "min_width": null,
            "border": null,
            "align_items": null,
            "bottom": null,
            "_model_module": "@jupyter-widgets/base",
            "top": null,
            "grid_column": null,
            "overflow_y": null,
            "overflow_x": null,
            "grid_auto_flow": null,
            "grid_area": null,
            "grid_template_columns": null,
            "flex": null,
            "_model_name": "LayoutModel",
            "justify_items": null,
            "grid_row": null,
            "max_height": null,
            "align_content": null,
            "visibility": null,
            "align_self": null,
            "height": null,
            "min_height": null,
            "padding": null,
            "grid_auto_rows": null,
            "grid_gap": null,
            "max_width": null,
            "order": null,
            "_view_module_version": "1.2.0",
            "grid_template_areas": null,
            "object_position": null,
            "object_fit": null,
            "grid_auto_columns": null,
            "margin": null,
            "display": null,
            "left": null
          }
        },
        "311e385eaf704fc595edc60b028c23b8": {
          "model_module": "@jupyter-widgets/controls",
          "model_name": "HBoxModel",
          "model_module_version": "1.5.0",
          "state": {
            "_view_name": "HBoxView",
            "_dom_classes": [],
            "_model_name": "HBoxModel",
            "_view_module": "@jupyter-widgets/controls",
            "_model_module_version": "1.5.0",
            "_view_count": null,
            "_view_module_version": "1.5.0",
            "box_style": "",
            "layout": "IPY_MODEL_4f244bb422544661ab22a328febd6047",
            "_model_module": "@jupyter-widgets/controls",
            "children": [
              "IPY_MODEL_70ca9c995d5841f580b8cd327c4f14f7",
              "IPY_MODEL_b03372af5f9a4ad49610824c39542328"
            ]
          }
        },
        "4f244bb422544661ab22a328febd6047": {
          "model_module": "@jupyter-widgets/base",
          "model_name": "LayoutModel",
          "model_module_version": "1.2.0",
          "state": {
            "_view_name": "LayoutView",
            "grid_template_rows": null,
            "right": null,
            "justify_content": null,
            "_view_module": "@jupyter-widgets/base",
            "overflow": null,
            "_model_module_version": "1.2.0",
            "_view_count": null,
            "flex_flow": null,
            "width": null,
            "min_width": null,
            "border": null,
            "align_items": null,
            "bottom": null,
            "_model_module": "@jupyter-widgets/base",
            "top": null,
            "grid_column": null,
            "overflow_y": null,
            "overflow_x": null,
            "grid_auto_flow": null,
            "grid_area": null,
            "grid_template_columns": null,
            "flex": null,
            "_model_name": "LayoutModel",
            "justify_items": null,
            "grid_row": null,
            "max_height": null,
            "align_content": null,
            "visibility": null,
            "align_self": null,
            "height": null,
            "min_height": null,
            "padding": null,
            "grid_auto_rows": null,
            "grid_gap": null,
            "max_width": null,
            "order": null,
            "_view_module_version": "1.2.0",
            "grid_template_areas": null,
            "object_position": null,
            "object_fit": null,
            "grid_auto_columns": null,
            "margin": null,
            "display": null,
            "left": null
          }
        },
        "70ca9c995d5841f580b8cd327c4f14f7": {
          "model_module": "@jupyter-widgets/controls",
          "model_name": "FloatProgressModel",
          "model_module_version": "1.5.0",
          "state": {
            "_view_name": "ProgressView",
            "style": "IPY_MODEL_754f6c65d48b43fa8e48393442f24f1c",
            "_dom_classes": [],
            "description": "100%",
            "_model_name": "FloatProgressModel",
            "bar_style": "success",
            "max": 4,
            "_view_module": "@jupyter-widgets/controls",
            "_model_module_version": "1.5.0",
            "value": 4,
            "_view_count": null,
            "_view_module_version": "1.5.0",
            "orientation": "horizontal",
            "min": 0,
            "description_tooltip": null,
            "_model_module": "@jupyter-widgets/controls",
            "layout": "IPY_MODEL_35791a660d604cce8d92ded9978d2a90"
          }
        },
        "b03372af5f9a4ad49610824c39542328": {
          "model_module": "@jupyter-widgets/controls",
          "model_name": "HTMLModel",
          "model_module_version": "1.5.0",
          "state": {
            "_view_name": "HTMLView",
            "style": "IPY_MODEL_d64ca1a959474e6caf0b5441d05bdb81",
            "_dom_classes": [],
            "description": "",
            "_model_name": "HTMLModel",
            "placeholder": "​",
            "_view_module": "@jupyter-widgets/controls",
            "_model_module_version": "1.5.0",
            "value": " 4/4 [10:23&lt;00:00, 155.97s/it]",
            "_view_count": null,
            "_view_module_version": "1.5.0",
            "description_tooltip": null,
            "_model_module": "@jupyter-widgets/controls",
            "layout": "IPY_MODEL_8d91b90b3ce4453e9a5f7be19fc10ad4"
          }
        },
        "754f6c65d48b43fa8e48393442f24f1c": {
          "model_module": "@jupyter-widgets/controls",
          "model_name": "ProgressStyleModel",
          "model_module_version": "1.5.0",
          "state": {
            "_view_name": "StyleView",
            "_model_name": "ProgressStyleModel",
            "description_width": "initial",
            "_view_module": "@jupyter-widgets/base",
            "_model_module_version": "1.5.0",
            "_view_count": null,
            "_view_module_version": "1.2.0",
            "bar_color": null,
            "_model_module": "@jupyter-widgets/controls"
          }
        },
        "35791a660d604cce8d92ded9978d2a90": {
          "model_module": "@jupyter-widgets/base",
          "model_name": "LayoutModel",
          "model_module_version": "1.2.0",
          "state": {
            "_view_name": "LayoutView",
            "grid_template_rows": null,
            "right": null,
            "justify_content": null,
            "_view_module": "@jupyter-widgets/base",
            "overflow": null,
            "_model_module_version": "1.2.0",
            "_view_count": null,
            "flex_flow": null,
            "width": null,
            "min_width": null,
            "border": null,
            "align_items": null,
            "bottom": null,
            "_model_module": "@jupyter-widgets/base",
            "top": null,
            "grid_column": null,
            "overflow_y": null,
            "overflow_x": null,
            "grid_auto_flow": null,
            "grid_area": null,
            "grid_template_columns": null,
            "flex": null,
            "_model_name": "LayoutModel",
            "justify_items": null,
            "grid_row": null,
            "max_height": null,
            "align_content": null,
            "visibility": null,
            "align_self": null,
            "height": null,
            "min_height": null,
            "padding": null,
            "grid_auto_rows": null,
            "grid_gap": null,
            "max_width": null,
            "order": null,
            "_view_module_version": "1.2.0",
            "grid_template_areas": null,
            "object_position": null,
            "object_fit": null,
            "grid_auto_columns": null,
            "margin": null,
            "display": null,
            "left": null
          }
        },
        "d64ca1a959474e6caf0b5441d05bdb81": {
          "model_module": "@jupyter-widgets/controls",
          "model_name": "DescriptionStyleModel",
          "model_module_version": "1.5.0",
          "state": {
            "_view_name": "StyleView",
            "_model_name": "DescriptionStyleModel",
            "description_width": "",
            "_view_module": "@jupyter-widgets/base",
            "_model_module_version": "1.5.0",
            "_view_count": null,
            "_view_module_version": "1.2.0",
            "_model_module": "@jupyter-widgets/controls"
          }
        },
        "8d91b90b3ce4453e9a5f7be19fc10ad4": {
          "model_module": "@jupyter-widgets/base",
          "model_name": "LayoutModel",
          "model_module_version": "1.2.0",
          "state": {
            "_view_name": "LayoutView",
            "grid_template_rows": null,
            "right": null,
            "justify_content": null,
            "_view_module": "@jupyter-widgets/base",
            "overflow": null,
            "_model_module_version": "1.2.0",
            "_view_count": null,
            "flex_flow": null,
            "width": null,
            "min_width": null,
            "border": null,
            "align_items": null,
            "bottom": null,
            "_model_module": "@jupyter-widgets/base",
            "top": null,
            "grid_column": null,
            "overflow_y": null,
            "overflow_x": null,
            "grid_auto_flow": null,
            "grid_area": null,
            "grid_template_columns": null,
            "flex": null,
            "_model_name": "LayoutModel",
            "justify_items": null,
            "grid_row": null,
            "max_height": null,
            "align_content": null,
            "visibility": null,
            "align_self": null,
            "height": null,
            "min_height": null,
            "padding": null,
            "grid_auto_rows": null,
            "grid_gap": null,
            "max_width": null,
            "order": null,
            "_view_module_version": "1.2.0",
            "grid_template_areas": null,
            "object_position": null,
            "object_fit": null,
            "grid_auto_columns": null,
            "margin": null,
            "display": null,
            "left": null
          }
        },
        "e315ab7be8694dc7a3550c4ded72b01f": {
          "model_module": "@jupyter-widgets/controls",
          "model_name": "HBoxModel",
          "model_module_version": "1.5.0",
          "state": {
            "_view_name": "HBoxView",
            "_dom_classes": [],
            "_model_name": "HBoxModel",
            "_view_module": "@jupyter-widgets/controls",
            "_model_module_version": "1.5.0",
            "_view_count": null,
            "_view_module_version": "1.5.0",
            "box_style": "",
            "layout": "IPY_MODEL_0d4783e4b1bb4bfb9090158e8831e36d",
            "_model_module": "@jupyter-widgets/controls",
            "children": [
              "IPY_MODEL_5fddacc3139f4dbf95bf215292351990",
              "IPY_MODEL_b460854aeab14e0e9faaefaa40c769bb"
            ]
          }
        },
        "0d4783e4b1bb4bfb9090158e8831e36d": {
          "model_module": "@jupyter-widgets/base",
          "model_name": "LayoutModel",
          "model_module_version": "1.2.0",
          "state": {
            "_view_name": "LayoutView",
            "grid_template_rows": null,
            "right": null,
            "justify_content": null,
            "_view_module": "@jupyter-widgets/base",
            "overflow": null,
            "_model_module_version": "1.2.0",
            "_view_count": null,
            "flex_flow": null,
            "width": null,
            "min_width": null,
            "border": null,
            "align_items": null,
            "bottom": null,
            "_model_module": "@jupyter-widgets/base",
            "top": null,
            "grid_column": null,
            "overflow_y": null,
            "overflow_x": null,
            "grid_auto_flow": null,
            "grid_area": null,
            "grid_template_columns": null,
            "flex": null,
            "_model_name": "LayoutModel",
            "justify_items": null,
            "grid_row": null,
            "max_height": null,
            "align_content": null,
            "visibility": null,
            "align_self": null,
            "height": null,
            "min_height": null,
            "padding": null,
            "grid_auto_rows": null,
            "grid_gap": null,
            "max_width": null,
            "order": null,
            "_view_module_version": "1.2.0",
            "grid_template_areas": null,
            "object_position": null,
            "object_fit": null,
            "grid_auto_columns": null,
            "margin": null,
            "display": null,
            "left": null
          }
        },
        "5fddacc3139f4dbf95bf215292351990": {
          "model_module": "@jupyter-widgets/controls",
          "model_name": "FloatProgressModel",
          "model_module_version": "1.5.0",
          "state": {
            "_view_name": "ProgressView",
            "style": "IPY_MODEL_68fc69b849af40118c5993cc05166622",
            "_dom_classes": [],
            "description": "Epoch 1: 100%",
            "_model_name": "FloatProgressModel",
            "bar_style": "",
            "max": 500,
            "_view_module": "@jupyter-widgets/controls",
            "_model_module_version": "1.5.0",
            "value": 500,
            "_view_count": null,
            "_view_module_version": "1.5.0",
            "orientation": "horizontal",
            "min": 0,
            "description_tooltip": null,
            "_model_module": "@jupyter-widgets/controls",
            "layout": "IPY_MODEL_1e94bd265b2148ca95acdebb0db16dd2"
          }
        },
        "b460854aeab14e0e9faaefaa40c769bb": {
          "model_module": "@jupyter-widgets/controls",
          "model_name": "HTMLModel",
          "model_module_version": "1.5.0",
          "state": {
            "_view_name": "HTMLView",
            "style": "IPY_MODEL_4b00bee378ac467999707b69b2bb94e4",
            "_dom_classes": [],
            "description": "",
            "_model_name": "HTMLModel",
            "placeholder": "​",
            "_view_module": "@jupyter-widgets/controls",
            "_model_module_version": "1.5.0",
            "value": " 500/500 [02:12&lt;00:00,  3.73it/s, training_loss=0.274]",
            "_view_count": null,
            "_view_module_version": "1.5.0",
            "description_tooltip": null,
            "_model_module": "@jupyter-widgets/controls",
            "layout": "IPY_MODEL_f7e4ac21eaac4d13b502f3a5f6c4f514"
          }
        },
        "68fc69b849af40118c5993cc05166622": {
          "model_module": "@jupyter-widgets/controls",
          "model_name": "ProgressStyleModel",
          "model_module_version": "1.5.0",
          "state": {
            "_view_name": "StyleView",
            "_model_name": "ProgressStyleModel",
            "description_width": "initial",
            "_view_module": "@jupyter-widgets/base",
            "_model_module_version": "1.5.0",
            "_view_count": null,
            "_view_module_version": "1.2.0",
            "bar_color": null,
            "_model_module": "@jupyter-widgets/controls"
          }
        },
        "1e94bd265b2148ca95acdebb0db16dd2": {
          "model_module": "@jupyter-widgets/base",
          "model_name": "LayoutModel",
          "model_module_version": "1.2.0",
          "state": {
            "_view_name": "LayoutView",
            "grid_template_rows": null,
            "right": null,
            "justify_content": null,
            "_view_module": "@jupyter-widgets/base",
            "overflow": null,
            "_model_module_version": "1.2.0",
            "_view_count": null,
            "flex_flow": null,
            "width": null,
            "min_width": null,
            "border": null,
            "align_items": null,
            "bottom": null,
            "_model_module": "@jupyter-widgets/base",
            "top": null,
            "grid_column": null,
            "overflow_y": null,
            "overflow_x": null,
            "grid_auto_flow": null,
            "grid_area": null,
            "grid_template_columns": null,
            "flex": null,
            "_model_name": "LayoutModel",
            "justify_items": null,
            "grid_row": null,
            "max_height": null,
            "align_content": null,
            "visibility": null,
            "align_self": null,
            "height": null,
            "min_height": null,
            "padding": null,
            "grid_auto_rows": null,
            "grid_gap": null,
            "max_width": null,
            "order": null,
            "_view_module_version": "1.2.0",
            "grid_template_areas": null,
            "object_position": null,
            "object_fit": null,
            "grid_auto_columns": null,
            "margin": null,
            "display": null,
            "left": null
          }
        },
        "4b00bee378ac467999707b69b2bb94e4": {
          "model_module": "@jupyter-widgets/controls",
          "model_name": "DescriptionStyleModel",
          "model_module_version": "1.5.0",
          "state": {
            "_view_name": "StyleView",
            "_model_name": "DescriptionStyleModel",
            "description_width": "",
            "_view_module": "@jupyter-widgets/base",
            "_model_module_version": "1.5.0",
            "_view_count": null,
            "_view_module_version": "1.2.0",
            "_model_module": "@jupyter-widgets/controls"
          }
        },
        "f7e4ac21eaac4d13b502f3a5f6c4f514": {
          "model_module": "@jupyter-widgets/base",
          "model_name": "LayoutModel",
          "model_module_version": "1.2.0",
          "state": {
            "_view_name": "LayoutView",
            "grid_template_rows": null,
            "right": null,
            "justify_content": null,
            "_view_module": "@jupyter-widgets/base",
            "overflow": null,
            "_model_module_version": "1.2.0",
            "_view_count": null,
            "flex_flow": null,
            "width": null,
            "min_width": null,
            "border": null,
            "align_items": null,
            "bottom": null,
            "_model_module": "@jupyter-widgets/base",
            "top": null,
            "grid_column": null,
            "overflow_y": null,
            "overflow_x": null,
            "grid_auto_flow": null,
            "grid_area": null,
            "grid_template_columns": null,
            "flex": null,
            "_model_name": "LayoutModel",
            "justify_items": null,
            "grid_row": null,
            "max_height": null,
            "align_content": null,
            "visibility": null,
            "align_self": null,
            "height": null,
            "min_height": null,
            "padding": null,
            "grid_auto_rows": null,
            "grid_gap": null,
            "max_width": null,
            "order": null,
            "_view_module_version": "1.2.0",
            "grid_template_areas": null,
            "object_position": null,
            "object_fit": null,
            "grid_auto_columns": null,
            "margin": null,
            "display": null,
            "left": null
          }
        },
        "cce5af3fa47b4e37b12e6f593ec394e4": {
          "model_module": "@jupyter-widgets/controls",
          "model_name": "HBoxModel",
          "model_module_version": "1.5.0",
          "state": {
            "_view_name": "HBoxView",
            "_dom_classes": [],
            "_model_name": "HBoxModel",
            "_view_module": "@jupyter-widgets/controls",
            "_model_module_version": "1.5.0",
            "_view_count": null,
            "_view_module_version": "1.5.0",
            "box_style": "",
            "layout": "IPY_MODEL_0e661627823a4d13ba0450297f1b32d5",
            "_model_module": "@jupyter-widgets/controls",
            "children": [
              "IPY_MODEL_455e6556322741a4a6716474ce78f38c",
              "IPY_MODEL_ef668e9de89647359e018d63d03b302e"
            ]
          }
        },
        "0e661627823a4d13ba0450297f1b32d5": {
          "model_module": "@jupyter-widgets/base",
          "model_name": "LayoutModel",
          "model_module_version": "1.2.0",
          "state": {
            "_view_name": "LayoutView",
            "grid_template_rows": null,
            "right": null,
            "justify_content": null,
            "_view_module": "@jupyter-widgets/base",
            "overflow": null,
            "_model_module_version": "1.2.0",
            "_view_count": null,
            "flex_flow": null,
            "width": null,
            "min_width": null,
            "border": null,
            "align_items": null,
            "bottom": null,
            "_model_module": "@jupyter-widgets/base",
            "top": null,
            "grid_column": null,
            "overflow_y": null,
            "overflow_x": null,
            "grid_auto_flow": null,
            "grid_area": null,
            "grid_template_columns": null,
            "flex": null,
            "_model_name": "LayoutModel",
            "justify_items": null,
            "grid_row": null,
            "max_height": null,
            "align_content": null,
            "visibility": null,
            "align_self": null,
            "height": null,
            "min_height": null,
            "padding": null,
            "grid_auto_rows": null,
            "grid_gap": null,
            "max_width": null,
            "order": null,
            "_view_module_version": "1.2.0",
            "grid_template_areas": null,
            "object_position": null,
            "object_fit": null,
            "grid_auto_columns": null,
            "margin": null,
            "display": null,
            "left": null
          }
        },
        "455e6556322741a4a6716474ce78f38c": {
          "model_module": "@jupyter-widgets/controls",
          "model_name": "FloatProgressModel",
          "model_module_version": "1.5.0",
          "state": {
            "_view_name": "ProgressView",
            "style": "IPY_MODEL_c7cb39fab6b747fda221cc7d3cdb7a12",
            "_dom_classes": [],
            "description": "Epoch 2: 100%",
            "_model_name": "FloatProgressModel",
            "bar_style": "",
            "max": 500,
            "_view_module": "@jupyter-widgets/controls",
            "_model_module_version": "1.5.0",
            "value": 500,
            "_view_count": null,
            "_view_module_version": "1.5.0",
            "orientation": "horizontal",
            "min": 0,
            "description_tooltip": null,
            "_model_module": "@jupyter-widgets/controls",
            "layout": "IPY_MODEL_6513b071a1e942888da2d6aba3fa3e8e"
          }
        },
        "ef668e9de89647359e018d63d03b302e": {
          "model_module": "@jupyter-widgets/controls",
          "model_name": "HTMLModel",
          "model_module_version": "1.5.0",
          "state": {
            "_view_name": "HTMLView",
            "style": "IPY_MODEL_2a03e95a8a7647a09e538f5224f3037d",
            "_dom_classes": [],
            "description": "",
            "_model_name": "HTMLModel",
            "placeholder": "​",
            "_view_module": "@jupyter-widgets/controls",
            "_model_module_version": "1.5.0",
            "value": " 500/500 [02:19&lt;00:00,  3.66it/s, training_loss=0.216]",
            "_view_count": null,
            "_view_module_version": "1.5.0",
            "description_tooltip": null,
            "_model_module": "@jupyter-widgets/controls",
            "layout": "IPY_MODEL_bf096be1419347ababb87f82d8ed69cf"
          }
        },
        "c7cb39fab6b747fda221cc7d3cdb7a12": {
          "model_module": "@jupyter-widgets/controls",
          "model_name": "ProgressStyleModel",
          "model_module_version": "1.5.0",
          "state": {
            "_view_name": "StyleView",
            "_model_name": "ProgressStyleModel",
            "description_width": "initial",
            "_view_module": "@jupyter-widgets/base",
            "_model_module_version": "1.5.0",
            "_view_count": null,
            "_view_module_version": "1.2.0",
            "bar_color": null,
            "_model_module": "@jupyter-widgets/controls"
          }
        },
        "6513b071a1e942888da2d6aba3fa3e8e": {
          "model_module": "@jupyter-widgets/base",
          "model_name": "LayoutModel",
          "model_module_version": "1.2.0",
          "state": {
            "_view_name": "LayoutView",
            "grid_template_rows": null,
            "right": null,
            "justify_content": null,
            "_view_module": "@jupyter-widgets/base",
            "overflow": null,
            "_model_module_version": "1.2.0",
            "_view_count": null,
            "flex_flow": null,
            "width": null,
            "min_width": null,
            "border": null,
            "align_items": null,
            "bottom": null,
            "_model_module": "@jupyter-widgets/base",
            "top": null,
            "grid_column": null,
            "overflow_y": null,
            "overflow_x": null,
            "grid_auto_flow": null,
            "grid_area": null,
            "grid_template_columns": null,
            "flex": null,
            "_model_name": "LayoutModel",
            "justify_items": null,
            "grid_row": null,
            "max_height": null,
            "align_content": null,
            "visibility": null,
            "align_self": null,
            "height": null,
            "min_height": null,
            "padding": null,
            "grid_auto_rows": null,
            "grid_gap": null,
            "max_width": null,
            "order": null,
            "_view_module_version": "1.2.0",
            "grid_template_areas": null,
            "object_position": null,
            "object_fit": null,
            "grid_auto_columns": null,
            "margin": null,
            "display": null,
            "left": null
          }
        },
        "2a03e95a8a7647a09e538f5224f3037d": {
          "model_module": "@jupyter-widgets/controls",
          "model_name": "DescriptionStyleModel",
          "model_module_version": "1.5.0",
          "state": {
            "_view_name": "StyleView",
            "_model_name": "DescriptionStyleModel",
            "description_width": "",
            "_view_module": "@jupyter-widgets/base",
            "_model_module_version": "1.5.0",
            "_view_count": null,
            "_view_module_version": "1.2.0",
            "_model_module": "@jupyter-widgets/controls"
          }
        },
        "bf096be1419347ababb87f82d8ed69cf": {
          "model_module": "@jupyter-widgets/base",
          "model_name": "LayoutModel",
          "model_module_version": "1.2.0",
          "state": {
            "_view_name": "LayoutView",
            "grid_template_rows": null,
            "right": null,
            "justify_content": null,
            "_view_module": "@jupyter-widgets/base",
            "overflow": null,
            "_model_module_version": "1.2.0",
            "_view_count": null,
            "flex_flow": null,
            "width": null,
            "min_width": null,
            "border": null,
            "align_items": null,
            "bottom": null,
            "_model_module": "@jupyter-widgets/base",
            "top": null,
            "grid_column": null,
            "overflow_y": null,
            "overflow_x": null,
            "grid_auto_flow": null,
            "grid_area": null,
            "grid_template_columns": null,
            "flex": null,
            "_model_name": "LayoutModel",
            "justify_items": null,
            "grid_row": null,
            "max_height": null,
            "align_content": null,
            "visibility": null,
            "align_self": null,
            "height": null,
            "min_height": null,
            "padding": null,
            "grid_auto_rows": null,
            "grid_gap": null,
            "max_width": null,
            "order": null,
            "_view_module_version": "1.2.0",
            "grid_template_areas": null,
            "object_position": null,
            "object_fit": null,
            "grid_auto_columns": null,
            "margin": null,
            "display": null,
            "left": null
          }
        },
        "131faac2b8ca4e61bc1a0e7e708029f2": {
          "model_module": "@jupyter-widgets/controls",
          "model_name": "HBoxModel",
          "model_module_version": "1.5.0",
          "state": {
            "_view_name": "HBoxView",
            "_dom_classes": [],
            "_model_name": "HBoxModel",
            "_view_module": "@jupyter-widgets/controls",
            "_model_module_version": "1.5.0",
            "_view_count": null,
            "_view_module_version": "1.5.0",
            "box_style": "",
            "layout": "IPY_MODEL_53ff607ba2be4793b63bf54baaa5b203",
            "_model_module": "@jupyter-widgets/controls",
            "children": [
              "IPY_MODEL_6a05d904a8d04b1abb6a45a6e2acd8a7",
              "IPY_MODEL_3b48bc2faf024c0cad54246a47f68ea4"
            ]
          }
        },
        "53ff607ba2be4793b63bf54baaa5b203": {
          "model_module": "@jupyter-widgets/base",
          "model_name": "LayoutModel",
          "model_module_version": "1.2.0",
          "state": {
            "_view_name": "LayoutView",
            "grid_template_rows": null,
            "right": null,
            "justify_content": null,
            "_view_module": "@jupyter-widgets/base",
            "overflow": null,
            "_model_module_version": "1.2.0",
            "_view_count": null,
            "flex_flow": null,
            "width": null,
            "min_width": null,
            "border": null,
            "align_items": null,
            "bottom": null,
            "_model_module": "@jupyter-widgets/base",
            "top": null,
            "grid_column": null,
            "overflow_y": null,
            "overflow_x": null,
            "grid_auto_flow": null,
            "grid_area": null,
            "grid_template_columns": null,
            "flex": null,
            "_model_name": "LayoutModel",
            "justify_items": null,
            "grid_row": null,
            "max_height": null,
            "align_content": null,
            "visibility": null,
            "align_self": null,
            "height": null,
            "min_height": null,
            "padding": null,
            "grid_auto_rows": null,
            "grid_gap": null,
            "max_width": null,
            "order": null,
            "_view_module_version": "1.2.0",
            "grid_template_areas": null,
            "object_position": null,
            "object_fit": null,
            "grid_auto_columns": null,
            "margin": null,
            "display": null,
            "left": null
          }
        },
        "6a05d904a8d04b1abb6a45a6e2acd8a7": {
          "model_module": "@jupyter-widgets/controls",
          "model_name": "FloatProgressModel",
          "model_module_version": "1.5.0",
          "state": {
            "_view_name": "ProgressView",
            "style": "IPY_MODEL_f2fe6a70ebad4e7f876ab7b0e5f7b08a",
            "_dom_classes": [],
            "description": "Epoch 3: 100%",
            "_model_name": "FloatProgressModel",
            "bar_style": "",
            "max": 500,
            "_view_module": "@jupyter-widgets/controls",
            "_model_module_version": "1.5.0",
            "value": 500,
            "_view_count": null,
            "_view_module_version": "1.5.0",
            "orientation": "horizontal",
            "min": 0,
            "description_tooltip": null,
            "_model_module": "@jupyter-widgets/controls",
            "layout": "IPY_MODEL_33b28d6352b4432b8f9aace62d9a95b7"
          }
        },
        "3b48bc2faf024c0cad54246a47f68ea4": {
          "model_module": "@jupyter-widgets/controls",
          "model_name": "HTMLModel",
          "model_module_version": "1.5.0",
          "state": {
            "_view_name": "HTMLView",
            "style": "IPY_MODEL_d711d331d98c45b9830b28ac2ae5627f",
            "_dom_classes": [],
            "description": "",
            "_model_name": "HTMLModel",
            "placeholder": "​",
            "_view_module": "@jupyter-widgets/controls",
            "_model_module_version": "1.5.0",
            "value": " 500/500 [02:20&lt;00:00,  3.65it/s, training_loss=0.056]",
            "_view_count": null,
            "_view_module_version": "1.5.0",
            "description_tooltip": null,
            "_model_module": "@jupyter-widgets/controls",
            "layout": "IPY_MODEL_78f5064344924452afd18439b0d9bb79"
          }
        },
        "f2fe6a70ebad4e7f876ab7b0e5f7b08a": {
          "model_module": "@jupyter-widgets/controls",
          "model_name": "ProgressStyleModel",
          "model_module_version": "1.5.0",
          "state": {
            "_view_name": "StyleView",
            "_model_name": "ProgressStyleModel",
            "description_width": "initial",
            "_view_module": "@jupyter-widgets/base",
            "_model_module_version": "1.5.0",
            "_view_count": null,
            "_view_module_version": "1.2.0",
            "bar_color": null,
            "_model_module": "@jupyter-widgets/controls"
          }
        },
        "33b28d6352b4432b8f9aace62d9a95b7": {
          "model_module": "@jupyter-widgets/base",
          "model_name": "LayoutModel",
          "model_module_version": "1.2.0",
          "state": {
            "_view_name": "LayoutView",
            "grid_template_rows": null,
            "right": null,
            "justify_content": null,
            "_view_module": "@jupyter-widgets/base",
            "overflow": null,
            "_model_module_version": "1.2.0",
            "_view_count": null,
            "flex_flow": null,
            "width": null,
            "min_width": null,
            "border": null,
            "align_items": null,
            "bottom": null,
            "_model_module": "@jupyter-widgets/base",
            "top": null,
            "grid_column": null,
            "overflow_y": null,
            "overflow_x": null,
            "grid_auto_flow": null,
            "grid_area": null,
            "grid_template_columns": null,
            "flex": null,
            "_model_name": "LayoutModel",
            "justify_items": null,
            "grid_row": null,
            "max_height": null,
            "align_content": null,
            "visibility": null,
            "align_self": null,
            "height": null,
            "min_height": null,
            "padding": null,
            "grid_auto_rows": null,
            "grid_gap": null,
            "max_width": null,
            "order": null,
            "_view_module_version": "1.2.0",
            "grid_template_areas": null,
            "object_position": null,
            "object_fit": null,
            "grid_auto_columns": null,
            "margin": null,
            "display": null,
            "left": null
          }
        },
        "d711d331d98c45b9830b28ac2ae5627f": {
          "model_module": "@jupyter-widgets/controls",
          "model_name": "DescriptionStyleModel",
          "model_module_version": "1.5.0",
          "state": {
            "_view_name": "StyleView",
            "_model_name": "DescriptionStyleModel",
            "description_width": "",
            "_view_module": "@jupyter-widgets/base",
            "_model_module_version": "1.5.0",
            "_view_count": null,
            "_view_module_version": "1.2.0",
            "_model_module": "@jupyter-widgets/controls"
          }
        },
        "78f5064344924452afd18439b0d9bb79": {
          "model_module": "@jupyter-widgets/base",
          "model_name": "LayoutModel",
          "model_module_version": "1.2.0",
          "state": {
            "_view_name": "LayoutView",
            "grid_template_rows": null,
            "right": null,
            "justify_content": null,
            "_view_module": "@jupyter-widgets/base",
            "overflow": null,
            "_model_module_version": "1.2.0",
            "_view_count": null,
            "flex_flow": null,
            "width": null,
            "min_width": null,
            "border": null,
            "align_items": null,
            "bottom": null,
            "_model_module": "@jupyter-widgets/base",
            "top": null,
            "grid_column": null,
            "overflow_y": null,
            "overflow_x": null,
            "grid_auto_flow": null,
            "grid_area": null,
            "grid_template_columns": null,
            "flex": null,
            "_model_name": "LayoutModel",
            "justify_items": null,
            "grid_row": null,
            "max_height": null,
            "align_content": null,
            "visibility": null,
            "align_self": null,
            "height": null,
            "min_height": null,
            "padding": null,
            "grid_auto_rows": null,
            "grid_gap": null,
            "max_width": null,
            "order": null,
            "_view_module_version": "1.2.0",
            "grid_template_areas": null,
            "object_position": null,
            "object_fit": null,
            "grid_auto_columns": null,
            "margin": null,
            "display": null,
            "left": null
          }
        },
        "d2356cefe8914068b5c05423680bebd2": {
          "model_module": "@jupyter-widgets/controls",
          "model_name": "HBoxModel",
          "model_module_version": "1.5.0",
          "state": {
            "_view_name": "HBoxView",
            "_dom_classes": [],
            "_model_name": "HBoxModel",
            "_view_module": "@jupyter-widgets/controls",
            "_model_module_version": "1.5.0",
            "_view_count": null,
            "_view_module_version": "1.5.0",
            "box_style": "",
            "layout": "IPY_MODEL_8c1d2f9544e0402a97306c67e49ddd81",
            "_model_module": "@jupyter-widgets/controls",
            "children": [
              "IPY_MODEL_318ab7a819754808b10430b7f6764398",
              "IPY_MODEL_d8ef535dd51a44c2acc298213b89c665"
            ]
          }
        },
        "8c1d2f9544e0402a97306c67e49ddd81": {
          "model_module": "@jupyter-widgets/base",
          "model_name": "LayoutModel",
          "model_module_version": "1.2.0",
          "state": {
            "_view_name": "LayoutView",
            "grid_template_rows": null,
            "right": null,
            "justify_content": null,
            "_view_module": "@jupyter-widgets/base",
            "overflow": null,
            "_model_module_version": "1.2.0",
            "_view_count": null,
            "flex_flow": null,
            "width": null,
            "min_width": null,
            "border": null,
            "align_items": null,
            "bottom": null,
            "_model_module": "@jupyter-widgets/base",
            "top": null,
            "grid_column": null,
            "overflow_y": null,
            "overflow_x": null,
            "grid_auto_flow": null,
            "grid_area": null,
            "grid_template_columns": null,
            "flex": null,
            "_model_name": "LayoutModel",
            "justify_items": null,
            "grid_row": null,
            "max_height": null,
            "align_content": null,
            "visibility": null,
            "align_self": null,
            "height": null,
            "min_height": null,
            "padding": null,
            "grid_auto_rows": null,
            "grid_gap": null,
            "max_width": null,
            "order": null,
            "_view_module_version": "1.2.0",
            "grid_template_areas": null,
            "object_position": null,
            "object_fit": null,
            "grid_auto_columns": null,
            "margin": null,
            "display": null,
            "left": null
          }
        },
        "318ab7a819754808b10430b7f6764398": {
          "model_module": "@jupyter-widgets/controls",
          "model_name": "FloatProgressModel",
          "model_module_version": "1.5.0",
          "state": {
            "_view_name": "ProgressView",
            "style": "IPY_MODEL_1cae456e1f7843f2bba673def6c837e8",
            "_dom_classes": [],
            "description": "Epoch 4: 100%",
            "_model_name": "FloatProgressModel",
            "bar_style": "",
            "max": 500,
            "_view_module": "@jupyter-widgets/controls",
            "_model_module_version": "1.5.0",
            "value": 500,
            "_view_count": null,
            "_view_module_version": "1.5.0",
            "orientation": "horizontal",
            "min": 0,
            "description_tooltip": null,
            "_model_module": "@jupyter-widgets/controls",
            "layout": "IPY_MODEL_dbc3758f3c164c5982a1db9670f15ec6"
          }
        },
        "d8ef535dd51a44c2acc298213b89c665": {
          "model_module": "@jupyter-widgets/controls",
          "model_name": "HTMLModel",
          "model_module_version": "1.5.0",
          "state": {
            "_view_name": "HTMLView",
            "style": "IPY_MODEL_0fa5402e3e5045eda9d73461d8e4fb0b",
            "_dom_classes": [],
            "description": "",
            "_model_name": "HTMLModel",
            "placeholder": "​",
            "_view_module": "@jupyter-widgets/controls",
            "_model_module_version": "1.5.0",
            "value": " 500/500 [02:20&lt;00:00,  3.64it/s, training_loss=0.149]",
            "_view_count": null,
            "_view_module_version": "1.5.0",
            "description_tooltip": null,
            "_model_module": "@jupyter-widgets/controls",
            "layout": "IPY_MODEL_48699ed3a1a34688bd19e0e8abbf39ce"
          }
        },
        "1cae456e1f7843f2bba673def6c837e8": {
          "model_module": "@jupyter-widgets/controls",
          "model_name": "ProgressStyleModel",
          "model_module_version": "1.5.0",
          "state": {
            "_view_name": "StyleView",
            "_model_name": "ProgressStyleModel",
            "description_width": "initial",
            "_view_module": "@jupyter-widgets/base",
            "_model_module_version": "1.5.0",
            "_view_count": null,
            "_view_module_version": "1.2.0",
            "bar_color": null,
            "_model_module": "@jupyter-widgets/controls"
          }
        },
        "dbc3758f3c164c5982a1db9670f15ec6": {
          "model_module": "@jupyter-widgets/base",
          "model_name": "LayoutModel",
          "model_module_version": "1.2.0",
          "state": {
            "_view_name": "LayoutView",
            "grid_template_rows": null,
            "right": null,
            "justify_content": null,
            "_view_module": "@jupyter-widgets/base",
            "overflow": null,
            "_model_module_version": "1.2.0",
            "_view_count": null,
            "flex_flow": null,
            "width": null,
            "min_width": null,
            "border": null,
            "align_items": null,
            "bottom": null,
            "_model_module": "@jupyter-widgets/base",
            "top": null,
            "grid_column": null,
            "overflow_y": null,
            "overflow_x": null,
            "grid_auto_flow": null,
            "grid_area": null,
            "grid_template_columns": null,
            "flex": null,
            "_model_name": "LayoutModel",
            "justify_items": null,
            "grid_row": null,
            "max_height": null,
            "align_content": null,
            "visibility": null,
            "align_self": null,
            "height": null,
            "min_height": null,
            "padding": null,
            "grid_auto_rows": null,
            "grid_gap": null,
            "max_width": null,
            "order": null,
            "_view_module_version": "1.2.0",
            "grid_template_areas": null,
            "object_position": null,
            "object_fit": null,
            "grid_auto_columns": null,
            "margin": null,
            "display": null,
            "left": null
          }
        },
        "0fa5402e3e5045eda9d73461d8e4fb0b": {
          "model_module": "@jupyter-widgets/controls",
          "model_name": "DescriptionStyleModel",
          "model_module_version": "1.5.0",
          "state": {
            "_view_name": "StyleView",
            "_model_name": "DescriptionStyleModel",
            "description_width": "",
            "_view_module": "@jupyter-widgets/base",
            "_model_module_version": "1.5.0",
            "_view_count": null,
            "_view_module_version": "1.2.0",
            "_model_module": "@jupyter-widgets/controls"
          }
        },
        "48699ed3a1a34688bd19e0e8abbf39ce": {
          "model_module": "@jupyter-widgets/base",
          "model_name": "LayoutModel",
          "model_module_version": "1.2.0",
          "state": {
            "_view_name": "LayoutView",
            "grid_template_rows": null,
            "right": null,
            "justify_content": null,
            "_view_module": "@jupyter-widgets/base",
            "overflow": null,
            "_model_module_version": "1.2.0",
            "_view_count": null,
            "flex_flow": null,
            "width": null,
            "min_width": null,
            "border": null,
            "align_items": null,
            "bottom": null,
            "_model_module": "@jupyter-widgets/base",
            "top": null,
            "grid_column": null,
            "overflow_y": null,
            "overflow_x": null,
            "grid_auto_flow": null,
            "grid_area": null,
            "grid_template_columns": null,
            "flex": null,
            "_model_name": "LayoutModel",
            "justify_items": null,
            "grid_row": null,
            "max_height": null,
            "align_content": null,
            "visibility": null,
            "align_self": null,
            "height": null,
            "min_height": null,
            "padding": null,
            "grid_auto_rows": null,
            "grid_gap": null,
            "max_width": null,
            "order": null,
            "_view_module_version": "1.2.0",
            "grid_template_areas": null,
            "object_position": null,
            "object_fit": null,
            "grid_auto_columns": null,
            "margin": null,
            "display": null,
            "left": null
          }
        },
        "128ddb5d72f24da68b422dd157ecb6e0": {
          "model_module": "@jupyter-widgets/controls",
          "model_name": "HBoxModel",
          "model_module_version": "1.5.0",
          "state": {
            "_view_name": "HBoxView",
            "_dom_classes": [],
            "_model_name": "HBoxModel",
            "_view_module": "@jupyter-widgets/controls",
            "_model_module_version": "1.5.0",
            "_view_count": null,
            "_view_module_version": "1.5.0",
            "box_style": "",
            "layout": "IPY_MODEL_01d25beb91204b7c9751fb48928aa2d6",
            "_model_module": "@jupyter-widgets/controls",
            "children": [
              "IPY_MODEL_cf1b2dc2678445728cf6ee8840dc888b",
              "IPY_MODEL_e7b9ce9d9a89460ca0ecb058870b5aa9"
            ]
          }
        },
        "01d25beb91204b7c9751fb48928aa2d6": {
          "model_module": "@jupyter-widgets/base",
          "model_name": "LayoutModel",
          "model_module_version": "1.2.0",
          "state": {
            "_view_name": "LayoutView",
            "grid_template_rows": null,
            "right": null,
            "justify_content": null,
            "_view_module": "@jupyter-widgets/base",
            "overflow": null,
            "_model_module_version": "1.2.0",
            "_view_count": null,
            "flex_flow": null,
            "width": null,
            "min_width": null,
            "border": null,
            "align_items": null,
            "bottom": null,
            "_model_module": "@jupyter-widgets/base",
            "top": null,
            "grid_column": null,
            "overflow_y": null,
            "overflow_x": null,
            "grid_auto_flow": null,
            "grid_area": null,
            "grid_template_columns": null,
            "flex": null,
            "_model_name": "LayoutModel",
            "justify_items": null,
            "grid_row": null,
            "max_height": null,
            "align_content": null,
            "visibility": null,
            "align_self": null,
            "height": null,
            "min_height": null,
            "padding": null,
            "grid_auto_rows": null,
            "grid_gap": null,
            "max_width": null,
            "order": null,
            "_view_module_version": "1.2.0",
            "grid_template_areas": null,
            "object_position": null,
            "object_fit": null,
            "grid_auto_columns": null,
            "margin": null,
            "display": null,
            "left": null
          }
        },
        "cf1b2dc2678445728cf6ee8840dc888b": {
          "model_module": "@jupyter-widgets/controls",
          "model_name": "FloatProgressModel",
          "model_module_version": "1.5.0",
          "state": {
            "_view_name": "ProgressView",
            "style": "IPY_MODEL_0368dcf4b50a4efe825e1778748db57e",
            "_dom_classes": [],
            "description": "100%",
            "_model_name": "FloatProgressModel",
            "bar_style": "success",
            "max": 5,
            "_view_module": "@jupyter-widgets/controls",
            "_model_module_version": "1.5.0",
            "value": 5,
            "_view_count": null,
            "_view_module_version": "1.5.0",
            "orientation": "horizontal",
            "min": 0,
            "description_tooltip": null,
            "_model_module": "@jupyter-widgets/controls",
            "layout": "IPY_MODEL_d10683d95f5348c5aeb0b6bde3f4c6be"
          }
        },
        "e7b9ce9d9a89460ca0ecb058870b5aa9": {
          "model_module": "@jupyter-widgets/controls",
          "model_name": "HTMLModel",
          "model_module_version": "1.5.0",
          "state": {
            "_view_name": "HTMLView",
            "style": "IPY_MODEL_9171e16332204b4e963ca6795b73fb0d",
            "_dom_classes": [],
            "description": "",
            "_model_name": "HTMLModel",
            "placeholder": "​",
            "_view_module": "@jupyter-widgets/controls",
            "_model_module_version": "1.5.0",
            "value": " 5/5 [13:17&lt;00:00, 159.55s/it]",
            "_view_count": null,
            "_view_module_version": "1.5.0",
            "description_tooltip": null,
            "_model_module": "@jupyter-widgets/controls",
            "layout": "IPY_MODEL_58bcfeb74417444099944829c810e2e1"
          }
        },
        "0368dcf4b50a4efe825e1778748db57e": {
          "model_module": "@jupyter-widgets/controls",
          "model_name": "ProgressStyleModel",
          "model_module_version": "1.5.0",
          "state": {
            "_view_name": "StyleView",
            "_model_name": "ProgressStyleModel",
            "description_width": "initial",
            "_view_module": "@jupyter-widgets/base",
            "_model_module_version": "1.5.0",
            "_view_count": null,
            "_view_module_version": "1.2.0",
            "bar_color": null,
            "_model_module": "@jupyter-widgets/controls"
          }
        },
        "d10683d95f5348c5aeb0b6bde3f4c6be": {
          "model_module": "@jupyter-widgets/base",
          "model_name": "LayoutModel",
          "model_module_version": "1.2.0",
          "state": {
            "_view_name": "LayoutView",
            "grid_template_rows": null,
            "right": null,
            "justify_content": null,
            "_view_module": "@jupyter-widgets/base",
            "overflow": null,
            "_model_module_version": "1.2.0",
            "_view_count": null,
            "flex_flow": null,
            "width": null,
            "min_width": null,
            "border": null,
            "align_items": null,
            "bottom": null,
            "_model_module": "@jupyter-widgets/base",
            "top": null,
            "grid_column": null,
            "overflow_y": null,
            "overflow_x": null,
            "grid_auto_flow": null,
            "grid_area": null,
            "grid_template_columns": null,
            "flex": null,
            "_model_name": "LayoutModel",
            "justify_items": null,
            "grid_row": null,
            "max_height": null,
            "align_content": null,
            "visibility": null,
            "align_self": null,
            "height": null,
            "min_height": null,
            "padding": null,
            "grid_auto_rows": null,
            "grid_gap": null,
            "max_width": null,
            "order": null,
            "_view_module_version": "1.2.0",
            "grid_template_areas": null,
            "object_position": null,
            "object_fit": null,
            "grid_auto_columns": null,
            "margin": null,
            "display": null,
            "left": null
          }
        },
        "9171e16332204b4e963ca6795b73fb0d": {
          "model_module": "@jupyter-widgets/controls",
          "model_name": "DescriptionStyleModel",
          "model_module_version": "1.5.0",
          "state": {
            "_view_name": "StyleView",
            "_model_name": "DescriptionStyleModel",
            "description_width": "",
            "_view_module": "@jupyter-widgets/base",
            "_model_module_version": "1.5.0",
            "_view_count": null,
            "_view_module_version": "1.2.0",
            "_model_module": "@jupyter-widgets/controls"
          }
        },
        "58bcfeb74417444099944829c810e2e1": {
          "model_module": "@jupyter-widgets/base",
          "model_name": "LayoutModel",
          "model_module_version": "1.2.0",
          "state": {
            "_view_name": "LayoutView",
            "grid_template_rows": null,
            "right": null,
            "justify_content": null,
            "_view_module": "@jupyter-widgets/base",
            "overflow": null,
            "_model_module_version": "1.2.0",
            "_view_count": null,
            "flex_flow": null,
            "width": null,
            "min_width": null,
            "border": null,
            "align_items": null,
            "bottom": null,
            "_model_module": "@jupyter-widgets/base",
            "top": null,
            "grid_column": null,
            "overflow_y": null,
            "overflow_x": null,
            "grid_auto_flow": null,
            "grid_area": null,
            "grid_template_columns": null,
            "flex": null,
            "_model_name": "LayoutModel",
            "justify_items": null,
            "grid_row": null,
            "max_height": null,
            "align_content": null,
            "visibility": null,
            "align_self": null,
            "height": null,
            "min_height": null,
            "padding": null,
            "grid_auto_rows": null,
            "grid_gap": null,
            "max_width": null,
            "order": null,
            "_view_module_version": "1.2.0",
            "grid_template_areas": null,
            "object_position": null,
            "object_fit": null,
            "grid_auto_columns": null,
            "margin": null,
            "display": null,
            "left": null
          }
        },
        "284dee1c7eb44430aa13e1e49876ca0d": {
          "model_module": "@jupyter-widgets/controls",
          "model_name": "HBoxModel",
          "model_module_version": "1.5.0",
          "state": {
            "_view_name": "HBoxView",
            "_dom_classes": [],
            "_model_name": "HBoxModel",
            "_view_module": "@jupyter-widgets/controls",
            "_model_module_version": "1.5.0",
            "_view_count": null,
            "_view_module_version": "1.5.0",
            "box_style": "",
            "layout": "IPY_MODEL_9a0fad068fb74a8faad3d7347e3cfe44",
            "_model_module": "@jupyter-widgets/controls",
            "children": [
              "IPY_MODEL_e4b359807329434d88ecd7bf0bd9db7b",
              "IPY_MODEL_90dc72f61b2a4b6192565e3d223783fc"
            ]
          }
        },
        "9a0fad068fb74a8faad3d7347e3cfe44": {
          "model_module": "@jupyter-widgets/base",
          "model_name": "LayoutModel",
          "model_module_version": "1.2.0",
          "state": {
            "_view_name": "LayoutView",
            "grid_template_rows": null,
            "right": null,
            "justify_content": null,
            "_view_module": "@jupyter-widgets/base",
            "overflow": null,
            "_model_module_version": "1.2.0",
            "_view_count": null,
            "flex_flow": null,
            "width": null,
            "min_width": null,
            "border": null,
            "align_items": null,
            "bottom": null,
            "_model_module": "@jupyter-widgets/base",
            "top": null,
            "grid_column": null,
            "overflow_y": null,
            "overflow_x": null,
            "grid_auto_flow": null,
            "grid_area": null,
            "grid_template_columns": null,
            "flex": null,
            "_model_name": "LayoutModel",
            "justify_items": null,
            "grid_row": null,
            "max_height": null,
            "align_content": null,
            "visibility": null,
            "align_self": null,
            "height": null,
            "min_height": null,
            "padding": null,
            "grid_auto_rows": null,
            "grid_gap": null,
            "max_width": null,
            "order": null,
            "_view_module_version": "1.2.0",
            "grid_template_areas": null,
            "object_position": null,
            "object_fit": null,
            "grid_auto_columns": null,
            "margin": null,
            "display": null,
            "left": null
          }
        },
        "e4b359807329434d88ecd7bf0bd9db7b": {
          "model_module": "@jupyter-widgets/controls",
          "model_name": "FloatProgressModel",
          "model_module_version": "1.5.0",
          "state": {
            "_view_name": "ProgressView",
            "style": "IPY_MODEL_a27286304b44445094c92fa926044ea7",
            "_dom_classes": [],
            "description": "Epoch 1: 100%",
            "_model_name": "FloatProgressModel",
            "bar_style": "",
            "max": 509,
            "_view_module": "@jupyter-widgets/controls",
            "_model_module_version": "1.5.0",
            "value": 509,
            "_view_count": null,
            "_view_module_version": "1.5.0",
            "orientation": "horizontal",
            "min": 0,
            "description_tooltip": null,
            "_model_module": "@jupyter-widgets/controls",
            "layout": "IPY_MODEL_6f8a813e572f4b09bfe849ee471a959d"
          }
        },
        "90dc72f61b2a4b6192565e3d223783fc": {
          "model_module": "@jupyter-widgets/controls",
          "model_name": "HTMLModel",
          "model_module_version": "1.5.0",
          "state": {
            "_view_name": "HTMLView",
            "style": "IPY_MODEL_7dcb0d90e8dd4f5fae108fc649d4160d",
            "_dom_classes": [],
            "description": "",
            "_model_name": "HTMLModel",
            "placeholder": "​",
            "_view_module": "@jupyter-widgets/controls",
            "_model_module_version": "1.5.0",
            "value": " 509/509 [02:20&lt;00:00,  3.92it/s, training_loss=0.271]",
            "_view_count": null,
            "_view_module_version": "1.5.0",
            "description_tooltip": null,
            "_model_module": "@jupyter-widgets/controls",
            "layout": "IPY_MODEL_55b2aac332254cd787f24359e3baea2b"
          }
        },
        "a27286304b44445094c92fa926044ea7": {
          "model_module": "@jupyter-widgets/controls",
          "model_name": "ProgressStyleModel",
          "model_module_version": "1.5.0",
          "state": {
            "_view_name": "StyleView",
            "_model_name": "ProgressStyleModel",
            "description_width": "initial",
            "_view_module": "@jupyter-widgets/base",
            "_model_module_version": "1.5.0",
            "_view_count": null,
            "_view_module_version": "1.2.0",
            "bar_color": null,
            "_model_module": "@jupyter-widgets/controls"
          }
        },
        "6f8a813e572f4b09bfe849ee471a959d": {
          "model_module": "@jupyter-widgets/base",
          "model_name": "LayoutModel",
          "model_module_version": "1.2.0",
          "state": {
            "_view_name": "LayoutView",
            "grid_template_rows": null,
            "right": null,
            "justify_content": null,
            "_view_module": "@jupyter-widgets/base",
            "overflow": null,
            "_model_module_version": "1.2.0",
            "_view_count": null,
            "flex_flow": null,
            "width": null,
            "min_width": null,
            "border": null,
            "align_items": null,
            "bottom": null,
            "_model_module": "@jupyter-widgets/base",
            "top": null,
            "grid_column": null,
            "overflow_y": null,
            "overflow_x": null,
            "grid_auto_flow": null,
            "grid_area": null,
            "grid_template_columns": null,
            "flex": null,
            "_model_name": "LayoutModel",
            "justify_items": null,
            "grid_row": null,
            "max_height": null,
            "align_content": null,
            "visibility": null,
            "align_self": null,
            "height": null,
            "min_height": null,
            "padding": null,
            "grid_auto_rows": null,
            "grid_gap": null,
            "max_width": null,
            "order": null,
            "_view_module_version": "1.2.0",
            "grid_template_areas": null,
            "object_position": null,
            "object_fit": null,
            "grid_auto_columns": null,
            "margin": null,
            "display": null,
            "left": null
          }
        },
        "7dcb0d90e8dd4f5fae108fc649d4160d": {
          "model_module": "@jupyter-widgets/controls",
          "model_name": "DescriptionStyleModel",
          "model_module_version": "1.5.0",
          "state": {
            "_view_name": "StyleView",
            "_model_name": "DescriptionStyleModel",
            "description_width": "",
            "_view_module": "@jupyter-widgets/base",
            "_model_module_version": "1.5.0",
            "_view_count": null,
            "_view_module_version": "1.2.0",
            "_model_module": "@jupyter-widgets/controls"
          }
        },
        "55b2aac332254cd787f24359e3baea2b": {
          "model_module": "@jupyter-widgets/base",
          "model_name": "LayoutModel",
          "model_module_version": "1.2.0",
          "state": {
            "_view_name": "LayoutView",
            "grid_template_rows": null,
            "right": null,
            "justify_content": null,
            "_view_module": "@jupyter-widgets/base",
            "overflow": null,
            "_model_module_version": "1.2.0",
            "_view_count": null,
            "flex_flow": null,
            "width": null,
            "min_width": null,
            "border": null,
            "align_items": null,
            "bottom": null,
            "_model_module": "@jupyter-widgets/base",
            "top": null,
            "grid_column": null,
            "overflow_y": null,
            "overflow_x": null,
            "grid_auto_flow": null,
            "grid_area": null,
            "grid_template_columns": null,
            "flex": null,
            "_model_name": "LayoutModel",
            "justify_items": null,
            "grid_row": null,
            "max_height": null,
            "align_content": null,
            "visibility": null,
            "align_self": null,
            "height": null,
            "min_height": null,
            "padding": null,
            "grid_auto_rows": null,
            "grid_gap": null,
            "max_width": null,
            "order": null,
            "_view_module_version": "1.2.0",
            "grid_template_areas": null,
            "object_position": null,
            "object_fit": null,
            "grid_auto_columns": null,
            "margin": null,
            "display": null,
            "left": null
          }
        },
        "afe88e1383ec4d5bbc6c0f2272e0639f": {
          "model_module": "@jupyter-widgets/controls",
          "model_name": "HBoxModel",
          "model_module_version": "1.5.0",
          "state": {
            "_view_name": "HBoxView",
            "_dom_classes": [],
            "_model_name": "HBoxModel",
            "_view_module": "@jupyter-widgets/controls",
            "_model_module_version": "1.5.0",
            "_view_count": null,
            "_view_module_version": "1.5.0",
            "box_style": "",
            "layout": "IPY_MODEL_b3ff861219ee4eedb931c06399a7aa0d",
            "_model_module": "@jupyter-widgets/controls",
            "children": [
              "IPY_MODEL_9c20db8e228f4e3d9ed50b3cea6a0cc7",
              "IPY_MODEL_aa47d35230424b07b904eed98f6e0786"
            ]
          }
        },
        "b3ff861219ee4eedb931c06399a7aa0d": {
          "model_module": "@jupyter-widgets/base",
          "model_name": "LayoutModel",
          "model_module_version": "1.2.0",
          "state": {
            "_view_name": "LayoutView",
            "grid_template_rows": null,
            "right": null,
            "justify_content": null,
            "_view_module": "@jupyter-widgets/base",
            "overflow": null,
            "_model_module_version": "1.2.0",
            "_view_count": null,
            "flex_flow": null,
            "width": null,
            "min_width": null,
            "border": null,
            "align_items": null,
            "bottom": null,
            "_model_module": "@jupyter-widgets/base",
            "top": null,
            "grid_column": null,
            "overflow_y": null,
            "overflow_x": null,
            "grid_auto_flow": null,
            "grid_area": null,
            "grid_template_columns": null,
            "flex": null,
            "_model_name": "LayoutModel",
            "justify_items": null,
            "grid_row": null,
            "max_height": null,
            "align_content": null,
            "visibility": null,
            "align_self": null,
            "height": null,
            "min_height": null,
            "padding": null,
            "grid_auto_rows": null,
            "grid_gap": null,
            "max_width": null,
            "order": null,
            "_view_module_version": "1.2.0",
            "grid_template_areas": null,
            "object_position": null,
            "object_fit": null,
            "grid_auto_columns": null,
            "margin": null,
            "display": null,
            "left": null
          }
        },
        "9c20db8e228f4e3d9ed50b3cea6a0cc7": {
          "model_module": "@jupyter-widgets/controls",
          "model_name": "FloatProgressModel",
          "model_module_version": "1.5.0",
          "state": {
            "_view_name": "ProgressView",
            "style": "IPY_MODEL_a07f7a8dcbe040be81db3d62153ced50",
            "_dom_classes": [],
            "description": "Epoch 2: 100%",
            "_model_name": "FloatProgressModel",
            "bar_style": "",
            "max": 509,
            "_view_module": "@jupyter-widgets/controls",
            "_model_module_version": "1.5.0",
            "value": 509,
            "_view_count": null,
            "_view_module_version": "1.5.0",
            "orientation": "horizontal",
            "min": 0,
            "description_tooltip": null,
            "_model_module": "@jupyter-widgets/controls",
            "layout": "IPY_MODEL_b23bfb80db7e432497d7eb3cc4743950"
          }
        },
        "aa47d35230424b07b904eed98f6e0786": {
          "model_module": "@jupyter-widgets/controls",
          "model_name": "HTMLModel",
          "model_module_version": "1.5.0",
          "state": {
            "_view_name": "HTMLView",
            "style": "IPY_MODEL_5134cea95d4d445ea44d9ee123b0ecf2",
            "_dom_classes": [],
            "description": "",
            "_model_name": "HTMLModel",
            "placeholder": "​",
            "_view_module": "@jupyter-widgets/controls",
            "_model_module_version": "1.5.0",
            "value": " 509/509 [02:21&lt;00:00,  3.94it/s, training_loss=0.071]",
            "_view_count": null,
            "_view_module_version": "1.5.0",
            "description_tooltip": null,
            "_model_module": "@jupyter-widgets/controls",
            "layout": "IPY_MODEL_6a39c204539d4f579a3e4adf547b587a"
          }
        },
        "a07f7a8dcbe040be81db3d62153ced50": {
          "model_module": "@jupyter-widgets/controls",
          "model_name": "ProgressStyleModel",
          "model_module_version": "1.5.0",
          "state": {
            "_view_name": "StyleView",
            "_model_name": "ProgressStyleModel",
            "description_width": "initial",
            "_view_module": "@jupyter-widgets/base",
            "_model_module_version": "1.5.0",
            "_view_count": null,
            "_view_module_version": "1.2.0",
            "bar_color": null,
            "_model_module": "@jupyter-widgets/controls"
          }
        },
        "b23bfb80db7e432497d7eb3cc4743950": {
          "model_module": "@jupyter-widgets/base",
          "model_name": "LayoutModel",
          "model_module_version": "1.2.0",
          "state": {
            "_view_name": "LayoutView",
            "grid_template_rows": null,
            "right": null,
            "justify_content": null,
            "_view_module": "@jupyter-widgets/base",
            "overflow": null,
            "_model_module_version": "1.2.0",
            "_view_count": null,
            "flex_flow": null,
            "width": null,
            "min_width": null,
            "border": null,
            "align_items": null,
            "bottom": null,
            "_model_module": "@jupyter-widgets/base",
            "top": null,
            "grid_column": null,
            "overflow_y": null,
            "overflow_x": null,
            "grid_auto_flow": null,
            "grid_area": null,
            "grid_template_columns": null,
            "flex": null,
            "_model_name": "LayoutModel",
            "justify_items": null,
            "grid_row": null,
            "max_height": null,
            "align_content": null,
            "visibility": null,
            "align_self": null,
            "height": null,
            "min_height": null,
            "padding": null,
            "grid_auto_rows": null,
            "grid_gap": null,
            "max_width": null,
            "order": null,
            "_view_module_version": "1.2.0",
            "grid_template_areas": null,
            "object_position": null,
            "object_fit": null,
            "grid_auto_columns": null,
            "margin": null,
            "display": null,
            "left": null
          }
        },
        "5134cea95d4d445ea44d9ee123b0ecf2": {
          "model_module": "@jupyter-widgets/controls",
          "model_name": "DescriptionStyleModel",
          "model_module_version": "1.5.0",
          "state": {
            "_view_name": "StyleView",
            "_model_name": "DescriptionStyleModel",
            "description_width": "",
            "_view_module": "@jupyter-widgets/base",
            "_model_module_version": "1.5.0",
            "_view_count": null,
            "_view_module_version": "1.2.0",
            "_model_module": "@jupyter-widgets/controls"
          }
        },
        "6a39c204539d4f579a3e4adf547b587a": {
          "model_module": "@jupyter-widgets/base",
          "model_name": "LayoutModel",
          "model_module_version": "1.2.0",
          "state": {
            "_view_name": "LayoutView",
            "grid_template_rows": null,
            "right": null,
            "justify_content": null,
            "_view_module": "@jupyter-widgets/base",
            "overflow": null,
            "_model_module_version": "1.2.0",
            "_view_count": null,
            "flex_flow": null,
            "width": null,
            "min_width": null,
            "border": null,
            "align_items": null,
            "bottom": null,
            "_model_module": "@jupyter-widgets/base",
            "top": null,
            "grid_column": null,
            "overflow_y": null,
            "overflow_x": null,
            "grid_auto_flow": null,
            "grid_area": null,
            "grid_template_columns": null,
            "flex": null,
            "_model_name": "LayoutModel",
            "justify_items": null,
            "grid_row": null,
            "max_height": null,
            "align_content": null,
            "visibility": null,
            "align_self": null,
            "height": null,
            "min_height": null,
            "padding": null,
            "grid_auto_rows": null,
            "grid_gap": null,
            "max_width": null,
            "order": null,
            "_view_module_version": "1.2.0",
            "grid_template_areas": null,
            "object_position": null,
            "object_fit": null,
            "grid_auto_columns": null,
            "margin": null,
            "display": null,
            "left": null
          }
        },
        "5a7ace419dff4c928a2083b6636fb8af": {
          "model_module": "@jupyter-widgets/controls",
          "model_name": "HBoxModel",
          "model_module_version": "1.5.0",
          "state": {
            "_view_name": "HBoxView",
            "_dom_classes": [],
            "_model_name": "HBoxModel",
            "_view_module": "@jupyter-widgets/controls",
            "_model_module_version": "1.5.0",
            "_view_count": null,
            "_view_module_version": "1.5.0",
            "box_style": "",
            "layout": "IPY_MODEL_ac08033a192d4e209be5f8e85c1228c2",
            "_model_module": "@jupyter-widgets/controls",
            "children": [
              "IPY_MODEL_fb6a9260d3e141d9b426662bb1ff9c66",
              "IPY_MODEL_34266971742b4aa7863e2a206772f6be"
            ]
          }
        },
        "ac08033a192d4e209be5f8e85c1228c2": {
          "model_module": "@jupyter-widgets/base",
          "model_name": "LayoutModel",
          "model_module_version": "1.2.0",
          "state": {
            "_view_name": "LayoutView",
            "grid_template_rows": null,
            "right": null,
            "justify_content": null,
            "_view_module": "@jupyter-widgets/base",
            "overflow": null,
            "_model_module_version": "1.2.0",
            "_view_count": null,
            "flex_flow": null,
            "width": null,
            "min_width": null,
            "border": null,
            "align_items": null,
            "bottom": null,
            "_model_module": "@jupyter-widgets/base",
            "top": null,
            "grid_column": null,
            "overflow_y": null,
            "overflow_x": null,
            "grid_auto_flow": null,
            "grid_area": null,
            "grid_template_columns": null,
            "flex": null,
            "_model_name": "LayoutModel",
            "justify_items": null,
            "grid_row": null,
            "max_height": null,
            "align_content": null,
            "visibility": null,
            "align_self": null,
            "height": null,
            "min_height": null,
            "padding": null,
            "grid_auto_rows": null,
            "grid_gap": null,
            "max_width": null,
            "order": null,
            "_view_module_version": "1.2.0",
            "grid_template_areas": null,
            "object_position": null,
            "object_fit": null,
            "grid_auto_columns": null,
            "margin": null,
            "display": null,
            "left": null
          }
        },
        "fb6a9260d3e141d9b426662bb1ff9c66": {
          "model_module": "@jupyter-widgets/controls",
          "model_name": "FloatProgressModel",
          "model_module_version": "1.5.0",
          "state": {
            "_view_name": "ProgressView",
            "style": "IPY_MODEL_5c69185342c541069e15c4f4bc7f5973",
            "_dom_classes": [],
            "description": "Epoch 3: 100%",
            "_model_name": "FloatProgressModel",
            "bar_style": "",
            "max": 509,
            "_view_module": "@jupyter-widgets/controls",
            "_model_module_version": "1.5.0",
            "value": 509,
            "_view_count": null,
            "_view_module_version": "1.5.0",
            "orientation": "horizontal",
            "min": 0,
            "description_tooltip": null,
            "_model_module": "@jupyter-widgets/controls",
            "layout": "IPY_MODEL_71d3590f05f446c1aed8a6497a0e738c"
          }
        },
        "34266971742b4aa7863e2a206772f6be": {
          "model_module": "@jupyter-widgets/controls",
          "model_name": "HTMLModel",
          "model_module_version": "1.5.0",
          "state": {
            "_view_name": "HTMLView",
            "style": "IPY_MODEL_443458ae5f6f46a19077ac9b3433f747",
            "_dom_classes": [],
            "description": "",
            "_model_name": "HTMLModel",
            "placeholder": "​",
            "_view_module": "@jupyter-widgets/controls",
            "_model_module_version": "1.5.0",
            "value": " 509/509 [02:21&lt;00:00,  3.89it/s, training_loss=0.011]",
            "_view_count": null,
            "_view_module_version": "1.5.0",
            "description_tooltip": null,
            "_model_module": "@jupyter-widgets/controls",
            "layout": "IPY_MODEL_eeab491196a24cb9839ddc7014d5d1a6"
          }
        },
        "5c69185342c541069e15c4f4bc7f5973": {
          "model_module": "@jupyter-widgets/controls",
          "model_name": "ProgressStyleModel",
          "model_module_version": "1.5.0",
          "state": {
            "_view_name": "StyleView",
            "_model_name": "ProgressStyleModel",
            "description_width": "initial",
            "_view_module": "@jupyter-widgets/base",
            "_model_module_version": "1.5.0",
            "_view_count": null,
            "_view_module_version": "1.2.0",
            "bar_color": null,
            "_model_module": "@jupyter-widgets/controls"
          }
        },
        "71d3590f05f446c1aed8a6497a0e738c": {
          "model_module": "@jupyter-widgets/base",
          "model_name": "LayoutModel",
          "model_module_version": "1.2.0",
          "state": {
            "_view_name": "LayoutView",
            "grid_template_rows": null,
            "right": null,
            "justify_content": null,
            "_view_module": "@jupyter-widgets/base",
            "overflow": null,
            "_model_module_version": "1.2.0",
            "_view_count": null,
            "flex_flow": null,
            "width": null,
            "min_width": null,
            "border": null,
            "align_items": null,
            "bottom": null,
            "_model_module": "@jupyter-widgets/base",
            "top": null,
            "grid_column": null,
            "overflow_y": null,
            "overflow_x": null,
            "grid_auto_flow": null,
            "grid_area": null,
            "grid_template_columns": null,
            "flex": null,
            "_model_name": "LayoutModel",
            "justify_items": null,
            "grid_row": null,
            "max_height": null,
            "align_content": null,
            "visibility": null,
            "align_self": null,
            "height": null,
            "min_height": null,
            "padding": null,
            "grid_auto_rows": null,
            "grid_gap": null,
            "max_width": null,
            "order": null,
            "_view_module_version": "1.2.0",
            "grid_template_areas": null,
            "object_position": null,
            "object_fit": null,
            "grid_auto_columns": null,
            "margin": null,
            "display": null,
            "left": null
          }
        },
        "443458ae5f6f46a19077ac9b3433f747": {
          "model_module": "@jupyter-widgets/controls",
          "model_name": "DescriptionStyleModel",
          "model_module_version": "1.5.0",
          "state": {
            "_view_name": "StyleView",
            "_model_name": "DescriptionStyleModel",
            "description_width": "",
            "_view_module": "@jupyter-widgets/base",
            "_model_module_version": "1.5.0",
            "_view_count": null,
            "_view_module_version": "1.2.0",
            "_model_module": "@jupyter-widgets/controls"
          }
        },
        "eeab491196a24cb9839ddc7014d5d1a6": {
          "model_module": "@jupyter-widgets/base",
          "model_name": "LayoutModel",
          "model_module_version": "1.2.0",
          "state": {
            "_view_name": "LayoutView",
            "grid_template_rows": null,
            "right": null,
            "justify_content": null,
            "_view_module": "@jupyter-widgets/base",
            "overflow": null,
            "_model_module_version": "1.2.0",
            "_view_count": null,
            "flex_flow": null,
            "width": null,
            "min_width": null,
            "border": null,
            "align_items": null,
            "bottom": null,
            "_model_module": "@jupyter-widgets/base",
            "top": null,
            "grid_column": null,
            "overflow_y": null,
            "overflow_x": null,
            "grid_auto_flow": null,
            "grid_area": null,
            "grid_template_columns": null,
            "flex": null,
            "_model_name": "LayoutModel",
            "justify_items": null,
            "grid_row": null,
            "max_height": null,
            "align_content": null,
            "visibility": null,
            "align_self": null,
            "height": null,
            "min_height": null,
            "padding": null,
            "grid_auto_rows": null,
            "grid_gap": null,
            "max_width": null,
            "order": null,
            "_view_module_version": "1.2.0",
            "grid_template_areas": null,
            "object_position": null,
            "object_fit": null,
            "grid_auto_columns": null,
            "margin": null,
            "display": null,
            "left": null
          }
        },
        "2c4e03f8c3ae498abac8e63d255dea97": {
          "model_module": "@jupyter-widgets/controls",
          "model_name": "HBoxModel",
          "model_module_version": "1.5.0",
          "state": {
            "_view_name": "HBoxView",
            "_dom_classes": [],
            "_model_name": "HBoxModel",
            "_view_module": "@jupyter-widgets/controls",
            "_model_module_version": "1.5.0",
            "_view_count": null,
            "_view_module_version": "1.5.0",
            "box_style": "",
            "layout": "IPY_MODEL_0ebbe58fefde4254aa8cbf921a5c6c8c",
            "_model_module": "@jupyter-widgets/controls",
            "children": [
              "IPY_MODEL_0319b8f11b5e4e66826c306aebac7d20",
              "IPY_MODEL_5e5422825b474a9cb3c4319132c14a31"
            ]
          }
        },
        "0ebbe58fefde4254aa8cbf921a5c6c8c": {
          "model_module": "@jupyter-widgets/base",
          "model_name": "LayoutModel",
          "model_module_version": "1.2.0",
          "state": {
            "_view_name": "LayoutView",
            "grid_template_rows": null,
            "right": null,
            "justify_content": null,
            "_view_module": "@jupyter-widgets/base",
            "overflow": null,
            "_model_module_version": "1.2.0",
            "_view_count": null,
            "flex_flow": null,
            "width": null,
            "min_width": null,
            "border": null,
            "align_items": null,
            "bottom": null,
            "_model_module": "@jupyter-widgets/base",
            "top": null,
            "grid_column": null,
            "overflow_y": null,
            "overflow_x": null,
            "grid_auto_flow": null,
            "grid_area": null,
            "grid_template_columns": null,
            "flex": null,
            "_model_name": "LayoutModel",
            "justify_items": null,
            "grid_row": null,
            "max_height": null,
            "align_content": null,
            "visibility": null,
            "align_self": null,
            "height": null,
            "min_height": null,
            "padding": null,
            "grid_auto_rows": null,
            "grid_gap": null,
            "max_width": null,
            "order": null,
            "_view_module_version": "1.2.0",
            "grid_template_areas": null,
            "object_position": null,
            "object_fit": null,
            "grid_auto_columns": null,
            "margin": null,
            "display": null,
            "left": null
          }
        },
        "0319b8f11b5e4e66826c306aebac7d20": {
          "model_module": "@jupyter-widgets/controls",
          "model_name": "FloatProgressModel",
          "model_module_version": "1.5.0",
          "state": {
            "_view_name": "ProgressView",
            "style": "IPY_MODEL_b5152b426acb4fb0a83b82e88893afde",
            "_dom_classes": [],
            "description": "Epoch 4: 100%",
            "_model_name": "FloatProgressModel",
            "bar_style": "",
            "max": 509,
            "_view_module": "@jupyter-widgets/controls",
            "_model_module_version": "1.5.0",
            "value": 509,
            "_view_count": null,
            "_view_module_version": "1.5.0",
            "orientation": "horizontal",
            "min": 0,
            "description_tooltip": null,
            "_model_module": "@jupyter-widgets/controls",
            "layout": "IPY_MODEL_da6e4a55222f47b4b2613809717cbaa1"
          }
        },
        "5e5422825b474a9cb3c4319132c14a31": {
          "model_module": "@jupyter-widgets/controls",
          "model_name": "HTMLModel",
          "model_module_version": "1.5.0",
          "state": {
            "_view_name": "HTMLView",
            "style": "IPY_MODEL_f67275a225014ba59c842031266cf9db",
            "_dom_classes": [],
            "description": "",
            "_model_name": "HTMLModel",
            "placeholder": "​",
            "_view_module": "@jupyter-widgets/controls",
            "_model_module_version": "1.5.0",
            "value": " 509/509 [02:21&lt;00:00,  3.90it/s, training_loss=0.004]",
            "_view_count": null,
            "_view_module_version": "1.5.0",
            "description_tooltip": null,
            "_model_module": "@jupyter-widgets/controls",
            "layout": "IPY_MODEL_8939d5e0dbba406682ea927e9cdaaf3e"
          }
        },
        "b5152b426acb4fb0a83b82e88893afde": {
          "model_module": "@jupyter-widgets/controls",
          "model_name": "ProgressStyleModel",
          "model_module_version": "1.5.0",
          "state": {
            "_view_name": "StyleView",
            "_model_name": "ProgressStyleModel",
            "description_width": "initial",
            "_view_module": "@jupyter-widgets/base",
            "_model_module_version": "1.5.0",
            "_view_count": null,
            "_view_module_version": "1.2.0",
            "bar_color": null,
            "_model_module": "@jupyter-widgets/controls"
          }
        },
        "da6e4a55222f47b4b2613809717cbaa1": {
          "model_module": "@jupyter-widgets/base",
          "model_name": "LayoutModel",
          "model_module_version": "1.2.0",
          "state": {
            "_view_name": "LayoutView",
            "grid_template_rows": null,
            "right": null,
            "justify_content": null,
            "_view_module": "@jupyter-widgets/base",
            "overflow": null,
            "_model_module_version": "1.2.0",
            "_view_count": null,
            "flex_flow": null,
            "width": null,
            "min_width": null,
            "border": null,
            "align_items": null,
            "bottom": null,
            "_model_module": "@jupyter-widgets/base",
            "top": null,
            "grid_column": null,
            "overflow_y": null,
            "overflow_x": null,
            "grid_auto_flow": null,
            "grid_area": null,
            "grid_template_columns": null,
            "flex": null,
            "_model_name": "LayoutModel",
            "justify_items": null,
            "grid_row": null,
            "max_height": null,
            "align_content": null,
            "visibility": null,
            "align_self": null,
            "height": null,
            "min_height": null,
            "padding": null,
            "grid_auto_rows": null,
            "grid_gap": null,
            "max_width": null,
            "order": null,
            "_view_module_version": "1.2.0",
            "grid_template_areas": null,
            "object_position": null,
            "object_fit": null,
            "grid_auto_columns": null,
            "margin": null,
            "display": null,
            "left": null
          }
        },
        "f67275a225014ba59c842031266cf9db": {
          "model_module": "@jupyter-widgets/controls",
          "model_name": "DescriptionStyleModel",
          "model_module_version": "1.5.0",
          "state": {
            "_view_name": "StyleView",
            "_model_name": "DescriptionStyleModel",
            "description_width": "",
            "_view_module": "@jupyter-widgets/base",
            "_model_module_version": "1.5.0",
            "_view_count": null,
            "_view_module_version": "1.2.0",
            "_model_module": "@jupyter-widgets/controls"
          }
        },
        "8939d5e0dbba406682ea927e9cdaaf3e": {
          "model_module": "@jupyter-widgets/base",
          "model_name": "LayoutModel",
          "model_module_version": "1.2.0",
          "state": {
            "_view_name": "LayoutView",
            "grid_template_rows": null,
            "right": null,
            "justify_content": null,
            "_view_module": "@jupyter-widgets/base",
            "overflow": null,
            "_model_module_version": "1.2.0",
            "_view_count": null,
            "flex_flow": null,
            "width": null,
            "min_width": null,
            "border": null,
            "align_items": null,
            "bottom": null,
            "_model_module": "@jupyter-widgets/base",
            "top": null,
            "grid_column": null,
            "overflow_y": null,
            "overflow_x": null,
            "grid_auto_flow": null,
            "grid_area": null,
            "grid_template_columns": null,
            "flex": null,
            "_model_name": "LayoutModel",
            "justify_items": null,
            "grid_row": null,
            "max_height": null,
            "align_content": null,
            "visibility": null,
            "align_self": null,
            "height": null,
            "min_height": null,
            "padding": null,
            "grid_auto_rows": null,
            "grid_gap": null,
            "max_width": null,
            "order": null,
            "_view_module_version": "1.2.0",
            "grid_template_areas": null,
            "object_position": null,
            "object_fit": null,
            "grid_auto_columns": null,
            "margin": null,
            "display": null,
            "left": null
          }
        },
        "498068f4661d441ea5e56750a6d8c482": {
          "model_module": "@jupyter-widgets/controls",
          "model_name": "HBoxModel",
          "model_module_version": "1.5.0",
          "state": {
            "_view_name": "HBoxView",
            "_dom_classes": [],
            "_model_name": "HBoxModel",
            "_view_module": "@jupyter-widgets/controls",
            "_model_module_version": "1.5.0",
            "_view_count": null,
            "_view_module_version": "1.5.0",
            "box_style": "",
            "layout": "IPY_MODEL_37ce0498738a459ebd4ece1abeabb198",
            "_model_module": "@jupyter-widgets/controls",
            "children": [
              "IPY_MODEL_00f8ac68da08451cb9875221c00668ac",
              "IPY_MODEL_fe0e3b0a4d304e31b6b05be0381eed11"
            ]
          }
        },
        "37ce0498738a459ebd4ece1abeabb198": {
          "model_module": "@jupyter-widgets/base",
          "model_name": "LayoutModel",
          "model_module_version": "1.2.0",
          "state": {
            "_view_name": "LayoutView",
            "grid_template_rows": null,
            "right": null,
            "justify_content": null,
            "_view_module": "@jupyter-widgets/base",
            "overflow": null,
            "_model_module_version": "1.2.0",
            "_view_count": null,
            "flex_flow": null,
            "width": null,
            "min_width": null,
            "border": null,
            "align_items": null,
            "bottom": null,
            "_model_module": "@jupyter-widgets/base",
            "top": null,
            "grid_column": null,
            "overflow_y": null,
            "overflow_x": null,
            "grid_auto_flow": null,
            "grid_area": null,
            "grid_template_columns": null,
            "flex": null,
            "_model_name": "LayoutModel",
            "justify_items": null,
            "grid_row": null,
            "max_height": null,
            "align_content": null,
            "visibility": null,
            "align_self": null,
            "height": null,
            "min_height": null,
            "padding": null,
            "grid_auto_rows": null,
            "grid_gap": null,
            "max_width": null,
            "order": null,
            "_view_module_version": "1.2.0",
            "grid_template_areas": null,
            "object_position": null,
            "object_fit": null,
            "grid_auto_columns": null,
            "margin": null,
            "display": null,
            "left": null
          }
        },
        "00f8ac68da08451cb9875221c00668ac": {
          "model_module": "@jupyter-widgets/controls",
          "model_name": "FloatProgressModel",
          "model_module_version": "1.5.0",
          "state": {
            "_view_name": "ProgressView",
            "style": "IPY_MODEL_f12a8e9f4fe74b1198e9dc73b920198b",
            "_dom_classes": [],
            "description": "Epoch 5: 100%",
            "_model_name": "FloatProgressModel",
            "bar_style": "",
            "max": 509,
            "_view_module": "@jupyter-widgets/controls",
            "_model_module_version": "1.5.0",
            "value": 509,
            "_view_count": null,
            "_view_module_version": "1.5.0",
            "orientation": "horizontal",
            "min": 0,
            "description_tooltip": null,
            "_model_module": "@jupyter-widgets/controls",
            "layout": "IPY_MODEL_d326a90254184de1bf28047c7002636f"
          }
        },
        "fe0e3b0a4d304e31b6b05be0381eed11": {
          "model_module": "@jupyter-widgets/controls",
          "model_name": "HTMLModel",
          "model_module_version": "1.5.0",
          "state": {
            "_view_name": "HTMLView",
            "style": "IPY_MODEL_d07e55083339406ba84d0c712b490a13",
            "_dom_classes": [],
            "description": "",
            "_model_name": "HTMLModel",
            "placeholder": "​",
            "_view_module": "@jupyter-widgets/controls",
            "_model_module_version": "1.5.0",
            "value": " 509/509 [02:21&lt;00:00,  4.01it/s, training_loss=0.000]",
            "_view_count": null,
            "_view_module_version": "1.5.0",
            "description_tooltip": null,
            "_model_module": "@jupyter-widgets/controls",
            "layout": "IPY_MODEL_824a763b308a4f6e9303af2c0664c72a"
          }
        },
        "f12a8e9f4fe74b1198e9dc73b920198b": {
          "model_module": "@jupyter-widgets/controls",
          "model_name": "ProgressStyleModel",
          "model_module_version": "1.5.0",
          "state": {
            "_view_name": "StyleView",
            "_model_name": "ProgressStyleModel",
            "description_width": "initial",
            "_view_module": "@jupyter-widgets/base",
            "_model_module_version": "1.5.0",
            "_view_count": null,
            "_view_module_version": "1.2.0",
            "bar_color": null,
            "_model_module": "@jupyter-widgets/controls"
          }
        },
        "d326a90254184de1bf28047c7002636f": {
          "model_module": "@jupyter-widgets/base",
          "model_name": "LayoutModel",
          "model_module_version": "1.2.0",
          "state": {
            "_view_name": "LayoutView",
            "grid_template_rows": null,
            "right": null,
            "justify_content": null,
            "_view_module": "@jupyter-widgets/base",
            "overflow": null,
            "_model_module_version": "1.2.0",
            "_view_count": null,
            "flex_flow": null,
            "width": null,
            "min_width": null,
            "border": null,
            "align_items": null,
            "bottom": null,
            "_model_module": "@jupyter-widgets/base",
            "top": null,
            "grid_column": null,
            "overflow_y": null,
            "overflow_x": null,
            "grid_auto_flow": null,
            "grid_area": null,
            "grid_template_columns": null,
            "flex": null,
            "_model_name": "LayoutModel",
            "justify_items": null,
            "grid_row": null,
            "max_height": null,
            "align_content": null,
            "visibility": null,
            "align_self": null,
            "height": null,
            "min_height": null,
            "padding": null,
            "grid_auto_rows": null,
            "grid_gap": null,
            "max_width": null,
            "order": null,
            "_view_module_version": "1.2.0",
            "grid_template_areas": null,
            "object_position": null,
            "object_fit": null,
            "grid_auto_columns": null,
            "margin": null,
            "display": null,
            "left": null
          }
        },
        "d07e55083339406ba84d0c712b490a13": {
          "model_module": "@jupyter-widgets/controls",
          "model_name": "DescriptionStyleModel",
          "model_module_version": "1.5.0",
          "state": {
            "_view_name": "StyleView",
            "_model_name": "DescriptionStyleModel",
            "description_width": "",
            "_view_module": "@jupyter-widgets/base",
            "_model_module_version": "1.5.0",
            "_view_count": null,
            "_view_module_version": "1.2.0",
            "_model_module": "@jupyter-widgets/controls"
          }
        },
        "824a763b308a4f6e9303af2c0664c72a": {
          "model_module": "@jupyter-widgets/base",
          "model_name": "LayoutModel",
          "model_module_version": "1.2.0",
          "state": {
            "_view_name": "LayoutView",
            "grid_template_rows": null,
            "right": null,
            "justify_content": null,
            "_view_module": "@jupyter-widgets/base",
            "overflow": null,
            "_model_module_version": "1.2.0",
            "_view_count": null,
            "flex_flow": null,
            "width": null,
            "min_width": null,
            "border": null,
            "align_items": null,
            "bottom": null,
            "_model_module": "@jupyter-widgets/base",
            "top": null,
            "grid_column": null,
            "overflow_y": null,
            "overflow_x": null,
            "grid_auto_flow": null,
            "grid_area": null,
            "grid_template_columns": null,
            "flex": null,
            "_model_name": "LayoutModel",
            "justify_items": null,
            "grid_row": null,
            "max_height": null,
            "align_content": null,
            "visibility": null,
            "align_self": null,
            "height": null,
            "min_height": null,
            "padding": null,
            "grid_auto_rows": null,
            "grid_gap": null,
            "max_width": null,
            "order": null,
            "_view_module_version": "1.2.0",
            "grid_template_areas": null,
            "object_position": null,
            "object_fit": null,
            "grid_auto_columns": null,
            "margin": null,
            "display": null,
            "left": null
          }
        }
      }
    }
  },
  "cells": [
    {
      "cell_type": "markdown",
      "metadata": {
        "id": "view-in-github",
        "colab_type": "text"
      },
      "source": [
        "<a href=\"https://colab.research.google.com/github/amirsartipi13/NSURL/blob/main/TestBertOnPERELEX.ipynb\" target=\"_parent\"><img src=\"https://colab.research.google.com/assets/colab-badge.svg\" alt=\"Open In Colab\"/></a>"
      ]
    },
    {
      "cell_type": "markdown",
      "metadata": {
        "id": "hgKLXlN0YSfl"
      },
      "source": [
        "# ML flow"
      ]
    },
    {
      "cell_type": "code",
      "metadata": {
        "colab": {
          "base_uri": "https://localhost:8080/"
        },
        "id": "mjTiYXurYSBY",
        "outputId": "06cdca61-9bcf-486d-ff50-3545f0730637"
      },
      "source": [
        "!pip install mlflow --quiet\n",
        "\n",
        "import mlflow\n",
        "import os\n",
        "from getpass import getpass\n",
        "\n",
        "os.environ['MLFLOW_TRACKING_USERNAME'] = input('amirjustjoin')\n",
        "os.environ['MLFLOW_TRACKING_PASSWORD'] = getpass('8b1a9ff702faf9c769072f2fff3fbaef3f6634fa')\n",
        "os.environ['MLFLOW_TRACKING_PROJECTNAME'] = input('relation-extraction')\n",
        "\n",
        "mlflow.set_tracking_uri(f'https://dagshub.com/' + os.environ['MLFLOW_TRACKING_USERNAME'] \n",
        "                        + '/' + os.environ['MLFLOW_TRACKING_PROJECTNAME'] + '.mlflow')\n",
        "\n",
        "with mlflow.start_run(run_name=\"MLflow on Colab\"):\n",
        "  mlflow.log_metric(\"m1\", 2.0)\n",
        "  mlflow.log_param(\"p1\", \"mlflow-colab\")"
      ],
      "execution_count": null,
      "outputs": [
        {
          "output_type": "stream",
          "text": [
            "amirjustjoinamirjustjoin\n",
            "8b1a9ff702faf9c769072f2fff3fbaef3f6634fa··········\n",
            "relation-extractionrelation-extraction\n"
          ],
          "name": "stdout"
        }
      ]
    },
    {
      "cell_type": "code",
      "metadata": {
        "id": "VzDyZSxMY1Ry"
      },
      "source": [
        "# See your experiments table inside Colab!\n",
        "import IPython\n",
        "display(IPython.display.IFrame(\"https://dagshub.com/\"+ os.environ['MLFLOW_TRACKING_USERNAME'] \n",
        "                        + '/' + os.environ['MLFLOW_TRACKING_PROJECTNAME'] + \"/experiments/#/\",'100%',600))"
      ],
      "execution_count": null,
      "outputs": []
    },
    {
      "cell_type": "markdown",
      "metadata": {
        "id": "RDGZcwD4YtgU"
      },
      "source": [
        "# Mounting"
      ]
    },
    {
      "cell_type": "code",
      "metadata": {
        "colab": {
          "base_uri": "https://localhost:8080/"
        },
        "id": "ZreDG7Zj6WcR",
        "outputId": "f93d1926-0ef1-4f07-c481-a4f696958d0f"
      },
      "source": [
        "from google.colab import drive\n",
        "drive.mount('/content/drive')"
      ],
      "execution_count": null,
      "outputs": [
        {
          "output_type": "stream",
          "text": [
            "Drive already mounted at /content/drive; to attempt to forcibly remount, call drive.mount(\"/content/drive\", force_remount=True).\n"
          ],
          "name": "stdout"
        }
      ]
    },
    {
      "cell_type": "code",
      "metadata": {
        "id": "d8Cp3Eu3_Dvi",
        "colab": {
          "base_uri": "https://localhost:8080/"
        },
        "outputId": "38d402e4-7028-4057-d69e-8ea1ee684a41"
      },
      "source": [
        "!pip install hazm"
      ],
      "execution_count": null,
      "outputs": [
        {
          "output_type": "stream",
          "text": [
            "Collecting hazm\n",
            "  Downloading hazm-0.7.0-py3-none-any.whl (316 kB)\n",
            "\u001b[?25l\r\u001b[K     |█                               | 10 kB 28.3 MB/s eta 0:00:01\r\u001b[K     |██                              | 20 kB 33.2 MB/s eta 0:00:01\r\u001b[K     |███                             | 30 kB 21.9 MB/s eta 0:00:01\r\u001b[K     |████▏                           | 40 kB 17.1 MB/s eta 0:00:01\r\u001b[K     |█████▏                          | 51 kB 8.9 MB/s eta 0:00:01\r\u001b[K     |██████▏                         | 61 kB 9.3 MB/s eta 0:00:01\r\u001b[K     |███████▎                        | 71 kB 8.9 MB/s eta 0:00:01\r\u001b[K     |████████▎                       | 81 kB 9.9 MB/s eta 0:00:01\r\u001b[K     |█████████▎                      | 92 kB 10.2 MB/s eta 0:00:01\r\u001b[K     |██████████▍                     | 102 kB 8.4 MB/s eta 0:00:01\r\u001b[K     |███████████▍                    | 112 kB 8.4 MB/s eta 0:00:01\r\u001b[K     |████████████▍                   | 122 kB 8.4 MB/s eta 0:00:01\r\u001b[K     |█████████████▌                  | 133 kB 8.4 MB/s eta 0:00:01\r\u001b[K     |██████████████▌                 | 143 kB 8.4 MB/s eta 0:00:01\r\u001b[K     |███████████████▌                | 153 kB 8.4 MB/s eta 0:00:01\r\u001b[K     |████████████████▋               | 163 kB 8.4 MB/s eta 0:00:01\r\u001b[K     |█████████████████▋              | 174 kB 8.4 MB/s eta 0:00:01\r\u001b[K     |██████████████████▋             | 184 kB 8.4 MB/s eta 0:00:01\r\u001b[K     |███████████████████▋            | 194 kB 8.4 MB/s eta 0:00:01\r\u001b[K     |████████████████████▊           | 204 kB 8.4 MB/s eta 0:00:01\r\u001b[K     |█████████████████████▊          | 215 kB 8.4 MB/s eta 0:00:01\r\u001b[K     |██████████████████████▊         | 225 kB 8.4 MB/s eta 0:00:01\r\u001b[K     |███████████████████████▉        | 235 kB 8.4 MB/s eta 0:00:01\r\u001b[K     |████████████████████████▉       | 245 kB 8.4 MB/s eta 0:00:01\r\u001b[K     |█████████████████████████▉      | 256 kB 8.4 MB/s eta 0:00:01\r\u001b[K     |███████████████████████████     | 266 kB 8.4 MB/s eta 0:00:01\r\u001b[K     |████████████████████████████    | 276 kB 8.4 MB/s eta 0:00:01\r\u001b[K     |█████████████████████████████   | 286 kB 8.4 MB/s eta 0:00:01\r\u001b[K     |██████████████████████████████  | 296 kB 8.4 MB/s eta 0:00:01\r\u001b[K     |███████████████████████████████ | 307 kB 8.4 MB/s eta 0:00:01\r\u001b[K     |████████████████████████████████| 316 kB 8.4 MB/s \n",
            "\u001b[?25hCollecting nltk==3.3\n",
            "  Downloading nltk-3.3.0.zip (1.4 MB)\n",
            "\u001b[K     |████████████████████████████████| 1.4 MB 63.4 MB/s \n",
            "\u001b[?25hCollecting libwapiti>=0.2.1\n",
            "  Downloading libwapiti-0.2.1.tar.gz (233 kB)\n",
            "\u001b[K     |████████████████████████████████| 233 kB 63.5 MB/s \n",
            "\u001b[?25hRequirement already satisfied: six in /usr/local/lib/python3.7/dist-packages (from nltk==3.3->hazm) (1.15.0)\n",
            "Building wheels for collected packages: nltk, libwapiti\n",
            "  Building wheel for nltk (setup.py) ... \u001b[?25l\u001b[?25hdone\n",
            "  Created wheel for nltk: filename=nltk-3.3-py3-none-any.whl size=1394487 sha256=24ca22c8f5ee8cc9c562d3726fbb27906390ad9b27431afb1333f254ec29704c\n",
            "  Stored in directory: /root/.cache/pip/wheels/9b/fd/0c/d92302c876e5de87ebd7fc0979d82edb93e2d8d768bf71fac4\n",
            "  Building wheel for libwapiti (setup.py) ... \u001b[?25l\u001b[?25hdone\n",
            "  Created wheel for libwapiti: filename=libwapiti-0.2.1-cp37-cp37m-linux_x86_64.whl size=153790 sha256=6dce3f3d0a5b9102f22960a305fd26335f7816510215c2c90f8a155d30d4444f\n",
            "  Stored in directory: /root/.cache/pip/wheels/ab/b2/5b/0fe4b8f5c0e65341e8ea7bb3f4a6ebabfe8b1ac31322392dbf\n",
            "Successfully built nltk libwapiti\n",
            "Installing collected packages: nltk, libwapiti, hazm\n",
            "  Attempting uninstall: nltk\n",
            "    Found existing installation: nltk 3.2.5\n",
            "    Uninstalling nltk-3.2.5:\n",
            "      Successfully uninstalled nltk-3.2.5\n",
            "Successfully installed hazm-0.7.0 libwapiti-0.2.1 nltk-3.3\n"
          ],
          "name": "stdout"
        }
      ]
    },
    {
      "cell_type": "code",
      "metadata": {
        "id": "FLdE82Z87Fs3",
        "colab": {
          "base_uri": "https://localhost:8080/"
        },
        "outputId": "708e74d9-6f7e-492e-82cd-d9fcf985c7d7"
      },
      "source": [
        "!pip install transformers"
      ],
      "execution_count": null,
      "outputs": [
        {
          "output_type": "stream",
          "text": [
            "Collecting transformers\n",
            "  Downloading transformers-4.9.2-py3-none-any.whl (2.6 MB)\n",
            "\u001b[K     |████████████████████████████████| 2.6 MB 9.5 MB/s \n",
            "\u001b[?25hRequirement already satisfied: filelock in /usr/local/lib/python3.7/dist-packages (from transformers) (3.0.12)\n",
            "Requirement already satisfied: requests in /usr/local/lib/python3.7/dist-packages (from transformers) (2.23.0)\n",
            "Requirement already satisfied: numpy>=1.17 in /usr/local/lib/python3.7/dist-packages (from transformers) (1.19.5)\n",
            "Requirement already satisfied: packaging in /usr/local/lib/python3.7/dist-packages (from transformers) (21.0)\n",
            "Requirement already satisfied: regex!=2019.12.17 in /usr/local/lib/python3.7/dist-packages (from transformers) (2019.12.20)\n",
            "Requirement already satisfied: tqdm>=4.27 in /usr/local/lib/python3.7/dist-packages (from transformers) (4.41.1)\n",
            "Requirement already satisfied: pyyaml>=5.1 in /usr/local/lib/python3.7/dist-packages (from transformers) (5.4.1)\n",
            "Requirement already satisfied: importlib-metadata in /usr/local/lib/python3.7/dist-packages (from transformers) (4.6.1)\n",
            "Collecting sacremoses\n",
            "  Downloading sacremoses-0.0.45-py3-none-any.whl (895 kB)\n",
            "\u001b[K     |████████████████████████████████| 895 kB 55.7 MB/s \n",
            "\u001b[?25hCollecting huggingface-hub==0.0.12\n",
            "  Downloading huggingface_hub-0.0.12-py3-none-any.whl (37 kB)\n",
            "Collecting tokenizers<0.11,>=0.10.1\n",
            "  Downloading tokenizers-0.10.3-cp37-cp37m-manylinux_2_5_x86_64.manylinux1_x86_64.manylinux_2_12_x86_64.manylinux2010_x86_64.whl (3.3 MB)\n",
            "\u001b[K     |████████████████████████████████| 3.3 MB 44.5 MB/s \n",
            "\u001b[?25hRequirement already satisfied: typing-extensions in /usr/local/lib/python3.7/dist-packages (from huggingface-hub==0.0.12->transformers) (3.7.4.3)\n",
            "Requirement already satisfied: pyparsing>=2.0.2 in /usr/local/lib/python3.7/dist-packages (from packaging->transformers) (2.4.7)\n",
            "Requirement already satisfied: zipp>=0.5 in /usr/local/lib/python3.7/dist-packages (from importlib-metadata->transformers) (3.5.0)\n",
            "Requirement already satisfied: urllib3!=1.25.0,!=1.25.1,<1.26,>=1.21.1 in /usr/local/lib/python3.7/dist-packages (from requests->transformers) (1.24.3)\n",
            "Requirement already satisfied: chardet<4,>=3.0.2 in /usr/local/lib/python3.7/dist-packages (from requests->transformers) (3.0.4)\n",
            "Requirement already satisfied: certifi>=2017.4.17 in /usr/local/lib/python3.7/dist-packages (from requests->transformers) (2021.5.30)\n",
            "Requirement already satisfied: idna<3,>=2.5 in /usr/local/lib/python3.7/dist-packages (from requests->transformers) (2.10)\n",
            "Requirement already satisfied: click in /usr/local/lib/python3.7/dist-packages (from sacremoses->transformers) (7.1.2)\n",
            "Requirement already satisfied: joblib in /usr/local/lib/python3.7/dist-packages (from sacremoses->transformers) (1.0.1)\n",
            "Requirement already satisfied: six in /usr/local/lib/python3.7/dist-packages (from sacremoses->transformers) (1.15.0)\n",
            "Installing collected packages: tokenizers, sacremoses, huggingface-hub, transformers\n",
            "Successfully installed huggingface-hub-0.0.12 sacremoses-0.0.45 tokenizers-0.10.3 transformers-4.9.2\n"
          ],
          "name": "stdout"
        }
      ]
    },
    {
      "cell_type": "code",
      "metadata": {
        "id": "ZgxLQ1g07ClR"
      },
      "source": [
        "import re\n",
        "import pandas as pd\n",
        "\n",
        "import requests\n",
        "import spacy\n",
        "from spacy import displacy\n",
        "nlp = spacy.load('en_core_web_sm')\n",
        "\n",
        "from spacy.matcher import Matcher \n",
        "from spacy.tokens import Span \n",
        "\n",
        "import networkx as nx\n",
        "\n",
        "import matplotlib.pyplot as plt\n",
        "from tqdm import tqdm\n",
        "\n",
        "import torch\n",
        "from tqdm.notebook import tqdm\n",
        "from torch.utils.data import TensorDataset\n",
        "from transformers import AutoTokenizer, AutoModelForSequenceClassification\n",
        "\n",
        "\n",
        "from __future__ import unicode_literals\n",
        "from hazm import *"
      ],
      "execution_count": null,
      "outputs": []
    },
    {
      "cell_type": "code",
      "metadata": {
        "id": "7ERKZ5Xg7AEs"
      },
      "source": [
        "device = torch.device(\"cuda\") if torch.cuda.is_available() else torch.device(\"cpu\")  "
      ],
      "execution_count": null,
      "outputs": []
    },
    {
      "cell_type": "markdown",
      "metadata": {
        "id": "0xskm4CFQ3uG"
      },
      "source": [
        "# pre define functions\n"
      ]
    },
    {
      "cell_type": "code",
      "metadata": {
        "id": "uky4dmW-Q567"
      },
      "source": [
        "from sklearn.metrics import f1_score\n",
        "def f1_score_func(preds, labels):\n",
        "    preds_flat = np.argmax(preds, axis=1).flatten()\n",
        "    labels_flat = labels.flatten()\n",
        "    return f1_score(labels_flat, preds_flat, average='weighted')\n",
        "\n",
        "def accuracy_per_class(preds, labels):    \n",
        "    preds_flat = np.argmax(preds, axis=1).flatten()\n",
        "    labels_flat = labels.flatten()\n",
        "    tt = 0\n",
        "    for label in np.unique(labels_flat):\n",
        "        y_preds = preds_flat[labels_flat==label]\n",
        "        y_true = labels_flat[labels_flat==label]\n",
        "        print(f'Class: {indx2label[label]}')\n",
        "        print(\"Acc with percent:\", len(y_preds[y_preds==label])/len(y_true))\n",
        "        print(f'Accuracy: {len(y_preds[y_preds==label])}/{len(y_true)}\\n')\n",
        "        tt += len(y_preds[y_preds==label])/len(y_true)\n",
        "    return tt/ len(label2index)\n"
      ],
      "execution_count": null,
      "outputs": []
    },
    {
      "cell_type": "code",
      "metadata": {
        "id": "aZnGnD5nRAlY"
      },
      "source": [
        "def evaluate(dataloader_val):\n",
        "\n",
        "    model.eval()\n",
        "    \n",
        "    loss_val_total = 0\n",
        "    predictions, true_vals = [], []\n",
        "    \n",
        "    for batch in dataloader_val:\n",
        "        \n",
        "        batch = tuple(b.to(device) for b in batch)\n",
        "        \n",
        "        # inputs = {'input_ids':      batch[0],\n",
        "        #           'attention_mask': batch[1],\n",
        "        #           'labels':         batch[2],\n",
        "        #          }\n",
        "\n",
        "\n",
        "        inputs = {'input_ids':      batch[0],\n",
        "                  'attention_mask': batch[1],\n",
        "                  # XLM and RoBERTa don't use segment_ids\n",
        "                  # 'token_type_ids': batch[2],\n",
        "                  'e1_mask': batch[2],\n",
        "                  'e2_mask': batch[3],\n",
        "                  'labels':  batch[4],\n",
        "\n",
        "                  }\n",
        "        with torch.no_grad():        \n",
        "            outputs = model(**inputs)\n",
        "            \n",
        "        loss = outputs[0]\n",
        "        logits = outputs[1]\n",
        "        loss_val_total += loss.item()\n",
        "\n",
        "        logits = logits.detach().cpu().numpy()\n",
        "        label_ids = inputs['labels'].cpu().numpy()\n",
        "        predictions.append(logits)\n",
        "        true_vals.append(label_ids)\n",
        "    \n",
        "    loss_val_avg = loss_val_total/len(dataloader_val) \n",
        "    \n",
        "    predictions = np.concatenate(predictions, axis=0)\n",
        "    true_vals = np.concatenate(true_vals, axis=0)\n",
        "            \n",
        "    return loss_val_avg, predictions, true_vals\n",
        "    "
      ],
      "execution_count": null,
      "outputs": []
    },
    {
      "cell_type": "markdown",
      "metadata": {
        "id": "6uzj5jl1FXWC"
      },
      "source": [
        "# Prepare English Dataset\n",
        "\n",
        "\n"
      ]
    },
    {
      "cell_type": "code",
      "metadata": {
        "id": "QXS77odTFRMh"
      },
      "source": [
        "def make_dataframe(path):\n",
        "    f = open(path, 'r')\n",
        "    data = [x.rstrip() for x in f] \n",
        "    data_set_rows = []\n",
        "    # labels_file = open(\"perlex_labels.txt\", \"w\")\n",
        "    # sentences_file = open(\"perlex_sentences.txt\", \"w\")\n",
        "    clean_sentences = []\n",
        "    for i in range(0, len(data)-4, 4):\n",
        "      item = data[i].split('\\t')\n",
        "      sentence = re.sub('[!@#$،.()]', '', item[1])\n",
        "\n",
        "      label = data[i+1]\n",
        "\n",
        "      # labels_file.write(label)\n",
        "      # labels_file.write('\\n')\n",
        "\n",
        "      # sentences_file.write(sentence)\n",
        "      # sentences_file.write('\\n')\n",
        "\n",
        "      rows, clean_sentence= make_dataframe_row(sentence , label)\n",
        "      data_set_rows += rows\n",
        "      clean_sentences.append(clean_sentence)\n",
        "    return pd.DataFrame(data_set_rows)"
      ],
      "execution_count": null,
      "outputs": []
    },
    {
      "cell_type": "markdown",
      "metadata": {
        "id": "tzaR1-YuS58C"
      },
      "source": [
        "# Model Class"
      ]
    },
    {
      "cell_type": "code",
      "metadata": {
        "id": "XzPV2LuiTlfs"
      },
      "source": [
        "import torch\n",
        "import torch.nn.functional as F\n",
        "from transformers import WEIGHTS_NAME, BertConfig, BertModel, BertPreTrainedModel, BertTokenizer\n",
        "from torch.nn import MSELoss, CrossEntropyLoss"
      ],
      "execution_count": null,
      "outputs": []
    },
    {
      "cell_type": "code",
      "metadata": {
        "id": "qhRP0NF3S-px"
      },
      "source": [
        "class BertForSequenceClassification(BertPreTrainedModel):\n",
        "    def __init__(self, config):\n",
        "        super(BertForSequenceClassification, self).__init__(config)\n",
        "        self.num_labels = config.num_labels\n",
        "        self.bert = BertModel(config)\n",
        "        # self.bert = AutoModelForSequenceClassification.from_pretrained(config.model_name, config.num_labels)\n",
        "        self.cls_dropout = torch.nn.Dropout(0.1)  # dropout on CLS transformed token embedding\n",
        "        self.ent_dropout = torch.nn.Dropout(0.1)  # dropout on average entity embedding\n",
        "        \n",
        "        self.classifier = torch.nn.Linear(config.hidden_size*3, self.config.num_labels)\n",
        "        self.init_weights()\n",
        "\n",
        "    def forward(self, input_ids, attention_mask=None, e1_mask=None, e2_mask=None, labels=None,\n",
        "                position_ids=None, head_mask=None):\n",
        "        outputs = self.bert(input_ids, position_ids=position_ids,\n",
        "                            attention_mask=attention_mask, head_mask=head_mask)\n",
        "        # for details, see https://huggingface.co/transformers/model_doc/bert.html#bertmodel\n",
        "        pooled_output = outputs[1]  # sequence of hidden-states at the output of the last layer of the model\n",
        "        sequence_output = outputs[0]  # last layer hidden-state of the first token of the sequence (classification token) further processed by a Linear layer and a Tanh activation function.\n",
        "\n",
        "        def extract_entity(sequence_output, e_mask):\n",
        "            # print('extract_entity')\n",
        "            extended_e_mask = e_mask.unsqueeze(1)\n",
        "            extended_e_mask = torch.bmm(\n",
        "                extended_e_mask.float(), sequence_output).squeeze(1)\n",
        "            return extended_e_mask.float()\n",
        "\n",
        "        e1_h = self.ent_dropout(extract_entity(sequence_output, e1_mask))\n",
        "        e2_h = self.ent_dropout(extract_entity(sequence_output, e2_mask))\n",
        "        context = self.cls_dropout(pooled_output)\n",
        "        pooled_output = torch.cat([context, e1_h, e2_h], dim=-1)\n",
        "\n",
        "        logits = self.classifier(pooled_output)\n",
        "\n",
        "        # add hidden states and attention if they are here\n",
        "        outputs = (logits,) + outputs[2:]\n",
        "\n",
        "        if labels is not None:\n",
        "            if self.num_labels == 1:\n",
        "                #  We are doing regression\n",
        "                loss_fct = MSELoss()\n",
        "                loss = loss_fct(logits.view(-1), labels.view(-1))\n",
        "            else:\n",
        "                # print('loss ottt')\n",
        "                loss_fct = CrossEntropyLoss()\n",
        "                loss = loss_fct(logits.view(-1, self.num_labels), labels.view(-1))\n",
        "                \n",
        "            outputs = (loss,) + outputs\n",
        "\n",
        "        return outputs  # (loss), logits, (hidden_states), (attentions)"
      ],
      "execution_count": null,
      "outputs": []
    },
    {
      "cell_type": "code",
      "metadata": {
        "id": "HJLZ5dmG6eB8"
      },
      "source": [
        "train_path = './drive/MyDrive/data_sets/PERLEX/train.txt'\n",
        "test_path = './drive/MyDrive/data_sets/PERLEX/test.txt'\n",
        "train_path_e = './drive/MyDrive/data_sets/PERLEX/train_english.txt'\n",
        "test_path_e = './drive/MyDrive/data_sets/PERLEX/test_english.txt'\n",
        "\n",
        "# train_path = './drive/MyDrive/dataset/perlex/train.txt'\n",
        "# test_path = './drive/MyDrive/dataset/perlex/test.txt'"
      ],
      "execution_count": null,
      "outputs": []
    },
    {
      "cell_type": "code",
      "metadata": {
        "id": "--SOZXuW6fE4"
      },
      "source": [
        "def get_e1(text):\n",
        "  text = re.sub('[E21]', '', text)\n",
        "  text = re.sub('[E22]', '', text)\n",
        "  e = re.findall(\"[E11](.*?)[E12]\", text)\n",
        "  pre_process = set()\n",
        "  for ent in e:\n",
        "    if ent != ' ' and len(ent.strip())>1:\n",
        "      pre_process.add(ent.strip())\n",
        "  return list(pre_process)"
      ],
      "execution_count": null,
      "outputs": []
    },
    {
      "cell_type": "code",
      "metadata": {
        "id": "YHWL2OEQ6g9w"
      },
      "source": [
        "def get_e2(text):\n",
        "  text = re.sub('[E11]', '', text)\n",
        "  text = re.sub('[E12]', '', text)\n",
        "  e = re.findall(\"[E21](.*?)[E22]\", text)\n",
        "  pre_process = set()\n",
        "  for ent in e:\n",
        "    if ent != ' ' and len(ent.strip())>1:\n",
        "      pre_process.add(ent.strip())\n",
        "  return list(pre_process)"
      ],
      "execution_count": null,
      "outputs": []
    },
    {
      "cell_type": "code",
      "metadata": {
        "id": "nO2AzBZ76jDr"
      },
      "source": [
        "SEMEVAL_RELATION_LABELS = ['Other', 'Message-Topic(e1,e2)', 'Message-Topic(e2,e1)',\n",
        "                   'Product-Producer(e1,e2)', 'Product-Producer(e2,e1)',\n",
        "                   'Instrument-Agency(e1,e2)', 'Instrument-Agency(e2,e1)',\n",
        "                   'Entity-Destination(e1,e2)', 'Entity-Destination(e2,e1)',\n",
        "                   'Cause-Effect(e1,e2)', 'Cause-Effect(e2,e1)',\n",
        "                   'Component-Whole(e1,e2)', 'Component-Whole(e2,e1)',\n",
        "                   'Entity-Origin(e1,e2)', 'Entity-Origin(e2,e1)',\n",
        "                   'Member-Collection(e1,e2)', 'Member-Collection(e2,e1)',\n",
        "                   'Content-Container(e1,e2)', 'Content-Container(e2,e1)']"
      ],
      "execution_count": null,
      "outputs": []
    },
    {
      "cell_type": "code",
      "metadata": {
        "id": "w7k_98hG6kYF"
      },
      "source": [
        "indx2label = dict(enumerate(SEMEVAL_RELATION_LABELS))\n"
      ],
      "execution_count": null,
      "outputs": []
    },
    {
      "cell_type": "code",
      "metadata": {
        "id": "EAGgCVmhz5An"
      },
      "source": [
        "label2index = {v:k for k,v in indx2label.items()}"
      ],
      "execution_count": null,
      "outputs": []
    },
    {
      "cell_type": "code",
      "metadata": {
        "id": "wRq5xZ-ToWLH"
      },
      "source": [
        "# model_name = 'bert-base-multilingual-cased'\n",
        "# model_name = 'xlm-roberta-large'\n",
        "# model_name = 'xlm-roberta-base'\n",
        "\n",
        "model_name = 'HooshvareLab/bert-fa-zwnj-base'\n",
        "\n",
        "\n",
        "config = {\n",
        "    \"model_name\":model_name,\n",
        "    \"num_labels\": len(label2index),\n",
        "    \"max_length\": 85\n",
        "}"
      ],
      "execution_count": null,
      "outputs": []
    },
    {
      "cell_type": "code",
      "metadata": {
        "id": "41vhTE7sVPq7",
        "colab": {
          "base_uri": "https://localhost:8080/",
          "height": 262,
          "referenced_widgets": [
            "640a7da72448445e8aaccc1e353e5288",
            "9ee147d06be24d8bac07888cb5d2b671",
            "dc4014b9e0c14fb1a6b6e72b447f798b",
            "81f5a42ef0ad402caf5635d7d5bab614",
            "976b9705b31e4a75b0f3726461b4136c",
            "fc6873a6f8a34abc9aa71f03e4f8d205",
            "40fcd44c4de04539812d81d183b8d6bc",
            "adab3a23abe24c5f8b57f5b90075dcc6",
            "2029268916014eac9b4bd0dc0f35c5a8",
            "8c5490dca5864f8ca722faecf197884c",
            "537e109c781648cebf93fb3d9160e615",
            "48f1274d0a004c349a3d6381366d136a",
            "64c186e37b6a43989811abce7b2bf9af",
            "4956edf3105a429b811ab2171bafaea1",
            "6a98b0006e954c8cab5ce388de7a053b",
            "8cf37ff0e31e47dcad514b347d5553fb",
            "318dd5d136ba42d18c69a0cc5827b90b",
            "bff36b8d219644a1b59aa51aa6dee0ef",
            "961fce11baf5464f9fe005ebd7a3d4a0",
            "ce01299924fb4a21ac0185dd55e0f80a",
            "6ee807f9b74a4738a16683a009b8713d",
            "b9fa1e65634e4a6ca736eeca3d607aaa",
            "44101bc02dfe4186a6364dc5e7c0e69f",
            "a081bfcbff594c2795d737db176f10a3",
            "169aeb6bd93e419eb325871ae871e237",
            "2f4e6167f7e7433383bab900e8d747bc",
            "d161d6b5daed4e27b0d0e54803a93af9",
            "58d76169fcc34b6c97f2380fdc55d2af",
            "b27209e9278542879c168b59baebec8f",
            "03529e0a4abd45afbc3a3f4e3f871498",
            "5ab0c3be8ffa40b59acd78b5c8423408",
            "ec3d25850b054e8dace9b0f92dc4a3e5",
            "37878c7a20744b838062d3183a5ae07d",
            "dfb125849a1b4b649781f3707f41b70d",
            "f0a81a0aaeef45b58834770332257bb9",
            "0bc64825535c49c086aafd7697da6204",
            "e9542d8238e6406fa7528b05023b0c1b",
            "48ebf8ad622f468fabfe27e3dd91b0f9",
            "7dec82a72f814a5085d55dc7cae87495",
            "00afb8598e31454eb8ee59dc30407bae"
          ]
        },
        "outputId": "49fb3daa-38aa-492e-deee-6d07eb20b935"
      },
      "source": [
        "\n",
        "tokenizer = AutoTokenizer.from_pretrained(config['model_name'])\n",
        "special_tokens_dict = {'additional_special_tokens': ['[E11]','[E12]','[E21]','[E22]']}\n",
        "num_added_toks = tokenizer.add_special_tokens(special_tokens_dict)"
      ],
      "execution_count": null,
      "outputs": [
        {
          "output_type": "display_data",
          "data": {
            "application/vnd.jupyter.widget-view+json": {
              "model_id": "640a7da72448445e8aaccc1e353e5288",
              "version_minor": 0,
              "version_major": 2
            },
            "text/plain": [
              "HBox(children=(FloatProgress(value=0.0, description='Downloading', max=292.0, style=ProgressStyle(description_…"
            ]
          },
          "metadata": {
            "tags": []
          }
        },
        {
          "output_type": "stream",
          "text": [
            "\n"
          ],
          "name": "stdout"
        },
        {
          "output_type": "display_data",
          "data": {
            "application/vnd.jupyter.widget-view+json": {
              "model_id": "2029268916014eac9b4bd0dc0f35c5a8",
              "version_minor": 0,
              "version_major": 2
            },
            "text/plain": [
              "HBox(children=(FloatProgress(value=0.0, description='Downloading', max=565.0, style=ProgressStyle(description_…"
            ]
          },
          "metadata": {
            "tags": []
          }
        },
        {
          "output_type": "stream",
          "text": [
            "\n"
          ],
          "name": "stdout"
        },
        {
          "output_type": "display_data",
          "data": {
            "application/vnd.jupyter.widget-view+json": {
              "model_id": "318dd5d136ba42d18c69a0cc5827b90b",
              "version_minor": 0,
              "version_major": 2
            },
            "text/plain": [
              "HBox(children=(FloatProgress(value=0.0, description='Downloading', max=426422.0, style=ProgressStyle(descripti…"
            ]
          },
          "metadata": {
            "tags": []
          }
        },
        {
          "output_type": "stream",
          "text": [
            "\n"
          ],
          "name": "stdout"
        },
        {
          "output_type": "display_data",
          "data": {
            "application/vnd.jupyter.widget-view+json": {
              "model_id": "169aeb6bd93e419eb325871ae871e237",
              "version_minor": 0,
              "version_major": 2
            },
            "text/plain": [
              "HBox(children=(FloatProgress(value=0.0, description='Downloading', max=1108824.0, style=ProgressStyle(descript…"
            ]
          },
          "metadata": {
            "tags": []
          }
        },
        {
          "output_type": "stream",
          "text": [
            "\n"
          ],
          "name": "stdout"
        },
        {
          "output_type": "display_data",
          "data": {
            "application/vnd.jupyter.widget-view+json": {
              "model_id": "37878c7a20744b838062d3183a5ae07d",
              "version_minor": 0,
              "version_major": 2
            },
            "text/plain": [
              "HBox(children=(FloatProgress(value=0.0, description='Downloading', max=134.0, style=ProgressStyle(description_…"
            ]
          },
          "metadata": {
            "tags": []
          }
        },
        {
          "output_type": "stream",
          "text": [
            "\n"
          ],
          "name": "stdout"
        }
      ]
    },
    {
      "cell_type": "code",
      "metadata": {
        "id": "bEt9pi36_3B4"
      },
      "source": [
        "normilizer = Normalizer(persian_numbers=False, token_based=True)"
      ],
      "execution_count": null,
      "outputs": []
    },
    {
      "cell_type": "code",
      "metadata": {
        "id": "m1OTCxnx-euO"
      },
      "source": [
        "def process_sentence(sentence):\n",
        "  sentence = normilizer.normalize(sentence)\n",
        "  sentence = sentence.replace('<e1>','[E11]').replace('</e1>','[E12]').replace('<e2>','[E21]').replace('</e2>','[E22]')\n",
        "  # stemmer = Stemmer()\n",
        "  # stemmer = stemmer.stem(sentence)\n",
        "  # words = word_tokenize(sentence)\n",
        "  return sentence"
      ],
      "execution_count": null,
      "outputs": []
    },
    {
      "cell_type": "code",
      "metadata": {
        "id": "dcWHiRUvT9kj"
      },
      "source": [
        "def get_e1p(text):\n",
        "    sentence = tokenizer.tokenize(text)\n",
        "    E11_p = [i+2 for i, e in enumerate(sentence) if e == '[E11]']\n",
        "    E12_p = [i for i, e in enumerate(sentence) if e == '[E12]']\n",
        "    return zip(E11_p, E12_p)"
      ],
      "execution_count": null,
      "outputs": []
    },
    {
      "cell_type": "code",
      "metadata": {
        "id": "3iD9gh5ZUHFr"
      },
      "source": [
        "def get_e2p(text):\n",
        "  sentence = tokenizer.tokenize(text)\n",
        "  E21_p = [i+2 for i, e in enumerate(sentence) if e == '[E21]']\n",
        "  E22_p = [i for i, e in enumerate(sentence) if e == '[E22]']\n",
        "  return zip(E21_p, E22_p)"
      ],
      "execution_count": null,
      "outputs": []
    },
    {
      "cell_type": "code",
      "metadata": {
        "id": "J3DoTRxw6qQZ"
      },
      "source": [
        "def label_spliter(label):\n",
        "  # component-whole(e2,e1)\n",
        "  # return [whole , component ]\n",
        "  order = re.findall(\"\\((.*?)\\)\", label)[0].split(',')\n",
        "  label_names = label.split(\"(\")[0].split(\"-\")\n",
        "  if order[0] == \"e1\":\n",
        "    return label_names\n",
        "  else:\n",
        "    return list(reversed(label_names))\n",
        "\n",
        "def make_dataframe_row(sentence,label):\n",
        "    \n",
        "  if label == \"Other\":\n",
        "    labels =[label, label]\n",
        "  else:\n",
        "    labels = label_spliter(label=label)\n",
        "\n",
        "  result = []\n",
        "  clean_sentence = process_sentence(sentence)\n",
        "  # e1s = get_e1(clean_sentence)  \n",
        "  # e2s = get_e2(clean_sentence)\n",
        "  e1s_p = get_e1p(clean_sentence)\n",
        "  e2s_p = get_e2p(clean_sentence)\n",
        "\n",
        "  for e11, e12 in e1s_p:\n",
        "    for e21, e22 in e2s_p:\n",
        "      result.append({\n",
        "          # \"e1\":e1s[e1],\n",
        "          # \"e2\":e2s[e2],\n",
        "          \"e1_label\":labels[0],\n",
        "          \"e2_label\":labels[1],\n",
        "          \"label\":label,\n",
        "          \"e1_start\":e11,\n",
        "          \"e1_end\":e12,\n",
        "          \"e2_start\":e21,\n",
        "          \"e2_end\":e22,\n",
        "          \"nlabel\": label2index[label],\n",
        "          \"sentence\": clean_sentence\n",
        "      })\n",
        "  return result\n",
        "    \n",
        "def make_dataframe(path):\n",
        "    f = open(path, 'r')\n",
        "    data = [x.rstrip() for x in f] \n",
        "    data_set_rows = []\n",
        "    labels_file = open(\"perlex_labels.txt\", \"w\")\n",
        "    sentences_file = open(\"perlex_sentences.txt\", \"w\")\n",
        "    clean_sentences = []\n",
        "    for i in range(0, len(data)-4, 4):\n",
        "      item = data[i].split('\\t')\n",
        "      sentence = re.sub('[!@#$،.()]', '', item[1])\n",
        "\n",
        "      label = data[i+1]\n",
        "\n",
        "      # labels_file.write(label)\n",
        "      # labels_file.write('\\n')\n",
        "\n",
        "      # sentences_file.write(sentence)\n",
        "      # sentences_file.write('\\n')\n",
        "\n",
        "      rows = make_dataframe_row(sentence , label)\n",
        "      data_set_rows += rows\n",
        "    return pd.DataFrame(data_set_rows)"
      ],
      "execution_count": null,
      "outputs": []
    },
    {
      "cell_type": "code",
      "metadata": {
        "id": "vwt11bF-6sD4"
      },
      "source": [
        "df = make_dataframe(train_path)\n",
        "df_test = make_dataframe(test_path)\n",
        "df_english = make_dataframe(train_path_e)\n",
        "df_test_english = make_dataframe(test_path_e)\n",
        "\n",
        "\n",
        "\n",
        "df = df.sample(frac=1).reset_index(drop=True)\n",
        "df_english = df_english.sample(frac=1).reset_index(drop=True)\n",
        "\n",
        "# df_test = df_test.sample(frac=1).reset_index(drop=True)"
      ],
      "execution_count": null,
      "outputs": []
    },
    {
      "cell_type": "markdown",
      "metadata": {
        "id": "7pec53nbJ51K"
      },
      "source": [
        "**get english dataset entity**"
      ]
    },
    {
      "cell_type": "code",
      "metadata": {
        "id": "d29kKuh3KDWD"
      },
      "source": [
        "X_train_english = df_english.sentence.tolist()\n",
        "X_train_e1_se_english = zip(df_english.e1_start.tolist() , df_english.e1_end.tolist())\n",
        "X_train_e2_se_english = zip(df_english.e2_start.tolist() , df_english.e2_end.tolist())\n",
        "y_train_english = df_english.nlabel.tolist()"
      ],
      "execution_count": null,
      "outputs": []
    },
    {
      "cell_type": "code",
      "metadata": {
        "id": "x9id2kpvNuyL"
      },
      "source": [
        "X_val_english =  df_test_english.sentence.tolist()\n",
        "X_val_e1_se_english = zip(df_test_english.e1_start.tolist() , df_test_english.e1_end.tolist())\n",
        "X_val_e2_se_english = zip(df_test_english.e2_start.tolist() , df_test_english.e2_end.tolist())\n",
        "y_val_english =  df_test_english.nlabel.tolist()"
      ],
      "execution_count": null,
      "outputs": []
    },
    {
      "cell_type": "markdown",
      "metadata": {
        "id": "6vEC6evXKTam"
      },
      "source": [
        "**get persian dataset entity**"
      ]
    },
    {
      "cell_type": "code",
      "metadata": {
        "id": "TF4UXH2R7Trq"
      },
      "source": [
        "X_train = df.sentence.tolist()\n",
        "X_train_e1_se = zip(df.e1_start.tolist() , df.e1_end.tolist())\n",
        "X_train_e2_se = zip(df.e2_start.tolist() , df.e2_end.tolist())\n",
        "y_train = df.nlabel.tolist()\n",
        "\n",
        "\n",
        "X_val =  df_test.sentence.tolist()\n",
        "X_val_e1_se = zip(df_test.e1_start.tolist() , df_test.e1_end.tolist())\n",
        "X_val_e2_se = zip(df_test.e2_start.tolist() , df_test.e2_end.tolist())\n",
        "y_val =  df_test.nlabel.tolist()"
      ],
      "execution_count": null,
      "outputs": []
    },
    {
      "cell_type": "code",
      "metadata": {
        "id": "FOeinLhCpXj3"
      },
      "source": [
        "configuration = BertConfig()\n",
        "configuration.num_labels = len(label2index)"
      ],
      "execution_count": null,
      "outputs": []
    },
    {
      "cell_type": "code",
      "metadata": {
        "colab": {
          "base_uri": "https://localhost:8080/",
          "height": 188,
          "referenced_widgets": [
            "74de2c79a7364a13bdc44fb830f2da83",
            "7ad49503e1f145999b1057c0869df034",
            "fb422261fe2348da86e12aa45b89cb63",
            "135c4e24c64e4cb3a673ea25ec9fcab4",
            "0485d935cee34f048ee13e6cf117fa06",
            "c45f3a63c872454b9eae303e94dce1d7",
            "e5e971996b5d4040ad73ee88d8458567",
            "39cc9ab8512c422c96f64c8f7e9a7e22"
          ]
        },
        "id": "ORjShp1C6xew",
        "outputId": "8098f864-2d19-4125-8174-bb9c7e6496dc"
      },
      "source": [
        "# model  = AutoModelForSequenceClassification.from_pretrained(model_name, num_labels=len(label2index))\n",
        "model = BertForSequenceClassification.from_pretrained(config['model_name'], num_labels=len(label2index))\n",
        "model.resize_token_embeddings(len(tokenizer))"
      ],
      "execution_count": null,
      "outputs": [
        {
          "output_type": "display_data",
          "data": {
            "application/vnd.jupyter.widget-view+json": {
              "model_id": "74de2c79a7364a13bdc44fb830f2da83",
              "version_minor": 0,
              "version_major": 2
            },
            "text/plain": [
              "HBox(children=(FloatProgress(value=0.0, description='Downloading', max=473451616.0, style=ProgressStyle(descri…"
            ]
          },
          "metadata": {
            "tags": []
          }
        },
        {
          "output_type": "stream",
          "text": [
            "\n"
          ],
          "name": "stdout"
        },
        {
          "output_type": "stream",
          "text": [
            "Some weights of the model checkpoint at HooshvareLab/bert-fa-zwnj-base were not used when initializing BertForSequenceClassification: ['cls.predictions.transform.LayerNorm.weight', 'cls.predictions.transform.dense.weight', 'cls.predictions.decoder.weight', 'cls.predictions.decoder.bias', 'cls.predictions.transform.dense.bias', 'cls.predictions.bias', 'cls.predictions.transform.LayerNorm.bias']\n",
            "- This IS expected if you are initializing BertForSequenceClassification from the checkpoint of a model trained on another task or with another architecture (e.g. initializing a BertForSequenceClassification model from a BertForPreTraining model).\n",
            "- This IS NOT expected if you are initializing BertForSequenceClassification from the checkpoint of a model that you expect to be exactly identical (initializing a BertForSequenceClassification model from a BertForSequenceClassification model).\n",
            "Some weights of BertForSequenceClassification were not initialized from the model checkpoint at HooshvareLab/bert-fa-zwnj-base and are newly initialized: ['classifier.bias', 'bert.pooler.dense.bias', 'classifier.weight', 'bert.pooler.dense.weight']\n",
            "You should probably TRAIN this model on a down-stream task to be able to use it for predictions and inference.\n"
          ],
          "name": "stderr"
        },
        {
          "output_type": "execute_result",
          "data": {
            "text/plain": [
              "Embedding(42004, 768)"
            ]
          },
          "metadata": {
            "tags": []
          },
          "execution_count": 37
        }
      ]
    },
    {
      "cell_type": "code",
      "metadata": {
        "colab": {
          "base_uri": "https://localhost:8080/"
        },
        "id": "TVEFZ4sGsW44",
        "outputId": "632c039f-b50f-4b44-ee8d-560c47b1b21f"
      },
      "source": [
        "model.config"
      ],
      "execution_count": null,
      "outputs": [
        {
          "output_type": "execute_result",
          "data": {
            "text/plain": [
              "BertConfig {\n",
              "  \"_name_or_path\": \"HooshvareLab/bert-fa-zwnj-base\",\n",
              "  \"architectures\": [\n",
              "    \"BertForMaskedLM\"\n",
              "  ],\n",
              "  \"attention_probs_dropout_prob\": 0.1,\n",
              "  \"gradient_checkpointing\": false,\n",
              "  \"hidden_act\": \"gelu\",\n",
              "  \"hidden_dropout_prob\": 0.1,\n",
              "  \"hidden_size\": 768,\n",
              "  \"id2label\": {\n",
              "    \"0\": \"LABEL_0\",\n",
              "    \"1\": \"LABEL_1\",\n",
              "    \"2\": \"LABEL_2\",\n",
              "    \"3\": \"LABEL_3\",\n",
              "    \"4\": \"LABEL_4\",\n",
              "    \"5\": \"LABEL_5\",\n",
              "    \"6\": \"LABEL_6\",\n",
              "    \"7\": \"LABEL_7\",\n",
              "    \"8\": \"LABEL_8\",\n",
              "    \"9\": \"LABEL_9\",\n",
              "    \"10\": \"LABEL_10\",\n",
              "    \"11\": \"LABEL_11\",\n",
              "    \"12\": \"LABEL_12\",\n",
              "    \"13\": \"LABEL_13\",\n",
              "    \"14\": \"LABEL_14\",\n",
              "    \"15\": \"LABEL_15\",\n",
              "    \"16\": \"LABEL_16\",\n",
              "    \"17\": \"LABEL_17\",\n",
              "    \"18\": \"LABEL_18\"\n",
              "  },\n",
              "  \"initializer_range\": 0.02,\n",
              "  \"intermediate_size\": 3072,\n",
              "  \"label2id\": {\n",
              "    \"LABEL_0\": 0,\n",
              "    \"LABEL_1\": 1,\n",
              "    \"LABEL_10\": 10,\n",
              "    \"LABEL_11\": 11,\n",
              "    \"LABEL_12\": 12,\n",
              "    \"LABEL_13\": 13,\n",
              "    \"LABEL_14\": 14,\n",
              "    \"LABEL_15\": 15,\n",
              "    \"LABEL_16\": 16,\n",
              "    \"LABEL_17\": 17,\n",
              "    \"LABEL_18\": 18,\n",
              "    \"LABEL_2\": 2,\n",
              "    \"LABEL_3\": 3,\n",
              "    \"LABEL_4\": 4,\n",
              "    \"LABEL_5\": 5,\n",
              "    \"LABEL_6\": 6,\n",
              "    \"LABEL_7\": 7,\n",
              "    \"LABEL_8\": 8,\n",
              "    \"LABEL_9\": 9\n",
              "  },\n",
              "  \"layer_norm_eps\": 1e-12,\n",
              "  \"max_position_embeddings\": 512,\n",
              "  \"model_type\": \"bert\",\n",
              "  \"num_attention_heads\": 12,\n",
              "  \"num_hidden_layers\": 12,\n",
              "  \"pad_token_id\": 0,\n",
              "  \"position_embedding_type\": \"absolute\",\n",
              "  \"transformers_version\": \"4.9.2\",\n",
              "  \"type_vocab_size\": 2,\n",
              "  \"use_cache\": true,\n",
              "  \"vocab_size\": 42004\n",
              "}"
            ]
          },
          "metadata": {
            "tags": []
          },
          "execution_count": 38
        }
      ]
    },
    {
      "cell_type": "code",
      "metadata": {
        "colab": {
          "base_uri": "https://localhost:8080/"
        },
        "id": "vD_A3HSzEusk",
        "outputId": "2d454f83-6777-4963-88bc-8610bbd663ca"
      },
      "source": [
        "df['len_sentence'] = df['sentence'].apply(lambda t: len(tokenizer.tokenize(t)))\n",
        "print(df['len_sentence'].max())\n",
        "print(df['len_sentence'].min())"
      ],
      "execution_count": null,
      "outputs": [
        {
          "output_type": "stream",
          "text": [
            "117\n",
            "10\n"
          ],
          "name": "stdout"
        }
      ]
    },
    {
      "cell_type": "code",
      "metadata": {
        "colab": {
          "base_uri": "https://localhost:8080/"
        },
        "id": "J_PkuzeRLYqC",
        "outputId": "a376e3ad-e31c-4db5-aa39-1fec847c19f2"
      },
      "source": [
        "df_test['len_sentence'] = df_test['sentence'].apply(lambda t: len(tokenizer.tokenize(t)))\n",
        "print(df_test['len_sentence'].max())\n",
        "print(df_test['len_sentence'].min())"
      ],
      "execution_count": null,
      "outputs": [
        {
          "output_type": "stream",
          "text": [
            "83\n",
            "10\n"
          ],
          "name": "stdout"
        }
      ]
    },
    {
      "cell_type": "code",
      "metadata": {
        "id": "sWLdoHfzEQNc"
      },
      "source": [
        "# Finding the share of comments with a specific length\n",
        "def data_gl_than(data, less_than=100.0, greater_than=0.0, col='len_sentence'):\n",
        "    data_length = data[col].values\n",
        "\n",
        "    data_glt = sum([1 for length in data_length if greater_than < length <= less_than])\n",
        "\n",
        "    data_glt_rate = (data_glt / len(data_length)) * 100\n",
        "\n",
        "    print(f'Texts with word length of greater than {greater_than} and less than {less_than} includes {data_glt_rate:.2f}% of the whole!')"
      ],
      "execution_count": null,
      "outputs": []
    },
    {
      "cell_type": "code",
      "metadata": {
        "colab": {
          "base_uri": "https://localhost:8080/"
        },
        "id": "11K-bP86EQJE",
        "outputId": "e0da26bf-dd0a-421b-c691-d75c04669ea0"
      },
      "source": [
        "data_gl_than(df, 85, 10), data_gl_than(df_test, 85, 10)"
      ],
      "execution_count": null,
      "outputs": [
        {
          "output_type": "stream",
          "text": [
            "Texts with word length of greater than 10 and less than 85 includes 99.82% of the whole!\n",
            "Texts with word length of greater than 10 and less than 85 includes 99.93% of the whole!\n"
          ],
          "name": "stdout"
        },
        {
          "output_type": "execute_result",
          "data": {
            "text/plain": [
              "(None, None)"
            ]
          },
          "metadata": {
            "tags": []
          },
          "execution_count": 42
        }
      ]
    },
    {
      "cell_type": "code",
      "metadata": {
        "id": "ASzJiOgnD6Ap"
      },
      "source": [
        "df = df.drop(columns='len_sentence')\n",
        "df_test = df_test.drop(columns='len_sentence')"
      ],
      "execution_count": null,
      "outputs": []
    },
    {
      "cell_type": "code",
      "metadata": {
        "id": "lOixyfHq7LaI"
      },
      "source": [
        "# model.classifier = torch.nn.Sequential(\n",
        "#     torch.nn.Linear(768,100),\n",
        "#     torch.nn.Linear(100,19),\n",
        "#     torch.nn.Softmax()\n",
        "\n",
        "# )\n"
      ],
      "execution_count": null,
      "outputs": []
    },
    {
      "cell_type": "code",
      "metadata": {
        "colab": {
          "base_uri": "https://localhost:8080/"
        },
        "id": "tN5K7Srp98ka",
        "outputId": "10302ee8-7140-41f3-9295-149e5926a78b"
      },
      "source": [
        "device"
      ],
      "execution_count": null,
      "outputs": [
        {
          "output_type": "execute_result",
          "data": {
            "text/plain": [
              "device(type='cuda')"
            ]
          },
          "metadata": {
            "tags": []
          },
          "execution_count": 45
        }
      ]
    },
    {
      "cell_type": "code",
      "metadata": {
        "id": "a8Da7n-bd35l",
        "colab": {
          "base_uri": "https://localhost:8080/"
        },
        "outputId": "e135d302-a6c9-4d79-fbdb-f6cf663cbe72"
      },
      "source": [
        "model.to(device)"
      ],
      "execution_count": null,
      "outputs": [
        {
          "output_type": "execute_result",
          "data": {
            "text/plain": [
              "BertForSequenceClassification(\n",
              "  (bert): BertModel(\n",
              "    (embeddings): BertEmbeddings(\n",
              "      (word_embeddings): Embedding(42004, 768)\n",
              "      (position_embeddings): Embedding(512, 768)\n",
              "      (token_type_embeddings): Embedding(2, 768)\n",
              "      (LayerNorm): LayerNorm((768,), eps=1e-12, elementwise_affine=True)\n",
              "      (dropout): Dropout(p=0.1, inplace=False)\n",
              "    )\n",
              "    (encoder): BertEncoder(\n",
              "      (layer): ModuleList(\n",
              "        (0): BertLayer(\n",
              "          (attention): BertAttention(\n",
              "            (self): BertSelfAttention(\n",
              "              (query): Linear(in_features=768, out_features=768, bias=True)\n",
              "              (key): Linear(in_features=768, out_features=768, bias=True)\n",
              "              (value): Linear(in_features=768, out_features=768, bias=True)\n",
              "              (dropout): Dropout(p=0.1, inplace=False)\n",
              "            )\n",
              "            (output): BertSelfOutput(\n",
              "              (dense): Linear(in_features=768, out_features=768, bias=True)\n",
              "              (LayerNorm): LayerNorm((768,), eps=1e-12, elementwise_affine=True)\n",
              "              (dropout): Dropout(p=0.1, inplace=False)\n",
              "            )\n",
              "          )\n",
              "          (intermediate): BertIntermediate(\n",
              "            (dense): Linear(in_features=768, out_features=3072, bias=True)\n",
              "          )\n",
              "          (output): BertOutput(\n",
              "            (dense): Linear(in_features=3072, out_features=768, bias=True)\n",
              "            (LayerNorm): LayerNorm((768,), eps=1e-12, elementwise_affine=True)\n",
              "            (dropout): Dropout(p=0.1, inplace=False)\n",
              "          )\n",
              "        )\n",
              "        (1): BertLayer(\n",
              "          (attention): BertAttention(\n",
              "            (self): BertSelfAttention(\n",
              "              (query): Linear(in_features=768, out_features=768, bias=True)\n",
              "              (key): Linear(in_features=768, out_features=768, bias=True)\n",
              "              (value): Linear(in_features=768, out_features=768, bias=True)\n",
              "              (dropout): Dropout(p=0.1, inplace=False)\n",
              "            )\n",
              "            (output): BertSelfOutput(\n",
              "              (dense): Linear(in_features=768, out_features=768, bias=True)\n",
              "              (LayerNorm): LayerNorm((768,), eps=1e-12, elementwise_affine=True)\n",
              "              (dropout): Dropout(p=0.1, inplace=False)\n",
              "            )\n",
              "          )\n",
              "          (intermediate): BertIntermediate(\n",
              "            (dense): Linear(in_features=768, out_features=3072, bias=True)\n",
              "          )\n",
              "          (output): BertOutput(\n",
              "            (dense): Linear(in_features=3072, out_features=768, bias=True)\n",
              "            (LayerNorm): LayerNorm((768,), eps=1e-12, elementwise_affine=True)\n",
              "            (dropout): Dropout(p=0.1, inplace=False)\n",
              "          )\n",
              "        )\n",
              "        (2): BertLayer(\n",
              "          (attention): BertAttention(\n",
              "            (self): BertSelfAttention(\n",
              "              (query): Linear(in_features=768, out_features=768, bias=True)\n",
              "              (key): Linear(in_features=768, out_features=768, bias=True)\n",
              "              (value): Linear(in_features=768, out_features=768, bias=True)\n",
              "              (dropout): Dropout(p=0.1, inplace=False)\n",
              "            )\n",
              "            (output): BertSelfOutput(\n",
              "              (dense): Linear(in_features=768, out_features=768, bias=True)\n",
              "              (LayerNorm): LayerNorm((768,), eps=1e-12, elementwise_affine=True)\n",
              "              (dropout): Dropout(p=0.1, inplace=False)\n",
              "            )\n",
              "          )\n",
              "          (intermediate): BertIntermediate(\n",
              "            (dense): Linear(in_features=768, out_features=3072, bias=True)\n",
              "          )\n",
              "          (output): BertOutput(\n",
              "            (dense): Linear(in_features=3072, out_features=768, bias=True)\n",
              "            (LayerNorm): LayerNorm((768,), eps=1e-12, elementwise_affine=True)\n",
              "            (dropout): Dropout(p=0.1, inplace=False)\n",
              "          )\n",
              "        )\n",
              "        (3): BertLayer(\n",
              "          (attention): BertAttention(\n",
              "            (self): BertSelfAttention(\n",
              "              (query): Linear(in_features=768, out_features=768, bias=True)\n",
              "              (key): Linear(in_features=768, out_features=768, bias=True)\n",
              "              (value): Linear(in_features=768, out_features=768, bias=True)\n",
              "              (dropout): Dropout(p=0.1, inplace=False)\n",
              "            )\n",
              "            (output): BertSelfOutput(\n",
              "              (dense): Linear(in_features=768, out_features=768, bias=True)\n",
              "              (LayerNorm): LayerNorm((768,), eps=1e-12, elementwise_affine=True)\n",
              "              (dropout): Dropout(p=0.1, inplace=False)\n",
              "            )\n",
              "          )\n",
              "          (intermediate): BertIntermediate(\n",
              "            (dense): Linear(in_features=768, out_features=3072, bias=True)\n",
              "          )\n",
              "          (output): BertOutput(\n",
              "            (dense): Linear(in_features=3072, out_features=768, bias=True)\n",
              "            (LayerNorm): LayerNorm((768,), eps=1e-12, elementwise_affine=True)\n",
              "            (dropout): Dropout(p=0.1, inplace=False)\n",
              "          )\n",
              "        )\n",
              "        (4): BertLayer(\n",
              "          (attention): BertAttention(\n",
              "            (self): BertSelfAttention(\n",
              "              (query): Linear(in_features=768, out_features=768, bias=True)\n",
              "              (key): Linear(in_features=768, out_features=768, bias=True)\n",
              "              (value): Linear(in_features=768, out_features=768, bias=True)\n",
              "              (dropout): Dropout(p=0.1, inplace=False)\n",
              "            )\n",
              "            (output): BertSelfOutput(\n",
              "              (dense): Linear(in_features=768, out_features=768, bias=True)\n",
              "              (LayerNorm): LayerNorm((768,), eps=1e-12, elementwise_affine=True)\n",
              "              (dropout): Dropout(p=0.1, inplace=False)\n",
              "            )\n",
              "          )\n",
              "          (intermediate): BertIntermediate(\n",
              "            (dense): Linear(in_features=768, out_features=3072, bias=True)\n",
              "          )\n",
              "          (output): BertOutput(\n",
              "            (dense): Linear(in_features=3072, out_features=768, bias=True)\n",
              "            (LayerNorm): LayerNorm((768,), eps=1e-12, elementwise_affine=True)\n",
              "            (dropout): Dropout(p=0.1, inplace=False)\n",
              "          )\n",
              "        )\n",
              "        (5): BertLayer(\n",
              "          (attention): BertAttention(\n",
              "            (self): BertSelfAttention(\n",
              "              (query): Linear(in_features=768, out_features=768, bias=True)\n",
              "              (key): Linear(in_features=768, out_features=768, bias=True)\n",
              "              (value): Linear(in_features=768, out_features=768, bias=True)\n",
              "              (dropout): Dropout(p=0.1, inplace=False)\n",
              "            )\n",
              "            (output): BertSelfOutput(\n",
              "              (dense): Linear(in_features=768, out_features=768, bias=True)\n",
              "              (LayerNorm): LayerNorm((768,), eps=1e-12, elementwise_affine=True)\n",
              "              (dropout): Dropout(p=0.1, inplace=False)\n",
              "            )\n",
              "          )\n",
              "          (intermediate): BertIntermediate(\n",
              "            (dense): Linear(in_features=768, out_features=3072, bias=True)\n",
              "          )\n",
              "          (output): BertOutput(\n",
              "            (dense): Linear(in_features=3072, out_features=768, bias=True)\n",
              "            (LayerNorm): LayerNorm((768,), eps=1e-12, elementwise_affine=True)\n",
              "            (dropout): Dropout(p=0.1, inplace=False)\n",
              "          )\n",
              "        )\n",
              "        (6): BertLayer(\n",
              "          (attention): BertAttention(\n",
              "            (self): BertSelfAttention(\n",
              "              (query): Linear(in_features=768, out_features=768, bias=True)\n",
              "              (key): Linear(in_features=768, out_features=768, bias=True)\n",
              "              (value): Linear(in_features=768, out_features=768, bias=True)\n",
              "              (dropout): Dropout(p=0.1, inplace=False)\n",
              "            )\n",
              "            (output): BertSelfOutput(\n",
              "              (dense): Linear(in_features=768, out_features=768, bias=True)\n",
              "              (LayerNorm): LayerNorm((768,), eps=1e-12, elementwise_affine=True)\n",
              "              (dropout): Dropout(p=0.1, inplace=False)\n",
              "            )\n",
              "          )\n",
              "          (intermediate): BertIntermediate(\n",
              "            (dense): Linear(in_features=768, out_features=3072, bias=True)\n",
              "          )\n",
              "          (output): BertOutput(\n",
              "            (dense): Linear(in_features=3072, out_features=768, bias=True)\n",
              "            (LayerNorm): LayerNorm((768,), eps=1e-12, elementwise_affine=True)\n",
              "            (dropout): Dropout(p=0.1, inplace=False)\n",
              "          )\n",
              "        )\n",
              "        (7): BertLayer(\n",
              "          (attention): BertAttention(\n",
              "            (self): BertSelfAttention(\n",
              "              (query): Linear(in_features=768, out_features=768, bias=True)\n",
              "              (key): Linear(in_features=768, out_features=768, bias=True)\n",
              "              (value): Linear(in_features=768, out_features=768, bias=True)\n",
              "              (dropout): Dropout(p=0.1, inplace=False)\n",
              "            )\n",
              "            (output): BertSelfOutput(\n",
              "              (dense): Linear(in_features=768, out_features=768, bias=True)\n",
              "              (LayerNorm): LayerNorm((768,), eps=1e-12, elementwise_affine=True)\n",
              "              (dropout): Dropout(p=0.1, inplace=False)\n",
              "            )\n",
              "          )\n",
              "          (intermediate): BertIntermediate(\n",
              "            (dense): Linear(in_features=768, out_features=3072, bias=True)\n",
              "          )\n",
              "          (output): BertOutput(\n",
              "            (dense): Linear(in_features=3072, out_features=768, bias=True)\n",
              "            (LayerNorm): LayerNorm((768,), eps=1e-12, elementwise_affine=True)\n",
              "            (dropout): Dropout(p=0.1, inplace=False)\n",
              "          )\n",
              "        )\n",
              "        (8): BertLayer(\n",
              "          (attention): BertAttention(\n",
              "            (self): BertSelfAttention(\n",
              "              (query): Linear(in_features=768, out_features=768, bias=True)\n",
              "              (key): Linear(in_features=768, out_features=768, bias=True)\n",
              "              (value): Linear(in_features=768, out_features=768, bias=True)\n",
              "              (dropout): Dropout(p=0.1, inplace=False)\n",
              "            )\n",
              "            (output): BertSelfOutput(\n",
              "              (dense): Linear(in_features=768, out_features=768, bias=True)\n",
              "              (LayerNorm): LayerNorm((768,), eps=1e-12, elementwise_affine=True)\n",
              "              (dropout): Dropout(p=0.1, inplace=False)\n",
              "            )\n",
              "          )\n",
              "          (intermediate): BertIntermediate(\n",
              "            (dense): Linear(in_features=768, out_features=3072, bias=True)\n",
              "          )\n",
              "          (output): BertOutput(\n",
              "            (dense): Linear(in_features=3072, out_features=768, bias=True)\n",
              "            (LayerNorm): LayerNorm((768,), eps=1e-12, elementwise_affine=True)\n",
              "            (dropout): Dropout(p=0.1, inplace=False)\n",
              "          )\n",
              "        )\n",
              "        (9): BertLayer(\n",
              "          (attention): BertAttention(\n",
              "            (self): BertSelfAttention(\n",
              "              (query): Linear(in_features=768, out_features=768, bias=True)\n",
              "              (key): Linear(in_features=768, out_features=768, bias=True)\n",
              "              (value): Linear(in_features=768, out_features=768, bias=True)\n",
              "              (dropout): Dropout(p=0.1, inplace=False)\n",
              "            )\n",
              "            (output): BertSelfOutput(\n",
              "              (dense): Linear(in_features=768, out_features=768, bias=True)\n",
              "              (LayerNorm): LayerNorm((768,), eps=1e-12, elementwise_affine=True)\n",
              "              (dropout): Dropout(p=0.1, inplace=False)\n",
              "            )\n",
              "          )\n",
              "          (intermediate): BertIntermediate(\n",
              "            (dense): Linear(in_features=768, out_features=3072, bias=True)\n",
              "          )\n",
              "          (output): BertOutput(\n",
              "            (dense): Linear(in_features=3072, out_features=768, bias=True)\n",
              "            (LayerNorm): LayerNorm((768,), eps=1e-12, elementwise_affine=True)\n",
              "            (dropout): Dropout(p=0.1, inplace=False)\n",
              "          )\n",
              "        )\n",
              "        (10): BertLayer(\n",
              "          (attention): BertAttention(\n",
              "            (self): BertSelfAttention(\n",
              "              (query): Linear(in_features=768, out_features=768, bias=True)\n",
              "              (key): Linear(in_features=768, out_features=768, bias=True)\n",
              "              (value): Linear(in_features=768, out_features=768, bias=True)\n",
              "              (dropout): Dropout(p=0.1, inplace=False)\n",
              "            )\n",
              "            (output): BertSelfOutput(\n",
              "              (dense): Linear(in_features=768, out_features=768, bias=True)\n",
              "              (LayerNorm): LayerNorm((768,), eps=1e-12, elementwise_affine=True)\n",
              "              (dropout): Dropout(p=0.1, inplace=False)\n",
              "            )\n",
              "          )\n",
              "          (intermediate): BertIntermediate(\n",
              "            (dense): Linear(in_features=768, out_features=3072, bias=True)\n",
              "          )\n",
              "          (output): BertOutput(\n",
              "            (dense): Linear(in_features=3072, out_features=768, bias=True)\n",
              "            (LayerNorm): LayerNorm((768,), eps=1e-12, elementwise_affine=True)\n",
              "            (dropout): Dropout(p=0.1, inplace=False)\n",
              "          )\n",
              "        )\n",
              "        (11): BertLayer(\n",
              "          (attention): BertAttention(\n",
              "            (self): BertSelfAttention(\n",
              "              (query): Linear(in_features=768, out_features=768, bias=True)\n",
              "              (key): Linear(in_features=768, out_features=768, bias=True)\n",
              "              (value): Linear(in_features=768, out_features=768, bias=True)\n",
              "              (dropout): Dropout(p=0.1, inplace=False)\n",
              "            )\n",
              "            (output): BertSelfOutput(\n",
              "              (dense): Linear(in_features=768, out_features=768, bias=True)\n",
              "              (LayerNorm): LayerNorm((768,), eps=1e-12, elementwise_affine=True)\n",
              "              (dropout): Dropout(p=0.1, inplace=False)\n",
              "            )\n",
              "          )\n",
              "          (intermediate): BertIntermediate(\n",
              "            (dense): Linear(in_features=768, out_features=3072, bias=True)\n",
              "          )\n",
              "          (output): BertOutput(\n",
              "            (dense): Linear(in_features=3072, out_features=768, bias=True)\n",
              "            (LayerNorm): LayerNorm((768,), eps=1e-12, elementwise_affine=True)\n",
              "            (dropout): Dropout(p=0.1, inplace=False)\n",
              "          )\n",
              "        )\n",
              "      )\n",
              "    )\n",
              "    (pooler): BertPooler(\n",
              "      (dense): Linear(in_features=768, out_features=768, bias=True)\n",
              "      (activation): Tanh()\n",
              "    )\n",
              "  )\n",
              "  (cls_dropout): Dropout(p=0.1, inplace=False)\n",
              "  (ent_dropout): Dropout(p=0.1, inplace=False)\n",
              "  (classifier): Linear(in_features=2304, out_features=19, bias=True)\n",
              ")"
            ]
          },
          "metadata": {
            "tags": []
          },
          "execution_count": 46
        }
      ]
    },
    {
      "cell_type": "markdown",
      "metadata": {
        "id": "FiW8Xs90KpuU"
      },
      "source": [
        "**encoding english  dataset**"
      ]
    },
    {
      "cell_type": "code",
      "metadata": {
        "colab": {
          "base_uri": "https://localhost:8080/"
        },
        "id": "RnZ4-ldEOB--",
        "outputId": "321971af-8501-479e-acdb-49f154c5353d"
      },
      "source": [
        "encoded_data_train_english = tokenizer.batch_encode_plus(\n",
        "    X_train_english, \n",
        "    add_special_tokens=True, \n",
        "    return_attention_mask=True, \n",
        "    pad_to_max_length=True, \n",
        "    max_length=config['max_length'],\n",
        "    return_tensors='pt'\n",
        ")"
      ],
      "execution_count": null,
      "outputs": [
        {
          "output_type": "stream",
          "text": [
            "Truncation was not explicitly activated but `max_length` is provided a specific value, please use `truncation=True` to explicitly truncate examples to max length. Defaulting to 'longest_first' truncation strategy. If you encode pairs of sequences (GLUE-style) with the tokenizer you can select this strategy more precisely by providing a specific strategy to `truncation`.\n",
            "/usr/local/lib/python3.7/dist-packages/transformers/tokenization_utils_base.py:2190: FutureWarning: The `pad_to_max_length` argument is deprecated and will be removed in a future version, use `padding=True` or `padding='longest'` to pad to the longest sequence in the batch, or use `padding='max_length'` to pad to a max length. In this case, you can give a specific length with `max_length` (e.g. `max_length=45`) or leave max_length to None to pad to the maximal input size of the model (e.g. 512 for Bert).\n",
            "  FutureWarning,\n"
          ],
          "name": "stderr"
        }
      ]
    },
    {
      "cell_type": "code",
      "metadata": {
        "colab": {
          "base_uri": "https://localhost:8080/"
        },
        "id": "9pANg5i5OSS4",
        "outputId": "3e132f9f-cf63-4fae-e461-8117f34f7b53"
      },
      "source": [
        "encoded_data_val_english = tokenizer.batch_encode_plus(\n",
        "    X_val_english, \n",
        "    add_special_tokens=True, \n",
        "    return_attention_mask=True,\n",
        "    pad_to_max_length=True, \n",
        "    max_length=config['max_length'], \n",
        "    return_tensors='pt'\n",
        ")\n"
      ],
      "execution_count": null,
      "outputs": [
        {
          "output_type": "stream",
          "text": [
            "/usr/local/lib/python3.7/dist-packages/transformers/tokenization_utils_base.py:2190: FutureWarning: The `pad_to_max_length` argument is deprecated and will be removed in a future version, use `padding=True` or `padding='longest'` to pad to the longest sequence in the batch, or use `padding='max_length'` to pad to a max length. In this case, you can give a specific length with `max_length` (e.g. `max_length=45`) or leave max_length to None to pad to the maximal input size of the model (e.g. 512 for Bert).\n",
            "  FutureWarning,\n"
          ],
          "name": "stderr"
        }
      ]
    },
    {
      "cell_type": "markdown",
      "metadata": {
        "id": "fvubPTytOCkO"
      },
      "source": [
        "**encoding persian dataset**"
      ]
    },
    {
      "cell_type": "code",
      "metadata": {
        "colab": {
          "base_uri": "https://localhost:8080/"
        },
        "id": "bAOWKY1L7Oon",
        "outputId": "55a72949-1355-4e92-e6d3-de7b081896d9"
      },
      "source": [
        "encoded_data_train = tokenizer.batch_encode_plus(\n",
        "    X_train, \n",
        "    add_special_tokens=True, \n",
        "    return_attention_mask=True, \n",
        "    pad_to_max_length=True, \n",
        "    max_length=config['max_length'],\n",
        "    return_tensors='pt'\n",
        ")"
      ],
      "execution_count": null,
      "outputs": [
        {
          "output_type": "stream",
          "text": [
            "/usr/local/lib/python3.7/dist-packages/transformers/tokenization_utils_base.py:2190: FutureWarning: The `pad_to_max_length` argument is deprecated and will be removed in a future version, use `padding=True` or `padding='longest'` to pad to the longest sequence in the batch, or use `padding='max_length'` to pad to a max length. In this case, you can give a specific length with `max_length` (e.g. `max_length=45`) or leave max_length to None to pad to the maximal input size of the model (e.g. 512 for Bert).\n",
            "  FutureWarning,\n"
          ],
          "name": "stderr"
        }
      ]
    },
    {
      "cell_type": "code",
      "metadata": {
        "colab": {
          "base_uri": "https://localhost:8080/"
        },
        "id": "eBmKqUxu7Po-",
        "outputId": "cc96011f-0f1c-440c-86bc-e477deeb643e"
      },
      "source": [
        "encoded_data_val = tokenizer.batch_encode_plus(\n",
        "    X_val, \n",
        "    add_special_tokens=True, \n",
        "    return_attention_mask=True,\n",
        "    pad_to_max_length=True, \n",
        "    max_length=config['max_length'], \n",
        "    return_tensors='pt'\n",
        ")\n"
      ],
      "execution_count": null,
      "outputs": [
        {
          "output_type": "stream",
          "text": [
            "/usr/local/lib/python3.7/dist-packages/transformers/tokenization_utils_base.py:2190: FutureWarning: The `pad_to_max_length` argument is deprecated and will be removed in a future version, use `padding=True` or `padding='longest'` to pad to the longest sequence in the batch, or use `padding='max_length'` to pad to a max length. In this case, you can give a specific length with `max_length` (e.g. `max_length=45`) or leave max_length to None to pad to the maximal input size of the model (e.g. 512 for Bert).\n",
            "  FutureWarning,\n"
          ],
          "name": "stderr"
        }
      ]
    },
    {
      "cell_type": "code",
      "metadata": {
        "id": "2ErPSplE6Ttt"
      },
      "source": [
        "def e_masks(should_mask):\n",
        "  masked = []\n",
        "  for start, end in should_mask:\n",
        "    if config['model_name'] == 'xlm-roberta-base':\n",
        "      mask = torch.zeros(config['max_length'])\n",
        "      mask[start:end] = 1\n",
        "    if config['model_name'] == 'xlm-roberta-large':\n",
        "      mask = torch.zeros(config['max_length'])\n",
        "      mask[start:end+1] = 1\n",
        "    if config['model_name'] == 'bert-base-multilingual-cased':\n",
        "      mask = torch.zeros(config['max_length'])\n",
        "      mask[start:end] = 1\n",
        "    if config['model_name'] == 'HooshvareLab/bert-fa-zwnj-base':\n",
        "      mask = torch.zeros(config['max_length'])\n",
        "      mask[start:end+1] = 1\n",
        "    masked.append(mask.tolist())\n",
        "  return masked"
      ],
      "execution_count": null,
      "outputs": []
    },
    {
      "cell_type": "code",
      "metadata": {
        "colab": {
          "base_uri": "https://localhost:8080/"
        },
        "id": "mthwK_GE7GGt",
        "outputId": "c5578850-7b06-4a8b-eebc-e21a0b8e07e9"
      },
      "source": [
        "encoded_data_train.keys()"
      ],
      "execution_count": null,
      "outputs": [
        {
          "output_type": "execute_result",
          "data": {
            "text/plain": [
              "dict_keys(['input_ids', 'token_type_ids', 'attention_mask'])"
            ]
          },
          "metadata": {
            "tags": []
          },
          "execution_count": 52
        }
      ]
    },
    {
      "cell_type": "code",
      "metadata": {
        "colab": {
          "base_uri": "https://localhost:8080/"
        },
        "id": "gwJCGUNDFmOc",
        "outputId": "13a0b48b-33ce-45c5-e480-36f615f3b5da"
      },
      "source": [
        "X_train_e1_se"
      ],
      "execution_count": null,
      "outputs": [
        {
          "output_type": "execute_result",
          "data": {
            "text/plain": [
              "<zip at 0x7f46cbae6cd0>"
            ]
          },
          "metadata": {
            "tags": []
          },
          "execution_count": 53
        }
      ]
    },
    {
      "cell_type": "markdown",
      "metadata": {
        "id": "ZSCcCVreOctG"
      },
      "source": [
        "**prepare english pytorch dataset**"
      ]
    },
    {
      "cell_type": "code",
      "metadata": {
        "id": "GScAaVmGObtr"
      },
      "source": [
        "input_ids_train_english = encoded_data_train_english['input_ids']\n",
        "attention_masks_train_english = encoded_data_train_english['attention_mask']\n",
        "\n",
        "X_train_e1_se_masked_english = e_masks(X_train_e1_se_english)\n",
        "input_e1_mask_train_english = torch.tensor(X_train_e1_se_masked_english)\n",
        "\n",
        "X_train_e2_se_masked_english = e_masks(X_train_e2_se_english)\n",
        "input_e2_mask_train_english = torch.tensor(X_train_e2_se_masked_english)\n",
        "\n",
        "labels_train_english = torch.tensor(y_train_english)\n"
      ],
      "execution_count": null,
      "outputs": []
    },
    {
      "cell_type": "code",
      "metadata": {
        "id": "AgR68IDUO2Su"
      },
      "source": [
        "input_ids_val_english = encoded_data_val_english['input_ids']\n",
        "attention_masks_val_english = encoded_data_val_english['attention_mask']\n",
        "\n",
        "X_val_e1_se_masked_english = e_masks(X_val_e1_se_english)\n",
        "input_e1_mask_val_english = torch.tensor(X_val_e1_se_masked_english)\n",
        "\n",
        "X_val_e2_se_masked_english = e_masks(X_val_e2_se_english)\n",
        "input_e2_mask_val_english = torch.tensor(X_val_e2_se_masked_english)\n",
        "\n",
        "labels_val_english = torch.tensor(y_val_english)"
      ],
      "execution_count": null,
      "outputs": []
    },
    {
      "cell_type": "code",
      "metadata": {
        "id": "Yp9imeSjO_fn"
      },
      "source": [
        "dataset_train_english = TensorDataset(input_ids_train_english, attention_masks_train_english, input_e1_mask_train_english, input_e2_mask_train_english, labels_train_english)\n",
        "dataset_val_english = TensorDataset(input_ids_val_english, attention_masks_val_english, input_e1_mask_val_english, input_e2_mask_val_english, labels_val_english)"
      ],
      "execution_count": null,
      "outputs": []
    },
    {
      "cell_type": "markdown",
      "metadata": {
        "id": "cdQK84ubPKuc"
      },
      "source": [
        "**prepare persian pytorch dataset**"
      ]
    },
    {
      "cell_type": "code",
      "metadata": {
        "id": "mCwj1Vp9PSAV"
      },
      "source": [
        "input_ids_train = encoded_data_train['input_ids']\n",
        "attention_masks_train = encoded_data_train['attention_mask']\n",
        "\n",
        "X_train_e1_se_masked = e_masks(X_train_e1_se)\n",
        "input_e1_mask_train = torch.tensor(X_train_e1_se_masked)\n",
        "\n",
        "X_train_e2_se_masked = e_masks(X_train_e2_se)\n",
        "input_e2_mask_train = torch.tensor(X_train_e2_se_masked)\n",
        "\n",
        "labels_train = torch.tensor(y_train)"
      ],
      "execution_count": null,
      "outputs": []
    },
    {
      "cell_type": "code",
      "metadata": {
        "id": "CpsyB_xZPUGL"
      },
      "source": [
        "input_ids_val = encoded_data_val['input_ids']\n",
        "attention_masks_val = encoded_data_val['attention_mask']\n",
        "\n",
        "X_val_e1_se_masked = e_masks(X_val_e1_se)\n",
        "input_e1_mask_val = torch.tensor(X_val_e1_se_masked)\n",
        "\n",
        "X_val_e2_se_masked = e_masks(X_val_e2_se)\n",
        "input_e2_mask_val = torch.tensor(X_val_e2_se_masked)\n",
        "\n",
        "labels_val = torch.tensor(y_val)"
      ],
      "execution_count": null,
      "outputs": []
    },
    {
      "cell_type": "code",
      "metadata": {
        "id": "fnHEd1Jk7XNK"
      },
      "source": [
        "dataset_train = TensorDataset(input_ids_train, attention_masks_train, input_e1_mask_train, input_e2_mask_train, labels_train)\n",
        "dataset_val = TensorDataset(input_ids_val, attention_masks_val, input_e1_mask_val, input_e2_mask_val, labels_val)"
      ],
      "execution_count": null,
      "outputs": []
    },
    {
      "cell_type": "code",
      "metadata": {
        "colab": {
          "base_uri": "https://localhost:8080/"
        },
        "id": "nVpw2zVyPZuP",
        "outputId": "9b23ffb8-00c9-4597-b0fa-523509c17437"
      },
      "source": [
        "tokenizer.decode(input_ids_train_english[0]), input_e1_mask_train_english[0], tokenizer.encode(tokenizer.decode(input_ids_train_english[0]))[6]"
      ],
      "execution_count": null,
      "outputs": [
        {
          "output_type": "execute_result",
          "data": {
            "text/plain": [
              "(\"[CLS] « I've just sold a [E11] gold [E12] [E21] ring [E22], which was my last asset and now we have nothing left for a better life » [SEP] [PAD] [PAD] [PAD] [PAD] [PAD] [PAD] [PAD] [PAD] [PAD] [PAD] [PAD] [PAD] [PAD] [PAD] [PAD] [PAD] [PAD] [PAD] [PAD] [PAD] [PAD] [PAD] [PAD] [PAD] [PAD] [PAD] [PAD] [PAD] [PAD] [PAD] [PAD] [PAD] [PAD] [PAD] [PAD] [PAD] [PAD] [PAD] [PAD] [PAD] [PAD] [PAD] [PAD] [PAD]\",\n",
              " tensor([0., 0., 0., 0., 0., 0., 0., 0., 0., 0., 1., 1., 0., 0., 0., 0., 0., 0.,\n",
              "         0., 0., 0., 0., 0., 0., 0., 0., 0., 0., 0., 0., 0., 0., 0., 0., 0., 0.,\n",
              "         0., 0., 0., 0., 0., 0., 0., 0., 0., 0., 0., 0., 0., 0., 0., 0., 0., 0.,\n",
              "         0., 0., 0., 0., 0., 0., 0., 0., 0., 0., 0., 0., 0., 0., 0., 0., 0., 0.,\n",
              "         0., 0., 0., 0., 0., 0., 0., 0., 0., 0., 0., 0., 0.]),\n",
              " 32653)"
            ]
          },
          "metadata": {
            "tags": []
          },
          "execution_count": 60
        }
      ]
    },
    {
      "cell_type": "code",
      "metadata": {
        "colab": {
          "base_uri": "https://localhost:8080/",
          "height": 35
        },
        "id": "1Ka9kTAjPkla",
        "outputId": "a2083ad4-71a6-40fb-b13f-5cb781f483e3"
      },
      "source": [
        "tokenizer.decode(input_ids_train_english[0][24:26])"
      ],
      "execution_count": null,
      "outputs": [
        {
          "output_type": "execute_result",
          "data": {
            "application/vnd.google.colaboratory.intrinsic+json": {
              "type": "string"
            },
            "text/plain": [
              "'and now'"
            ]
          },
          "metadata": {
            "tags": []
          },
          "execution_count": 61
        }
      ]
    },
    {
      "cell_type": "code",
      "metadata": {
        "colab": {
          "base_uri": "https://localhost:8080/"
        },
        "id": "kGwIyoI4NH_a",
        "outputId": "0a2f97a4-0a2b-4017-d850-b6806f67680c"
      },
      "source": [
        "tokenizer.decode(input_ids_train[0]), input_e1_mask_train[0], tokenizer.encode(tokenizer.decode(input_ids_train[0]))[6]"
      ],
      "execution_count": null,
      "outputs": [
        {
          "output_type": "execute_result",
          "data": {
            "text/plain": [
              "('[CLS] « سویلا تقریبا ۲ - ۱ در بازی خانگی مقابل بازیکنان شکست [ZWNJ] خورده کوشای اثلفیک بیلباوو عقب افتاده است که یک [E11] بطری [E12] پر از [E21] آب [E22] از بین تماشاچی [ZWNJ] ها پرتاب شد و درست به زیر چشم راست آرماندو ریبریو اصابت کرد » [SEP] [PAD] [PAD] [PAD] [PAD] [PAD] [PAD] [PAD] [PAD] [PAD] [PAD] [PAD] [PAD] [PAD] [PAD] [PAD] [PAD] [PAD] [PAD] [PAD] [PAD] [PAD] [PAD] [PAD] [PAD] [PAD]',\n",
              " tensor([0., 0., 0., 0., 0., 0., 0., 0., 0., 0., 0., 0., 0., 0., 0., 0., 0., 0.,\n",
              "         0., 0., 0., 0., 0., 0., 0., 0., 0., 0., 0., 0., 1., 0., 0., 0., 0., 0.,\n",
              "         0., 0., 0., 0., 0., 0., 0., 0., 0., 0., 0., 0., 0., 0., 0., 0., 0., 0.,\n",
              "         0., 0., 0., 0., 0., 0., 0., 0., 0., 0., 0., 0., 0., 0., 0., 0., 0., 0.,\n",
              "         0., 0., 0., 0., 0., 0., 0., 0., 0., 0., 0., 0., 0.]),\n",
              " 693)"
            ]
          },
          "metadata": {
            "tags": []
          },
          "execution_count": 62
        }
      ]
    },
    {
      "cell_type": "code",
      "metadata": {
        "colab": {
          "base_uri": "https://localhost:8080/"
        },
        "id": "pCCYmqtONrju",
        "outputId": "d46c1973-652f-4513-a49b-119de2aca43e"
      },
      "source": [
        "tokenizer.decode(input_ids_train[0][4]), tokenizer.decode(input_ids_train[1][6:9])"
      ],
      "execution_count": null,
      "outputs": [
        {
          "output_type": "execute_result",
          "data": {
            "text/plain": [
              "('تقریبا', '##ا [E12] ناشی')"
            ]
          },
          "metadata": {
            "tags": []
          },
          "execution_count": 63
        }
      ]
    },
    {
      "cell_type": "markdown",
      "metadata": {
        "id": "bNQgpI_wQXhW"
      },
      "source": [
        "# train english dataset"
      ]
    },
    {
      "cell_type": "code",
      "metadata": {
        "id": "5Vb1M3uC7ZLj"
      },
      "source": [
        "from torch.utils.data import DataLoader, RandomSampler, SequentialSampler\n",
        "batch_size = 16\n",
        "dataloader_train = DataLoader(dataset_train_english, \n",
        "                              sampler=RandomSampler(dataset_train_english), \n",
        "                              batch_size=batch_size)\n",
        "dataloader_validation = DataLoader(dataset_val_english, \n",
        "                                   sampler=SequentialSampler(dataset_val_english), \n",
        "                                   batch_size=batch_size)\n"
      ],
      "execution_count": null,
      "outputs": []
    },
    {
      "cell_type": "code",
      "metadata": {
        "id": "7fU0UNgL7a9y"
      },
      "source": [
        "from transformers import AdamW, get_linear_schedule_with_warmup\n",
        "optimizer = AdamW(model.parameters(),\n",
        "                  lr=3e-5, \n",
        "                  eps=1e-8)\n",
        "epochs = 4\n",
        "scheduler = get_linear_schedule_with_warmup(optimizer, \n",
        "                                            num_warmup_steps=0,\n",
        "                                            num_training_steps=len(dataloader_train)*epochs)"
      ],
      "execution_count": null,
      "outputs": []
    },
    {
      "cell_type": "code",
      "metadata": {
        "colab": {
          "base_uri": "https://localhost:8080/",
          "height": 1000,
          "referenced_widgets": [
            "311e385eaf704fc595edc60b028c23b8",
            "4f244bb422544661ab22a328febd6047",
            "70ca9c995d5841f580b8cd327c4f14f7",
            "b03372af5f9a4ad49610824c39542328",
            "754f6c65d48b43fa8e48393442f24f1c",
            "35791a660d604cce8d92ded9978d2a90",
            "d64ca1a959474e6caf0b5441d05bdb81",
            "8d91b90b3ce4453e9a5f7be19fc10ad4",
            "e315ab7be8694dc7a3550c4ded72b01f",
            "0d4783e4b1bb4bfb9090158e8831e36d",
            "5fddacc3139f4dbf95bf215292351990",
            "b460854aeab14e0e9faaefaa40c769bb",
            "68fc69b849af40118c5993cc05166622",
            "1e94bd265b2148ca95acdebb0db16dd2",
            "4b00bee378ac467999707b69b2bb94e4",
            "f7e4ac21eaac4d13b502f3a5f6c4f514",
            "cce5af3fa47b4e37b12e6f593ec394e4",
            "0e661627823a4d13ba0450297f1b32d5",
            "455e6556322741a4a6716474ce78f38c",
            "ef668e9de89647359e018d63d03b302e",
            "c7cb39fab6b747fda221cc7d3cdb7a12",
            "6513b071a1e942888da2d6aba3fa3e8e",
            "2a03e95a8a7647a09e538f5224f3037d",
            "bf096be1419347ababb87f82d8ed69cf",
            "131faac2b8ca4e61bc1a0e7e708029f2",
            "53ff607ba2be4793b63bf54baaa5b203",
            "6a05d904a8d04b1abb6a45a6e2acd8a7",
            "3b48bc2faf024c0cad54246a47f68ea4",
            "f2fe6a70ebad4e7f876ab7b0e5f7b08a",
            "33b28d6352b4432b8f9aace62d9a95b7",
            "d711d331d98c45b9830b28ac2ae5627f",
            "78f5064344924452afd18439b0d9bb79",
            "d2356cefe8914068b5c05423680bebd2",
            "8c1d2f9544e0402a97306c67e49ddd81",
            "318ab7a819754808b10430b7f6764398",
            "d8ef535dd51a44c2acc298213b89c665",
            "1cae456e1f7843f2bba673def6c837e8",
            "dbc3758f3c164c5982a1db9670f15ec6",
            "0fa5402e3e5045eda9d73461d8e4fb0b",
            "48699ed3a1a34688bd19e0e8abbf39ce"
          ]
        },
        "id": "5o86PjmW7fLT",
        "outputId": "a6e4ff9f-396a-4564-bc25-2c1541f18bae"
      },
      "source": [
        "import random\n",
        "import numpy as np\n",
        "\n",
        "seed_val = 17\n",
        "random.seed(seed_val)\n",
        "np.random.seed(seed_val)\n",
        "torch.manual_seed(seed_val)\n",
        "torch.cuda.manual_seed_all(seed_val)\n",
        "training_stats = []\n",
        "\n",
        "\n",
        "for epoch in tqdm(range(1, epochs+1)):\n",
        "    \n",
        "    model.train()\n",
        "    \n",
        "    loss_train_total = 0\n",
        "\n",
        "    progress_bar = tqdm(dataloader_train, desc='Epoch {:1d}'.format(epoch), leave=False, disable=False)\n",
        "    for batch in progress_bar:\n",
        "        model.zero_grad()\n",
        "        \n",
        "        batch = tuple(b.to(device) for b in batch)\n",
        "        \n",
        "        # inputs = {'input_ids':      batch[0],\n",
        "        #           'attention_mask': batch[1],\n",
        "        #           'labels':         batch[2],\n",
        "        #          }  \n",
        "        \n",
        "\n",
        "        inputs = {'input_ids':batch[0],\n",
        "                  'attention_mask': batch[1],\n",
        "                  # XLM and RoBERTa don't use segment_ids\n",
        "                  # 'token_type_ids': batch[2],\n",
        "                  'e1_mask': batch[2],\n",
        "                  'e2_mask': batch[3],\n",
        "                  'labels': batch[4]\n",
        "                  }\n",
        "\n",
        "        outputs = model(**inputs)\n",
        "        \n",
        "        loss = outputs[0]\n",
        "        loss_train_total += loss.item()\n",
        "        loss.backward()\n",
        "\n",
        "        torch.nn.utils.clip_grad_norm_(model.parameters(), 1.0)\n",
        "\n",
        "        optimizer.step()\n",
        "        scheduler.step()\n",
        "        \n",
        "        progress_bar.set_postfix({'training_loss': '{:.3f}'.format(loss.item()/len(batch))})\n",
        "         \n",
        "        \n",
        "    torch.save(model.state_dict(), f'./drive/MyDrive/data_sets/PERLEX/models/hoshv{epoch}.model')\n",
        "        \n",
        "    tqdm.write(f'\\nEpoch {epoch}')\n",
        "    \n",
        "\n",
        "    loss_train_avg = loss_train_total/len(dataloader_train)            \n",
        "    tqdm.write(f'Training loss: {loss_train_avg}')\n",
        "    \n",
        "\n",
        "    val_loss, predictions, true_vals = evaluate(dataloader_validation)\n",
        "    val_f1 = f1_score_func(predictions, true_vals)\n",
        "    tt_accuracy = accuracy_per_class(predictions, true_vals)\n",
        "    \n",
        "    tqdm.write(f'accuracy: {tt_accuracy}')\n",
        "    tqdm.write(f'Validation loss: {val_loss}')\n",
        "    tqdm.write(f'F1 Score (Weighted): {val_f1}')\n",
        "\n",
        "    training_stats.append(\n",
        "        {\n",
        "            'epoch': epoch,\n",
        "            'Training Loss': loss_train_avg,\n",
        "            'Valid. Loss': val_loss,\n",
        "            'Valid. Accur.': tt_accuracy\n",
        "        }\n",
        "    )\n",
        "\n",
        "    # cmd = input(\"continue?\")\n",
        "    # if cmd == \"No\":\n",
        "      # break\n"
      ],
      "execution_count": null,
      "outputs": [
        {
          "output_type": "display_data",
          "data": {
            "application/vnd.jupyter.widget-view+json": {
              "model_id": "311e385eaf704fc595edc60b028c23b8",
              "version_minor": 0,
              "version_major": 2
            },
            "text/plain": [
              "HBox(children=(FloatProgress(value=0.0, max=4.0), HTML(value='')))"
            ]
          },
          "metadata": {
            "tags": []
          }
        },
        {
          "output_type": "display_data",
          "data": {
            "application/vnd.jupyter.widget-view+json": {
              "model_id": "e315ab7be8694dc7a3550c4ded72b01f",
              "version_minor": 0,
              "version_major": 2
            },
            "text/plain": [
              "HBox(children=(FloatProgress(value=0.0, description='Epoch 1', max=500.0, style=ProgressStyle(description_widt…"
            ]
          },
          "metadata": {
            "tags": []
          }
        },
        {
          "output_type": "stream",
          "text": [
            "\r\n",
            "Epoch 1\n",
            "Training loss: 2.0850592278242113\n",
            "Class: Other\n",
            "Acc with percent: 0.31497797356828194\n",
            "Accuracy: 143/454\n",
            "\n",
            "Class: Message-Topic(e1,e2)\n",
            "Acc with percent: 0.43333333333333335\n",
            "Accuracy: 91/210\n",
            "\n",
            "Class: Message-Topic(e2,e1)\n",
            "Acc with percent: 0.5686274509803921\n",
            "Accuracy: 29/51\n",
            "\n",
            "Class: Product-Producer(e1,e2)\n",
            "Acc with percent: 0.6296296296296297\n",
            "Accuracy: 68/108\n",
            "\n",
            "Class: Product-Producer(e2,e1)\n",
            "Acc with percent: 0.44715447154471544\n",
            "Accuracy: 55/123\n",
            "\n",
            "Class: Instrument-Agency(e1,e2)\n",
            "Acc with percent: 0.09090909090909091\n",
            "Accuracy: 2/22\n",
            "\n",
            "Class: Instrument-Agency(e2,e1)\n",
            "Acc with percent: 0.13432835820895522\n",
            "Accuracy: 18/134\n",
            "\n",
            "Class: Entity-Destination(e1,e2)\n",
            "Acc with percent: 0.8625429553264605\n",
            "Accuracy: 251/291\n",
            "\n",
            "Class: Cause-Effect(e1,e2)\n",
            "Acc with percent: 0.7014925373134329\n",
            "Accuracy: 94/134\n",
            "\n",
            "Class: Cause-Effect(e2,e1)\n",
            "Acc with percent: 0.9123711340206185\n",
            "Accuracy: 177/194\n",
            "\n",
            "Class: Component-Whole(e1,e2)\n",
            "Acc with percent: 0.7962962962962963\n",
            "Accuracy: 129/162\n",
            "\n",
            "Class: Component-Whole(e2,e1)\n",
            "Acc with percent: 0.5466666666666666\n",
            "Accuracy: 82/150\n",
            "\n",
            "Class: Entity-Origin(e1,e2)\n",
            "Acc with percent: 0.33649289099526064\n",
            "Accuracy: 71/211\n",
            "\n",
            "Class: Entity-Origin(e2,e1)\n",
            "Acc with percent: 0.723404255319149\n",
            "Accuracy: 34/47\n",
            "\n",
            "Class: Member-Collection(e1,e2)\n",
            "Acc with percent: 0.15625\n",
            "Accuracy: 5/32\n",
            "\n",
            "Class: Member-Collection(e2,e1)\n",
            "Acc with percent: 0.900497512437811\n",
            "Accuracy: 181/201\n",
            "\n",
            "Class: Content-Container(e1,e2)\n",
            "Acc with percent: 0.738562091503268\n",
            "Accuracy: 113/153\n",
            "\n",
            "Class: Content-Container(e2,e1)\n",
            "Acc with percent: 0.5384615384615384\n",
            "Accuracy: 21/39\n",
            "\n",
            "accuracy: 0.5174735887639423\n",
            "Validation loss: 1.447456373537288\n",
            "F1 Score (Weighted): 0.558742803741507\n"
          ],
          "name": "stdout"
        },
        {
          "output_type": "display_data",
          "data": {
            "application/vnd.jupyter.widget-view+json": {
              "model_id": "cce5af3fa47b4e37b12e6f593ec394e4",
              "version_minor": 0,
              "version_major": 2
            },
            "text/plain": [
              "HBox(children=(FloatProgress(value=0.0, description='Epoch 2', max=500.0, style=ProgressStyle(description_widt…"
            ]
          },
          "metadata": {
            "tags": []
          }
        },
        {
          "output_type": "stream",
          "text": [
            "\r\n",
            "Epoch 2\n",
            "Training loss: 1.0568500670790673\n",
            "Class: Other\n",
            "Acc with percent: 0.394273127753304\n",
            "Accuracy: 179/454\n",
            "\n",
            "Class: Message-Topic(e1,e2)\n",
            "Acc with percent: 0.6190476190476191\n",
            "Accuracy: 130/210\n",
            "\n",
            "Class: Message-Topic(e2,e1)\n",
            "Acc with percent: 0.5294117647058824\n",
            "Accuracy: 27/51\n",
            "\n",
            "Class: Product-Producer(e1,e2)\n",
            "Acc with percent: 0.6388888888888888\n",
            "Accuracy: 69/108\n",
            "\n",
            "Class: Product-Producer(e2,e1)\n",
            "Acc with percent: 0.4796747967479675\n",
            "Accuracy: 59/123\n",
            "\n",
            "Class: Instrument-Agency(e1,e2)\n",
            "Acc with percent: 0.13636363636363635\n",
            "Accuracy: 3/22\n",
            "\n",
            "Class: Instrument-Agency(e2,e1)\n",
            "Acc with percent: 0.6492537313432836\n",
            "Accuracy: 87/134\n",
            "\n",
            "Class: Entity-Destination(e1,e2)\n",
            "Acc with percent: 0.8316151202749141\n",
            "Accuracy: 242/291\n",
            "\n",
            "Class: Cause-Effect(e1,e2)\n",
            "Acc with percent: 0.8283582089552238\n",
            "Accuracy: 111/134\n",
            "\n",
            "Class: Cause-Effect(e2,e1)\n",
            "Acc with percent: 0.8556701030927835\n",
            "Accuracy: 166/194\n",
            "\n",
            "Class: Component-Whole(e1,e2)\n",
            "Acc with percent: 0.7592592592592593\n",
            "Accuracy: 123/162\n",
            "\n",
            "Class: Component-Whole(e2,e1)\n",
            "Acc with percent: 0.56\n",
            "Accuracy: 84/150\n",
            "\n",
            "Class: Entity-Origin(e1,e2)\n",
            "Acc with percent: 0.7440758293838863\n",
            "Accuracy: 157/211\n",
            "\n",
            "Class: Entity-Origin(e2,e1)\n",
            "Acc with percent: 0.723404255319149\n",
            "Accuracy: 34/47\n",
            "\n",
            "Class: Member-Collection(e1,e2)\n",
            "Acc with percent: 0.40625\n",
            "Accuracy: 13/32\n",
            "\n",
            "Class: Member-Collection(e2,e1)\n",
            "Acc with percent: 0.9253731343283582\n",
            "Accuracy: 186/201\n",
            "\n",
            "Class: Content-Container(e1,e2)\n",
            "Acc with percent: 0.803921568627451\n",
            "Accuracy: 123/153\n",
            "\n",
            "Class: Content-Container(e2,e1)\n",
            "Acc with percent: 0.6666666666666666\n",
            "Accuracy: 26/39\n",
            "\n",
            "accuracy: 0.6079740900399092\n",
            "Validation loss: 1.1229145414689008\n",
            "F1 Score (Weighted): 0.6667083775543586\n"
          ],
          "name": "stdout"
        },
        {
          "output_type": "display_data",
          "data": {
            "application/vnd.jupyter.widget-view+json": {
              "model_id": "131faac2b8ca4e61bc1a0e7e708029f2",
              "version_minor": 0,
              "version_major": 2
            },
            "text/plain": [
              "HBox(children=(FloatProgress(value=0.0, description='Epoch 3', max=500.0, style=ProgressStyle(description_widt…"
            ]
          },
          "metadata": {
            "tags": []
          }
        },
        {
          "output_type": "stream",
          "text": [
            "\r\n",
            "Epoch 3\n",
            "Training loss: 0.5635934072807431\n",
            "Class: Other\n",
            "Acc with percent: 0.3590308370044053\n",
            "Accuracy: 163/454\n",
            "\n",
            "Class: Message-Topic(e1,e2)\n",
            "Acc with percent: 0.7476190476190476\n",
            "Accuracy: 157/210\n",
            "\n",
            "Class: Message-Topic(e2,e1)\n",
            "Acc with percent: 0.6274509803921569\n",
            "Accuracy: 32/51\n",
            "\n",
            "Class: Product-Producer(e1,e2)\n",
            "Acc with percent: 0.6388888888888888\n",
            "Accuracy: 69/108\n",
            "\n",
            "Class: Product-Producer(e2,e1)\n",
            "Acc with percent: 0.5934959349593496\n",
            "Accuracy: 73/123\n",
            "\n",
            "Class: Instrument-Agency(e1,e2)\n",
            "Acc with percent: 0.2727272727272727\n",
            "Accuracy: 6/22\n",
            "\n",
            "Class: Instrument-Agency(e2,e1)\n",
            "Acc with percent: 0.5671641791044776\n",
            "Accuracy: 76/134\n",
            "\n",
            "Class: Entity-Destination(e1,e2)\n",
            "Acc with percent: 0.8934707903780069\n",
            "Accuracy: 260/291\n",
            "\n",
            "Class: Cause-Effect(e1,e2)\n",
            "Acc with percent: 0.8507462686567164\n",
            "Accuracy: 114/134\n",
            "\n",
            "Class: Cause-Effect(e2,e1)\n",
            "Acc with percent: 0.845360824742268\n",
            "Accuracy: 164/194\n",
            "\n",
            "Class: Component-Whole(e1,e2)\n",
            "Acc with percent: 0.7716049382716049\n",
            "Accuracy: 125/162\n",
            "\n",
            "Class: Component-Whole(e2,e1)\n",
            "Acc with percent: 0.6\n",
            "Accuracy: 90/150\n",
            "\n",
            "Class: Entity-Origin(e1,e2)\n",
            "Acc with percent: 0.7582938388625592\n",
            "Accuracy: 160/211\n",
            "\n",
            "Class: Entity-Origin(e2,e1)\n",
            "Acc with percent: 0.6808510638297872\n",
            "Accuracy: 32/47\n",
            "\n",
            "Class: Member-Collection(e1,e2)\n",
            "Acc with percent: 0.34375\n",
            "Accuracy: 11/32\n",
            "\n",
            "Class: Member-Collection(e2,e1)\n",
            "Acc with percent: 0.8905472636815921\n",
            "Accuracy: 179/201\n",
            "\n",
            "Class: Content-Container(e1,e2)\n",
            "Acc with percent: 0.8627450980392157\n",
            "Accuracy: 132/153\n",
            "\n",
            "Class: Content-Container(e2,e1)\n",
            "Acc with percent: 0.6923076923076923\n",
            "Accuracy: 27/39\n",
            "\n",
            "accuracy: 0.6313713115507916\n",
            "Validation loss: 1.1416193811332478\n",
            "F1 Score (Weighted): 0.681248160436193\n"
          ],
          "name": "stdout"
        },
        {
          "output_type": "display_data",
          "data": {
            "application/vnd.jupyter.widget-view+json": {
              "model_id": "d2356cefe8914068b5c05423680bebd2",
              "version_minor": 0,
              "version_major": 2
            },
            "text/plain": [
              "HBox(children=(FloatProgress(value=0.0, description='Epoch 4', max=500.0, style=ProgressStyle(description_widt…"
            ]
          },
          "metadata": {
            "tags": []
          }
        },
        {
          "output_type": "stream",
          "text": [
            "\r\n",
            "Epoch 4\n",
            "Training loss: 0.30050218100100756\n",
            "Class: Other\n",
            "Acc with percent: 0.32819383259911894\n",
            "Accuracy: 149/454\n",
            "\n",
            "Class: Message-Topic(e1,e2)\n",
            "Acc with percent: 0.7476190476190476\n",
            "Accuracy: 157/210\n",
            "\n",
            "Class: Message-Topic(e2,e1)\n",
            "Acc with percent: 0.6078431372549019\n",
            "Accuracy: 31/51\n",
            "\n",
            "Class: Product-Producer(e1,e2)\n",
            "Acc with percent: 0.6388888888888888\n",
            "Accuracy: 69/108\n",
            "\n",
            "Class: Product-Producer(e2,e1)\n",
            "Acc with percent: 0.5365853658536586\n",
            "Accuracy: 66/123\n",
            "\n",
            "Class: Instrument-Agency(e1,e2)\n",
            "Acc with percent: 0.3181818181818182\n",
            "Accuracy: 7/22\n",
            "\n",
            "Class: Instrument-Agency(e2,e1)\n",
            "Acc with percent: 0.6791044776119403\n",
            "Accuracy: 91/134\n",
            "\n",
            "Class: Entity-Destination(e1,e2)\n",
            "Acc with percent: 0.8762886597938144\n",
            "Accuracy: 255/291\n",
            "\n",
            "Class: Cause-Effect(e1,e2)\n",
            "Acc with percent: 0.8582089552238806\n",
            "Accuracy: 115/134\n",
            "\n",
            "Class: Cause-Effect(e2,e1)\n",
            "Acc with percent: 0.8505154639175257\n",
            "Accuracy: 165/194\n",
            "\n",
            "Class: Component-Whole(e1,e2)\n",
            "Acc with percent: 0.7839506172839507\n",
            "Accuracy: 127/162\n",
            "\n",
            "Class: Component-Whole(e2,e1)\n",
            "Acc with percent: 0.64\n",
            "Accuracy: 96/150\n",
            "\n",
            "Class: Entity-Origin(e1,e2)\n",
            "Acc with percent: 0.8009478672985783\n",
            "Accuracy: 169/211\n",
            "\n",
            "Class: Entity-Origin(e2,e1)\n",
            "Acc with percent: 0.723404255319149\n",
            "Accuracy: 34/47\n",
            "\n",
            "Class: Member-Collection(e1,e2)\n",
            "Acc with percent: 0.4375\n",
            "Accuracy: 14/32\n",
            "\n",
            "Class: Member-Collection(e2,e1)\n",
            "Acc with percent: 0.8955223880597015\n",
            "Accuracy: 180/201\n",
            "\n",
            "Class: Content-Container(e1,e2)\n",
            "Acc with percent: 0.8758169934640523\n",
            "Accuracy: 134/153\n",
            "\n",
            "Class: Content-Container(e2,e1)\n",
            "Acc with percent: 0.6923076923076923\n",
            "Accuracy: 27/39\n",
            "\n",
            "accuracy: 0.6468883926672483\n",
            "Validation loss: 1.1501828821266398\n",
            "F1 Score (Weighted): 0.6845783347189186\n",
            "\n"
          ],
          "name": "stdout"
        }
      ]
    },
    {
      "cell_type": "code",
      "metadata": {
        "id": "Q4CLqT0U73Bc"
      },
      "source": [
        "_, predictions, true_vals = evaluate(dataloader_validation)"
      ],
      "execution_count": null,
      "outputs": []
    },
    {
      "cell_type": "code",
      "metadata": {
        "colab": {
          "base_uri": "https://localhost:8080/"
        },
        "id": "yt0tsUPG743N",
        "outputId": "c819758a-4544-4bc7-d690-a4b789a2fa91"
      },
      "source": [
        "totatl_acc = accuracy_per_class(predictions, true_vals)"
      ],
      "execution_count": null,
      "outputs": [
        {
          "output_type": "stream",
          "text": [
            "Class: Other\n",
            "Acc with percent: 0.32819383259911894\n",
            "Accuracy: 149/454\n",
            "\n",
            "Class: Message-Topic(e1,e2)\n",
            "Acc with percent: 0.7476190476190476\n",
            "Accuracy: 157/210\n",
            "\n",
            "Class: Message-Topic(e2,e1)\n",
            "Acc with percent: 0.6078431372549019\n",
            "Accuracy: 31/51\n",
            "\n",
            "Class: Product-Producer(e1,e2)\n",
            "Acc with percent: 0.6388888888888888\n",
            "Accuracy: 69/108\n",
            "\n",
            "Class: Product-Producer(e2,e1)\n",
            "Acc with percent: 0.5365853658536586\n",
            "Accuracy: 66/123\n",
            "\n",
            "Class: Instrument-Agency(e1,e2)\n",
            "Acc with percent: 0.3181818181818182\n",
            "Accuracy: 7/22\n",
            "\n",
            "Class: Instrument-Agency(e2,e1)\n",
            "Acc with percent: 0.6791044776119403\n",
            "Accuracy: 91/134\n",
            "\n",
            "Class: Entity-Destination(e1,e2)\n",
            "Acc with percent: 0.8762886597938144\n",
            "Accuracy: 255/291\n",
            "\n",
            "Class: Cause-Effect(e1,e2)\n",
            "Acc with percent: 0.8582089552238806\n",
            "Accuracy: 115/134\n",
            "\n",
            "Class: Cause-Effect(e2,e1)\n",
            "Acc with percent: 0.8505154639175257\n",
            "Accuracy: 165/194\n",
            "\n",
            "Class: Component-Whole(e1,e2)\n",
            "Acc with percent: 0.7839506172839507\n",
            "Accuracy: 127/162\n",
            "\n",
            "Class: Component-Whole(e2,e1)\n",
            "Acc with percent: 0.64\n",
            "Accuracy: 96/150\n",
            "\n",
            "Class: Entity-Origin(e1,e2)\n",
            "Acc with percent: 0.8009478672985783\n",
            "Accuracy: 169/211\n",
            "\n",
            "Class: Entity-Origin(e2,e1)\n",
            "Acc with percent: 0.723404255319149\n",
            "Accuracy: 34/47\n",
            "\n",
            "Class: Member-Collection(e1,e2)\n",
            "Acc with percent: 0.4375\n",
            "Accuracy: 14/32\n",
            "\n",
            "Class: Member-Collection(e2,e1)\n",
            "Acc with percent: 0.8955223880597015\n",
            "Accuracy: 180/201\n",
            "\n",
            "Class: Content-Container(e1,e2)\n",
            "Acc with percent: 0.8758169934640523\n",
            "Accuracy: 134/153\n",
            "\n",
            "Class: Content-Container(e2,e1)\n",
            "Acc with percent: 0.6923076923076923\n",
            "Accuracy: 27/39\n",
            "\n"
          ],
          "name": "stdout"
        }
      ]
    },
    {
      "cell_type": "code",
      "metadata": {
        "colab": {
          "base_uri": "https://localhost:8080/"
        },
        "id": "80--_EU2RJeV",
        "outputId": "2bd7b129-4c23-4ca5-b6ac-35c25192f269"
      },
      "source": [
        "totatl_acc"
      ],
      "execution_count": null,
      "outputs": [
        {
          "output_type": "execute_result",
          "data": {
            "text/plain": [
              "0.6468883926672483"
            ]
          },
          "metadata": {
            "tags": []
          },
          "execution_count": 71
        }
      ]
    },
    {
      "cell_type": "code",
      "metadata": {
        "id": "4_BLucYtR5_n",
        "colab": {
          "base_uri": "https://localhost:8080/"
        },
        "outputId": "0ba876ff-a538-4ede-83fa-e5b82cac5ff5"
      },
      "source": [
        "f1_score_func(predictions, true_vals)"
      ],
      "execution_count": null,
      "outputs": [
        {
          "output_type": "execute_result",
          "data": {
            "text/plain": [
              "0.6845783347189186"
            ]
          },
          "metadata": {
            "tags": []
          },
          "execution_count": 72
        }
      ]
    },
    {
      "cell_type": "code",
      "metadata": {
        "colab": {
          "base_uri": "https://localhost:8080/",
          "height": 204
        },
        "id": "6MkoUrhH2jqa",
        "outputId": "a0c29fd2-1591-4d45-ed0e-cb2b5e5f59c8"
      },
      "source": [
        "import pandas as pd\n",
        "pd.set_option('precision', 2)\n",
        "df_stats = pd.DataFrame(data=training_stats)\n",
        "df_stats = df_stats.set_index('epoch')\n",
        "df_stats"
      ],
      "execution_count": null,
      "outputs": [
        {
          "output_type": "execute_result",
          "data": {
            "text/html": [
              "<div>\n",
              "<style scoped>\n",
              "    .dataframe tbody tr th:only-of-type {\n",
              "        vertical-align: middle;\n",
              "    }\n",
              "\n",
              "    .dataframe tbody tr th {\n",
              "        vertical-align: top;\n",
              "    }\n",
              "\n",
              "    .dataframe thead th {\n",
              "        text-align: right;\n",
              "    }\n",
              "</style>\n",
              "<table border=\"1\" class=\"dataframe\">\n",
              "  <thead>\n",
              "    <tr style=\"text-align: right;\">\n",
              "      <th></th>\n",
              "      <th>Training Loss</th>\n",
              "      <th>Valid. Loss</th>\n",
              "      <th>Valid. Accur.</th>\n",
              "    </tr>\n",
              "    <tr>\n",
              "      <th>epoch</th>\n",
              "      <th></th>\n",
              "      <th></th>\n",
              "      <th></th>\n",
              "    </tr>\n",
              "  </thead>\n",
              "  <tbody>\n",
              "    <tr>\n",
              "      <th>1</th>\n",
              "      <td>2.09</td>\n",
              "      <td>1.45</td>\n",
              "      <td>0.52</td>\n",
              "    </tr>\n",
              "    <tr>\n",
              "      <th>2</th>\n",
              "      <td>1.06</td>\n",
              "      <td>1.12</td>\n",
              "      <td>0.61</td>\n",
              "    </tr>\n",
              "    <tr>\n",
              "      <th>3</th>\n",
              "      <td>0.56</td>\n",
              "      <td>1.14</td>\n",
              "      <td>0.63</td>\n",
              "    </tr>\n",
              "    <tr>\n",
              "      <th>4</th>\n",
              "      <td>0.30</td>\n",
              "      <td>1.15</td>\n",
              "      <td>0.65</td>\n",
              "    </tr>\n",
              "  </tbody>\n",
              "</table>\n",
              "</div>"
            ],
            "text/plain": [
              "       Training Loss  Valid. Loss  Valid. Accur.\n",
              "epoch                                           \n",
              "1               2.09         1.45           0.52\n",
              "2               1.06         1.12           0.61\n",
              "3               0.56         1.14           0.63\n",
              "4               0.30         1.15           0.65"
            ]
          },
          "metadata": {
            "tags": []
          },
          "execution_count": 73
        }
      ]
    },
    {
      "cell_type": "code",
      "metadata": {
        "colab": {
          "base_uri": "https://localhost:8080/",
          "height": 427
        },
        "id": "sKMdT7ev27AT",
        "outputId": "6a9c39ae-cc47-4fdc-db4d-a83eff396f11"
      },
      "source": [
        "import matplotlib.pyplot as plt\n",
        "% matplotlib inline\n",
        "import seaborn as sns\n",
        "sns.set(style='darkgrid')\n",
        "sns.set(font_scale=1.5)\n",
        "plt.rcParams[\"figure.figsize\"] = (12,6)\n",
        "plt.plot(df_stats['Training Loss'], 'b-o', label=\"Training\")\n",
        "plt.plot(df_stats['Valid. Loss'], 'g-o', label=\"Validation\")\n",
        "plt.title(\"Training & Validation Loss\")\n",
        "plt.xlabel(\"Epoch\")\n",
        "plt.ylabel(\"Loss\")\n",
        "plt.legend()\n",
        "plt.xticks([1, 2, 3, 4, 5])\n",
        "plt.show()"
      ],
      "execution_count": null,
      "outputs": [
        {
          "output_type": "display_data",
          "data": {
            "image/png": "[encoded data removed]",
            "text/plain": [
              "<Figure size 864x432 with 1 Axes>"
            ]
          },
          "metadata": {
            "tags": []
          }
        }
      ]
    },
    {
      "cell_type": "markdown",
      "metadata": {
        "id": "1gX9lBP9Qc6F"
      },
      "source": [
        "# train persian dataset"
      ]
    },
    {
      "cell_type": "code",
      "metadata": {
        "id": "SlxxxbP3QfMz"
      },
      "source": [
        "from torch.utils.data import DataLoader, RandomSampler, SequentialSampler\n",
        "batch_size = 16\n",
        "dataloader_train = DataLoader(dataset_train, \n",
        "                              sampler=RandomSampler(dataset_train), \n",
        "                              batch_size=batch_size)\n",
        "dataloader_validation = DataLoader(dataset_val, \n",
        "                                   sampler=SequentialSampler(dataset_val), \n",
        "                                   batch_size=batch_size)\n"
      ],
      "execution_count": null,
      "outputs": []
    },
    {
      "cell_type": "code",
      "metadata": {
        "id": "_ABwzxcKQlw9"
      },
      "source": [
        "from transformers import AdamW, get_linear_schedule_with_warmup\n",
        "optimizer = AdamW(model.parameters(),\n",
        "                  lr=3e-5, \n",
        "                  eps=1e-8)\n",
        "epochs = 5\n",
        "scheduler = get_linear_schedule_with_warmup(optimizer, \n",
        "                                            num_warmup_steps=0,\n",
        "                                            num_training_steps=len(dataloader_train)*epochs)"
      ],
      "execution_count": null,
      "outputs": []
    },
    {
      "cell_type": "code",
      "metadata": {
        "id": "5nrjQ7U2cOK1"
      },
      "source": [
        "model_path = './drive/MyDrive/data_sets/PERLEX/models/hoshvare_persian_4.model'"
      ],
      "execution_count": null,
      "outputs": []
    },
    {
      "cell_type": "code",
      "metadata": {
        "id": "u9AHg8Hjb5JG"
      },
      "source": [
        "model = BertForSequenceClassification.from_pretrained(config['model_name'], num_labels=len(label2index))\n",
        "model.load_state_dict(torch.load(model_path))\n",
        "model.eval()"
      ],
      "execution_count": null,
      "outputs": []
    },
    {
      "cell_type": "code",
      "metadata": {
        "colab": {
          "base_uri": "https://localhost:8080/",
          "height": 1000,
          "referenced_widgets": [
            "128ddb5d72f24da68b422dd157ecb6e0",
            "01d25beb91204b7c9751fb48928aa2d6",
            "cf1b2dc2678445728cf6ee8840dc888b",
            "e7b9ce9d9a89460ca0ecb058870b5aa9",
            "0368dcf4b50a4efe825e1778748db57e",
            "d10683d95f5348c5aeb0b6bde3f4c6be",
            "9171e16332204b4e963ca6795b73fb0d",
            "58bcfeb74417444099944829c810e2e1",
            "284dee1c7eb44430aa13e1e49876ca0d",
            "9a0fad068fb74a8faad3d7347e3cfe44",
            "e4b359807329434d88ecd7bf0bd9db7b",
            "90dc72f61b2a4b6192565e3d223783fc",
            "a27286304b44445094c92fa926044ea7",
            "6f8a813e572f4b09bfe849ee471a959d",
            "7dcb0d90e8dd4f5fae108fc649d4160d",
            "55b2aac332254cd787f24359e3baea2b",
            "afe88e1383ec4d5bbc6c0f2272e0639f",
            "b3ff861219ee4eedb931c06399a7aa0d",
            "9c20db8e228f4e3d9ed50b3cea6a0cc7",
            "aa47d35230424b07b904eed98f6e0786",
            "a07f7a8dcbe040be81db3d62153ced50",
            "b23bfb80db7e432497d7eb3cc4743950",
            "5134cea95d4d445ea44d9ee123b0ecf2",
            "6a39c204539d4f579a3e4adf547b587a",
            "5a7ace419dff4c928a2083b6636fb8af",
            "ac08033a192d4e209be5f8e85c1228c2",
            "fb6a9260d3e141d9b426662bb1ff9c66",
            "34266971742b4aa7863e2a206772f6be",
            "5c69185342c541069e15c4f4bc7f5973",
            "71d3590f05f446c1aed8a6497a0e738c",
            "443458ae5f6f46a19077ac9b3433f747",
            "eeab491196a24cb9839ddc7014d5d1a6",
            "2c4e03f8c3ae498abac8e63d255dea97",
            "0ebbe58fefde4254aa8cbf921a5c6c8c",
            "0319b8f11b5e4e66826c306aebac7d20",
            "5e5422825b474a9cb3c4319132c14a31",
            "b5152b426acb4fb0a83b82e88893afde",
            "da6e4a55222f47b4b2613809717cbaa1",
            "f67275a225014ba59c842031266cf9db",
            "8939d5e0dbba406682ea927e9cdaaf3e",
            "498068f4661d441ea5e56750a6d8c482",
            "37ce0498738a459ebd4ece1abeabb198",
            "00f8ac68da08451cb9875221c00668ac",
            "fe0e3b0a4d304e31b6b05be0381eed11",
            "f12a8e9f4fe74b1198e9dc73b920198b",
            "d326a90254184de1bf28047c7002636f",
            "d07e55083339406ba84d0c712b490a13",
            "824a763b308a4f6e9303af2c0664c72a"
          ]
        },
        "id": "d19ic1Qpb0sv",
        "outputId": "eb6d3069-b9eb-49d5-bf91-89a0ba13ebdb"
      },
      "source": [
        "import random\n",
        "import numpy as np\n",
        "\n",
        "seed_val = 17\n",
        "random.seed(seed_val)\n",
        "np.random.seed(seed_val)\n",
        "torch.manual_seed(seed_val)\n",
        "torch.cuda.manual_seed_all(seed_val)\n",
        "training_stats = []\n",
        "\n",
        "\n",
        "for epoch in tqdm(range(1, epochs+1)):\n",
        "    \n",
        "    model.train()\n",
        "    \n",
        "    loss_train_total = 0\n",
        "\n",
        "    progress_bar = tqdm(dataloader_train, desc='Epoch {:1d}'.format(epoch), leave=False, disable=False)\n",
        "    for batch in progress_bar:\n",
        "        model.zero_grad()\n",
        "        \n",
        "        batch = tuple(b.to(device) for b in batch)\n",
        "        \n",
        "        # inputs = {'input_ids':      batch[0],\n",
        "        #           'attention_mask': batch[1],\n",
        "        #           'labels':         batch[2],\n",
        "        #          }  \n",
        "        \n",
        "\n",
        "        inputs = {'input_ids':batch[0],\n",
        "                  'attention_mask': batch[1],\n",
        "                  # XLM and RoBERTa don't use segment_ids\n",
        "                  # 'token_type_ids': batch[2],\n",
        "                  'e1_mask': batch[2],\n",
        "                  'e2_mask': batch[3],\n",
        "                  'labels': batch[4]\n",
        "                  }\n",
        "\n",
        "        outputs = model(**inputs)\n",
        "        \n",
        "        loss = outputs[0]\n",
        "        loss_train_total += loss.item()\n",
        "        loss.backward()\n",
        "\n",
        "        torch.nn.utils.clip_grad_norm_(model.parameters(), 1.0)\n",
        "\n",
        "        optimizer.step()\n",
        "        scheduler.step()\n",
        "        \n",
        "        progress_bar.set_postfix({'training_loss': '{:.3f}'.format(loss.item()/len(batch))})\n",
        "         \n",
        "        \n",
        "    torch.save(model.state_dict(), f'./drive/MyDrive/data_sets/PERLEX/models/hoshvare_persian_{epoch}.model')\n",
        "        \n",
        "    tqdm.write(f'\\nEpoch {epoch}')\n",
        "    \n",
        "\n",
        "    loss_train_avg = loss_train_total/len(dataloader_train)            \n",
        "    tqdm.write(f'Training loss: {loss_train_avg}')\n",
        "    \n",
        "\n",
        "    val_loss, predictions, true_vals = evaluate(dataloader_validation)\n",
        "    val_f1 = f1_score_func(predictions, true_vals)\n",
        "    tt_accuracy = accuracy_per_class(predictions, true_vals)\n",
        "    \n",
        "    tqdm.write(f'accuracy: {tt_accuracy}')\n",
        "    tqdm.write(f'Validation loss: {val_loss}')\n",
        "    tqdm.write(f'F1 Score (Weighted): {val_f1}')\n",
        "\n",
        "    training_stats.append(\n",
        "        {\n",
        "            'epoch': epoch,\n",
        "            'Training Loss': loss_train_avg,\n",
        "            'Valid. Loss': val_loss,\n",
        "            'Valid. Accur.': tt_accuracy\n",
        "        }\n",
        "    )\n",
        "\n",
        "    # cmd = input(\"continue?\")\n",
        "    # if cmd == \"No\":\n",
        "      # break\n"
      ],
      "execution_count": null,
      "outputs": [
        {
          "output_type": "display_data",
          "data": {
            "application/vnd.jupyter.widget-view+json": {
              "model_id": "128ddb5d72f24da68b422dd157ecb6e0",
              "version_minor": 0,
              "version_major": 2
            },
            "text/plain": [
              "HBox(children=(FloatProgress(value=0.0, max=5.0), HTML(value='')))"
            ]
          },
          "metadata": {
            "tags": []
          }
        },
        {
          "output_type": "display_data",
          "data": {
            "application/vnd.jupyter.widget-view+json": {
              "model_id": "284dee1c7eb44430aa13e1e49876ca0d",
              "version_minor": 0,
              "version_major": 2
            },
            "text/plain": [
              "HBox(children=(FloatProgress(value=0.0, description='Epoch 1', max=509.0, style=ProgressStyle(description_widt…"
            ]
          },
          "metadata": {
            "tags": []
          }
        },
        {
          "output_type": "stream",
          "text": [
            "\r\n",
            "Epoch 1\n",
            "Training loss: 1.375970909543965\n",
            "Class: Other\n",
            "Acc with percent: 0.4673913043478261\n",
            "Accuracy: 215/460\n",
            "\n",
            "Class: Message-Topic(e1,e2)\n",
            "Acc with percent: 0.8837209302325582\n",
            "Accuracy: 190/215\n",
            "\n",
            "Class: Message-Topic(e2,e1)\n",
            "Acc with percent: 0.9038461538461539\n",
            "Accuracy: 47/52\n",
            "\n",
            "Class: Product-Producer(e1,e2)\n",
            "Acc with percent: 0.6666666666666666\n",
            "Accuracy: 72/108\n",
            "\n",
            "Class: Product-Producer(e2,e1)\n",
            "Acc with percent: 0.736\n",
            "Accuracy: 92/125\n",
            "\n",
            "Class: Instrument-Agency(e1,e2)\n",
            "Acc with percent: 0.7272727272727273\n",
            "Accuracy: 16/22\n",
            "\n",
            "Class: Instrument-Agency(e2,e1)\n",
            "Acc with percent: 0.6222222222222222\n",
            "Accuracy: 84/135\n",
            "\n",
            "Class: Entity-Destination(e1,e2)\n",
            "Acc with percent: 0.8458904109589042\n",
            "Accuracy: 247/292\n",
            "\n",
            "Class: Cause-Effect(e1,e2)\n",
            "Acc with percent: 0.8814814814814815\n",
            "Accuracy: 119/135\n",
            "\n",
            "Class: Cause-Effect(e2,e1)\n",
            "Acc with percent: 0.7846153846153846\n",
            "Accuracy: 153/195\n",
            "\n",
            "Class: Component-Whole(e1,e2)\n",
            "Acc with percent: 0.7529411764705882\n",
            "Accuracy: 128/170\n",
            "\n",
            "Class: Component-Whole(e2,e1)\n",
            "Acc with percent: 0.5161290322580645\n",
            "Accuracy: 80/155\n",
            "\n",
            "Class: Entity-Origin(e1,e2)\n",
            "Acc with percent: 0.7251184834123223\n",
            "Accuracy: 153/211\n",
            "\n",
            "Class: Entity-Origin(e2,e1)\n",
            "Acc with percent: 0.7872340425531915\n",
            "Accuracy: 37/47\n",
            "\n",
            "Class: Member-Collection(e1,e2)\n",
            "Acc with percent: 0.625\n",
            "Accuracy: 20/32\n",
            "\n",
            "Class: Member-Collection(e2,e1)\n",
            "Acc with percent: 0.7635467980295566\n",
            "Accuracy: 155/203\n",
            "\n",
            "Class: Content-Container(e1,e2)\n",
            "Acc with percent: 0.6558441558441559\n",
            "Accuracy: 101/154\n",
            "\n",
            "Class: Content-Container(e2,e1)\n",
            "Acc with percent: 0.8205128205128205\n",
            "Accuracy: 32/39\n",
            "\n",
            "accuracy: 0.6929175679328748\n",
            "Validation loss: 0.9252363382730373\n",
            "F1 Score (Weighted): 0.7061952168079286\n"
          ],
          "name": "stdout"
        },
        {
          "output_type": "display_data",
          "data": {
            "application/vnd.jupyter.widget-view+json": {
              "model_id": "afe88e1383ec4d5bbc6c0f2272e0639f",
              "version_minor": 0,
              "version_major": 2
            },
            "text/plain": [
              "HBox(children=(FloatProgress(value=0.0, description='Epoch 2', max=509.0, style=ProgressStyle(description_widt…"
            ]
          },
          "metadata": {
            "tags": []
          }
        },
        {
          "output_type": "stream",
          "text": [
            "\r\n",
            "Epoch 2\n",
            "Training loss: 0.5430305747275034\n",
            "Class: Other\n",
            "Acc with percent: 0.5239130434782608\n",
            "Accuracy: 241/460\n",
            "\n",
            "Class: Message-Topic(e1,e2)\n",
            "Acc with percent: 0.827906976744186\n",
            "Accuracy: 178/215\n",
            "\n",
            "Class: Message-Topic(e2,e1)\n",
            "Acc with percent: 0.8461538461538461\n",
            "Accuracy: 44/52\n",
            "\n",
            "Class: Product-Producer(e1,e2)\n",
            "Acc with percent: 0.8425925925925926\n",
            "Accuracy: 91/108\n",
            "\n",
            "Class: Product-Producer(e2,e1)\n",
            "Acc with percent: 0.816\n",
            "Accuracy: 102/125\n",
            "\n",
            "Class: Instrument-Agency(e1,e2)\n",
            "Acc with percent: 0.6363636363636364\n",
            "Accuracy: 14/22\n",
            "\n",
            "Class: Instrument-Agency(e2,e1)\n",
            "Acc with percent: 0.6074074074074074\n",
            "Accuracy: 82/135\n",
            "\n",
            "Class: Entity-Destination(e1,e2)\n",
            "Acc with percent: 0.8424657534246576\n",
            "Accuracy: 246/292\n",
            "\n",
            "Class: Cause-Effect(e1,e2)\n",
            "Acc with percent: 0.9111111111111111\n",
            "Accuracy: 123/135\n",
            "\n",
            "Class: Cause-Effect(e2,e1)\n",
            "Acc with percent: 0.8769230769230769\n",
            "Accuracy: 171/195\n",
            "\n",
            "Class: Component-Whole(e1,e2)\n",
            "Acc with percent: 0.7176470588235294\n",
            "Accuracy: 122/170\n",
            "\n",
            "Class: Component-Whole(e2,e1)\n",
            "Acc with percent: 0.7290322580645161\n",
            "Accuracy: 113/155\n",
            "\n",
            "Class: Entity-Origin(e1,e2)\n",
            "Acc with percent: 0.7867298578199052\n",
            "Accuracy: 166/211\n",
            "\n",
            "Class: Entity-Origin(e2,e1)\n",
            "Acc with percent: 0.8297872340425532\n",
            "Accuracy: 39/47\n",
            "\n",
            "Class: Member-Collection(e1,e2)\n",
            "Acc with percent: 0.5625\n",
            "Accuracy: 18/32\n",
            "\n",
            "Class: Member-Collection(e2,e1)\n",
            "Acc with percent: 0.7192118226600985\n",
            "Accuracy: 146/203\n",
            "\n",
            "Class: Content-Container(e1,e2)\n",
            "Acc with percent: 0.8506493506493507\n",
            "Accuracy: 131/154\n",
            "\n",
            "Class: Content-Container(e2,e1)\n",
            "Acc with percent: 0.7692307692307693\n",
            "Accuracy: 30/39\n",
            "\n",
            "accuracy: 0.7208224102889208\n",
            "Validation loss: 0.8930440412531065\n",
            "F1 Score (Weighted): 0.7479377670611334\n"
          ],
          "name": "stdout"
        },
        {
          "output_type": "display_data",
          "data": {
            "application/vnd.jupyter.widget-view+json": {
              "model_id": "5a7ace419dff4c928a2083b6636fb8af",
              "version_minor": 0,
              "version_major": 2
            },
            "text/plain": [
              "HBox(children=(FloatProgress(value=0.0, description='Epoch 3', max=509.0, style=ProgressStyle(description_widt…"
            ]
          },
          "metadata": {
            "tags": []
          }
        },
        {
          "output_type": "stream",
          "text": [
            "\r\n",
            "Epoch 3\n",
            "Training loss: 0.20910251992507628\n",
            "Class: Other\n",
            "Acc with percent: 0.5282608695652173\n",
            "Accuracy: 243/460\n",
            "\n",
            "Class: Message-Topic(e1,e2)\n",
            "Acc with percent: 0.7674418604651163\n",
            "Accuracy: 165/215\n",
            "\n",
            "Class: Message-Topic(e2,e1)\n",
            "Acc with percent: 0.8461538461538461\n",
            "Accuracy: 44/52\n",
            "\n",
            "Class: Product-Producer(e1,e2)\n",
            "Acc with percent: 0.8055555555555556\n",
            "Accuracy: 87/108\n",
            "\n",
            "Class: Product-Producer(e2,e1)\n",
            "Acc with percent: 0.696\n",
            "Accuracy: 87/125\n",
            "\n",
            "Class: Instrument-Agency(e1,e2)\n",
            "Acc with percent: 0.6363636363636364\n",
            "Accuracy: 14/22\n",
            "\n",
            "Class: Instrument-Agency(e2,e1)\n",
            "Acc with percent: 0.6962962962962963\n",
            "Accuracy: 94/135\n",
            "\n",
            "Class: Entity-Destination(e1,e2)\n",
            "Acc with percent: 0.815068493150685\n",
            "Accuracy: 238/292\n",
            "\n",
            "Class: Cause-Effect(e1,e2)\n",
            "Acc with percent: 0.9185185185185185\n",
            "Accuracy: 124/135\n",
            "\n",
            "Class: Cause-Effect(e2,e1)\n",
            "Acc with percent: 0.8717948717948718\n",
            "Accuracy: 170/195\n",
            "\n",
            "Class: Component-Whole(e1,e2)\n",
            "Acc with percent: 0.7823529411764706\n",
            "Accuracy: 133/170\n",
            "\n",
            "Class: Component-Whole(e2,e1)\n",
            "Acc with percent: 0.7612903225806451\n",
            "Accuracy: 118/155\n",
            "\n",
            "Class: Entity-Origin(e1,e2)\n",
            "Acc with percent: 0.7962085308056872\n",
            "Accuracy: 168/211\n",
            "\n",
            "Class: Entity-Origin(e2,e1)\n",
            "Acc with percent: 0.8297872340425532\n",
            "Accuracy: 39/47\n",
            "\n",
            "Class: Member-Collection(e1,e2)\n",
            "Acc with percent: 0.6875\n",
            "Accuracy: 22/32\n",
            "\n",
            "Class: Member-Collection(e2,e1)\n",
            "Acc with percent: 0.6798029556650246\n",
            "Accuracy: 138/203\n",
            "\n",
            "Class: Content-Container(e1,e2)\n",
            "Acc with percent: 0.8506493506493507\n",
            "Accuracy: 131/154\n",
            "\n",
            "Class: Content-Container(e2,e1)\n",
            "Acc with percent: 0.7948717948717948\n",
            "Accuracy: 31/39\n",
            "\n",
            "accuracy: 0.7244166882976458\n",
            "Validation loss: 0.9843273825163759\n",
            "F1 Score (Weighted): 0.745662828735921\n"
          ],
          "name": "stdout"
        },
        {
          "output_type": "display_data",
          "data": {
            "application/vnd.jupyter.widget-view+json": {
              "model_id": "2c4e03f8c3ae498abac8e63d255dea97",
              "version_minor": 0,
              "version_major": 2
            },
            "text/plain": [
              "HBox(children=(FloatProgress(value=0.0, description='Epoch 4', max=509.0, style=ProgressStyle(description_widt…"
            ]
          },
          "metadata": {
            "tags": []
          }
        },
        {
          "output_type": "stream",
          "text": [
            "\r\n",
            "Epoch 4\n",
            "Training loss: 0.07150004093932291\n",
            "Class: Other\n",
            "Acc with percent: 0.4826086956521739\n",
            "Accuracy: 222/460\n",
            "\n",
            "Class: Message-Topic(e1,e2)\n",
            "Acc with percent: 0.772093023255814\n",
            "Accuracy: 166/215\n",
            "\n",
            "Class: Message-Topic(e2,e1)\n",
            "Acc with percent: 0.8269230769230769\n",
            "Accuracy: 43/52\n",
            "\n",
            "Class: Product-Producer(e1,e2)\n",
            "Acc with percent: 0.75\n",
            "Accuracy: 81/108\n",
            "\n",
            "Class: Product-Producer(e2,e1)\n",
            "Acc with percent: 0.792\n",
            "Accuracy: 99/125\n",
            "\n",
            "Class: Instrument-Agency(e1,e2)\n",
            "Acc with percent: 0.6363636363636364\n",
            "Accuracy: 14/22\n",
            "\n",
            "Class: Instrument-Agency(e2,e1)\n",
            "Acc with percent: 0.7111111111111111\n",
            "Accuracy: 96/135\n",
            "\n",
            "Class: Entity-Destination(e1,e2)\n",
            "Acc with percent: 0.8732876712328768\n",
            "Accuracy: 255/292\n",
            "\n",
            "Class: Cause-Effect(e1,e2)\n",
            "Acc with percent: 0.9407407407407408\n",
            "Accuracy: 127/135\n",
            "\n",
            "Class: Cause-Effect(e2,e1)\n",
            "Acc with percent: 0.8769230769230769\n",
            "Accuracy: 171/195\n",
            "\n",
            "Class: Component-Whole(e1,e2)\n",
            "Acc with percent: 0.7705882352941177\n",
            "Accuracy: 131/170\n",
            "\n",
            "Class: Component-Whole(e2,e1)\n",
            "Acc with percent: 0.7741935483870968\n",
            "Accuracy: 120/155\n",
            "\n",
            "Class: Entity-Origin(e1,e2)\n",
            "Acc with percent: 0.7772511848341233\n",
            "Accuracy: 164/211\n",
            "\n",
            "Class: Entity-Origin(e2,e1)\n",
            "Acc with percent: 0.7872340425531915\n",
            "Accuracy: 37/47\n",
            "\n",
            "Class: Member-Collection(e1,e2)\n",
            "Acc with percent: 0.6875\n",
            "Accuracy: 22/32\n",
            "\n",
            "Class: Member-Collection(e2,e1)\n",
            "Acc with percent: 0.8029556650246306\n",
            "Accuracy: 163/203\n",
            "\n",
            "Class: Content-Container(e1,e2)\n",
            "Acc with percent: 0.8311688311688312\n",
            "Accuracy: 128/154\n",
            "\n",
            "Class: Content-Container(e2,e1)\n",
            "Acc with percent: 0.7692307692307693\n",
            "Accuracy: 30/39\n",
            "\n",
            "accuracy: 0.7295880688786983\n",
            "Validation loss: 1.1133651176337587\n",
            "F1 Score (Weighted): 0.7506866696188282\n"
          ],
          "name": "stdout"
        },
        {
          "output_type": "display_data",
          "data": {
            "application/vnd.jupyter.widget-view+json": {
              "model_id": "498068f4661d441ea5e56750a6d8c482",
              "version_minor": 0,
              "version_major": 2
            },
            "text/plain": [
              "HBox(children=(FloatProgress(value=0.0, description='Epoch 5', max=509.0, style=ProgressStyle(description_widt…"
            ]
          },
          "metadata": {
            "tags": []
          }
        },
        {
          "output_type": "stream",
          "text": [
            "\r\n",
            "Epoch 5\n",
            "Training loss: 0.024818175270250487\n",
            "Class: Other\n",
            "Acc with percent: 0.4673913043478261\n",
            "Accuracy: 215/460\n",
            "\n",
            "Class: Message-Topic(e1,e2)\n",
            "Acc with percent: 0.8558139534883721\n",
            "Accuracy: 184/215\n",
            "\n",
            "Class: Message-Topic(e2,e1)\n",
            "Acc with percent: 0.8269230769230769\n",
            "Accuracy: 43/52\n",
            "\n",
            "Class: Product-Producer(e1,e2)\n",
            "Acc with percent: 0.8333333333333334\n",
            "Accuracy: 90/108\n",
            "\n",
            "Class: Product-Producer(e2,e1)\n",
            "Acc with percent: 0.808\n",
            "Accuracy: 101/125\n",
            "\n",
            "Class: Instrument-Agency(e1,e2)\n",
            "Acc with percent: 0.6363636363636364\n",
            "Accuracy: 14/22\n",
            "\n",
            "Class: Instrument-Agency(e2,e1)\n",
            "Acc with percent: 0.6962962962962963\n",
            "Accuracy: 94/135\n",
            "\n",
            "Class: Entity-Destination(e1,e2)\n",
            "Acc with percent: 0.8527397260273972\n",
            "Accuracy: 249/292\n",
            "\n",
            "Class: Cause-Effect(e1,e2)\n",
            "Acc with percent: 0.9259259259259259\n",
            "Accuracy: 125/135\n",
            "\n",
            "Class: Cause-Effect(e2,e1)\n",
            "Acc with percent: 0.8564102564102564\n",
            "Accuracy: 167/195\n",
            "\n",
            "Class: Component-Whole(e1,e2)\n",
            "Acc with percent: 0.788235294117647\n",
            "Accuracy: 134/170\n",
            "\n",
            "Class: Component-Whole(e2,e1)\n",
            "Acc with percent: 0.7354838709677419\n",
            "Accuracy: 114/155\n",
            "\n",
            "Class: Entity-Origin(e1,e2)\n",
            "Acc with percent: 0.7819905213270142\n",
            "Accuracy: 165/211\n",
            "\n",
            "Class: Entity-Origin(e2,e1)\n",
            "Acc with percent: 0.8297872340425532\n",
            "Accuracy: 39/47\n",
            "\n",
            "Class: Member-Collection(e1,e2)\n",
            "Acc with percent: 0.65625\n",
            "Accuracy: 21/32\n",
            "\n",
            "Class: Member-Collection(e2,e1)\n",
            "Acc with percent: 0.7881773399014779\n",
            "Accuracy: 160/203\n",
            "\n",
            "Class: Content-Container(e1,e2)\n",
            "Acc with percent: 0.8441558441558441\n",
            "Accuracy: 130/154\n",
            "\n",
            "Class: Content-Container(e2,e1)\n",
            "Acc with percent: 0.7948717948717948\n",
            "Accuracy: 31/39\n",
            "\n",
            "accuracy: 0.7356920741315893\n",
            "Validation loss: 1.1611104164662402\n",
            "F1 Score (Weighted): 0.7520320783406157\n",
            "\n"
          ],
          "name": "stdout"
        }
      ]
    },
    {
      "cell_type": "code",
      "metadata": {
        "id": "4_fR9q1whDKv"
      },
      "source": [
        "_, predictions, true_vals = evaluate(dataloader_validation)"
      ],
      "execution_count": null,
      "outputs": []
    },
    {
      "cell_type": "code",
      "metadata": {
        "colab": {
          "base_uri": "https://localhost:8080/"
        },
        "id": "Br4vs8ewhRYw",
        "outputId": "80da08f9-5e5f-4803-f872-eea06f6f3880"
      },
      "source": [
        "totatl_acc = accuracy_per_class(predictions, true_vals)"
      ],
      "execution_count": null,
      "outputs": [
        {
          "output_type": "stream",
          "text": [
            "Class: Other\n",
            "Acc with percent: 0.4673913043478261\n",
            "Accuracy: 215/460\n",
            "\n",
            "Class: Message-Topic(e1,e2)\n",
            "Acc with percent: 0.8558139534883721\n",
            "Accuracy: 184/215\n",
            "\n",
            "Class: Message-Topic(e2,e1)\n",
            "Acc with percent: 0.8269230769230769\n",
            "Accuracy: 43/52\n",
            "\n",
            "Class: Product-Producer(e1,e2)\n",
            "Acc with percent: 0.8333333333333334\n",
            "Accuracy: 90/108\n",
            "\n",
            "Class: Product-Producer(e2,e1)\n",
            "Acc with percent: 0.808\n",
            "Accuracy: 101/125\n",
            "\n",
            "Class: Instrument-Agency(e1,e2)\n",
            "Acc with percent: 0.6363636363636364\n",
            "Accuracy: 14/22\n",
            "\n",
            "Class: Instrument-Agency(e2,e1)\n",
            "Acc with percent: 0.6962962962962963\n",
            "Accuracy: 94/135\n",
            "\n",
            "Class: Entity-Destination(e1,e2)\n",
            "Acc with percent: 0.8527397260273972\n",
            "Accuracy: 249/292\n",
            "\n",
            "Class: Cause-Effect(e1,e2)\n",
            "Acc with percent: 0.9259259259259259\n",
            "Accuracy: 125/135\n",
            "\n",
            "Class: Cause-Effect(e2,e1)\n",
            "Acc with percent: 0.8564102564102564\n",
            "Accuracy: 167/195\n",
            "\n",
            "Class: Component-Whole(e1,e2)\n",
            "Acc with percent: 0.788235294117647\n",
            "Accuracy: 134/170\n",
            "\n",
            "Class: Component-Whole(e2,e1)\n",
            "Acc with percent: 0.7354838709677419\n",
            "Accuracy: 114/155\n",
            "\n",
            "Class: Entity-Origin(e1,e2)\n",
            "Acc with percent: 0.7819905213270142\n",
            "Accuracy: 165/211\n",
            "\n",
            "Class: Entity-Origin(e2,e1)\n",
            "Acc with percent: 0.8297872340425532\n",
            "Accuracy: 39/47\n",
            "\n",
            "Class: Member-Collection(e1,e2)\n",
            "Acc with percent: 0.65625\n",
            "Accuracy: 21/32\n",
            "\n",
            "Class: Member-Collection(e2,e1)\n",
            "Acc with percent: 0.7881773399014779\n",
            "Accuracy: 160/203\n",
            "\n",
            "Class: Content-Container(e1,e2)\n",
            "Acc with percent: 0.8441558441558441\n",
            "Accuracy: 130/154\n",
            "\n",
            "Class: Content-Container(e2,e1)\n",
            "Acc with percent: 0.7948717948717948\n",
            "Accuracy: 31/39\n",
            "\n"
          ],
          "name": "stdout"
        }
      ]
    },
    {
      "cell_type": "code",
      "metadata": {
        "colab": {
          "base_uri": "https://localhost:8080/"
        },
        "id": "96OZO1tChSQ9",
        "outputId": "4ca31500-cb02-46ab-e359-b1d3e217da5a"
      },
      "source": [
        "totatl_acc"
      ],
      "execution_count": null,
      "outputs": [
        {
          "output_type": "execute_result",
          "data": {
            "text/plain": [
              "0.7356920741315893"
            ]
          },
          "metadata": {
            "tags": []
          },
          "execution_count": 80
        }
      ]
    },
    {
      "cell_type": "code",
      "metadata": {
        "colab": {
          "base_uri": "https://localhost:8080/"
        },
        "id": "DZEhZqeQhS6D",
        "outputId": "fcc3f746-6cb0-42f9-fb02-cdbb1dc38e05"
      },
      "source": [
        "f1_score_func(predictions, true_vals)"
      ],
      "execution_count": null,
      "outputs": [
        {
          "output_type": "execute_result",
          "data": {
            "text/plain": [
              "0.7520320783406157"
            ]
          },
          "metadata": {
            "tags": []
          },
          "execution_count": 81
        }
      ]
    },
    {
      "cell_type": "code",
      "metadata": {
        "colab": {
          "base_uri": "https://localhost:8080/",
          "height": 235
        },
        "id": "gQLvg6VxhKzq",
        "outputId": "176b26b1-37c5-4ef2-e300-16a610f7f1d9"
      },
      "source": [
        "import pandas as pd\n",
        "pd.set_option('precision', 2)\n",
        "df_stats = pd.DataFrame(data=training_stats)\n",
        "df_stats = df_stats.set_index('epoch')\n",
        "df_stats"
      ],
      "execution_count": null,
      "outputs": [
        {
          "output_type": "execute_result",
          "data": {
            "text/html": [
              "<div>\n",
              "<style scoped>\n",
              "    .dataframe tbody tr th:only-of-type {\n",
              "        vertical-align: middle;\n",
              "    }\n",
              "\n",
              "    .dataframe tbody tr th {\n",
              "        vertical-align: top;\n",
              "    }\n",
              "\n",
              "    .dataframe thead th {\n",
              "        text-align: right;\n",
              "    }\n",
              "</style>\n",
              "<table border=\"1\" class=\"dataframe\">\n",
              "  <thead>\n",
              "    <tr style=\"text-align: right;\">\n",
              "      <th></th>\n",
              "      <th>Training Loss</th>\n",
              "      <th>Valid. Loss</th>\n",
              "      <th>Valid. Accur.</th>\n",
              "    </tr>\n",
              "    <tr>\n",
              "      <th>epoch</th>\n",
              "      <th></th>\n",
              "      <th></th>\n",
              "      <th></th>\n",
              "    </tr>\n",
              "  </thead>\n",
              "  <tbody>\n",
              "    <tr>\n",
              "      <th>1</th>\n",
              "      <td>1.38</td>\n",
              "      <td>0.93</td>\n",
              "      <td>0.69</td>\n",
              "    </tr>\n",
              "    <tr>\n",
              "      <th>2</th>\n",
              "      <td>0.54</td>\n",
              "      <td>0.89</td>\n",
              "      <td>0.72</td>\n",
              "    </tr>\n",
              "    <tr>\n",
              "      <th>3</th>\n",
              "      <td>0.21</td>\n",
              "      <td>0.98</td>\n",
              "      <td>0.72</td>\n",
              "    </tr>\n",
              "    <tr>\n",
              "      <th>4</th>\n",
              "      <td>0.07</td>\n",
              "      <td>1.11</td>\n",
              "      <td>0.73</td>\n",
              "    </tr>\n",
              "    <tr>\n",
              "      <th>5</th>\n",
              "      <td>0.02</td>\n",
              "      <td>1.16</td>\n",
              "      <td>0.74</td>\n",
              "    </tr>\n",
              "  </tbody>\n",
              "</table>\n",
              "</div>"
            ],
            "text/plain": [
              "       Training Loss  Valid. Loss  Valid. Accur.\n",
              "epoch                                           \n",
              "1               1.38         0.93           0.69\n",
              "2               0.54         0.89           0.72\n",
              "3               0.21         0.98           0.72\n",
              "4               0.07         1.11           0.73\n",
              "5               0.02         1.16           0.74"
            ]
          },
          "metadata": {
            "tags": []
          },
          "execution_count": 82
        }
      ]
    },
    {
      "cell_type": "code",
      "metadata": {
        "colab": {
          "base_uri": "https://localhost:8080/",
          "height": 427
        },
        "id": "iMjqUkUGhLw0",
        "outputId": "254c69f2-e796-4522-b2cb-351e80708c6b"
      },
      "source": [
        "import matplotlib.pyplot as plt\n",
        "% matplotlib inline\n",
        "import seaborn as sns\n",
        "sns.set(style='darkgrid')\n",
        "sns.set(font_scale=1.5)\n",
        "plt.rcParams[\"figure.figsize\"] = (12,6)\n",
        "plt.plot(df_stats['Training Loss'], 'b-o', label=\"Training\")\n",
        "plt.plot(df_stats['Valid. Loss'], 'g-o', label=\"Validation\")\n",
        "plt.title(\"Training & Validation Loss\")\n",
        "plt.xlabel(\"Epoch\")\n",
        "plt.ylabel(\"Loss\")\n",
        "plt.legend()\n",
        "plt.xticks([1, 2, 3, 4, 5])\n",
        "plt.show()"
      ],
      "execution_count": null,
      "outputs": [
        {
          "output_type": "display_data",
          "data": {
            "image/png": "[encoded data removed]",
            "text/plain": [
              "<Figure size 864x432 with 1 Axes>"
            ]
          },
          "metadata": {
            "tags": []
          }
        }
      ]
    }
  ]
}